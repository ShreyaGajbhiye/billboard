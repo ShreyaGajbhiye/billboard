{
 "cells": [
  {
   "cell_type": "code",
   "execution_count": 2,
   "id": "175fb78b",
   "metadata": {},
   "outputs": [
    {
     "name": "stderr",
     "output_type": "stream",
     "text": [
      "[nltk_data] Downloading package stopwords to\n",
      "[nltk_data]     /Users/shreyagajbhiye/nltk_data...\n",
      "[nltk_data]   Package stopwords is already up-to-date!\n",
      "[nltk_data] Downloading package punkt to\n",
      "[nltk_data]     /Users/shreyagajbhiye/nltk_data...\n",
      "[nltk_data]   Package punkt is already up-to-date!\n"
     ]
    }
   ],
   "source": [
    "import numpy as np\n",
    "import pandas as pd\n",
    "import matplotlib.pyplot as plt\n",
    "import seaborn as sns\n",
    "import plotly.graph_objects as go\n",
    "import plotly.express as px\n",
    "import plotly.figure_factory as ff\n",
    "\n",
    "\n",
    "import string\n",
    "import spacy\n",
    "\n",
    "import nltk\n",
    "from nltk.corpus import stopwords\n",
    "from nltk.tokenize import word_tokenize\n",
    "nltk.download('stopwords')\n",
    "nltk.download('punkt')\n",
    "\n",
    "from wordcloud import WordCloud\n",
    "from collections import Counter\n",
    "from collections import defaultdict\n",
    "\n",
    "import dash\n",
    "from dash import dcc, html\n",
    "from dash.dependencies import Input, Output\n",
    "import dash_bootstrap_components as dbc\n"
   ]
  },
  {
   "cell_type": "code",
   "execution_count": 4,
   "id": "12289498",
   "metadata": {},
   "outputs": [
    {
     "name": "stdout",
     "output_type": "stream",
     "text": [
      "Collecting nltk\n",
      "  Using cached nltk-3.8.1-py3-none-any.whl (1.5 MB)\n",
      "Requirement already satisfied: click in /opt/homebrew/lib/python3.11/site-packages (from nltk) (8.1.7)\n",
      "Collecting joblib (from nltk)\n",
      "  Obtaining dependency information for joblib from https://files.pythonhosted.org/packages/10/40/d551139c85db202f1f384ba8bcf96aca2f329440a844f924c8a0040b6d02/joblib-1.3.2-py3-none-any.whl.metadata\n",
      "  Using cached joblib-1.3.2-py3-none-any.whl.metadata (5.4 kB)\n",
      "Collecting regex>=2021.8.3 (from nltk)\n",
      "  Obtaining dependency information for regex>=2021.8.3 from https://files.pythonhosted.org/packages/60/9e/4b0223e05776aa3be806a902093b2ab1de3ba26b652d92065d5c7e1d4df3/regex-2023.12.25-cp311-cp311-macosx_11_0_arm64.whl.metadata\n",
      "  Downloading regex-2023.12.25-cp311-cp311-macosx_11_0_arm64.whl.metadata (40 kB)\n",
      "\u001b[2K     \u001b[90m━━━━━━━━━━━━━━━━━━━━━━━━━━━━━━━━━━━━━━━\u001b[0m \u001b[32m40.9/40.9 kB\u001b[0m \u001b[31m567.2 kB/s\u001b[0m eta \u001b[36m0:00:00\u001b[0m \u001b[36m0:00:01\u001b[0m\n",
      "\u001b[?25hRequirement already satisfied: tqdm in /opt/homebrew/lib/python3.11/site-packages (from nltk) (4.66.1)\n",
      "Downloading regex-2023.12.25-cp311-cp311-macosx_11_0_arm64.whl (291 kB)\n",
      "\u001b[2K   \u001b[90m━━━━━━━━━━━━━━━━━━━━━━━━━━━━━━━━━━━━━━━━\u001b[0m \u001b[32m291.0/291.0 kB\u001b[0m \u001b[31m3.6 MB/s\u001b[0m eta \u001b[36m0:00:00\u001b[0ma \u001b[36m0:00:01\u001b[0m\n",
      "\u001b[?25hUsing cached joblib-1.3.2-py3-none-any.whl (302 kB)\n",
      "Installing collected packages: regex, joblib, nltk\n",
      "Successfully installed joblib-1.3.2 nltk-3.8.1 regex-2023.12.25\n",
      "\n",
      "\u001b[1m[\u001b[0m\u001b[34;49mnotice\u001b[0m\u001b[1;39;49m]\u001b[0m\u001b[39;49m A new release of pip is available: \u001b[0m\u001b[31;49m23.2.1\u001b[0m\u001b[39;49m -> \u001b[0m\u001b[32;49m23.3.2\u001b[0m\n",
      "\u001b[1m[\u001b[0m\u001b[34;49mnotice\u001b[0m\u001b[1;39;49m]\u001b[0m\u001b[39;49m To update, run: \u001b[0m\u001b[32;49mpython3.11 -m pip install --upgrade pip\u001b[0m\n",
      "Note: you may need to restart the kernel to use updated packages.\n"
     ]
    }
   ],
   "source": [
    "pip install nltk"
   ]
  },
  {
   "cell_type": "code",
   "execution_count": 3,
   "id": "4e12719a",
   "metadata": {},
   "outputs": [],
   "source": [
    "grammy_data_path = 'Data/grammySongs_1999-2019.csv'\n",
    "spotify_data_path = 'Data/songAttributes_1999-2019.csv'\n",
    "billboard_data_path = 'Data/billboardcleaned.csv'\n",
    "billboard = pd.read_csv(billboard_data_path)\n",
    "billboard.rename(columns = {'Artists':'Artist'}, inplace = True)\n"
   ]
  },
  {
   "cell_type": "code",
   "execution_count": 4,
   "id": "2fd4c802",
   "metadata": {},
   "outputs": [
    {
     "data": {
      "text/html": [
       "<div>\n",
       "<style scoped>\n",
       "    .dataframe tbody tr th:only-of-type {\n",
       "        vertical-align: middle;\n",
       "    }\n",
       "\n",
       "    .dataframe tbody tr th {\n",
       "        vertical-align: top;\n",
       "    }\n",
       "\n",
       "    .dataframe thead th {\n",
       "        text-align: right;\n",
       "    }\n",
       "</style>\n",
       "<table border=\"1\" class=\"dataframe\">\n",
       "  <thead>\n",
       "    <tr style=\"text-align: right;\">\n",
       "      <th></th>\n",
       "      <th>Unnamed: 0</th>\n",
       "      <th>Artist</th>\n",
       "      <th>Name</th>\n",
       "      <th>Weekly.rank</th>\n",
       "      <th>Peak.position</th>\n",
       "      <th>Weeks.on.chart</th>\n",
       "      <th>Week</th>\n",
       "      <th>Date</th>\n",
       "      <th>Genre</th>\n",
       "      <th>Writing.Credits</th>\n",
       "      <th>Lyrics</th>\n",
       "      <th>Features</th>\n",
       "      <th>cleaned_lyrics</th>\n",
       "    </tr>\n",
       "  </thead>\n",
       "  <tbody>\n",
       "    <tr>\n",
       "      <th>0</th>\n",
       "      <td>1</td>\n",
       "      <td>Lil Nas,</td>\n",
       "      <td>Old Town Road</td>\n",
       "      <td>1</td>\n",
       "      <td>1.0</td>\n",
       "      <td>7.0</td>\n",
       "      <td>2019-07-06</td>\n",
       "      <td>April 5, 2019</td>\n",
       "      <td>Country,Atlanta,Alternative Country,Hip-Hop,Tr...</td>\n",
       "      <td>Jozzy, Atticus ross, Trent reznor, Billy ray c...</td>\n",
       "      <td>Old Town Road Remix \\nOh, oh-oh\\nOh\\nYeah, I'm...</td>\n",
       "      <td>Billy Ray Cyrus</td>\n",
       "      <td>old town road remix oh ohoh oh yeah im gon na ...</td>\n",
       "    </tr>\n",
       "    <tr>\n",
       "      <th>1</th>\n",
       "      <td>2</td>\n",
       "      <td>Shawn Mendes, Camila Cabello</td>\n",
       "      <td>Senorita</td>\n",
       "      <td>2</td>\n",
       "      <td>NaN</td>\n",
       "      <td>NaN</td>\n",
       "      <td>2019-07-06</td>\n",
       "      <td>June 21, 2019</td>\n",
       "      <td>Pop</td>\n",
       "      <td>Cashmere cat, Jack patterson, Charli xcx, Benn...</td>\n",
       "      <td>Senorita \\nI love it when you call me senorita...</td>\n",
       "      <td>NaN</td>\n",
       "      <td>senorita love call senorita wish could pretend...</td>\n",
       "    </tr>\n",
       "    <tr>\n",
       "      <th>2</th>\n",
       "      <td>3</td>\n",
       "      <td>Billie Eilish</td>\n",
       "      <td>Bad Guy</td>\n",
       "      <td>3</td>\n",
       "      <td>2.0</td>\n",
       "      <td>13.0</td>\n",
       "      <td>2019-07-06</td>\n",
       "      <td>March 29, 2019</td>\n",
       "      <td>Hip-Hop,Dark Pop,House,Trap,Memes,Alternative ...</td>\n",
       "      <td>Billie eilish, Finneas</td>\n",
       "      <td>bad guy \\nWhite shirt now red, my bloody nose\\...</td>\n",
       "      <td>NaN</td>\n",
       "      <td>bad guy white shirt red bloody nose sleepin yo...</td>\n",
       "    </tr>\n",
       "    <tr>\n",
       "      <th>3</th>\n",
       "      <td>4</td>\n",
       "      <td>Khalid</td>\n",
       "      <td>Talk</td>\n",
       "      <td>4</td>\n",
       "      <td>3.0</td>\n",
       "      <td>20.0</td>\n",
       "      <td>2019-07-06</td>\n",
       "      <td>February 7, 2019</td>\n",
       "      <td>Synth-Pop,Pop</td>\n",
       "      <td>Howard lawrence, Guy lawrence, Khalid</td>\n",
       "      <td>Talk \\nCan we just talk? Can we just talk?\\nTa...</td>\n",
       "      <td>NaN</td>\n",
       "      <td>talk talk talk talk goin get lost lend thought...</td>\n",
       "    </tr>\n",
       "    <tr>\n",
       "      <th>4</th>\n",
       "      <td>5</td>\n",
       "      <td>Ed Sheeran, Justin Bieber</td>\n",
       "      <td>I Don't Care</td>\n",
       "      <td>5</td>\n",
       "      <td>2.0</td>\n",
       "      <td>7.0</td>\n",
       "      <td>2019-07-06</td>\n",
       "      <td>May 10, 2019</td>\n",
       "      <td>Canada,UK,Dance,Dance-Pop,Pop</td>\n",
       "      <td>Ed sheeran, Justin bieber, Shellback, Max mart...</td>\n",
       "      <td>I Don't Care \\nI'm at a party I don't wanna be...</td>\n",
       "      <td>NaN</td>\n",
       "      <td>dont care im party dont wan na dont ever wear ...</td>\n",
       "    </tr>\n",
       "  </tbody>\n",
       "</table>\n",
       "</div>"
      ],
      "text/plain": [
       "   Unnamed: 0                        Artist           Name  Weekly.rank  \\\n",
       "0           1                      Lil Nas,  Old Town Road            1   \n",
       "1           2  Shawn Mendes, Camila Cabello       Senorita            2   \n",
       "2           3                 Billie Eilish        Bad Guy            3   \n",
       "3           4                        Khalid           Talk            4   \n",
       "4           5     Ed Sheeran, Justin Bieber   I Don't Care            5   \n",
       "\n",
       "   Peak.position  Weeks.on.chart        Week              Date  \\\n",
       "0            1.0             7.0  2019-07-06     April 5, 2019   \n",
       "1            NaN             NaN  2019-07-06     June 21, 2019   \n",
       "2            2.0            13.0  2019-07-06    March 29, 2019   \n",
       "3            3.0            20.0  2019-07-06  February 7, 2019   \n",
       "4            2.0             7.0  2019-07-06      May 10, 2019   \n",
       "\n",
       "                                               Genre  \\\n",
       "0  Country,Atlanta,Alternative Country,Hip-Hop,Tr...   \n",
       "1                                                Pop   \n",
       "2  Hip-Hop,Dark Pop,House,Trap,Memes,Alternative ...   \n",
       "3                                      Synth-Pop,Pop   \n",
       "4                      Canada,UK,Dance,Dance-Pop,Pop   \n",
       "\n",
       "                                     Writing.Credits  \\\n",
       "0  Jozzy, Atticus ross, Trent reznor, Billy ray c...   \n",
       "1  Cashmere cat, Jack patterson, Charli xcx, Benn...   \n",
       "2                             Billie eilish, Finneas   \n",
       "3              Howard lawrence, Guy lawrence, Khalid   \n",
       "4  Ed sheeran, Justin bieber, Shellback, Max mart...   \n",
       "\n",
       "                                              Lyrics         Features  \\\n",
       "0  Old Town Road Remix \\nOh, oh-oh\\nOh\\nYeah, I'm...  Billy Ray Cyrus   \n",
       "1  Senorita \\nI love it when you call me senorita...              NaN   \n",
       "2  bad guy \\nWhite shirt now red, my bloody nose\\...              NaN   \n",
       "3  Talk \\nCan we just talk? Can we just talk?\\nTa...              NaN   \n",
       "4  I Don't Care \\nI'm at a party I don't wanna be...              NaN   \n",
       "\n",
       "                                      cleaned_lyrics  \n",
       "0  old town road remix oh ohoh oh yeah im gon na ...  \n",
       "1  senorita love call senorita wish could pretend...  \n",
       "2  bad guy white shirt red bloody nose sleepin yo...  \n",
       "3  talk talk talk talk goin get lost lend thought...  \n",
       "4  dont care im party dont wan na dont ever wear ...  "
      ]
     },
     "execution_count": 4,
     "metadata": {},
     "output_type": "execute_result"
    }
   ],
   "source": [
    "billboard.head()"
   ]
  },
  {
   "cell_type": "code",
   "execution_count": 5,
   "id": "dc9d2a76",
   "metadata": {},
   "outputs": [],
   "source": [
    "billboard['Artist'] = billboard['Artist'].str.replace(\" &\", \",\")\n",
    "billboard['Name'] = billboard['Name'].str.lower()\n",
    "billboard['Artist'] = billboard['Artist'].str.lower()\n",
    "billboard['BillboardYear'] = pd.to_datetime(billboard['Week'])\n",
    "billboard['BillboardYear'] = billboard['BillboardYear'].dt.year\n",
    "lyrics = billboard.groupby(['Name', 'Artist','BillboardYear'], as_index = False).agg({'cleaned_lyrics' : 'first'})"
   ]
  },
  {
   "cell_type": "code",
   "execution_count": null,
   "id": "00da92b8",
   "metadata": {},
   "outputs": [],
   "source": []
  },
  {
   "cell_type": "code",
   "execution_count": null,
   "id": "a4dc80a8",
   "metadata": {},
   "outputs": [],
   "source": []
  },
  {
   "cell_type": "code",
   "execution_count": 6,
   "id": "64eea7f7",
   "metadata": {},
   "outputs": [],
   "source": [
    "decade_one_df = lyrics[(lyrics['BillboardYear']>=1999) & (lyrics['BillboardYear']<2010)]\n",
    "decade_two_df = lyrics[lyrics['BillboardYear']>=2010]\n",
    "decade_one_df_lyrics = decade_one_df.groupby(['Name', 'Artist','cleaned_lyrics'], as_index = False).agg({'BillboardYear' : 'first'})\n",
    "decade_two_df_lyrics = decade_two_df.groupby(['Name', 'Artist','cleaned_lyrics'], as_index = False).agg({'BillboardYear' : 'first'})\n",
    "decade_one_df_lyrics.sort_values(by='BillboardYear',ascending=True,inplace=True)\n",
    "decade_two_df_lyrics.sort_values(by='BillboardYear',ascending=False,inplace=True)\n",
    "lyrics_decade_one = \" \".join(decade_one_df_lyrics['cleaned_lyrics'][:30])\n",
    "lyrics_decade_two = \" \".join(decade_two_df_lyrics['cleaned_lyrics'][:60])"
   ]
  },
  {
   "cell_type": "code",
   "execution_count": 8,
   "id": "8de70078",
   "metadata": {},
   "outputs": [
    {
     "name": "stdout",
     "output_type": "stream",
     "text": [
      "Collecting en-core-web-sm==3.7.1\n",
      "  Downloading https://github.com/explosion/spacy-models/releases/download/en_core_web_sm-3.7.1/en_core_web_sm-3.7.1-py3-none-any.whl (12.8 MB)\n",
      "\u001b[2K     \u001b[90m━━━━━━━━━━━━━━━━━━━━━━━━━━━━━━━━━━━━━━━━\u001b[0m \u001b[32m12.8/12.8 MB\u001b[0m \u001b[31m25.0 MB/s\u001b[0m eta \u001b[36m0:00:00\u001b[0m00:01\u001b[0m00:01\u001b[0m\n",
      "\u001b[?25hRequirement already satisfied: spacy<3.8.0,>=3.7.2 in /opt/homebrew/lib/python3.11/site-packages (from en-core-web-sm==3.7.1) (3.7.2)\n",
      "Requirement already satisfied: spacy-legacy<3.1.0,>=3.0.11 in /opt/homebrew/lib/python3.11/site-packages (from spacy<3.8.0,>=3.7.2->en-core-web-sm==3.7.1) (3.0.12)\n",
      "Requirement already satisfied: spacy-loggers<2.0.0,>=1.0.0 in /opt/homebrew/lib/python3.11/site-packages (from spacy<3.8.0,>=3.7.2->en-core-web-sm==3.7.1) (1.0.5)\n",
      "Requirement already satisfied: murmurhash<1.1.0,>=0.28.0 in /opt/homebrew/lib/python3.11/site-packages (from spacy<3.8.0,>=3.7.2->en-core-web-sm==3.7.1) (1.0.10)\n",
      "Requirement already satisfied: cymem<2.1.0,>=2.0.2 in /opt/homebrew/lib/python3.11/site-packages (from spacy<3.8.0,>=3.7.2->en-core-web-sm==3.7.1) (2.0.8)\n",
      "Requirement already satisfied: preshed<3.1.0,>=3.0.2 in /opt/homebrew/lib/python3.11/site-packages (from spacy<3.8.0,>=3.7.2->en-core-web-sm==3.7.1) (3.0.9)\n",
      "Requirement already satisfied: thinc<8.3.0,>=8.1.8 in /opt/homebrew/lib/python3.11/site-packages (from spacy<3.8.0,>=3.7.2->en-core-web-sm==3.7.1) (8.2.2)\n",
      "Requirement already satisfied: wasabi<1.2.0,>=0.9.1 in /opt/homebrew/lib/python3.11/site-packages (from spacy<3.8.0,>=3.7.2->en-core-web-sm==3.7.1) (1.1.2)\n",
      "Requirement already satisfied: srsly<3.0.0,>=2.4.3 in /opt/homebrew/lib/python3.11/site-packages (from spacy<3.8.0,>=3.7.2->en-core-web-sm==3.7.1) (2.4.8)\n",
      "Requirement already satisfied: catalogue<2.1.0,>=2.0.6 in /opt/homebrew/lib/python3.11/site-packages (from spacy<3.8.0,>=3.7.2->en-core-web-sm==3.7.1) (2.0.10)\n",
      "Requirement already satisfied: weasel<0.4.0,>=0.1.0 in /opt/homebrew/lib/python3.11/site-packages (from spacy<3.8.0,>=3.7.2->en-core-web-sm==3.7.1) (0.3.4)\n",
      "Requirement already satisfied: typer<0.10.0,>=0.3.0 in /opt/homebrew/lib/python3.11/site-packages (from spacy<3.8.0,>=3.7.2->en-core-web-sm==3.7.1) (0.9.0)\n",
      "Requirement already satisfied: smart-open<7.0.0,>=5.2.1 in /opt/homebrew/lib/python3.11/site-packages (from spacy<3.8.0,>=3.7.2->en-core-web-sm==3.7.1) (6.4.0)\n",
      "Requirement already satisfied: tqdm<5.0.0,>=4.38.0 in /opt/homebrew/lib/python3.11/site-packages (from spacy<3.8.0,>=3.7.2->en-core-web-sm==3.7.1) (4.66.1)\n",
      "Requirement already satisfied: requests<3.0.0,>=2.13.0 in /opt/homebrew/lib/python3.11/site-packages (from spacy<3.8.0,>=3.7.2->en-core-web-sm==3.7.1) (2.31.0)\n",
      "Requirement already satisfied: pydantic!=1.8,!=1.8.1,<3.0.0,>=1.7.4 in /opt/homebrew/lib/python3.11/site-packages (from spacy<3.8.0,>=3.7.2->en-core-web-sm==3.7.1) (2.5.3)\n",
      "Requirement already satisfied: jinja2 in /Users/shreyagajbhiye/Library/Python/3.11/lib/python/site-packages (from spacy<3.8.0,>=3.7.2->en-core-web-sm==3.7.1) (3.1.2)\n",
      "Requirement already satisfied: setuptools in /opt/homebrew/lib/python3.11/site-packages (from spacy<3.8.0,>=3.7.2->en-core-web-sm==3.7.1) (68.1.2)\n",
      "Requirement already satisfied: packaging>=20.0 in /Users/shreyagajbhiye/Library/Python/3.11/lib/python/site-packages (from spacy<3.8.0,>=3.7.2->en-core-web-sm==3.7.1) (23.2)\n",
      "Requirement already satisfied: langcodes<4.0.0,>=3.2.0 in /opt/homebrew/lib/python3.11/site-packages (from spacy<3.8.0,>=3.7.2->en-core-web-sm==3.7.1) (3.3.0)\n",
      "Requirement already satisfied: numpy>=1.19.0 in /opt/homebrew/lib/python3.11/site-packages (from spacy<3.8.0,>=3.7.2->en-core-web-sm==3.7.1) (1.26.0)\n",
      "Requirement already satisfied: annotated-types>=0.4.0 in /opt/homebrew/lib/python3.11/site-packages (from pydantic!=1.8,!=1.8.1,<3.0.0,>=1.7.4->spacy<3.8.0,>=3.7.2->en-core-web-sm==3.7.1) (0.6.0)\n",
      "Requirement already satisfied: pydantic-core==2.14.6 in /opt/homebrew/lib/python3.11/site-packages (from pydantic!=1.8,!=1.8.1,<3.0.0,>=1.7.4->spacy<3.8.0,>=3.7.2->en-core-web-sm==3.7.1) (2.14.6)\n",
      "Requirement already satisfied: typing-extensions>=4.6.1 in /opt/homebrew/lib/python3.11/site-packages (from pydantic!=1.8,!=1.8.1,<3.0.0,>=1.7.4->spacy<3.8.0,>=3.7.2->en-core-web-sm==3.7.1) (4.9.0)\n",
      "Requirement already satisfied: charset-normalizer<4,>=2 in /opt/homebrew/lib/python3.11/site-packages (from requests<3.0.0,>=2.13.0->spacy<3.8.0,>=3.7.2->en-core-web-sm==3.7.1) (3.3.0)\n",
      "Requirement already satisfied: idna<4,>=2.5 in /opt/homebrew/lib/python3.11/site-packages (from requests<3.0.0,>=2.13.0->spacy<3.8.0,>=3.7.2->en-core-web-sm==3.7.1) (3.4)\n",
      "Requirement already satisfied: urllib3<3,>=1.21.1 in /opt/homebrew/lib/python3.11/site-packages (from requests<3.0.0,>=2.13.0->spacy<3.8.0,>=3.7.2->en-core-web-sm==3.7.1) (2.0.6)\n",
      "Requirement already satisfied: certifi>=2017.4.17 in /opt/homebrew/lib/python3.11/site-packages (from requests<3.0.0,>=2.13.0->spacy<3.8.0,>=3.7.2->en-core-web-sm==3.7.1) (2023.7.22)\n",
      "Requirement already satisfied: blis<0.8.0,>=0.7.8 in /opt/homebrew/lib/python3.11/site-packages (from thinc<8.3.0,>=8.1.8->spacy<3.8.0,>=3.7.2->en-core-web-sm==3.7.1) (0.7.11)\n",
      "Requirement already satisfied: confection<1.0.0,>=0.0.1 in /opt/homebrew/lib/python3.11/site-packages (from thinc<8.3.0,>=8.1.8->spacy<3.8.0,>=3.7.2->en-core-web-sm==3.7.1) (0.1.4)\n",
      "Requirement already satisfied: click<9.0.0,>=7.1.1 in /opt/homebrew/lib/python3.11/site-packages (from typer<0.10.0,>=0.3.0->spacy<3.8.0,>=3.7.2->en-core-web-sm==3.7.1) (8.1.7)\n",
      "Requirement already satisfied: cloudpathlib<0.17.0,>=0.7.0 in /opt/homebrew/lib/python3.11/site-packages (from weasel<0.4.0,>=0.1.0->spacy<3.8.0,>=3.7.2->en-core-web-sm==3.7.1) (0.16.0)\n",
      "Requirement already satisfied: MarkupSafe>=2.0 in /Users/shreyagajbhiye/Library/Python/3.11/lib/python/site-packages (from jinja2->spacy<3.8.0,>=3.7.2->en-core-web-sm==3.7.1) (2.1.3)\n",
      "Installing collected packages: en-core-web-sm\n",
      "Successfully installed en-core-web-sm-3.7.1\n",
      "\n",
      "\u001b[1m[\u001b[0m\u001b[34;49mnotice\u001b[0m\u001b[1;39;49m]\u001b[0m\u001b[39;49m A new release of pip is available: \u001b[0m\u001b[31;49m23.2.1\u001b[0m\u001b[39;49m -> \u001b[0m\u001b[32;49m23.3.2\u001b[0m\n",
      "\u001b[1m[\u001b[0m\u001b[34;49mnotice\u001b[0m\u001b[1;39;49m]\u001b[0m\u001b[39;49m To update, run: \u001b[0m\u001b[32;49mpython3.11 -m pip install --upgrade pip\u001b[0m\n",
      "\u001b[38;5;2m✔ Download and installation successful\u001b[0m\n",
      "You can now load the package via spacy.load('en_core_web_sm')\n"
     ]
    }
   ],
   "source": [
    "!python3 -m spacy download en_core_web_sm"
   ]
  },
  {
   "cell_type": "code",
   "execution_count": 9,
   "id": "10e871f8",
   "metadata": {},
   "outputs": [],
   "source": [
    "nlp = spacy.load(\"en_core_web_sm\")"
   ]
  },
  {
   "cell_type": "code",
   "execution_count": 10,
   "id": "143e7876",
   "metadata": {},
   "outputs": [
    {
     "data": {
      "image/png": "[encoded data removed]",
      "text/plain": [
       "<Figure size 3000x2000 with 1 Axes>"
      ]
     },
     "metadata": {},
     "output_type": "display_data"
    }
   ],
   "source": [
    "doc_noun_decade_1 = nlp(lyrics_decade_one)\n",
    "\n",
    "words_decade_1 = [token.text for token in doc_noun_decade_1\n",
    "         if token.is_stop != True and token.is_punct != True\n",
    "         and token.pos_=='NOUN']\n",
    "\n",
    "word_cnt_decade_1 = Counter(words_decade_1)\n",
    "wordcloud1 = WordCloud().generate_from_frequencies(word_cnt_decade_1)\n",
    "wordcloud1\n",
    "\n",
    "plt.figure(figsize = (30, 20))\n",
    "plt.imshow(wordcloud1)\n",
    "plt.axis(\"off\")\n",
    "plt.show()"
   ]
  },
  {
   "cell_type": "code",
   "execution_count": 11,
   "id": "bc292042",
   "metadata": {},
   "outputs": [
    {
     "data": {
      "image/png": "[encoded data removed]",
      "text/plain": [
       "<Figure size 3000x2000 with 1 Axes>"
      ]
     },
     "metadata": {},
     "output_type": "display_data"
    }
   ],
   "source": [
    "doc_noun_decade_2 = nlp(lyrics_decade_two)\n",
    "\n",
    "words_decade_2 = [token.text for token in doc_noun_decade_2\n",
    "         if token.is_stop != True and token.is_punct != True\n",
    "         and token.pos_=='NOUN']\n",
    "\n",
    "word_cnt_decade_2 = Counter(words_decade_2)\n",
    "wordcloud2 = WordCloud().generate_from_frequencies(word_cnt_decade_2)\n",
    "wordcloud2\n",
    "\n",
    "plt.figure(figsize = (30, 20))\n",
    "plt.imshow(wordcloud2)\n",
    "plt.axis(\"off\")\n",
    "plt.show()"
   ]
  },
  {
   "cell_type": "code",
   "execution_count": null,
   "id": "d804c97d",
   "metadata": {},
   "outputs": [],
   "source": []
  },
  {
   "cell_type": "code",
   "execution_count": 12,
   "id": "5acd2674",
   "metadata": {},
   "outputs": [],
   "source": [
    "\n",
    "spotify = pd.read_csv(spotify_data_path)\n",
    "spotify['Artist'] = spotify['Artist'].str.strip(\"[]\")\n",
    "spotify['Artist'] = spotify['Artist'].str.replace(\"'\", \"\").str.replace(\" &\", \",\")\n",
    "spotify.rename(columns = {'name':'Name'}, inplace = True)\n",
    "spotify['Name'] = spotify['Name'].str.lower()\n",
    "spotify['Artist'] = spotify['Artist'].str.lower()\n",
    "spotify['Duration'] = spotify['Duration']/1000"
   ]
  },
  {
   "cell_type": "code",
   "execution_count": 13,
   "id": "413f4609",
   "metadata": {},
   "outputs": [],
   "source": [
    "songs = spotify.groupby(['Name', 'Artist'], as_index = False).agg({'Acousticness' : 'mean', 'Danceability' : 'mean', 'Duration' : 'mean', 'Energy' : 'mean', 'Explicit' : 'max', 'Instrumentalness' : 'mean',  'Liveness' : 'mean',  'Loudness' : 'mean',  'Mode' : 'max', 'Popularity' : 'sum', 'Speechiness' : 'mean', 'Tempo' : 'mean', 'Valence' : 'mean'})\n",
    "bb1 = billboard.groupby(['Name', 'Artist', 'Week', 'Weekly.rank','BillboardYear'], as_index = False).agg({'Weeks.on.chart' : 'max', 'Peak.position' : 'min', 'Genre' : 'first', 'Date':'first'})\n",
    "bb1 = bb1.merge(songs, on = ['Name', 'Artist'])\n",
    "bb2 = bb1.groupby(['Name','Artist'], as_index = False).agg({'Weeks.on.chart' : 'max', 'Peak.position' : 'min'})\n",
    "bb2 = bb2.dropna(subset = ['Peak.position', 'Weeks.on.chart'])\n",
    "bb3 = bb1.groupby(['Name','Artist'], as_index = False).agg({'Acousticness' : 'mean', 'Danceability' : 'mean', 'Duration' : 'mean', 'Energy' : 'mean', 'Explicit' : 'max', 'Instrumentalness' : 'mean',  'Liveness' : 'mean',  'Loudness' : 'mean',  'Mode' : 'max', 'Speechiness' : 'mean', 'Tempo' : 'mean', 'Valence' : 'mean','Genre' : 'first', 'Popularity' : 'max', 'Date':'first'})"
   ]
  },
  {
   "cell_type": "code",
   "execution_count": 15,
   "id": "d300daa9",
   "metadata": {},
   "outputs": [
    {
     "data": {
      "text/html": [
       "<div>\n",
       "<style scoped>\n",
       "    .dataframe tbody tr th:only-of-type {\n",
       "        vertical-align: middle;\n",
       "    }\n",
       "\n",
       "    .dataframe tbody tr th {\n",
       "        vertical-align: top;\n",
       "    }\n",
       "\n",
       "    .dataframe thead th {\n",
       "        text-align: right;\n",
       "    }\n",
       "</style>\n",
       "<table border=\"1\" class=\"dataframe\">\n",
       "  <thead>\n",
       "    <tr style=\"text-align: right;\">\n",
       "      <th></th>\n",
       "      <th>Name</th>\n",
       "      <th>Artist</th>\n",
       "      <th>Acousticness</th>\n",
       "      <th>Danceability</th>\n",
       "      <th>Duration</th>\n",
       "      <th>Energy</th>\n",
       "      <th>Explicit</th>\n",
       "      <th>Instrumentalness</th>\n",
       "      <th>Liveness</th>\n",
       "      <th>Loudness</th>\n",
       "      <th>Mode</th>\n",
       "      <th>Speechiness</th>\n",
       "      <th>Tempo</th>\n",
       "      <th>Valence</th>\n",
       "      <th>Genre</th>\n",
       "      <th>Popularity</th>\n",
       "      <th>Date</th>\n",
       "    </tr>\n",
       "  </thead>\n",
       "  <tbody>\n",
       "    <tr>\n",
       "      <th>0</th>\n",
       "      <td>...ready for it?</td>\n",
       "      <td>taylor swift</td>\n",
       "      <td>0.052700</td>\n",
       "      <td>0.613000</td>\n",
       "      <td>208.187000</td>\n",
       "      <td>0.764000</td>\n",
       "      <td>False</td>\n",
       "      <td>0.000000</td>\n",
       "      <td>0.197000</td>\n",
       "      <td>-6.509</td>\n",
       "      <td>1</td>\n",
       "      <td>0.136000</td>\n",
       "      <td>160.015</td>\n",
       "      <td>0.417000</td>\n",
       "      <td>Electronic,Electro-Pop,Pop</td>\n",
       "      <td>70</td>\n",
       "      <td>September 3, 2017</td>\n",
       "    </tr>\n",
       "    <tr>\n",
       "      <th>1</th>\n",
       "      <td>1 thing</td>\n",
       "      <td>amerie</td>\n",
       "      <td>0.115667</td>\n",
       "      <td>0.622667</td>\n",
       "      <td>239.475333</td>\n",
       "      <td>0.962333</td>\n",
       "      <td>False</td>\n",
       "      <td>0.000065</td>\n",
       "      <td>0.034133</td>\n",
       "      <td>-3.452</td>\n",
       "      <td>0</td>\n",
       "      <td>0.308667</td>\n",
       "      <td>127.671</td>\n",
       "      <td>0.858667</td>\n",
       "      <td>Pop,R&amp;;B</td>\n",
       "      <td>6</td>\n",
       "      <td>January 5, 2005</td>\n",
       "    </tr>\n",
       "    <tr>\n",
       "      <th>2</th>\n",
       "      <td>10 bands</td>\n",
       "      <td>drake</td>\n",
       "      <td>0.230000</td>\n",
       "      <td>0.835000</td>\n",
       "      <td>177.733000</td>\n",
       "      <td>0.756000</td>\n",
       "      <td>True</td>\n",
       "      <td>0.000000</td>\n",
       "      <td>0.080100</td>\n",
       "      <td>-3.789</td>\n",
       "      <td>1</td>\n",
       "      <td>0.382000</td>\n",
       "      <td>173.000</td>\n",
       "      <td>0.870000</td>\n",
       "      <td>Trap,Canada,Rap</td>\n",
       "      <td>66</td>\n",
       "      <td>February 13, 2015</td>\n",
       "    </tr>\n",
       "    <tr>\n",
       "      <th>3</th>\n",
       "      <td>100</td>\n",
       "      <td>the game</td>\n",
       "      <td>0.013600</td>\n",
       "      <td>0.801000</td>\n",
       "      <td>334.360000</td>\n",
       "      <td>0.521000</td>\n",
       "      <td>True</td>\n",
       "      <td>0.000000</td>\n",
       "      <td>0.179000</td>\n",
       "      <td>-9.871</td>\n",
       "      <td>0</td>\n",
       "      <td>0.280000</td>\n",
       "      <td>108.025</td>\n",
       "      <td>0.412000</td>\n",
       "      <td>Trap,Canada,West Coast,Rap</td>\n",
       "      <td>25</td>\n",
       "      <td>June 25, 2015</td>\n",
       "    </tr>\n",
       "    <tr>\n",
       "      <th>4</th>\n",
       "      <td>100 grandkids</td>\n",
       "      <td>mac miller</td>\n",
       "      <td>0.371000</td>\n",
       "      <td>0.735000</td>\n",
       "      <td>278.507000</td>\n",
       "      <td>0.749000</td>\n",
       "      <td>True</td>\n",
       "      <td>0.000000</td>\n",
       "      <td>0.470000</td>\n",
       "      <td>-3.766</td>\n",
       "      <td>0</td>\n",
       "      <td>0.087400</td>\n",
       "      <td>93.718</td>\n",
       "      <td>0.373000</td>\n",
       "      <td>Rap</td>\n",
       "      <td>65</td>\n",
       "      <td>August 7, 2015</td>\n",
       "    </tr>\n",
       "  </tbody>\n",
       "</table>\n",
       "</div>"
      ],
      "text/plain": [
       "               Name        Artist  Acousticness  Danceability    Duration  \\\n",
       "0  ...ready for it?  taylor swift      0.052700      0.613000  208.187000   \n",
       "1           1 thing        amerie      0.115667      0.622667  239.475333   \n",
       "2          10 bands         drake      0.230000      0.835000  177.733000   \n",
       "3               100      the game      0.013600      0.801000  334.360000   \n",
       "4     100 grandkids    mac miller      0.371000      0.735000  278.507000   \n",
       "\n",
       "     Energy  Explicit  Instrumentalness  Liveness  Loudness  Mode  \\\n",
       "0  0.764000     False          0.000000  0.197000    -6.509     1   \n",
       "1  0.962333     False          0.000065  0.034133    -3.452     0   \n",
       "2  0.756000      True          0.000000  0.080100    -3.789     1   \n",
       "3  0.521000      True          0.000000  0.179000    -9.871     0   \n",
       "4  0.749000      True          0.000000  0.470000    -3.766     0   \n",
       "\n",
       "   Speechiness    Tempo   Valence                       Genre  Popularity  \\\n",
       "0     0.136000  160.015  0.417000  Electronic,Electro-Pop,Pop          70   \n",
       "1     0.308667  127.671  0.858667                    Pop,R&;B           6   \n",
       "2     0.382000  173.000  0.870000             Trap,Canada,Rap          66   \n",
       "3     0.280000  108.025  0.412000  Trap,Canada,West Coast,Rap          25   \n",
       "4     0.087400   93.718  0.373000                         Rap          65   \n",
       "\n",
       "                Date  \n",
       "0  September 3, 2017  \n",
       "1    January 5, 2005  \n",
       "2  February 13, 2015  \n",
       "3      June 25, 2015  \n",
       "4     August 7, 2015  "
      ]
     },
     "execution_count": 15,
     "metadata": {},
     "output_type": "execute_result"
    }
   ],
   "source": [
    "bb3.head()"
   ]
  },
  {
   "cell_type": "code",
   "execution_count": 16,
   "id": "a03a2b5f",
   "metadata": {},
   "outputs": [
    {
     "data": {
      "text/plain": [
       "[Text(0.5, 0, 'Acousticness'),\n",
       " Text(1.5, 0, 'Danceability'),\n",
       " Text(2.5, 0, 'Duration'),\n",
       " Text(3.5, 0, 'Energy'),\n",
       " Text(4.5, 0, 'Explicit'),\n",
       " Text(5.5, 0, 'Instrumentalness'),\n",
       " Text(6.5, 0, 'Liveness'),\n",
       " Text(7.5, 0, 'Loudness'),\n",
       " Text(8.5, 0, 'Mode'),\n",
       " Text(9.5, 0, 'Speechiness'),\n",
       " Text(10.5, 0, 'Tempo'),\n",
       " Text(11.5, 0, 'Valence'),\n",
       " Text(12.5, 0, 'Popularity')]"
      ]
     },
     "execution_count": 16,
     "metadata": {},
     "output_type": "execute_result"
    },
    {
     "data": {
      "image/png": "[encoded data removed]",
      "text/plain": [
       "<Figure size 1500x600 with 2 Axes>"
      ]
     },
     "metadata": {},
     "output_type": "display_data"
    }
   ],
   "source": [
    "corr_df = bb3.drop([\"Name\", \"Artist\", \"Genre\",\"Date\"], axis = 1).corr(method = \"pearson\")\n",
    "\n",
    "plt.figure(figsize = (15,6))\n",
    "heatmap = sns.heatmap(corr_df, annot = True, fmt = \".1g\", vmin = -1, vmax = 1, center = 0, cmap = \"inferno\", linewidths = 1, linecolor=\"Black\")\n",
    "heatmap.set_title(\"Corrrelation HeatMap Between Variables\")\n",
    "heatmap.set_xticklabels(heatmap.get_xticklabels(), rotation = 90)"
   ]
  },
  {
   "cell_type": "code",
   "execution_count": 17,
   "id": "50613801",
   "metadata": {},
   "outputs": [
    {
     "data": {
      "text/html": [
       "<div>\n",
       "<style scoped>\n",
       "    .dataframe tbody tr th:only-of-type {\n",
       "        vertical-align: middle;\n",
       "    }\n",
       "\n",
       "    .dataframe tbody tr th {\n",
       "        vertical-align: top;\n",
       "    }\n",
       "\n",
       "    .dataframe thead th {\n",
       "        text-align: right;\n",
       "    }\n",
       "</style>\n",
       "<table border=\"1\" class=\"dataframe\">\n",
       "  <thead>\n",
       "    <tr style=\"text-align: right;\">\n",
       "      <th></th>\n",
       "      <th>Name</th>\n",
       "      <th>Artist</th>\n",
       "      <th>Week</th>\n",
       "      <th>Weekly.rank</th>\n",
       "      <th>BillboardYear</th>\n",
       "      <th>Weeks.on.chart</th>\n",
       "      <th>Peak.position</th>\n",
       "      <th>Genre</th>\n",
       "      <th>Date</th>\n",
       "      <th>Acousticness</th>\n",
       "      <th>...</th>\n",
       "      <th>Energy</th>\n",
       "      <th>Explicit</th>\n",
       "      <th>Instrumentalness</th>\n",
       "      <th>Liveness</th>\n",
       "      <th>Loudness</th>\n",
       "      <th>Mode</th>\n",
       "      <th>Popularity</th>\n",
       "      <th>Speechiness</th>\n",
       "      <th>Tempo</th>\n",
       "      <th>Valence</th>\n",
       "    </tr>\n",
       "  </thead>\n",
       "  <tbody>\n",
       "    <tr>\n",
       "      <th>0</th>\n",
       "      <td>...ready for it?</td>\n",
       "      <td>taylor swift</td>\n",
       "      <td>2017-09-23</td>\n",
       "      <td>4</td>\n",
       "      <td>2017</td>\n",
       "      <td>NaN</td>\n",
       "      <td>NaN</td>\n",
       "      <td>Electronic,Electro-Pop,Pop</td>\n",
       "      <td>September 3, 2017</td>\n",
       "      <td>0.0527</td>\n",
       "      <td>...</td>\n",
       "      <td>0.764</td>\n",
       "      <td>False</td>\n",
       "      <td>0.0</td>\n",
       "      <td>0.197</td>\n",
       "      <td>-6.509</td>\n",
       "      <td>1</td>\n",
       "      <td>70</td>\n",
       "      <td>0.136</td>\n",
       "      <td>160.015</td>\n",
       "      <td>0.417</td>\n",
       "    </tr>\n",
       "    <tr>\n",
       "      <th>1</th>\n",
       "      <td>...ready for it?</td>\n",
       "      <td>taylor swift</td>\n",
       "      <td>2017-09-30</td>\n",
       "      <td>21</td>\n",
       "      <td>2017</td>\n",
       "      <td>2.0</td>\n",
       "      <td>4.0</td>\n",
       "      <td>Electronic,Electro-Pop,Pop</td>\n",
       "      <td>September 3, 2017</td>\n",
       "      <td>0.0527</td>\n",
       "      <td>...</td>\n",
       "      <td>0.764</td>\n",
       "      <td>False</td>\n",
       "      <td>0.0</td>\n",
       "      <td>0.197</td>\n",
       "      <td>-6.509</td>\n",
       "      <td>1</td>\n",
       "      <td>70</td>\n",
       "      <td>0.136</td>\n",
       "      <td>160.015</td>\n",
       "      <td>0.417</td>\n",
       "    </tr>\n",
       "    <tr>\n",
       "      <th>2</th>\n",
       "      <td>...ready for it?</td>\n",
       "      <td>taylor swift</td>\n",
       "      <td>2017-10-07</td>\n",
       "      <td>34</td>\n",
       "      <td>2017</td>\n",
       "      <td>3.0</td>\n",
       "      <td>4.0</td>\n",
       "      <td>Electronic,Electro-Pop,Pop</td>\n",
       "      <td>September 3, 2017</td>\n",
       "      <td>0.0527</td>\n",
       "      <td>...</td>\n",
       "      <td>0.764</td>\n",
       "      <td>False</td>\n",
       "      <td>0.0</td>\n",
       "      <td>0.197</td>\n",
       "      <td>-6.509</td>\n",
       "      <td>1</td>\n",
       "      <td>70</td>\n",
       "      <td>0.136</td>\n",
       "      <td>160.015</td>\n",
       "      <td>0.417</td>\n",
       "    </tr>\n",
       "    <tr>\n",
       "      <th>3</th>\n",
       "      <td>...ready for it?</td>\n",
       "      <td>taylor swift</td>\n",
       "      <td>2017-10-14</td>\n",
       "      <td>39</td>\n",
       "      <td>2017</td>\n",
       "      <td>4.0</td>\n",
       "      <td>4.0</td>\n",
       "      <td>Electronic,Electro-Pop,Pop</td>\n",
       "      <td>September 3, 2017</td>\n",
       "      <td>0.0527</td>\n",
       "      <td>...</td>\n",
       "      <td>0.764</td>\n",
       "      <td>False</td>\n",
       "      <td>0.0</td>\n",
       "      <td>0.197</td>\n",
       "      <td>-6.509</td>\n",
       "      <td>1</td>\n",
       "      <td>70</td>\n",
       "      <td>0.136</td>\n",
       "      <td>160.015</td>\n",
       "      <td>0.417</td>\n",
       "    </tr>\n",
       "    <tr>\n",
       "      <th>4</th>\n",
       "      <td>...ready for it?</td>\n",
       "      <td>taylor swift</td>\n",
       "      <td>2017-10-21</td>\n",
       "      <td>47</td>\n",
       "      <td>2017</td>\n",
       "      <td>5.0</td>\n",
       "      <td>4.0</td>\n",
       "      <td>Electronic,Electro-Pop,Pop</td>\n",
       "      <td>September 3, 2017</td>\n",
       "      <td>0.0527</td>\n",
       "      <td>...</td>\n",
       "      <td>0.764</td>\n",
       "      <td>False</td>\n",
       "      <td>0.0</td>\n",
       "      <td>0.197</td>\n",
       "      <td>-6.509</td>\n",
       "      <td>1</td>\n",
       "      <td>70</td>\n",
       "      <td>0.136</td>\n",
       "      <td>160.015</td>\n",
       "      <td>0.417</td>\n",
       "    </tr>\n",
       "  </tbody>\n",
       "</table>\n",
       "<p>5 rows × 22 columns</p>\n",
       "</div>"
      ],
      "text/plain": [
       "               Name        Artist        Week  Weekly.rank  BillboardYear  \\\n",
       "0  ...ready for it?  taylor swift  2017-09-23            4           2017   \n",
       "1  ...ready for it?  taylor swift  2017-09-30           21           2017   \n",
       "2  ...ready for it?  taylor swift  2017-10-07           34           2017   \n",
       "3  ...ready for it?  taylor swift  2017-10-14           39           2017   \n",
       "4  ...ready for it?  taylor swift  2017-10-21           47           2017   \n",
       "\n",
       "   Weeks.on.chart  Peak.position                       Genre  \\\n",
       "0             NaN            NaN  Electronic,Electro-Pop,Pop   \n",
       "1             2.0            4.0  Electronic,Electro-Pop,Pop   \n",
       "2             3.0            4.0  Electronic,Electro-Pop,Pop   \n",
       "3             4.0            4.0  Electronic,Electro-Pop,Pop   \n",
       "4             5.0            4.0  Electronic,Electro-Pop,Pop   \n",
       "\n",
       "                Date  Acousticness  ...  Energy  Explicit  Instrumentalness  \\\n",
       "0  September 3, 2017        0.0527  ...   0.764     False               0.0   \n",
       "1  September 3, 2017        0.0527  ...   0.764     False               0.0   \n",
       "2  September 3, 2017        0.0527  ...   0.764     False               0.0   \n",
       "3  September 3, 2017        0.0527  ...   0.764     False               0.0   \n",
       "4  September 3, 2017        0.0527  ...   0.764     False               0.0   \n",
       "\n",
       "   Liveness  Loudness  Mode  Popularity  Speechiness    Tempo  Valence  \n",
       "0     0.197    -6.509     1          70        0.136  160.015    0.417  \n",
       "1     0.197    -6.509     1          70        0.136  160.015    0.417  \n",
       "2     0.197    -6.509     1          70        0.136  160.015    0.417  \n",
       "3     0.197    -6.509     1          70        0.136  160.015    0.417  \n",
       "4     0.197    -6.509     1          70        0.136  160.015    0.417  \n",
       "\n",
       "[5 rows x 22 columns]"
      ]
     },
     "execution_count": 17,
     "metadata": {},
     "output_type": "execute_result"
    }
   ],
   "source": [
    "bb1.head()"
   ]
  },
  {
   "cell_type": "code",
   "execution_count": 18,
   "id": "c82d2268",
   "metadata": {},
   "outputs": [],
   "source": [
    "Yearly_Billboard_Trends = bb1.groupby(['BillboardYear'], as_index = False).agg({'Acousticness' : 'mean', 'Danceability' : 'mean', 'Duration' : 'mean', 'Energy' : 'mean', 'Explicit' : 'max', 'Instrumentalness' : 'mean',  'Liveness' : 'mean',  'Loudness' : 'mean',  'Mode' : 'max', 'Popularity' : 'max', 'Speechiness' : 'mean', 'Tempo' : 'mean', 'Valence' : 'mean'})"
   ]
  },
  {
   "cell_type": "code",
   "execution_count": 19,
   "id": "a28488ec",
   "metadata": {},
   "outputs": [
    {
     "data": {
      "application/vnd.plotly.v1+json": {
       "config": {
        "plotlyServerURL": "https://plot.ly"
       },
       "data": [
        {
         "alignmentgroup": "True",
         "hovertemplate": "BillboardYear=%{x}<br>Danceability=%{y}<br>Energy=%{marker.color}<extra></extra>",
         "legendgroup": "",
         "marker": {
          "color": [
           0.66339461352657,
           0.6780924928827825,
           0.6844340539922215,
           0.71547268708557,
           0.6990828972868217,
           0.7020122291666666,
           0.7024511890838206,
           0.7238436318728523,
           0.72811308953476,
           0.7286234663040193,
           0.7407025493025493,
           0.7354344508301406,
           0.7296085536213195,
           0.723413079299691,
           0.6843654820597097,
           0.7100073704839809,
           0.6790548048048048,
           0.650780696395846,
           0.655611856223176,
           0.6360071560993698,
           0.6571332382762991
          ],
          "coloraxis": "coloraxis",
          "pattern": {
           "shape": ""
          }
         },
         "name": "",
         "offsetgroup": "",
         "orientation": "v",
         "showlegend": false,
         "textposition": "auto",
         "type": "bar",
         "x": [
          1999,
          2000,
          2001,
          2002,
          2003,
          2004,
          2005,
          2006,
          2007,
          2008,
          2009,
          2010,
          2011,
          2012,
          2013,
          2014,
          2015,
          2016,
          2017,
          2018,
          2019
         ],
         "xaxis": "x",
         "y": [
          0.6080739130434784,
          0.6239602054709741,
          0.6381822523450011,
          0.6177941532470267,
          0.6030577788544359,
          0.59007446875,
          0.6250030604288499,
          0.6023416290807561,
          0.6058442723304589,
          0.6080002971693362,
          0.6083037373737373,
          0.5956455300127714,
          0.5887333333333333,
          0.6199536960750658,
          0.6223258696247603,
          0.6121745398773005,
          0.6417266666666667,
          0.6401058440236205,
          0.6814761007788905,
          0.6675011741441107,
          0.6297048373468526
         ],
         "yaxis": "y"
        }
       ],
       "layout": {
        "barmode": "relative",
        "coloraxis": {
         "colorbar": {
          "title": {
           "text": "Energy"
          }
         },
         "colorscale": [
          [
           0,
           "#0d0887"
          ],
          [
           0.1111111111111111,
           "#46039f"
          ],
          [
           0.2222222222222222,
           "#7201a8"
          ],
          [
           0.3333333333333333,
           "#9c179e"
          ],
          [
           0.4444444444444444,
           "#bd3786"
          ],
          [
           0.5555555555555556,
           "#d8576b"
          ],
          [
           0.6666666666666666,
           "#ed7953"
          ],
          [
           0.7777777777777778,
           "#fb9f3a"
          ],
          [
           0.8888888888888888,
           "#fdca26"
          ],
          [
           1,
           "#f0f921"
          ]
         ]
        },
        "legend": {
         "tracegroupgap": 0
        },
        "template": {
         "data": {
          "bar": [
           {
            "error_x": {
             "color": "#2a3f5f"
            },
            "error_y": {
             "color": "#2a3f5f"
            },
            "marker": {
             "line": {
              "color": "#E5ECF6",
              "width": 0.5
             },
             "pattern": {
              "fillmode": "overlay",
              "size": 10,
              "solidity": 0.2
             }
            },
            "type": "bar"
           }
          ],
          "barpolar": [
           {
            "marker": {
             "line": {
              "color": "#E5ECF6",
              "width": 0.5
             },
             "pattern": {
              "fillmode": "overlay",
              "size": 10,
              "solidity": 0.2
             }
            },
            "type": "barpolar"
           }
          ],
          "carpet": [
           {
            "aaxis": {
             "endlinecolor": "#2a3f5f",
             "gridcolor": "white",
             "linecolor": "white",
             "minorgridcolor": "white",
             "startlinecolor": "#2a3f5f"
            },
            "baxis": {
             "endlinecolor": "#2a3f5f",
             "gridcolor": "white",
             "linecolor": "white",
             "minorgridcolor": "white",
             "startlinecolor": "#2a3f5f"
            },
            "type": "carpet"
           }
          ],
          "choropleth": [
           {
            "colorbar": {
             "outlinewidth": 0,
             "ticks": ""
            },
            "type": "choropleth"
           }
          ],
          "contour": [
           {
            "colorbar": {
             "outlinewidth": 0,
             "ticks": ""
            },
            "colorscale": [
             [
              0,
              "#0d0887"
             ],
             [
              0.1111111111111111,
              "#46039f"
             ],
             [
              0.2222222222222222,
              "#7201a8"
             ],
             [
              0.3333333333333333,
              "#9c179e"
             ],
             [
              0.4444444444444444,
              "#bd3786"
             ],
             [
              0.5555555555555556,
              "#d8576b"
             ],
             [
              0.6666666666666666,
              "#ed7953"
             ],
             [
              0.7777777777777778,
              "#fb9f3a"
             ],
             [
              0.8888888888888888,
              "#fdca26"
             ],
             [
              1,
              "#f0f921"
             ]
            ],
            "type": "contour"
           }
          ],
          "contourcarpet": [
           {
            "colorbar": {
             "outlinewidth": 0,
             "ticks": ""
            },
            "type": "contourcarpet"
           }
          ],
          "heatmap": [
           {
            "colorbar": {
             "outlinewidth": 0,
             "ticks": ""
            },
            "colorscale": [
             [
              0,
              "#0d0887"
             ],
             [
              0.1111111111111111,
              "#46039f"
             ],
             [
              0.2222222222222222,
              "#7201a8"
             ],
             [
              0.3333333333333333,
              "#9c179e"
             ],
             [
              0.4444444444444444,
              "#bd3786"
             ],
             [
              0.5555555555555556,
              "#d8576b"
             ],
             [
              0.6666666666666666,
              "#ed7953"
             ],
             [
              0.7777777777777778,
              "#fb9f3a"
             ],
             [
              0.8888888888888888,
              "#fdca26"
             ],
             [
              1,
              "#f0f921"
             ]
            ],
            "type": "heatmap"
           }
          ],
          "heatmapgl": [
           {
            "colorbar": {
             "outlinewidth": 0,
             "ticks": ""
            },
            "colorscale": [
             [
              0,
              "#0d0887"
             ],
             [
              0.1111111111111111,
              "#46039f"
             ],
             [
              0.2222222222222222,
              "#7201a8"
             ],
             [
              0.3333333333333333,
              "#9c179e"
             ],
             [
              0.4444444444444444,
              "#bd3786"
             ],
             [
              0.5555555555555556,
              "#d8576b"
             ],
             [
              0.6666666666666666,
              "#ed7953"
             ],
             [
              0.7777777777777778,
              "#fb9f3a"
             ],
             [
              0.8888888888888888,
              "#fdca26"
             ],
             [
              1,
              "#f0f921"
             ]
            ],
            "type": "heatmapgl"
           }
          ],
          "histogram": [
           {
            "marker": {
             "pattern": {
              "fillmode": "overlay",
              "size": 10,
              "solidity": 0.2
             }
            },
            "type": "histogram"
           }
          ],
          "histogram2d": [
           {
            "colorbar": {
             "outlinewidth": 0,
             "ticks": ""
            },
            "colorscale": [
             [
              0,
              "#0d0887"
             ],
             [
              0.1111111111111111,
              "#46039f"
             ],
             [
              0.2222222222222222,
              "#7201a8"
             ],
             [
              0.3333333333333333,
              "#9c179e"
             ],
             [
              0.4444444444444444,
              "#bd3786"
             ],
             [
              0.5555555555555556,
              "#d8576b"
             ],
             [
              0.6666666666666666,
              "#ed7953"
             ],
             [
              0.7777777777777778,
              "#fb9f3a"
             ],
             [
              0.8888888888888888,
              "#fdca26"
             ],
             [
              1,
              "#f0f921"
             ]
            ],
            "type": "histogram2d"
           }
          ],
          "histogram2dcontour": [
           {
            "colorbar": {
             "outlinewidth": 0,
             "ticks": ""
            },
            "colorscale": [
             [
              0,
              "#0d0887"
             ],
             [
              0.1111111111111111,
              "#46039f"
             ],
             [
              0.2222222222222222,
              "#7201a8"
             ],
             [
              0.3333333333333333,
              "#9c179e"
             ],
             [
              0.4444444444444444,
              "#bd3786"
             ],
             [
              0.5555555555555556,
              "#d8576b"
             ],
             [
              0.6666666666666666,
              "#ed7953"
             ],
             [
              0.7777777777777778,
              "#fb9f3a"
             ],
             [
              0.8888888888888888,
              "#fdca26"
             ],
             [
              1,
              "#f0f921"
             ]
            ],
            "type": "histogram2dcontour"
           }
          ],
          "mesh3d": [
           {
            "colorbar": {
             "outlinewidth": 0,
             "ticks": ""
            },
            "type": "mesh3d"
           }
          ],
          "parcoords": [
           {
            "line": {
             "colorbar": {
              "outlinewidth": 0,
              "ticks": ""
             }
            },
            "type": "parcoords"
           }
          ],
          "pie": [
           {
            "automargin": true,
            "type": "pie"
           }
          ],
          "scatter": [
           {
            "fillpattern": {
             "fillmode": "overlay",
             "size": 10,
             "solidity": 0.2
            },
            "type": "scatter"
           }
          ],
          "scatter3d": [
           {
            "line": {
             "colorbar": {
              "outlinewidth": 0,
              "ticks": ""
             }
            },
            "marker": {
             "colorbar": {
              "outlinewidth": 0,
              "ticks": ""
             }
            },
            "type": "scatter3d"
           }
          ],
          "scattercarpet": [
           {
            "marker": {
             "colorbar": {
              "outlinewidth": 0,
              "ticks": ""
             }
            },
            "type": "scattercarpet"
           }
          ],
          "scattergeo": [
           {
            "marker": {
             "colorbar": {
              "outlinewidth": 0,
              "ticks": ""
             }
            },
            "type": "scattergeo"
           }
          ],
          "scattergl": [
           {
            "marker": {
             "colorbar": {
              "outlinewidth": 0,
              "ticks": ""
             }
            },
            "type": "scattergl"
           }
          ],
          "scattermapbox": [
           {
            "marker": {
             "colorbar": {
              "outlinewidth": 0,
              "ticks": ""
             }
            },
            "type": "scattermapbox"
           }
          ],
          "scatterpolar": [
           {
            "marker": {
             "colorbar": {
              "outlinewidth": 0,
              "ticks": ""
             }
            },
            "type": "scatterpolar"
           }
          ],
          "scatterpolargl": [
           {
            "marker": {
             "colorbar": {
              "outlinewidth": 0,
              "ticks": ""
             }
            },
            "type": "scatterpolargl"
           }
          ],
          "scatterternary": [
           {
            "marker": {
             "colorbar": {
              "outlinewidth": 0,
              "ticks": ""
             }
            },
            "type": "scatterternary"
           }
          ],
          "surface": [
           {
            "colorbar": {
             "outlinewidth": 0,
             "ticks": ""
            },
            "colorscale": [
             [
              0,
              "#0d0887"
             ],
             [
              0.1111111111111111,
              "#46039f"
             ],
             [
              0.2222222222222222,
              "#7201a8"
             ],
             [
              0.3333333333333333,
              "#9c179e"
             ],
             [
              0.4444444444444444,
              "#bd3786"
             ],
             [
              0.5555555555555556,
              "#d8576b"
             ],
             [
              0.6666666666666666,
              "#ed7953"
             ],
             [
              0.7777777777777778,
              "#fb9f3a"
             ],
             [
              0.8888888888888888,
              "#fdca26"
             ],
             [
              1,
              "#f0f921"
             ]
            ],
            "type": "surface"
           }
          ],
          "table": [
           {
            "cells": {
             "fill": {
              "color": "#EBF0F8"
             },
             "line": {
              "color": "white"
             }
            },
            "header": {
             "fill": {
              "color": "#C8D4E3"
             },
             "line": {
              "color": "white"
             }
            },
            "type": "table"
           }
          ]
         },
         "layout": {
          "annotationdefaults": {
           "arrowcolor": "#2a3f5f",
           "arrowhead": 0,
           "arrowwidth": 1
          },
          "autotypenumbers": "strict",
          "coloraxis": {
           "colorbar": {
            "outlinewidth": 0,
            "ticks": ""
           }
          },
          "colorscale": {
           "diverging": [
            [
             0,
             "#8e0152"
            ],
            [
             0.1,
             "#c51b7d"
            ],
            [
             0.2,
             "#de77ae"
            ],
            [
             0.3,
             "#f1b6da"
            ],
            [
             0.4,
             "#fde0ef"
            ],
            [
             0.5,
             "#f7f7f7"
            ],
            [
             0.6,
             "#e6f5d0"
            ],
            [
             0.7,
             "#b8e186"
            ],
            [
             0.8,
             "#7fbc41"
            ],
            [
             0.9,
             "#4d9221"
            ],
            [
             1,
             "#276419"
            ]
           ],
           "sequential": [
            [
             0,
             "#0d0887"
            ],
            [
             0.1111111111111111,
             "#46039f"
            ],
            [
             0.2222222222222222,
             "#7201a8"
            ],
            [
             0.3333333333333333,
             "#9c179e"
            ],
            [
             0.4444444444444444,
             "#bd3786"
            ],
            [
             0.5555555555555556,
             "#d8576b"
            ],
            [
             0.6666666666666666,
             "#ed7953"
            ],
            [
             0.7777777777777778,
             "#fb9f3a"
            ],
            [
             0.8888888888888888,
             "#fdca26"
            ],
            [
             1,
             "#f0f921"
            ]
           ],
           "sequentialminus": [
            [
             0,
             "#0d0887"
            ],
            [
             0.1111111111111111,
             "#46039f"
            ],
            [
             0.2222222222222222,
             "#7201a8"
            ],
            [
             0.3333333333333333,
             "#9c179e"
            ],
            [
             0.4444444444444444,
             "#bd3786"
            ],
            [
             0.5555555555555556,
             "#d8576b"
            ],
            [
             0.6666666666666666,
             "#ed7953"
            ],
            [
             0.7777777777777778,
             "#fb9f3a"
            ],
            [
             0.8888888888888888,
             "#fdca26"
            ],
            [
             1,
             "#f0f921"
            ]
           ]
          },
          "colorway": [
           "#636efa",
           "#EF553B",
           "#00cc96",
           "#ab63fa",
           "#FFA15A",
           "#19d3f3",
           "#FF6692",
           "#B6E880",
           "#FF97FF",
           "#FECB52"
          ],
          "font": {
           "color": "#2a3f5f"
          },
          "geo": {
           "bgcolor": "white",
           "lakecolor": "white",
           "landcolor": "#E5ECF6",
           "showlakes": true,
           "showland": true,
           "subunitcolor": "white"
          },
          "hoverlabel": {
           "align": "left"
          },
          "hovermode": "closest",
          "mapbox": {
           "style": "light"
          },
          "paper_bgcolor": "white",
          "plot_bgcolor": "#E5ECF6",
          "polar": {
           "angularaxis": {
            "gridcolor": "white",
            "linecolor": "white",
            "ticks": ""
           },
           "bgcolor": "#E5ECF6",
           "radialaxis": {
            "gridcolor": "white",
            "linecolor": "white",
            "ticks": ""
           }
          },
          "scene": {
           "xaxis": {
            "backgroundcolor": "#E5ECF6",
            "gridcolor": "white",
            "gridwidth": 2,
            "linecolor": "white",
            "showbackground": true,
            "ticks": "",
            "zerolinecolor": "white"
           },
           "yaxis": {
            "backgroundcolor": "#E5ECF6",
            "gridcolor": "white",
            "gridwidth": 2,
            "linecolor": "white",
            "showbackground": true,
            "ticks": "",
            "zerolinecolor": "white"
           },
           "zaxis": {
            "backgroundcolor": "#E5ECF6",
            "gridcolor": "white",
            "gridwidth": 2,
            "linecolor": "white",
            "showbackground": true,
            "ticks": "",
            "zerolinecolor": "white"
           }
          },
          "shapedefaults": {
           "line": {
            "color": "#2a3f5f"
           }
          },
          "ternary": {
           "aaxis": {
            "gridcolor": "white",
            "linecolor": "white",
            "ticks": ""
           },
           "baxis": {
            "gridcolor": "white",
            "linecolor": "white",
            "ticks": ""
           },
           "bgcolor": "#E5ECF6",
           "caxis": {
            "gridcolor": "white",
            "linecolor": "white",
            "ticks": ""
           }
          },
          "title": {
           "x": 0.05
          },
          "xaxis": {
           "automargin": true,
           "gridcolor": "white",
           "linecolor": "white",
           "ticks": "",
           "title": {
            "standoff": 15
           },
           "zerolinecolor": "white",
           "zerolinewidth": 2
          },
          "yaxis": {
           "automargin": true,
           "gridcolor": "white",
           "linecolor": "white",
           "ticks": "",
           "title": {
            "standoff": 15
           },
           "zerolinecolor": "white",
           "zerolinewidth": 2
          }
         }
        },
        "title": {
         "text": "Danceability Trend Over Years"
        },
        "xaxis": {
         "anchor": "y",
         "domain": [
          0,
          1
         ],
         "title": {
          "text": "BillboardYear"
         }
        },
        "yaxis": {
         "anchor": "x",
         "domain": [
          0,
          1
         ],
         "title": {
          "text": "Danceability"
         }
        }
       }
      }
     },
     "metadata": {},
     "output_type": "display_data"
    }
   ],
   "source": [
    "figure=px.bar(Yearly_Billboard_Trends, x='BillboardYear', y='Danceability', title='Danceability Trend Over Years',color='Energy')\n",
    "figure"
   ]
  },
  {
   "cell_type": "code",
   "execution_count": 20,
   "id": "7237be07",
   "metadata": {},
   "outputs": [],
   "source": [
    "genre = bb1.groupby(['Name', 'Artist'], as_index=False).agg({'Acousticness': 'mean', 'Danceability' : 'mean', 'Duration' : 'mean', 'Energy' : 'mean', 'Explicit': 'max', 'Instrumentalness': 'mean', 'Liveness': 'mean',  'Loudness': 'mean',  'Mode': 'max', 'Popularity': 'mean', 'Speechiness': 'mean', 'Tempo': 'mean', 'Valence': 'mean', 'Genre' : 'first', 'Date':'first'})\n",
    "\n",
    "data = genre # Replace with your file path\n",
    "\n",
    "# Extract year and split genres\n",
    "data.dropna(inplace=True)\n",
    "data['Year'] = pd.to_datetime(data['Date']).dt.year\n",
    "data['Genres'] = data['Genre'].str.split(',')\n",
    "\n",
    "# Count genre occurrences per year\n",
    "genre_counts_per_year = defaultdict(lambda: defaultdict(int))\n",
    "for _, row in data.iterrows():\n",
    "    year = row['Year']\n",
    "    genres = row['Genres']\n",
    "    if genres is not None:\n",
    "        for genre in genres:\n",
    "            genre_counts_per_year[genre][year] += 1\n",
    "\n",
    "# Determine the top 10 genres\n",
    "all_genres = {genre for genres in data['Genres'] for genre in genres}\n",
    "top_10_genres = sorted(all_genres, key=lambda x: sum(genre_counts_per_year[x].values()), reverse=True)[:10]\n",
    "\n",
    "# Create the heatmap data matrix\n",
    "years = sorted(data['Year'].unique())\n",
    "heatmap_data = np.zeros((len(years), len(top_10_genres)))\n",
    "\n",
    "for i, year in enumerate(years):\n",
    "    for j, genre in enumerate(top_10_genres):\n",
    "        heatmap_data[i, j] = genre_counts_per_year[genre][year]\n",
    "\n",
    "# Create the heatmap DataFrame\n",
    "heatmap_df = pd.DataFrame(heatmap_data, index=years, columns=top_10_genres)"
   ]
  },
  {
   "cell_type": "code",
   "execution_count": 21,
   "id": "7065a567",
   "metadata": {},
   "outputs": [
    {
     "data": {
      "image/png": "[encoded data removed]",
      "text/plain": [
       "<Figure size 800x600 with 2 Axes>"
      ]
     },
     "metadata": {},
     "output_type": "display_data"
    }
   ],
   "source": [
    "plt.figure(figsize=(8, 6))\n",
    "sns.heatmap(heatmap_df, annot=True, cmap=\"YlGnBu\", cbar=True, linewidths=.5,)\n",
    "\n",
    "# Adding labels and title\n",
    "plt.title('Heatmap of Top 10 Music Genres Over Years')\n",
    "plt.xlabel('Genres')\n",
    "plt.ylabel('Years')\n",
    "\n",
    "# Adjust layout\n",
    "plt.tight_layout()\n",
    "\n",
    "# Show the plot\n",
    "plt.show()"
   ]
  },
  {
   "cell_type": "code",
   "execution_count": 22,
   "id": "e9238739",
   "metadata": {},
   "outputs": [],
   "source": [
    "genere = bb1.groupby(['Name', 'Artist'], as_index=False).agg({'Acousticness': 'mean', 'Danceability' : 'mean', 'Duration' : 'mean', 'Energy' : 'mean', 'Explicit': 'max', 'Instrumentalness': 'mean', 'Liveness': 'mean',  'Loudness': 'mean',  'Mode': 'max', 'Popularity': 'mean', 'Speechiness': 'mean', 'Tempo': 'mean', 'Valence': 'mean', 'Genre' : 'first', 'Date':'first'})"
   ]
  },
  {
   "cell_type": "code",
   "execution_count": 23,
   "id": "f57a4a3b",
   "metadata": {},
   "outputs": [],
   "source": [
    "data = bb3.copy()\n",
    "\n",
    "# List of numerical song attributes\n",
    "song_attributes = data.select_dtypes(include='number').columns.tolist()\n",
    "\n",
    "#get year from date\n",
    "genere['Song by Artist'] = genere['Name'] + ' by ' + genere['Artist']\n",
    "genere.dropna(inplace=True)\n",
    "# create a year column\n",
    "genere['Year'] = pd.to_datetime(genere['Date']).dt.year\n",
    "years = genere['Year'].astype(str).apply(lambda x: x.split('-')[0]).unique()  # Extracting year from the date\n",
    "genere_list = np.unique(np.concatenate(genere['Genre'].apply(lambda x: x.split(',')).values))\n",
    "\n",
    "artists = genere['Song by Artist'].unique()\n",
    "genere['Acousticness'] = (genere['Acousticness'] - genere['Acousticness'].min()) / (genere['Acousticness'].max() - genere['Acousticness'].min())\n",
    "genere['Danceability'] = (genere['Danceability'] - genere['Danceability'].min()) / (genere['Danceability'].max() - genere['Danceability'].min())\n",
    "genere['Energy'] = (genere['Energy'] - genere['Energy'].min()) / (genere['Energy'].max() - genere['Energy'].min())\n",
    "genere['Instrumentalness'] = (genere['Instrumentalness'] - genere['Instrumentalness'].min()) / (genere['Instrumentalness'].max() - genere['Instrumentalness'].min())\n",
    "genere['Liveness'] = (genere['Liveness'] - genere['Liveness'].min()) / (genere['Liveness'].max() - genere['Liveness'].min())\n",
    "genere['Speechiness'] = (genere['Speechiness'] - genere['Speechiness'].min()) / (genere['Speechiness'].max() - genere['Speechiness'].min())\n",
    "genere['Valence'] = (genere['Valence'] - genere['Valence'].min()) / (genere['Valence'].max() - genere['Valence'].min())\n",
    "genere['Loudness'] = (genere['Loudness'] - genere['Loudness'].min()) / (genere['Loudness'].max() - genere['Loudness'].min())\n",
    "genere['Tempo'] = (genere['Tempo'] - genere['Tempo'].min()) / (genere['Tempo'].max() - genere['Tempo'].min())\n",
    "genere['Loudness'] = (genere['Loudness'] - genere['Loudness'].min()) / (genere['Loudness'].max() - genere['Loudness'].min())\n",
    "genere['Popularity'] = (genere['Popularity'] - genere['Popularity'].min()) / (genere['Popularity'].max() - genere['Popularity'].min())"
   ]
  },
  {
   "cell_type": "code",
   "execution_count": 24,
   "metadata": {},
   "outputs": [],
   "source": [
    "import plotly.graph_objects as go\n",
    "import pandas as pd\n",
    "\n",
    "\n",
    "# Filter data for Taylor Swift\n",
    "artist_data = billboard[billboard['Artist'].str.contains('adele', case=False, na=False)]\n",
    "artist_data['Week'] = pd.to_datetime(artist_data['Week'])\n",
    "# artist_data = artist_data[(artist_data['Week'].dt.year >= 2010) & (artist_data['Week'].dt.year <= 2014)]\n",
    "artist_data = artist_data[\n",
    "    (artist_data['Week'].dt.year >= 2010) &\n",
    "    ((artist_data['Week'].dt.year < 2012) | ((artist_data['Week'].dt.year == 2012) & (artist_data['Week'].dt.month <= 7)))\n",
    "]\n",
    "\n",
    "\n",
    "# Sort data\n",
    "artist_data.sort_values(by='Week', inplace=True)\n",
    "\n",
    "# Unique weeks and songs\n",
    "unique_weeks = artist_data['Week'].unique()\n",
    "unique_songs = artist_data['Name'].unique()\n",
    "\n",
    "\n",
    "# Initialize the figure and frames list\n",
    "fig_adele = go.Figure()\n",
    "frames = []\n",
    "frame_data = []\n",
    "\n",
    "# Create a frame for each week\n",
    "for week in unique_weeks:\n",
    "    week_data = artist_data[artist_data['Week'] <= week]\n",
    "    frame_data = []\n",
    "    for song in unique_songs:\n",
    "        song_week_data = week_data[week_data['Name'] == song]\n",
    "        frame_data.append(go.Scatter(\n",
    "            x=song_week_data['Week'],\n",
    "            y=song_week_data['Weekly.rank'],\n",
    "            mode='lines+markers',\n",
    "            name=song,\n",
    "            hovertemplate='%{x}: %{y} <br>Song: %{text}',\n",
    "            text=song_week_data['Name']\n",
    "\n",
    "        ))\n",
    "\n",
    "    frames.append(go.Frame(data=frame_data))\n",
    "\n",
    "# Define play and pause buttons for animation\n",
    "play_button = {\n",
    "    \"type\": \"buttons\",\n",
    "    \"buttons\": [\n",
    "        {\n",
    "            \"label\": \"Play\",\n",
    "            \"method\": \"animate\",\n",
    "            \"args\": [None, {\"frame\": {\"duration\": 200, \"redraw\": True}, \"fromcurrent\": True}],\n",
    "        },\n",
    "        {\n",
    "            \"label\": \"Pause\",\n",
    "            \"method\": \"animate\",\n",
    "            \"args\": [[None], {\"frame\": {\"duration\": 0, \"redraw\": False}, \"mode\": \"immediate\"}],\n",
    "        },\n",
    "    ],\n",
    "    \"direction\": \"left\",\n",
    "    \"pad\": {\"r\": 10, \"t\": 87},\n",
    "    \"showactive\": True,\n",
    "    \"x\": 0.1,\n",
    "    \"xanchor\": \"right\",\n",
    "    \"y\": 0,\n",
    "    \"yanchor\": \"top\"\n",
    "}\n",
    "\n",
    "# Set the initial layout of the figure\n",
    "fig_adele.update_layout(\n",
    "    xaxis=dict(title='Date', type='date',tickfont=dict(size=14),\n",
    "            title_font=dict(size=16)),\n",
    "    yaxis=dict(title='Weekly Chart Rank', autorange='reversed',tickfont=dict(size=14),\n",
    "            title_font=dict(size=16)),\n",
    "    title='Billboard Chart Performance of Adele Over Time',\n",
    "    title_x=0.5,\n",
    "    title_font=dict(size=20),\n",
    "    updatemenus=[play_button],\n",
    "    showlegend=True\n",
    ")\n",
    "\n",
    "# Add the initial data (first frame) to the figure\n",
    "fig_adele.add_traces(frames[0].data)\n",
    "\n",
    "# Add all the frames to the figure\n",
    "fig_adele.frames = frames\n",
    "\n"
   ]
  },
  {
   "cell_type": "code",
   "execution_count": 26,
   "metadata": {},
   "outputs": [],
   "source": [
    "song_data = pd.read_csv('./Data/trending_songs_data.csv')\n",
    "song_data['constant']=1\n",
    "song_data = song_data.sort_values(by='total_years_song_repeated', ascending=True)\n",
    "song_data = song_data[song_data['total_years_song_repeated']>=3]"
   ]
  },
  {
   "cell_type": "code",
   "execution_count": 27,
   "metadata": {},
   "outputs": [
    {
     "data": {
      "application/vnd.plotly.v1+json": {
       "config": {
        "plotlyServerURL": "https://plot.ly"
       },
       "data": [
        {
         "alignmentgroup": "True",
         "customdata": [
          [
           "nicki minaj",
           2012,
           3,
           "R&;B,Rap"
          ],
          [
           "linkin park",
           2017,
           3,
           "Alternative Metal,Alternative Rock,Metal,Hard Rock,Rap Rock,Nu-Metal,Rap,Rock"
          ],
          [
           "jose feliciano",
           2017,
           3,
           "Rock,Pop,Latin Pop,Latin Music,Holiday,Christmas"
          ],
          [
           "lady gaga",
           2017,
           3,
           "Electronic,Synth-Pop,Electro-Pop,Dance-Pop,Pop"
          ],
          [
           "nickelback",
           2006,
           3,
           "Alternative Rock,Post-Grunge,Canada,Hard Rock,Rock"
          ],
          [
           "nicki minaj",
           2011,
           3,
           "R&;B,Rap"
          ],
          [
           "enya",
           2002,
           3,
           "Ballad,Ireland,Adult Contemporary,New Age,Pop"
          ],
          [
           "andy williams",
           2017,
           3,
           "Christmas,Holiday,Pop"
          ],
          [
           "bruno mars",
           2017,
           3,
           "Funk,R&;B,Pop"
          ],
          [
           "jose feliciano",
           2019,
           3,
           "Rock,Pop,Latin Pop,Latin Music,Holiday,Christmas"
          ],
          [
           "kings of leon",
           2008,
           3,
           "Pop-Rock,Pop,Rock"
          ],
          [
           "kelly clarkson",
           2019,
           3,
           "Christmas,Pop"
          ],
          [
           "andy williams",
           2019,
           3,
           "Christmas,Holiday,Pop"
          ],
          [
           "nickelback",
           2008,
           3,
           "Ballad,Acoustic,Pop-Rock,Rock"
          ],
          [
           "taylor swift",
           2010,
           3,
           "Pop Country,Country,Pop"
          ],
          [
           "j. cole",
           2015,
           3,
           "Producer,Rap"
          ],
          [
           "carrie underwood",
           2010,
           3,
           "Country"
          ],
          [
           "taylor swift",
           2008,
           3,
           "Pop Country,Country,Pop"
          ],
          [
           "adele",
           2017,
           3,
           "Adult Alternative,Adult Contemporary,Ballad,Disco,Tropical House,Trip-Hop,UK,Pop"
          ],
          [
           "taylor swift",
           2015,
           3,
           "Dream-Pop,Pop"
          ],
          [
           "taylor swift",
           2009,
           3,
           "Pop Country,Country,Pop"
          ],
          [
           "taylor swift",
           2008,
           3,
           "Pop Country,Country,Pop"
          ],
          [
           "kings of leon",
           2010,
           3,
           "Pop-Rock,Pop,Rock"
          ],
          [
           "taylor swift",
           2010,
           3,
           "Pop Country,Country,Pop"
          ],
          [
           "nickelback",
           2010,
           3,
           "Ballad,Acoustic,Pop-Rock,Rock"
          ],
          [
           "carrie underwood",
           2011,
           3,
           "Country"
          ],
          [
           "adele",
           2012,
           3,
           "Pop,Blues,Adult Alternative,Adult Contemporary,Blue-Eyed Soul,Soul"
          ],
          [
           "lady gaga",
           2009,
           3,
           "Electronic,Synth-Pop,Electro-Pop,Dance-Pop,Pop"
          ],
          [
           "lady gaga",
           2010,
           3,
           "Electronic,Synth-Pop,Electro-Pop,Dance-Pop,Pop"
          ],
          [
           "linkin park",
           2001,
           3,
           "Alternative Metal,Alternative Rock,Metal,Hard Rock,Rap Rock,Nu-Metal,Rap,Rock"
          ],
          [
           "nickelback",
           2009,
           3,
           "Ballad,Acoustic,Pop-Rock,Rock"
          ],
          [
           "taylor swift",
           2009,
           3,
           "Pop Country,Country,Pop"
          ],
          [
           "bruno mars",
           2016,
           3,
           "Funk,R&;B,Pop"
          ],
          [
           "adele",
           2015,
           3,
           "Adult Alternative,Adult Contemporary,Ballad,Disco,Tropical House,Trip-Hop,UK,Pop"
          ],
          [
           "adele",
           2011,
           3,
           "Pop,Blues,Adult Alternative,Adult Contemporary,Blue-Eyed Soul,Soul"
          ],
          [
           "enya",
           2001,
           3,
           "Ballad,Ireland,Adult Contemporary,New Age,Pop"
          ],
          [
           "linkin park",
           2004,
           3,
           "Alternative Rock,Nu-Metal,Rock"
          ],
          [
           "nicki minaj",
           2010,
           3,
           "R&;B,Rap"
          ],
          [
           "kelly clarkson",
           2013,
           3,
           "Christmas,Pop"
          ],
          [
           "nickelback",
           2007,
           3,
           "Alternative Rock,Post-Grunge,Canada,Hard Rock,Rock"
          ],
          [
           "carrie underwood",
           2009,
           3,
           "Country"
          ],
          [
           "adele",
           2016,
           3,
           "Adult Alternative,Adult Contemporary,Ballad,Disco,Tropical House,Trip-Hop,UK,Pop"
          ],
          [
           "leann rimes",
           2002,
           3,
           "Pop"
          ],
          [
           "adele",
           2010,
           3,
           "Pop,Blues,Adult Alternative,Adult Contemporary,Blue-Eyed Soul,Soul"
          ],
          [
           "kelly clarkson",
           2014,
           3,
           "Christmas,Pop"
          ],
          [
           "leann rimes",
           2000,
           3,
           "Pop"
          ],
          [
           "taylor swift",
           2016,
           3,
           "Dream-Pop,Pop"
          ],
          [
           "j. cole",
           2014,
           3,
           "Producer,Rap"
          ],
          [
           "kendrick lamar",
           2014,
           3,
           "Trap,Hip-Hop,Gangsta Rap,Conscious Hip-Hop,G-Funk,Memes,West Coast,Producer,Rap"
          ],
          [
           "linkin park",
           2002,
           3,
           "Alternative Metal,Alternative Rock,Metal,Hard Rock,Rap Rock,Nu-Metal,Rap,Rock"
          ],
          [
           "j. cole",
           2016,
           3,
           "Producer,Rap"
          ],
          [
           "taylor swift",
           2014,
           3,
           "Dream-Pop,Pop"
          ],
          [
           "leann rimes",
           2001,
           3,
           "Pop"
          ],
          [
           "kendrick lamar",
           2012,
           3,
           "Trap,Hip-Hop,Gangsta Rap,Conscious Hip-Hop,G-Funk,Memes,West Coast,Producer,Rap"
          ],
          [
           "kings of leon",
           2009,
           3,
           "Pop-Rock,Pop,Rock"
          ],
          [
           "taylor swift",
           2010,
           3,
           "Pop Country,Country,Pop"
          ],
          [
           "jose feliciano",
           2018,
           3,
           "Rock,Pop,Latin Pop,Latin Music,Holiday,Christmas"
          ],
          [
           "linkin park",
           2017,
           3,
           "Alternative Rock,Nu-Metal,Rock"
          ],
          [
           "linkin park",
           2003,
           3,
           "Alternative Rock,Nu-Metal,Rock"
          ],
          [
           "bruno mars",
           2018,
           3,
           "Funk,R&;B,Pop"
          ],
          [
           "taylor swift",
           2008,
           3,
           "Pop Country,Country,Pop"
          ],
          [
           "kendrick lamar",
           2013,
           3,
           "Trap,Hip-Hop,Gangsta Rap,Conscious Hip-Hop,G-Funk,Memes,West Coast,Producer,Rap"
          ],
          [
           "taylor swift",
           2009,
           3,
           "Pop Country,Country,Pop"
          ],
          [
           "enya",
           2013,
           3,
           "Ballad,Ireland,Adult Contemporary,New Age,Pop"
          ],
          [
           "andy williams",
           2018,
           3,
           "Christmas,Holiday,Pop"
          ],
          [
           "nickelback",
           2008,
           3,
           "Alternative Rock,Post-Grunge,Canada,Hard Rock,Rock"
          ],
          [
           "awolnation",
           2013,
           4,
           "Electro-Pop,Pop-Rock,Alternative Rock,Industrial Rock,Indie Rock,Electronic Rock,Rock"
          ],
          [
           "bobby helms",
           2019,
           4,
           "Pop,Rockabilly,Christmas,Rock"
          ],
          [
           "bobby helms",
           2017,
           4,
           "Pop,Rockabilly,Christmas,Rock"
          ],
          [
           "awolnation",
           2012,
           4,
           "Electro-Pop,Pop-Rock,Alternative Rock,Industrial Rock,Indie Rock,Electronic Rock,Rock"
          ],
          [
           "bobby helms",
           2018,
           4,
           "Pop,Rockabilly,Christmas,Rock"
          ],
          [
           "michael jackson",
           2015,
           4,
           "Eighties,Halloween,Funk,Synth-Pop,Soul,Soul Pop,R&;B,Pop"
          ],
          [
           "awolnation",
           2011,
           4,
           "Electro-Pop,Pop-Rock,Alternative Rock,Industrial Rock,Indie Rock,Electronic Rock,Rock"
          ],
          [
           "michael jackson",
           2014,
           4,
           "Eighties,Halloween,Funk,Synth-Pop,Soul,Soul Pop,R&;B,Pop"
          ],
          [
           "michael jackson",
           2013,
           4,
           "Eighties,Halloween,Funk,Synth-Pop,Soul,Soul Pop,R&;B,Pop"
          ],
          [
           "awolnation",
           2014,
           4,
           "Electro-Pop,Pop-Rock,Alternative Rock,Industrial Rock,Indie Rock,Electronic Rock,Rock"
          ],
          [
           "michael jackson",
           2018,
           4,
           "Eighties,Halloween,Funk,Synth-Pop,Soul,Soul Pop,R&;B,Pop"
          ],
          [
           "bobby helms",
           2016,
           4,
           "Pop,Rockabilly,Christmas,Rock"
          ],
          [
           "brenda lee",
           2018,
           6,
           "Christmas,Rock"
          ],
          [
           "brenda lee",
           2016,
           6,
           "Christmas,Rock"
          ],
          [
           "brenda lee",
           2017,
           6,
           "Christmas,Rock"
          ],
          [
           "brenda lee",
           2015,
           6,
           "Christmas,Rock"
          ],
          [
           "brenda lee",
           2019,
           6,
           "Christmas,Rock"
          ],
          [
           "brenda lee",
           2014,
           6,
           "Christmas,Rock"
          ],
          [
           "mariah carey",
           2000,
           9,
           "East Coast,Christmas,R&;B,Pop"
          ],
          [
           "mariah carey",
           2018,
           9,
           "East Coast,Christmas,R&;B,Pop"
          ],
          [
           "mariah carey",
           2016,
           9,
           "East Coast,Christmas,R&;B,Pop"
          ],
          [
           "mariah carey",
           2015,
           9,
           "East Coast,Christmas,R&;B,Pop"
          ],
          [
           "mariah carey",
           2013,
           9,
           "East Coast,Christmas,R&;B,Pop"
          ],
          [
           "mariah carey",
           2014,
           9,
           "East Coast,Christmas,R&;B,Pop"
          ],
          [
           "mariah carey",
           2017,
           9,
           "East Coast,Christmas,R&;B,Pop"
          ],
          [
           "mariah carey",
           2012,
           9,
           "East Coast,Christmas,R&;B,Pop"
          ],
          [
           "mariah carey",
           2019,
           9,
           "East Coast,Christmas,R&;B,Pop"
          ]
         ],
         "hovertemplate": "Number of Years Repeated=%{x}<br>Song Name=%{y}<br>Artist=%{customdata[0]}<br>year_in_which_song_repeated=%{customdata[1]}<br>total_years_song_repeated=%{customdata[2]}<br>Genre=%{customdata[3]}<br>No. of Weeks=%{marker.color}<extra></extra>",
         "legendgroup": "",
         "marker": {
          "color": [
           3,
           1,
           1,
           1,
           12,
           16,
           6,
           3,
           47,
           1,
           1,
           1,
           1,
           1,
           15,
           16,
           12,
           1,
           16,
           15,
           15,
           1,
           10,
           10,
           9,
           6,
           15,
           8,
           26,
           9,
           7,
           1,
           1,
           1,
           49,
           25,
           22,
           1,
           2,
           32,
           1,
           5,
           18,
           1,
           1,
           17,
           11,
           1,
           1,
           29,
           8,
           1,
           7,
           1,
           46,
           5,
           2,
           1,
           9,
           3,
           4,
           1,
           34,
           1,
           5,
           4,
           47,
           1,
           1,
           2,
           4,
           1,
           18,
           1,
           1,
           12,
           1,
           3,
           5,
           4,
           3,
           1,
           1,
           1,
           1,
           6,
           5,
           3,
           3,
           3,
           5,
           2,
           1
          ],
          "coloraxis": "coloraxis",
          "pattern": {
           "shape": ""
          }
         },
         "name": "",
         "offsetgroup": "",
         "orientation": "h",
         "showlegend": false,
         "textposition": "auto",
         "type": "bar",
         "x": [
          1,
          1,
          1,
          1,
          1,
          1,
          1,
          1,
          1,
          1,
          1,
          1,
          1,
          1,
          1,
          1,
          1,
          1,
          1,
          1,
          1,
          1,
          1,
          1,
          1,
          1,
          1,
          1,
          1,
          1,
          1,
          1,
          1,
          1,
          1,
          1,
          1,
          1,
          1,
          1,
          1,
          1,
          1,
          1,
          1,
          1,
          1,
          1,
          1,
          1,
          1,
          1,
          1,
          1,
          1,
          1,
          1,
          1,
          1,
          1,
          1,
          1,
          1,
          1,
          1,
          1,
          1,
          1,
          1,
          1,
          1,
          1,
          1,
          1,
          1,
          1,
          1,
          1,
          1,
          1,
          1,
          1,
          1,
          1,
          1,
          1,
          1,
          1,
          1,
          1,
          1,
          1,
          1
         ],
         "xaxis": "x",
         "y": [
          "fly",
          "in the end",
          "feliz navidad",
          "bad romance",
          "rockstar",
          "fly",
          "only time",
          "it's the most wonderful time of the year",
          "that's what i like",
          "feliz navidad",
          "use somebody",
          "underneath the tree",
          "it's the most wonderful time of the year",
          "never gonna be alone",
          "you belong with me",
          "no role modelz",
          "mama's song",
          "fifteen",
          "water under the bridge",
          "wildest dreams",
          "fifteen",
          "you belong with me",
          "use somebody",
          "fearless",
          "never gonna be alone",
          "mama's song",
          "rolling in the deep",
          "bad romance",
          "bad romance",
          "in the end",
          "never gonna be alone",
          "fearless",
          "that's what i like",
          "water under the bridge",
          "rolling in the deep",
          "only time",
          "numb",
          "fly",
          "underneath the tree",
          "rockstar",
          "mama's song",
          "water under the bridge",
          "can't fight the moonlight",
          "rolling in the deep",
          "underneath the tree",
          "can't fight the moonlight",
          "wildest dreams",
          "no role modelz",
          "m.a.a.d city",
          "in the end",
          "no role modelz",
          "wildest dreams",
          "can't fight the moonlight",
          "m.a.a.d city",
          "use somebody",
          "fifteen",
          "feliz navidad",
          "numb",
          "numb",
          "that's what i like",
          "fearless",
          "m.a.a.d city",
          "you belong with me",
          "only time",
          "it's the most wonderful time of the year",
          "rockstar",
          "sail",
          "jingle bell rock",
          "jingle bell rock",
          "sail",
          "jingle bell rock",
          "thriller",
          "sail",
          "thriller",
          "thriller",
          "sail",
          "thriller",
          "jingle bell rock",
          "rockin' around the christmas tree",
          "rockin' around the christmas tree",
          "rockin' around the christmas tree",
          "rockin' around the christmas tree",
          "rockin' around the christmas tree",
          "rockin' around the christmas tree",
          "all i want for christmas is you",
          "all i want for christmas is you",
          "all i want for christmas is you",
          "all i want for christmas is you",
          "all i want for christmas is you",
          "all i want for christmas is you",
          "all i want for christmas is you",
          "all i want for christmas is you",
          "all i want for christmas is you"
         ],
         "yaxis": "y"
        }
       ],
       "layout": {
        "barmode": "relative",
        "coloraxis": {
         "colorbar": {
          "title": {
           "text": "No. of Weeks"
          }
         },
         "colorscale": [
          [
           0,
           "#0d0887"
          ],
          [
           0.1111111111111111,
           "#46039f"
          ],
          [
           0.2222222222222222,
           "#7201a8"
          ],
          [
           0.3333333333333333,
           "#9c179e"
          ],
          [
           0.4444444444444444,
           "#bd3786"
          ],
          [
           0.5555555555555556,
           "#d8576b"
          ],
          [
           0.6666666666666666,
           "#ed7953"
          ],
          [
           0.7777777777777778,
           "#fb9f3a"
          ],
          [
           0.8888888888888888,
           "#fdca26"
          ],
          [
           1,
           "#f0f921"
          ]
         ]
        },
        "height": 700,
        "legend": {
         "tracegroupgap": 0
        },
        "margin": {
         "t": 60
        },
        "template": {
         "data": {
          "bar": [
           {
            "error_x": {
             "color": "#2a3f5f"
            },
            "error_y": {
             "color": "#2a3f5f"
            },
            "marker": {
             "line": {
              "color": "#E5ECF6",
              "width": 0.5
             },
             "pattern": {
              "fillmode": "overlay",
              "size": 10,
              "solidity": 0.2
             }
            },
            "type": "bar"
           }
          ],
          "barpolar": [
           {
            "marker": {
             "line": {
              "color": "#E5ECF6",
              "width": 0.5
             },
             "pattern": {
              "fillmode": "overlay",
              "size": 10,
              "solidity": 0.2
             }
            },
            "type": "barpolar"
           }
          ],
          "carpet": [
           {
            "aaxis": {
             "endlinecolor": "#2a3f5f",
             "gridcolor": "white",
             "linecolor": "white",
             "minorgridcolor": "white",
             "startlinecolor": "#2a3f5f"
            },
            "baxis": {
             "endlinecolor": "#2a3f5f",
             "gridcolor": "white",
             "linecolor": "white",
             "minorgridcolor": "white",
             "startlinecolor": "#2a3f5f"
            },
            "type": "carpet"
           }
          ],
          "choropleth": [
           {
            "colorbar": {
             "outlinewidth": 0,
             "ticks": ""
            },
            "type": "choropleth"
           }
          ],
          "contour": [
           {
            "colorbar": {
             "outlinewidth": 0,
             "ticks": ""
            },
            "colorscale": [
             [
              0,
              "#0d0887"
             ],
             [
              0.1111111111111111,
              "#46039f"
             ],
             [
              0.2222222222222222,
              "#7201a8"
             ],
             [
              0.3333333333333333,
              "#9c179e"
             ],
             [
              0.4444444444444444,
              "#bd3786"
             ],
             [
              0.5555555555555556,
              "#d8576b"
             ],
             [
              0.6666666666666666,
              "#ed7953"
             ],
             [
              0.7777777777777778,
              "#fb9f3a"
             ],
             [
              0.8888888888888888,
              "#fdca26"
             ],
             [
              1,
              "#f0f921"
             ]
            ],
            "type": "contour"
           }
          ],
          "contourcarpet": [
           {
            "colorbar": {
             "outlinewidth": 0,
             "ticks": ""
            },
            "type": "contourcarpet"
           }
          ],
          "heatmap": [
           {
            "colorbar": {
             "outlinewidth": 0,
             "ticks": ""
            },
            "colorscale": [
             [
              0,
              "#0d0887"
             ],
             [
              0.1111111111111111,
              "#46039f"
             ],
             [
              0.2222222222222222,
              "#7201a8"
             ],
             [
              0.3333333333333333,
              "#9c179e"
             ],
             [
              0.4444444444444444,
              "#bd3786"
             ],
             [
              0.5555555555555556,
              "#d8576b"
             ],
             [
              0.6666666666666666,
              "#ed7953"
             ],
             [
              0.7777777777777778,
              "#fb9f3a"
             ],
             [
              0.8888888888888888,
              "#fdca26"
             ],
             [
              1,
              "#f0f921"
             ]
            ],
            "type": "heatmap"
           }
          ],
          "heatmapgl": [
           {
            "colorbar": {
             "outlinewidth": 0,
             "ticks": ""
            },
            "colorscale": [
             [
              0,
              "#0d0887"
             ],
             [
              0.1111111111111111,
              "#46039f"
             ],
             [
              0.2222222222222222,
              "#7201a8"
             ],
             [
              0.3333333333333333,
              "#9c179e"
             ],
             [
              0.4444444444444444,
              "#bd3786"
             ],
             [
              0.5555555555555556,
              "#d8576b"
             ],
             [
              0.6666666666666666,
              "#ed7953"
             ],
             [
              0.7777777777777778,
              "#fb9f3a"
             ],
             [
              0.8888888888888888,
              "#fdca26"
             ],
             [
              1,
              "#f0f921"
             ]
            ],
            "type": "heatmapgl"
           }
          ],
          "histogram": [
           {
            "marker": {
             "pattern": {
              "fillmode": "overlay",
              "size": 10,
              "solidity": 0.2
             }
            },
            "type": "histogram"
           }
          ],
          "histogram2d": [
           {
            "colorbar": {
             "outlinewidth": 0,
             "ticks": ""
            },
            "colorscale": [
             [
              0,
              "#0d0887"
             ],
             [
              0.1111111111111111,
              "#46039f"
             ],
             [
              0.2222222222222222,
              "#7201a8"
             ],
             [
              0.3333333333333333,
              "#9c179e"
             ],
             [
              0.4444444444444444,
              "#bd3786"
             ],
             [
              0.5555555555555556,
              "#d8576b"
             ],
             [
              0.6666666666666666,
              "#ed7953"
             ],
             [
              0.7777777777777778,
              "#fb9f3a"
             ],
             [
              0.8888888888888888,
              "#fdca26"
             ],
             [
              1,
              "#f0f921"
             ]
            ],
            "type": "histogram2d"
           }
          ],
          "histogram2dcontour": [
           {
            "colorbar": {
             "outlinewidth": 0,
             "ticks": ""
            },
            "colorscale": [
             [
              0,
              "#0d0887"
             ],
             [
              0.1111111111111111,
              "#46039f"
             ],
             [
              0.2222222222222222,
              "#7201a8"
             ],
             [
              0.3333333333333333,
              "#9c179e"
             ],
             [
              0.4444444444444444,
              "#bd3786"
             ],
             [
              0.5555555555555556,
              "#d8576b"
             ],
             [
              0.6666666666666666,
              "#ed7953"
             ],
             [
              0.7777777777777778,
              "#fb9f3a"
             ],
             [
              0.8888888888888888,
              "#fdca26"
             ],
             [
              1,
              "#f0f921"
             ]
            ],
            "type": "histogram2dcontour"
           }
          ],
          "mesh3d": [
           {
            "colorbar": {
             "outlinewidth": 0,
             "ticks": ""
            },
            "type": "mesh3d"
           }
          ],
          "parcoords": [
           {
            "line": {
             "colorbar": {
              "outlinewidth": 0,
              "ticks": ""
             }
            },
            "type": "parcoords"
           }
          ],
          "pie": [
           {
            "automargin": true,
            "type": "pie"
           }
          ],
          "scatter": [
           {
            "fillpattern": {
             "fillmode": "overlay",
             "size": 10,
             "solidity": 0.2
            },
            "type": "scatter"
           }
          ],
          "scatter3d": [
           {
            "line": {
             "colorbar": {
              "outlinewidth": 0,
              "ticks": ""
             }
            },
            "marker": {
             "colorbar": {
              "outlinewidth": 0,
              "ticks": ""
             }
            },
            "type": "scatter3d"
           }
          ],
          "scattercarpet": [
           {
            "marker": {
             "colorbar": {
              "outlinewidth": 0,
              "ticks": ""
             }
            },
            "type": "scattercarpet"
           }
          ],
          "scattergeo": [
           {
            "marker": {
             "colorbar": {
              "outlinewidth": 0,
              "ticks": ""
             }
            },
            "type": "scattergeo"
           }
          ],
          "scattergl": [
           {
            "marker": {
             "colorbar": {
              "outlinewidth": 0,
              "ticks": ""
             }
            },
            "type": "scattergl"
           }
          ],
          "scattermapbox": [
           {
            "marker": {
             "colorbar": {
              "outlinewidth": 0,
              "ticks": ""
             }
            },
            "type": "scattermapbox"
           }
          ],
          "scatterpolar": [
           {
            "marker": {
             "colorbar": {
              "outlinewidth": 0,
              "ticks": ""
             }
            },
            "type": "scatterpolar"
           }
          ],
          "scatterpolargl": [
           {
            "marker": {
             "colorbar": {
              "outlinewidth": 0,
              "ticks": ""
             }
            },
            "type": "scatterpolargl"
           }
          ],
          "scatterternary": [
           {
            "marker": {
             "colorbar": {
              "outlinewidth": 0,
              "ticks": ""
             }
            },
            "type": "scatterternary"
           }
          ],
          "surface": [
           {
            "colorbar": {
             "outlinewidth": 0,
             "ticks": ""
            },
            "colorscale": [
             [
              0,
              "#0d0887"
             ],
             [
              0.1111111111111111,
              "#46039f"
             ],
             [
              0.2222222222222222,
              "#7201a8"
             ],
             [
              0.3333333333333333,
              "#9c179e"
             ],
             [
              0.4444444444444444,
              "#bd3786"
             ],
             [
              0.5555555555555556,
              "#d8576b"
             ],
             [
              0.6666666666666666,
              "#ed7953"
             ],
             [
              0.7777777777777778,
              "#fb9f3a"
             ],
             [
              0.8888888888888888,
              "#fdca26"
             ],
             [
              1,
              "#f0f921"
             ]
            ],
            "type": "surface"
           }
          ],
          "table": [
           {
            "cells": {
             "fill": {
              "color": "#EBF0F8"
             },
             "line": {
              "color": "white"
             }
            },
            "header": {
             "fill": {
              "color": "#C8D4E3"
             },
             "line": {
              "color": "white"
             }
            },
            "type": "table"
           }
          ]
         },
         "layout": {
          "annotationdefaults": {
           "arrowcolor": "#2a3f5f",
           "arrowhead": 0,
           "arrowwidth": 1
          },
          "autotypenumbers": "strict",
          "coloraxis": {
           "colorbar": {
            "outlinewidth": 0,
            "ticks": ""
           }
          },
          "colorscale": {
           "diverging": [
            [
             0,
             "#8e0152"
            ],
            [
             0.1,
             "#c51b7d"
            ],
            [
             0.2,
             "#de77ae"
            ],
            [
             0.3,
             "#f1b6da"
            ],
            [
             0.4,
             "#fde0ef"
            ],
            [
             0.5,
             "#f7f7f7"
            ],
            [
             0.6,
             "#e6f5d0"
            ],
            [
             0.7,
             "#b8e186"
            ],
            [
             0.8,
             "#7fbc41"
            ],
            [
             0.9,
             "#4d9221"
            ],
            [
             1,
             "#276419"
            ]
           ],
           "sequential": [
            [
             0,
             "#0d0887"
            ],
            [
             0.1111111111111111,
             "#46039f"
            ],
            [
             0.2222222222222222,
             "#7201a8"
            ],
            [
             0.3333333333333333,
             "#9c179e"
            ],
            [
             0.4444444444444444,
             "#bd3786"
            ],
            [
             0.5555555555555556,
             "#d8576b"
            ],
            [
             0.6666666666666666,
             "#ed7953"
            ],
            [
             0.7777777777777778,
             "#fb9f3a"
            ],
            [
             0.8888888888888888,
             "#fdca26"
            ],
            [
             1,
             "#f0f921"
            ]
           ],
           "sequentialminus": [
            [
             0,
             "#0d0887"
            ],
            [
             0.1111111111111111,
             "#46039f"
            ],
            [
             0.2222222222222222,
             "#7201a8"
            ],
            [
             0.3333333333333333,
             "#9c179e"
            ],
            [
             0.4444444444444444,
             "#bd3786"
            ],
            [
             0.5555555555555556,
             "#d8576b"
            ],
            [
             0.6666666666666666,
             "#ed7953"
            ],
            [
             0.7777777777777778,
             "#fb9f3a"
            ],
            [
             0.8888888888888888,
             "#fdca26"
            ],
            [
             1,
             "#f0f921"
            ]
           ]
          },
          "colorway": [
           "#636efa",
           "#EF553B",
           "#00cc96",
           "#ab63fa",
           "#FFA15A",
           "#19d3f3",
           "#FF6692",
           "#B6E880",
           "#FF97FF",
           "#FECB52"
          ],
          "font": {
           "color": "#2a3f5f"
          },
          "geo": {
           "bgcolor": "white",
           "lakecolor": "white",
           "landcolor": "#E5ECF6",
           "showlakes": true,
           "showland": true,
           "subunitcolor": "white"
          },
          "hoverlabel": {
           "align": "left"
          },
          "hovermode": "closest",
          "mapbox": {
           "style": "light"
          },
          "paper_bgcolor": "white",
          "plot_bgcolor": "#E5ECF6",
          "polar": {
           "angularaxis": {
            "gridcolor": "white",
            "linecolor": "white",
            "ticks": ""
           },
           "bgcolor": "#E5ECF6",
           "radialaxis": {
            "gridcolor": "white",
            "linecolor": "white",
            "ticks": ""
           }
          },
          "scene": {
           "xaxis": {
            "backgroundcolor": "#E5ECF6",
            "gridcolor": "white",
            "gridwidth": 2,
            "linecolor": "white",
            "showbackground": true,
            "ticks": "",
            "zerolinecolor": "white"
           },
           "yaxis": {
            "backgroundcolor": "#E5ECF6",
            "gridcolor": "white",
            "gridwidth": 2,
            "linecolor": "white",
            "showbackground": true,
            "ticks": "",
            "zerolinecolor": "white"
           },
           "zaxis": {
            "backgroundcolor": "#E5ECF6",
            "gridcolor": "white",
            "gridwidth": 2,
            "linecolor": "white",
            "showbackground": true,
            "ticks": "",
            "zerolinecolor": "white"
           }
          },
          "shapedefaults": {
           "line": {
            "color": "#2a3f5f"
           }
          },
          "ternary": {
           "aaxis": {
            "gridcolor": "white",
            "linecolor": "white",
            "ticks": ""
           },
           "baxis": {
            "gridcolor": "white",
            "linecolor": "white",
            "ticks": ""
           },
           "bgcolor": "#E5ECF6",
           "caxis": {
            "gridcolor": "white",
            "linecolor": "white",
            "ticks": ""
           }
          },
          "title": {
           "x": 0.05
          },
          "xaxis": {
           "automargin": true,
           "gridcolor": "white",
           "linecolor": "white",
           "ticks": "",
           "title": {
            "standoff": 15
           },
           "zerolinecolor": "white",
           "zerolinewidth": 2
          },
          "yaxis": {
           "automargin": true,
           "gridcolor": "white",
           "linecolor": "white",
           "ticks": "",
           "title": {
            "standoff": 15
           },
           "zerolinecolor": "white",
           "zerolinewidth": 2
          }
         }
        },
        "width": 680,
        "xaxis": {
         "anchor": "y",
         "domain": [
          0,
          1
         ],
         "title": {
          "text": "Number of Years Repeated"
         }
        },
        "yaxis": {
         "anchor": "x",
         "domain": [
          0,
          1
         ],
         "title": {
          "text": "Song Name"
         }
        }
       }
      }
     },
     "metadata": {},
     "output_type": "display_data"
    }
   ],
   "source": [
    "fig_trend_song = px.bar(song_data, x='constant', y='Name',\n",
    "             color='song_repeated_in_one_year_count',\n",
    "             labels={'Name': 'Song Name', 'constant': 'Number of Years Repeated','song_repeated_in_one_year_count':'No. of Weeks'},\n",
    "            hover_data={'Artist':True,'year_in_which_song_repeated':True,'total_years_song_repeated':True,'Genre':True})\n",
    "fig_trend_song.update_layout(width=680,height=700)"
   ]
  },
  {
   "cell_type": "code",
   "execution_count": 38,
   "metadata": {},
   "outputs": [],
   "source": [
    "grammy = pd.read_csv(grammy_data_path)\n",
    "\n",
    "grammy['Artist'] = grammy['Artist'].str.replace(\" &\", \",\")\n",
    "grammy['Name'] = grammy['Name'].str.lower()\n",
    "grammy['Artist'] = grammy['Artist'].str.lower()\n",
    "\n",
    "gr = grammy.merge(songs, on = ['Name', 'Artist'])\n",
    "gr = gr.drop(columns = 'Unnamed: 0').drop(columns = 'X')\n",
    "\n",
    "gr['Name'] = gr['Name'].str.title()\n",
    "gr['Artist'] = gr['Artist'].str.title()"
   ]
  },
  {
   "cell_type": "code",
   "execution_count": 41,
   "metadata": {},
   "outputs": [],
   "source": [
    "bb_gr = bb3.merge(grammy, on = ['Name','Artist'])\n",
    "# bb_gr = bb_gr.groupby(['Name','Artist','GrammyYear'], as_index = False).agg({'Genre_y':'last','Date':'first'})"
   ]
  },
  {
   "cell_type": "code",
   "execution_count": 42,
   "id": "56bbeba9",
   "metadata": {},
   "outputs": [
    {
     "data": {
      "text/html": [
       "<div>\n",
       "<style scoped>\n",
       "    .dataframe tbody tr th:only-of-type {\n",
       "        vertical-align: middle;\n",
       "    }\n",
       "\n",
       "    .dataframe tbody tr th {\n",
       "        vertical-align: top;\n",
       "    }\n",
       "\n",
       "    .dataframe thead th {\n",
       "        text-align: right;\n",
       "    }\n",
       "</style>\n",
       "<table border=\"1\" class=\"dataframe\">\n",
       "  <thead>\n",
       "    <tr style=\"text-align: right;\">\n",
       "      <th></th>\n",
       "      <th>Name</th>\n",
       "      <th>Artist</th>\n",
       "      <th>Acousticness</th>\n",
       "      <th>Danceability</th>\n",
       "      <th>Duration</th>\n",
       "      <th>Energy</th>\n",
       "      <th>Explicit</th>\n",
       "      <th>Instrumentalness</th>\n",
       "      <th>Liveness</th>\n",
       "      <th>Loudness</th>\n",
       "      <th>...</th>\n",
       "      <th>Tempo</th>\n",
       "      <th>Valence</th>\n",
       "      <th>Genre_x</th>\n",
       "      <th>Popularity</th>\n",
       "      <th>Date</th>\n",
       "      <th>Unnamed: 0</th>\n",
       "      <th>X</th>\n",
       "      <th>GrammyAward</th>\n",
       "      <th>GrammyYear</th>\n",
       "      <th>Genre_y</th>\n",
       "    </tr>\n",
       "  </thead>\n",
       "  <tbody>\n",
       "    <tr>\n",
       "      <th>0</th>\n",
       "      <td>24k magic</td>\n",
       "      <td>bruno mars</td>\n",
       "      <td>0.034000</td>\n",
       "      <td>0.818000</td>\n",
       "      <td>225.983000</td>\n",
       "      <td>0.803000</td>\n",
       "      <td>False</td>\n",
       "      <td>0.000000</td>\n",
       "      <td>0.153</td>\n",
       "      <td>-4.282000</td>\n",
       "      <td>...</td>\n",
       "      <td>106.970000</td>\n",
       "      <td>0.632000</td>\n",
       "      <td>Funk-Pop,Funk,Pop</td>\n",
       "      <td>79</td>\n",
       "      <td>October 7, 2016</td>\n",
       "      <td>24</td>\n",
       "      <td>23</td>\n",
       "      <td>Record Of The Year</td>\n",
       "      <td>2017</td>\n",
       "      <td>General</td>\n",
       "    </tr>\n",
       "    <tr>\n",
       "      <th>1</th>\n",
       "      <td>a milli</td>\n",
       "      <td>lil wayne</td>\n",
       "      <td>0.038700</td>\n",
       "      <td>0.673000</td>\n",
       "      <td>221.840000</td>\n",
       "      <td>0.695000</td>\n",
       "      <td>True</td>\n",
       "      <td>0.002060</td>\n",
       "      <td>0.194</td>\n",
       "      <td>-8.636000</td>\n",
       "      <td>...</td>\n",
       "      <td>151.468000</td>\n",
       "      <td>0.774000</td>\n",
       "      <td>Crunk,Rap</td>\n",
       "      <td>114</td>\n",
       "      <td>April 23, 2008</td>\n",
       "      <td>226</td>\n",
       "      <td>225</td>\n",
       "      <td>Best Rap Solo Performance</td>\n",
       "      <td>2008</td>\n",
       "      <td>Rap</td>\n",
       "    </tr>\n",
       "    <tr>\n",
       "      <th>2</th>\n",
       "      <td>adorn</td>\n",
       "      <td>miguel</td>\n",
       "      <td>0.054300</td>\n",
       "      <td>0.625000</td>\n",
       "      <td>193.147000</td>\n",
       "      <td>0.576000</td>\n",
       "      <td>False</td>\n",
       "      <td>0.000041</td>\n",
       "      <td>0.187</td>\n",
       "      <td>-5.693000</td>\n",
       "      <td>...</td>\n",
       "      <td>179.063000</td>\n",
       "      <td>0.235000</td>\n",
       "      <td>Pop,Neo Soul,Singer-Songwriter,Trip-Hop,Soul,S...</td>\n",
       "      <td>34</td>\n",
       "      <td>February 28, 2012</td>\n",
       "      <td>142</td>\n",
       "      <td>141</td>\n",
       "      <td>Best R&amp;B Song</td>\n",
       "      <td>2012</td>\n",
       "      <td>R&amp;B</td>\n",
       "    </tr>\n",
       "    <tr>\n",
       "      <th>3</th>\n",
       "      <td>ain't it fun</td>\n",
       "      <td>paramore</td>\n",
       "      <td>0.154000</td>\n",
       "      <td>0.610000</td>\n",
       "      <td>296.520000</td>\n",
       "      <td>0.893000</td>\n",
       "      <td>False</td>\n",
       "      <td>0.000044</td>\n",
       "      <td>0.021</td>\n",
       "      <td>-3.681000</td>\n",
       "      <td>...</td>\n",
       "      <td>104.031000</td>\n",
       "      <td>0.673000</td>\n",
       "      <td>Adult Alternative,Adult Contemporary,Alternati...</td>\n",
       "      <td>122</td>\n",
       "      <td>April 9, 2013</td>\n",
       "      <td>99</td>\n",
       "      <td>98</td>\n",
       "      <td>Best Rock Song</td>\n",
       "      <td>2014</td>\n",
       "      <td>Rock</td>\n",
       "    </tr>\n",
       "    <tr>\n",
       "      <th>4</th>\n",
       "      <td>ain't no other man</td>\n",
       "      <td>christina aguilera</td>\n",
       "      <td>0.003585</td>\n",
       "      <td>0.859000</td>\n",
       "      <td>228.767000</td>\n",
       "      <td>0.731500</td>\n",
       "      <td>False</td>\n",
       "      <td>0.007080</td>\n",
       "      <td>0.118</td>\n",
       "      <td>-5.153500</td>\n",
       "      <td>...</td>\n",
       "      <td>127.931500</td>\n",
       "      <td>0.506000</td>\n",
       "      <td>R&amp;;B,Funk,Pop</td>\n",
       "      <td>106</td>\n",
       "      <td>June 6, 2006</td>\n",
       "      <td>255</td>\n",
       "      <td>254</td>\n",
       "      <td>Best Female Pop Vocal Performance</td>\n",
       "      <td>2006</td>\n",
       "      <td>Pop</td>\n",
       "    </tr>\n",
       "    <tr>\n",
       "      <th>...</th>\n",
       "      <td>...</td>\n",
       "      <td>...</td>\n",
       "      <td>...</td>\n",
       "      <td>...</td>\n",
       "      <td>...</td>\n",
       "      <td>...</td>\n",
       "      <td>...</td>\n",
       "      <td>...</td>\n",
       "      <td>...</td>\n",
       "      <td>...</td>\n",
       "      <td>...</td>\n",
       "      <td>...</td>\n",
       "      <td>...</td>\n",
       "      <td>...</td>\n",
       "      <td>...</td>\n",
       "      <td>...</td>\n",
       "      <td>...</td>\n",
       "      <td>...</td>\n",
       "      <td>...</td>\n",
       "      <td>...</td>\n",
       "      <td>...</td>\n",
       "    </tr>\n",
       "    <tr>\n",
       "      <th>129</th>\n",
       "      <td>white horse</td>\n",
       "      <td>taylor swift</td>\n",
       "      <td>0.316000</td>\n",
       "      <td>0.578000</td>\n",
       "      <td>235.153500</td>\n",
       "      <td>0.348500</td>\n",
       "      <td>False</td>\n",
       "      <td>0.000000</td>\n",
       "      <td>0.100</td>\n",
       "      <td>-8.045500</td>\n",
       "      <td>...</td>\n",
       "      <td>92.513500</td>\n",
       "      <td>0.232500</td>\n",
       "      <td>Pop Country,Ballad,Country,Pop</td>\n",
       "      <td>53</td>\n",
       "      <td>December 7, 2008</td>\n",
       "      <td>209</td>\n",
       "      <td>208</td>\n",
       "      <td>Best Country Song</td>\n",
       "      <td>2009</td>\n",
       "      <td>Country</td>\n",
       "    </tr>\n",
       "    <tr>\n",
       "      <th>130</th>\n",
       "      <td>who let the dogs out</td>\n",
       "      <td>baha men</td>\n",
       "      <td>0.055367</td>\n",
       "      <td>0.813667</td>\n",
       "      <td>196.057667</td>\n",
       "      <td>0.864667</td>\n",
       "      <td>False</td>\n",
       "      <td>0.000239</td>\n",
       "      <td>0.317</td>\n",
       "      <td>-4.588333</td>\n",
       "      <td>...</td>\n",
       "      <td>129.136333</td>\n",
       "      <td>0.800333</td>\n",
       "      <td>Rap</td>\n",
       "      <td>121</td>\n",
       "      <td>July 26, 2000</td>\n",
       "      <td>394</td>\n",
       "      <td>393</td>\n",
       "      <td>Best Dance Recording</td>\n",
       "      <td>2000</td>\n",
       "      <td>Pop</td>\n",
       "    </tr>\n",
       "    <tr>\n",
       "      <th>131</th>\n",
       "      <td>with arms wide open</td>\n",
       "      <td>creed</td>\n",
       "      <td>0.004250</td>\n",
       "      <td>0.410000</td>\n",
       "      <td>274.800000</td>\n",
       "      <td>0.539000</td>\n",
       "      <td>False</td>\n",
       "      <td>0.000890</td>\n",
       "      <td>0.117</td>\n",
       "      <td>-8.412000</td>\n",
       "      <td>...</td>\n",
       "      <td>138.852000</td>\n",
       "      <td>0.141000</td>\n",
       "      <td>Rock</td>\n",
       "      <td>65</td>\n",
       "      <td>None</td>\n",
       "      <td>400</td>\n",
       "      <td>399</td>\n",
       "      <td>Best Rock Song</td>\n",
       "      <td>2000</td>\n",
       "      <td>Rock</td>\n",
       "    </tr>\n",
       "    <tr>\n",
       "      <th>132</th>\n",
       "      <td>you don't know my name</td>\n",
       "      <td>alicia keys</td>\n",
       "      <td>0.589000</td>\n",
       "      <td>0.263000</td>\n",
       "      <td>366.733000</td>\n",
       "      <td>0.663000</td>\n",
       "      <td>False</td>\n",
       "      <td>0.004510</td>\n",
       "      <td>0.342</td>\n",
       "      <td>-8.264000</td>\n",
       "      <td>...</td>\n",
       "      <td>167.271000</td>\n",
       "      <td>0.250000</td>\n",
       "      <td>R&amp;;B,Rap</td>\n",
       "      <td>62</td>\n",
       "      <td>November 18, 2003</td>\n",
       "      <td>312</td>\n",
       "      <td>311</td>\n",
       "      <td>Best R&amp;B Song</td>\n",
       "      <td>2004</td>\n",
       "      <td>R&amp;B</td>\n",
       "    </tr>\n",
       "    <tr>\n",
       "      <th>133</th>\n",
       "      <td>your body is a wonderland</td>\n",
       "      <td>john mayer</td>\n",
       "      <td>0.020600</td>\n",
       "      <td>0.647000</td>\n",
       "      <td>249.627000</td>\n",
       "      <td>0.729000</td>\n",
       "      <td>False</td>\n",
       "      <td>0.048900</td>\n",
       "      <td>0.134</td>\n",
       "      <td>-6.251000</td>\n",
       "      <td>...</td>\n",
       "      <td>94.010000</td>\n",
       "      <td>0.687000</td>\n",
       "      <td>Pop,Rock</td>\n",
       "      <td>79</td>\n",
       "      <td>October 14, 2002</td>\n",
       "      <td>347</td>\n",
       "      <td>346</td>\n",
       "      <td>Best Male Pop Vocal Performance</td>\n",
       "      <td>2002</td>\n",
       "      <td>Pop</td>\n",
       "    </tr>\n",
       "  </tbody>\n",
       "</table>\n",
       "<p>134 rows × 22 columns</p>\n",
       "</div>"
      ],
      "text/plain": [
       "                          Name              Artist  Acousticness  \\\n",
       "0                    24k magic          bruno mars      0.034000   \n",
       "1                      a milli           lil wayne      0.038700   \n",
       "2                        adorn              miguel      0.054300   \n",
       "3                 ain't it fun            paramore      0.154000   \n",
       "4           ain't no other man  christina aguilera      0.003585   \n",
       "..                         ...                 ...           ...   \n",
       "129                white horse        taylor swift      0.316000   \n",
       "130       who let the dogs out            baha men      0.055367   \n",
       "131        with arms wide open               creed      0.004250   \n",
       "132     you don't know my name         alicia keys      0.589000   \n",
       "133  your body is a wonderland          john mayer      0.020600   \n",
       "\n",
       "     Danceability    Duration    Energy  Explicit  Instrumentalness  Liveness  \\\n",
       "0        0.818000  225.983000  0.803000     False          0.000000     0.153   \n",
       "1        0.673000  221.840000  0.695000      True          0.002060     0.194   \n",
       "2        0.625000  193.147000  0.576000     False          0.000041     0.187   \n",
       "3        0.610000  296.520000  0.893000     False          0.000044     0.021   \n",
       "4        0.859000  228.767000  0.731500     False          0.007080     0.118   \n",
       "..            ...         ...       ...       ...               ...       ...   \n",
       "129      0.578000  235.153500  0.348500     False          0.000000     0.100   \n",
       "130      0.813667  196.057667  0.864667     False          0.000239     0.317   \n",
       "131      0.410000  274.800000  0.539000     False          0.000890     0.117   \n",
       "132      0.263000  366.733000  0.663000     False          0.004510     0.342   \n",
       "133      0.647000  249.627000  0.729000     False          0.048900     0.134   \n",
       "\n",
       "     Loudness  ...       Tempo   Valence  \\\n",
       "0   -4.282000  ...  106.970000  0.632000   \n",
       "1   -8.636000  ...  151.468000  0.774000   \n",
       "2   -5.693000  ...  179.063000  0.235000   \n",
       "3   -3.681000  ...  104.031000  0.673000   \n",
       "4   -5.153500  ...  127.931500  0.506000   \n",
       "..        ...  ...         ...       ...   \n",
       "129 -8.045500  ...   92.513500  0.232500   \n",
       "130 -4.588333  ...  129.136333  0.800333   \n",
       "131 -8.412000  ...  138.852000  0.141000   \n",
       "132 -8.264000  ...  167.271000  0.250000   \n",
       "133 -6.251000  ...   94.010000  0.687000   \n",
       "\n",
       "                                               Genre_x  Popularity  \\\n",
       "0                                    Funk-Pop,Funk,Pop          79   \n",
       "1                                            Crunk,Rap         114   \n",
       "2    Pop,Neo Soul,Singer-Songwriter,Trip-Hop,Soul,S...          34   \n",
       "3    Adult Alternative,Adult Contemporary,Alternati...         122   \n",
       "4                                        R&;B,Funk,Pop         106   \n",
       "..                                                 ...         ...   \n",
       "129                     Pop Country,Ballad,Country,Pop          53   \n",
       "130                                                Rap         121   \n",
       "131                                               Rock          65   \n",
       "132                                           R&;B,Rap          62   \n",
       "133                                           Pop,Rock          79   \n",
       "\n",
       "                  Date  Unnamed: 0    X                        GrammyAward  \\\n",
       "0      October 7, 2016          24   23                 Record Of The Year   \n",
       "1       April 23, 2008         226  225          Best Rap Solo Performance   \n",
       "2    February 28, 2012         142  141                      Best R&B Song   \n",
       "3        April 9, 2013          99   98                     Best Rock Song   \n",
       "4         June 6, 2006         255  254  Best Female Pop Vocal Performance   \n",
       "..                 ...         ...  ...                                ...   \n",
       "129   December 7, 2008         209  208                  Best Country Song   \n",
       "130      July 26, 2000         394  393               Best Dance Recording   \n",
       "131               None         400  399                     Best Rock Song   \n",
       "132  November 18, 2003         312  311                      Best R&B Song   \n",
       "133   October 14, 2002         347  346    Best Male Pop Vocal Performance   \n",
       "\n",
       "     GrammyYear  Genre_y  \n",
       "0          2017  General  \n",
       "1          2008      Rap  \n",
       "2          2012      R&B  \n",
       "3          2014     Rock  \n",
       "4          2006      Pop  \n",
       "..          ...      ...  \n",
       "129        2009  Country  \n",
       "130        2000      Pop  \n",
       "131        2000     Rock  \n",
       "132        2004      R&B  \n",
       "133        2002      Pop  \n",
       "\n",
       "[134 rows x 22 columns]"
      ]
     },
     "execution_count": 42,
     "metadata": {},
     "output_type": "execute_result"
    }
   ],
   "source": [
    "bb_gr"
   ]
  },
  {
   "cell_type": "code",
   "execution_count": 43,
   "metadata": {},
   "outputs": [],
   "source": [
    "artists_songs_grammy = list(bb_gr[['Name','Artist']].value_counts().keys())\n",
    "for artist_song in artists_songs_grammy:\n",
    "    artist_name = artist_song[1]\n",
    "    song_name = artist_song[0]\n",
    "    while (bb_gr['Genre_y'][(bb_gr['Artist'] == artist_name) & (bb_gr['Name'] == song_name)].isin(['General', 'Dance/Electronic Music'])).any():\n",
    "        replace_genre = bb_gr.loc[(bb_gr['Artist'] == artist_name) & (bb_gr['Name'] == song_name), 'Genre_y'].mode().iloc[0]\n",
    "        if replace_genre !='General' and replace_genre !='Dance/Electronic Music':    \n",
    "            bb_gr.loc[(bb_gr['Artist'] == artist_name) & (bb_gr['Name'] == song_name) & \n",
    "                     (bb_gr['Genre_y'].isin(['General', 'Dance/Electronic Music'])), 'Genre_y'] = replace_genre\n",
    "        elif replace_genre =='General' or replace_genre =='Dance/Electronic Music':\n",
    "            alternate_genre = bb_gr['Genre_x'][(bb_gr['Artist'] == artist_name) & (bb_gr['Name'] == song_name)].mode().iloc[0]\n",
    "            if ',' in alternate_genre:\n",
    "                if 'Pop' in alternate_genre:\n",
    "                    bb_gr.loc[(bb_gr['Artist'] == artist_name) & (bb_gr['Name'] == song_name) & \n",
    "                     (bb_gr['Genre_y'].isin(['General', 'Dance/Electronic Music'])), 'Genre_y'] = 'Pop'\n",
    "                elif 'Rock' in alternate_genre:\n",
    "                    bb_gr.loc[(bb_gr['Artist'] == artist_name) & (bb_gr['Name'] == song_name) & \n",
    "                     (bb_gr['Genre_y'].isin(['General', 'Dance/Electronic Music'])), 'Genre_y'] = 'Rock'\n",
    "            else:\n",
    "                bb_gr.loc[(bb_gr['Artist'] == artist_name) & (bb_gr['Name'] == song_name) & \n",
    "                     (bb_gr['Genre_y'].isin(['General', 'Dance/Electronic Music'])), 'Genre_y'] = alternate_genre          "
   ]
  },
  {
   "cell_type": "code",
   "execution_count": 46,
   "metadata": {},
   "outputs": [],
   "source": [
    "pop_songs = bb_gr[['Name','Artist']].value_counts().reset_index()\n",
    "pop_songs.rename(columns={'count':'count_grammy'},inplace=True)\n",
    "df_merged = pd.merge(bb_gr, pop_songs[['Name', 'Artist', 'count_grammy']], on=['Name', 'Artist'], how='left', suffixes=('', '_new'))"
   ]
  },
  {
   "cell_type": "code",
   "execution_count": 47,
   "id": "d3c57cc7",
   "metadata": {},
   "outputs": [
    {
     "data": {
      "text/html": [
       "<div>\n",
       "<style scoped>\n",
       "    .dataframe tbody tr th:only-of-type {\n",
       "        vertical-align: middle;\n",
       "    }\n",
       "\n",
       "    .dataframe tbody tr th {\n",
       "        vertical-align: top;\n",
       "    }\n",
       "\n",
       "    .dataframe thead th {\n",
       "        text-align: right;\n",
       "    }\n",
       "</style>\n",
       "<table border=\"1\" class=\"dataframe\">\n",
       "  <thead>\n",
       "    <tr style=\"text-align: right;\">\n",
       "      <th></th>\n",
       "      <th>Name</th>\n",
       "      <th>Artist</th>\n",
       "      <th>count_grammy</th>\n",
       "    </tr>\n",
       "  </thead>\n",
       "  <tbody>\n",
       "    <tr>\n",
       "      <th>0</th>\n",
       "      <td>that's what i like</td>\n",
       "      <td>bruno mars</td>\n",
       "      <td>3</td>\n",
       "    </tr>\n",
       "    <tr>\n",
       "      <th>1</th>\n",
       "      <td>rehab</td>\n",
       "      <td>amy winehouse</td>\n",
       "      <td>3</td>\n",
       "    </tr>\n",
       "    <tr>\n",
       "      <th>2</th>\n",
       "      <td>hello</td>\n",
       "      <td>adele</td>\n",
       "      <td>3</td>\n",
       "    </tr>\n",
       "    <tr>\n",
       "      <th>3</th>\n",
       "      <td>need you now</td>\n",
       "      <td>lady antebellum</td>\n",
       "      <td>3</td>\n",
       "    </tr>\n",
       "    <tr>\n",
       "      <th>4</th>\n",
       "      <td>don't know why</td>\n",
       "      <td>norah jones</td>\n",
       "      <td>3</td>\n",
       "    </tr>\n",
       "  </tbody>\n",
       "</table>\n",
       "</div>"
      ],
      "text/plain": [
       "                 Name           Artist  count_grammy\n",
       "0  that's what i like       bruno mars             3\n",
       "1               rehab    amy winehouse             3\n",
       "2               hello            adele             3\n",
       "3        need you now  lady antebellum             3\n",
       "4      don't know why      norah jones             3"
      ]
     },
     "execution_count": 47,
     "metadata": {},
     "output_type": "execute_result"
    }
   ],
   "source": [
    "pop_songs.head()"
   ]
  },
  {
   "cell_type": "code",
   "execution_count": 48,
   "metadata": {},
   "outputs": [
    {
     "data": {
      "application/vnd.plotly.v1+json": {
       "config": {
        "plotlyServerURL": "https://plot.ly"
       },
       "data": [
        {
         "alignmentgroup": "True",
         "customdata": [
          [
           "Pop",
           "October 7, 2016",
           2017,
           "24k magic",
           1
          ],
          [
           "Pop",
           "June 6, 2006",
           2006,
           "ain't no other man",
           1
          ],
          [
           "Pop",
           "October 26, 2009",
           2010,
           "bad romance",
           1
          ],
          [
           "Pop",
           "November 16, 2002",
           2003,
           "beautiful",
           1
          ],
          [
           "Pop",
           null,
           1999,
           "believe",
           1
          ],
          [
           "Pop",
           "January 14, 2008",
           2008,
           "chasing pavements",
           1
          ],
          [
           "Pop",
           "November 11, 2002",
           2003,
           "come into my world",
           1
          ],
          [
           "Pop",
           "November 5, 2002",
           2003,
           "cry me a river",
           1
          ],
          [
           "Pop",
           "September 28, 2004",
           2004,
           "daughters",
           2
          ],
          [
           "Pop",
           "September 28, 2004",
           2004,
           "daughters",
           2
          ],
          [
           "Pop",
           "April 23, 2002",
           2002,
           "days go by",
           1
          ],
          [
           "Pop",
           "July 1, 2002",
           2002,
           "don't know why",
           3
          ],
          [
           "Pop",
           "July 1, 2002",
           2002,
           "don't know why",
           3
          ],
          [
           "Pop",
           "July 1, 2002",
           2002,
           "don't know why",
           3
          ],
          [
           "Pop",
           "May 4, 2004",
           2004,
           "heaven",
           1
          ],
          [
           "Pop",
           "October 23, 2015",
           2016,
           "hello",
           3
          ],
          [
           "Pop",
           "October 23, 2015",
           2016,
           "hello",
           3
          ],
          [
           "Pop",
           "October 23, 2015",
           2016,
           "hello",
           3
          ],
          [
           "Pop",
           "October 29, 2001",
           2002,
           "hey baby",
           1
          ],
          [
           "Pop",
           "November 30, 2010",
           2009,
           "i gotta feeling",
           1
          ],
          [
           "Pop",
           null,
           2000,
           "i try",
           1
          ],
          [
           "Pop",
           null,
           1999,
           "i will remember you",
           1
          ],
          [
           "Pop",
           "October 24, 2000",
           2001,
           "i'm like a bird",
           1
          ],
          [
           "Pop",
           "July 20, 2010",
           2010,
           "just the way you are",
           1
          ],
          [
           "Pop",
           "March 27, 2007",
           2007,
           "makes me wonder",
           1
          ],
          [
           "Pop",
           "September 20, 2005",
           2006,
           "my humps",
           1
          ],
          [
           "Pop",
           "September 26, 2008",
           2009,
           "poker face",
           1
          ],
          [
           "Pop",
           "October 23, 2006",
           2007,
           "rehab",
           3
          ],
          [
           "Pop",
           "October 23, 2006",
           2007,
           "rehab",
           3
          ],
          [
           "Pop",
           "October 23, 2006",
           2007,
           "rehab",
           3
          ],
          [
           "Pop",
           "November 29, 2010",
           2011,
           "rolling in the deep",
           2
          ],
          [
           "Pop",
           "November 29, 2010",
           2011,
           "rolling in the deep",
           2
          ],
          [
           "Pop",
           "January 6, 2017",
           2017,
           "shape of you",
           1
          ],
          [
           "Pop",
           "November 16, 2004",
           2005,
           "since u been gone",
           1
          ],
          [
           "Pop",
           "January 24, 2011",
           2011,
           "someone like you",
           1
          ],
          [
           "Pop",
           "April 28, 2015",
           2016,
           "stressed out",
           1
          ],
          [
           "Pop",
           "January 29, 2001",
           2001,
           "stuck in a moment you can't get out of",
           1
          ],
          [
           "Pop",
           "June 23, 2014",
           2015,
           "thinking out loud",
           1
          ],
          [
           "Pop",
           "June 25, 2002",
           2005,
           "this love",
           1
          ],
          [
           "Pop",
           "January 13, 2004",
           2004,
           "toxic",
           1
          ],
          [
           "Pop",
           "August 15, 2002",
           2003,
           "underneath it all",
           1
          ],
          [
           "Pop",
           "September 19, 2008",
           2009,
           "use somebody",
           2
          ],
          [
           "Pop",
           "August 1, 2006",
           2006,
           "waiting on the world to change",
           1
          ],
          [
           "Pop",
           "July 26, 2000",
           2000,
           "who let the dogs out",
           1
          ],
          [
           "Pop",
           "October 14, 2002",
           2002,
           "your body is a wonderland",
           1
          ]
         ],
         "hovertemplate": "Genre=%{customdata[0]}<br>Number of Grammy Awards Won=%{x}<br>Artist=%{y}<br>Date=%{customdata[1]}<br>GrammyYear=%{customdata[2]}<br>Name=%{customdata[3]}<br>Number of Awards won for the song=%{customdata[4]}<extra></extra>",
         "legendgroup": "Pop",
         "marker": {
          "color": "orange",
          "pattern": {
           "shape": ""
          }
         },
         "name": "Pop",
         "offsetgroup": "Pop",
         "orientation": "h",
         "showlegend": true,
         "textposition": "auto",
         "type": "bar",
         "x": [
          1,
          1,
          1,
          1,
          1,
          1,
          1,
          1,
          1,
          1,
          1,
          1,
          1,
          1,
          1,
          1,
          1,
          1,
          1,
          1,
          1,
          1,
          1,
          1,
          1,
          1,
          1,
          1,
          1,
          1,
          1,
          1,
          1,
          1,
          1,
          1,
          1,
          1,
          1,
          1,
          1,
          1,
          1,
          1,
          1
         ],
         "xaxis": "x",
         "y": [
          "bruno mars",
          "christina aguilera",
          "lady gaga",
          "christina aguilera",
          "cher",
          "adele",
          "kylie minogue",
          "justin timberlake",
          "john mayer",
          "john mayer",
          "dirty vegas",
          "norah jones",
          "norah jones",
          "norah jones",
          "los lonely boys",
          "adele",
          "adele",
          "adele",
          "no doubt",
          "the black eyed peas",
          "macy gray",
          "sarah mclachlan",
          "nelly furtado",
          "bruno mars",
          "maroon 5",
          "the black eyed peas",
          "lady gaga",
          "amy winehouse",
          "amy winehouse",
          "amy winehouse",
          "adele",
          "adele",
          "ed sheeran",
          "kelly clarkson",
          "adele",
          "twenty one pilots",
          "u2",
          "ed sheeran",
          "maroon 5",
          "britney spears",
          "no doubt",
          "kings of leon",
          "john mayer",
          "baha men",
          "john mayer"
         ],
         "yaxis": "y"
        },
        {
         "alignmentgroup": "True",
         "customdata": [
          [
           "Rap",
           "April 23, 2008",
           2008,
           "a milli",
           1
          ],
          [
           "Rap",
           "March 15, 2015",
           2015,
           "alright",
           1
          ],
          [
           "Rap",
           "April 12, 2005",
           2005,
           "don't phunk with my heart",
           1
          ],
          [
           "Rap",
           "January 19, 2018",
           2018,
           "god's plan",
           1
          ],
          [
           "Rap",
           "April 16, 2002",
           2002,
           "hot in herre",
           1
          ],
          [
           "Rap",
           "July 25, 2015",
           2016,
           "hotline bling",
           2
          ],
          [
           "Rap",
           "July 25, 2015",
           2016,
           "hotline bling",
           2
          ],
          [
           "Rap",
           "March 30, 2017",
           2017,
           "humble.",
           2
          ],
          [
           "Rap",
           "March 30, 2017",
           2017,
           "humble.",
           2
          ],
          [
           "Rap",
           "October 3, 2000",
           2001,
           "ms. jackson",
           1
          ],
          [
           "Rap",
           "April 29, 2010",
           2010,
           "not afraid",
           1
          ],
          [
           "Rap",
           "May 16, 2000",
           2000,
           "the real slim shady",
           1
          ]
         ],
         "hovertemplate": "Genre=%{customdata[0]}<br>Number of Grammy Awards Won=%{x}<br>Artist=%{y}<br>Date=%{customdata[1]}<br>GrammyYear=%{customdata[2]}<br>Name=%{customdata[3]}<br>Number of Awards won for the song=%{customdata[4]}<extra></extra>",
         "legendgroup": "Rap",
         "marker": {
          "color": "darkblue",
          "pattern": {
           "shape": ""
          }
         },
         "name": "Rap",
         "offsetgroup": "Rap",
         "orientation": "h",
         "showlegend": true,
         "textposition": "auto",
         "type": "bar",
         "x": [
          1,
          1,
          1,
          1,
          1,
          1,
          1,
          1,
          1,
          1,
          1,
          1
         ],
         "xaxis": "x",
         "y": [
          "lil wayne",
          "kendrick lamar",
          "the black eyed peas",
          "drake",
          "nelly",
          "drake",
          "drake",
          "kendrick lamar",
          "kendrick lamar",
          "outkast",
          "eminem",
          "eminem"
         ],
         "yaxis": "y"
        },
        {
         "alignmentgroup": "True",
         "customdata": [
          [
           "R&B",
           "February 28, 2012",
           2012,
           "adorn",
           1
          ],
          [
           "R&B",
           "August 24, 2010",
           2010,
           "bittersweet",
           1
          ],
          [
           "R&B",
           "September 30, 2016",
           2016,
           "cranes in the sky",
           1
          ],
          [
           "R&B",
           "March 7, 2000",
           2000,
           "he wasn't man enough",
           1
          ],
          [
           "R&B",
           "September 9, 2003",
           2003,
           "hey ya!",
           1
          ],
          [
           "R&B",
           "February 17, 2004",
           2004,
           "if i ain't got you",
           1
          ],
          [
           "R&B",
           "December 28, 2004",
           2005,
           "ordinary people",
           1
          ],
          [
           "R&B",
           "November 17, 2016",
           2017,
           "redbone",
           1
          ],
          [
           "R&B",
           "December 8, 2009",
           2010,
           "soldier of love",
           1
          ],
          [
           "R&B",
           "January 30, 2016",
           2017,
           "that's what i like",
           3
          ],
          [
           "R&B",
           "January 30, 2016",
           2017,
           "that's what i like",
           3
          ],
          [
           "R&B",
           "January 30, 2016",
           2017,
           "that's what i like",
           3
          ],
          [
           "R&B",
           "March 26, 2010",
           2010,
           "there goes my baby",
           1
          ],
          [
           "R&B",
           "August 7, 2001",
           2002,
           "u don't have to call",
           1
          ],
          [
           "R&B",
           "May 19, 2001",
           2001,
           "u remind me",
           1
          ],
          [
           "R&B",
           "March 29, 2005",
           2005,
           "we belong together",
           2
          ],
          [
           "R&B",
           "March 29, 2005",
           2005,
           "we belong together",
           2
          ],
          [
           "R&B",
           "November 18, 2003",
           2004,
           "you don't know my name",
           1
          ]
         ],
         "hovertemplate": "Genre=%{customdata[0]}<br>Number of Grammy Awards Won=%{x}<br>Artist=%{y}<br>Date=%{customdata[1]}<br>GrammyYear=%{customdata[2]}<br>Name=%{customdata[3]}<br>Number of Awards won for the song=%{customdata[4]}<extra></extra>",
         "legendgroup": "R&B",
         "marker": {
          "color": "darkolivegreen",
          "pattern": {
           "shape": ""
          }
         },
         "name": "R&B",
         "offsetgroup": "R&B",
         "orientation": "h",
         "showlegend": true,
         "textposition": "auto",
         "type": "bar",
         "x": [
          1,
          1,
          1,
          1,
          1,
          1,
          1,
          1,
          1,
          1,
          1,
          1,
          1,
          1,
          1,
          1,
          1,
          1
         ],
         "xaxis": "x",
         "y": [
          "miguel",
          "fantasia",
          "solange",
          "toni braxton",
          "outkast",
          "alicia keys",
          "john legend",
          "childish gambino",
          "sade",
          "bruno mars",
          "bruno mars",
          "bruno mars",
          "usher",
          "usher",
          "usher",
          "mariah carey",
          "mariah carey",
          "alicia keys"
         ],
         "yaxis": "y"
        },
        {
         "alignmentgroup": "True",
         "customdata": [
          [
           "Rock",
           "April 9, 2013",
           2014,
           "ain't it fun",
           1
          ],
          [
           "Rock",
           null,
           1999,
           "american woman",
           1
          ],
          [
           "Rock",
           "March 29, 2005",
           2005,
           "b.y.o.b.",
           1
          ],
          [
           "Rock",
           "October 9, 2000",
           2000,
           "beautiful day",
           2
          ],
          [
           "Rock",
           "October 9, 2000",
           2000,
           "beautiful day",
           2
          ],
          [
           "Rock",
           "November 8, 2015",
           2016,
           "blackstar",
           2
          ],
          [
           "Rock",
           "November 8, 2015",
           2016,
           "blackstar",
           2
          ],
          [
           "Rock",
           "March 1, 2001",
           2001,
           "crawling",
           1
          ],
          [
           "Rock",
           "April 3, 2006",
           2006,
           "dani california",
           2
          ],
          [
           "Rock",
           "April 3, 2006",
           2006,
           "dani california",
           2
          ],
          [
           "Rock",
           "August 13, 2001",
           2001,
           "dig in",
           1
          ],
          [
           "Rock",
           "February 20, 2001",
           2001,
           "drops of jupiter",
           1
          ],
          [
           "Rock",
           null,
           2000,
           "guerrilla radio",
           1
          ],
          [
           "Rock",
           "June 11, 2002",
           2002,
           "here to stay",
           1
          ],
          [
           "Rock",
           "October 26, 2011",
           2012,
           "lonely boy",
           2
          ],
          [
           "Rock",
           "October 26, 2011",
           2012,
           "lonely boy",
           2
          ],
          [
           "Rock",
           "August 26, 2008",
           2008,
           "my apocalypse",
           1
          ],
          [
           "Rock",
           "March 24, 2006",
           2006,
           "not ready to make nice",
           2
          ],
          [
           "Rock",
           "March 24, 2006",
           2006,
           "not ready to make nice",
           2
          ],
          [
           "Rock",
           null,
           1999,
           "scar tissue",
           1
          ],
          [
           "Rock",
           "May 15, 2001",
           2001,
           "schism",
           1
          ],
          [
           "Rock",
           "March 7, 2003",
           2003,
           "seven nation army",
           1
          ],
          [
           "Rock",
           "November 22, 2004",
           2005,
           "sometimes you can't make it on your own",
           1
          ],
          [
           "Rock",
           "April 8, 2002",
           2002,
           "steve mcqueen",
           1
          ],
          [
           "Rock",
           "August 21, 2007",
           2007,
           "the pretender",
           1
          ],
          [
           "Rock",
           "September 19, 2008",
           2009,
           "use somebody",
           2
          ],
          [
           "Rock",
           "November 8, 2004",
           2004,
           "vertigo",
           1
          ],
          [
           "Rock",
           "June 17, 2011",
           2011,
           "walk",
           2
          ],
          [
           "Rock",
           "June 17, 2011",
           2011,
           "walk",
           2
          ],
          [
           "Rock",
           null,
           2000,
           "with arms wide open",
           1
          ]
         ],
         "hovertemplate": "Genre=%{customdata[0]}<br>Number of Grammy Awards Won=%{x}<br>Artist=%{y}<br>Date=%{customdata[1]}<br>GrammyYear=%{customdata[2]}<br>Name=%{customdata[3]}<br>Number of Awards won for the song=%{customdata[4]}<extra></extra>",
         "legendgroup": "Rock",
         "marker": {
          "color": "turquoise",
          "pattern": {
           "shape": ""
          }
         },
         "name": "Rock",
         "offsetgroup": "Rock",
         "orientation": "h",
         "showlegend": true,
         "textposition": "auto",
         "type": "bar",
         "x": [
          1,
          1,
          1,
          1,
          1,
          1,
          1,
          1,
          1,
          1,
          1,
          1,
          1,
          1,
          1,
          1,
          1,
          1,
          1,
          1,
          1,
          1,
          1,
          1,
          1,
          1,
          1,
          1,
          1,
          1
         ],
         "xaxis": "x",
         "y": [
          "paramore",
          "lenny kravitz",
          "system of a down",
          "u2",
          "u2",
          "david bowie",
          "david bowie",
          "linkin park",
          "red hot chili peppers",
          "red hot chili peppers",
          "lenny kravitz",
          "train",
          "rage against the machine",
          "korn",
          "the black keys",
          "the black keys",
          "metallica",
          "dixie chicks",
          "dixie chicks",
          "red hot chili peppers",
          "tool",
          "the white stripes",
          "u2",
          "sheryl crow",
          "foo fighters",
          "kings of leon",
          "u2",
          "foo fighters",
          "foo fighters",
          "creed"
         ],
         "yaxis": "y"
        },
        {
         "alignmentgroup": "True",
         "customdata": [
          [
           "Country",
           "November 15, 2005",
           2007,
           "before he cheats",
           2
          ],
          [
           "Country",
           "November 15, 2005",
           2007,
           "before he cheats",
           2
          ],
          [
           "Country",
           "October 20, 2016",
           2017,
           "better man",
           1
          ],
          [
           "Country",
           "September 28, 2004",
           2005,
           "bless the broken road",
           1
          ],
          [
           "Country",
           "May 1, 2012",
           2012,
           "blown away",
           2
          ],
          [
           "Country",
           "May 1, 2012",
           2012,
           "blown away",
           2
          ],
          [
           "Country",
           "December 1, 2014",
           2015,
           "girl crush",
           1
          ],
          [
           "Country",
           "September 6, 2015",
           2016,
           "humble and kind",
           1
          ],
          [
           "Country",
           "May 3, 2000",
           2000,
           "i hope you dance",
           1
          ],
          [
           "Country",
           "October 3, 2005",
           2006,
           "jesus, take the wheel",
           2
          ],
          [
           "Country",
           "October 3, 2005",
           2006,
           "jesus, take the wheel",
           2
          ],
          [
           "Country",
           "October 23, 2007",
           2008,
           "last name",
           1
          ],
          [
           "Country",
           "June 19, 2007",
           2008,
           "letter to me",
           1
          ],
          [
           "Country",
           "June 7, 2004",
           2004,
           "live like you were dying",
           2
          ],
          [
           "Country",
           "June 7, 2004",
           2004,
           "live like you were dying",
           2
          ],
          [
           "Country",
           "October 25, 2010",
           2011,
           "mean",
           2
          ],
          [
           "Country",
           "October 25, 2010",
           2011,
           "mean",
           2
          ],
          [
           "Country",
           "August 11, 2009",
           2010,
           "need you now",
           3
          ],
          [
           "Country",
           "August 11, 2009",
           2010,
           "need you now",
           3
          ],
          [
           "Country",
           "August 11, 2009",
           2010,
           "need you now",
           3
          ],
          [
           "Country",
           "April 30, 2012",
           2012,
           "pontoon",
           1
          ],
          [
           "Country",
           "March 23, 2004",
           2004,
           "redneck woman",
           1
          ],
          [
           "Country",
           "November 7, 2006",
           2008,
           "stay",
           1
          ],
          [
           "Country",
           "December 5, 2006",
           2007,
           "stupid boy",
           1
          ],
          [
           "Country",
           null,
           2009,
           "sweet thing",
           1
          ],
          [
           "Country",
           "March 8, 2010",
           2010,
           "the house that built me",
           1
          ],
          [
           "Country",
           "January 7, 2013",
           2013,
           "wagon wheel",
           1
          ],
          [
           "Country",
           "December 7, 2008",
           2009,
           "white horse",
           2
          ],
          [
           "Country",
           "December 7, 2008",
           2009,
           "white horse",
           2
          ]
         ],
         "hovertemplate": "Genre=%{customdata[0]}<br>Number of Grammy Awards Won=%{x}<br>Artist=%{y}<br>Date=%{customdata[1]}<br>GrammyYear=%{customdata[2]}<br>Name=%{customdata[3]}<br>Number of Awards won for the song=%{customdata[4]}<extra></extra>",
         "legendgroup": "Country",
         "marker": {
          "color": "magenta",
          "pattern": {
           "shape": ""
          }
         },
         "name": "Country",
         "offsetgroup": "Country",
         "orientation": "h",
         "showlegend": true,
         "textposition": "auto",
         "type": "bar",
         "x": [
          1,
          1,
          1,
          1,
          1,
          1,
          1,
          1,
          1,
          1,
          1,
          1,
          1,
          1,
          1,
          1,
          1,
          1,
          1,
          1,
          1,
          1,
          1,
          1,
          1,
          1,
          1,
          1,
          1
         ],
         "xaxis": "x",
         "y": [
          "carrie underwood",
          "carrie underwood",
          "little big town",
          "rascal flatts",
          "carrie underwood",
          "carrie underwood",
          "little big town",
          "tim mcgraw",
          "lee ann womack",
          "carrie underwood",
          "carrie underwood",
          "carrie underwood",
          "brad paisley",
          "tim mcgraw",
          "tim mcgraw",
          "taylor swift",
          "taylor swift",
          "lady antebellum",
          "lady antebellum",
          "lady antebellum",
          "little big town",
          "gretchen wilson",
          "sugarland",
          "keith urban",
          "keith urban",
          "miranda lambert",
          "darius rucker",
          "taylor swift",
          "taylor swift"
         ],
         "yaxis": "y"
        }
       ],
       "layout": {
        "barmode": "relative",
        "height": 700,
        "legend": {
         "title": {
          "text": "Genre"
         },
         "tracegroupgap": 0
        },
        "margin": {
         "t": 60
        },
        "template": {
         "data": {
          "bar": [
           {
            "error_x": {
             "color": "#2a3f5f"
            },
            "error_y": {
             "color": "#2a3f5f"
            },
            "marker": {
             "line": {
              "color": "#E5ECF6",
              "width": 0.5
             },
             "pattern": {
              "fillmode": "overlay",
              "size": 10,
              "solidity": 0.2
             }
            },
            "type": "bar"
           }
          ],
          "barpolar": [
           {
            "marker": {
             "line": {
              "color": "#E5ECF6",
              "width": 0.5
             },
             "pattern": {
              "fillmode": "overlay",
              "size": 10,
              "solidity": 0.2
             }
            },
            "type": "barpolar"
           }
          ],
          "carpet": [
           {
            "aaxis": {
             "endlinecolor": "#2a3f5f",
             "gridcolor": "white",
             "linecolor": "white",
             "minorgridcolor": "white",
             "startlinecolor": "#2a3f5f"
            },
            "baxis": {
             "endlinecolor": "#2a3f5f",
             "gridcolor": "white",
             "linecolor": "white",
             "minorgridcolor": "white",
             "startlinecolor": "#2a3f5f"
            },
            "type": "carpet"
           }
          ],
          "choropleth": [
           {
            "colorbar": {
             "outlinewidth": 0,
             "ticks": ""
            },
            "type": "choropleth"
           }
          ],
          "contour": [
           {
            "colorbar": {
             "outlinewidth": 0,
             "ticks": ""
            },
            "colorscale": [
             [
              0,
              "#0d0887"
             ],
             [
              0.1111111111111111,
              "#46039f"
             ],
             [
              0.2222222222222222,
              "#7201a8"
             ],
             [
              0.3333333333333333,
              "#9c179e"
             ],
             [
              0.4444444444444444,
              "#bd3786"
             ],
             [
              0.5555555555555556,
              "#d8576b"
             ],
             [
              0.6666666666666666,
              "#ed7953"
             ],
             [
              0.7777777777777778,
              "#fb9f3a"
             ],
             [
              0.8888888888888888,
              "#fdca26"
             ],
             [
              1,
              "#f0f921"
             ]
            ],
            "type": "contour"
           }
          ],
          "contourcarpet": [
           {
            "colorbar": {
             "outlinewidth": 0,
             "ticks": ""
            },
            "type": "contourcarpet"
           }
          ],
          "heatmap": [
           {
            "colorbar": {
             "outlinewidth": 0,
             "ticks": ""
            },
            "colorscale": [
             [
              0,
              "#0d0887"
             ],
             [
              0.1111111111111111,
              "#46039f"
             ],
             [
              0.2222222222222222,
              "#7201a8"
             ],
             [
              0.3333333333333333,
              "#9c179e"
             ],
             [
              0.4444444444444444,
              "#bd3786"
             ],
             [
              0.5555555555555556,
              "#d8576b"
             ],
             [
              0.6666666666666666,
              "#ed7953"
             ],
             [
              0.7777777777777778,
              "#fb9f3a"
             ],
             [
              0.8888888888888888,
              "#fdca26"
             ],
             [
              1,
              "#f0f921"
             ]
            ],
            "type": "heatmap"
           }
          ],
          "heatmapgl": [
           {
            "colorbar": {
             "outlinewidth": 0,
             "ticks": ""
            },
            "colorscale": [
             [
              0,
              "#0d0887"
             ],
             [
              0.1111111111111111,
              "#46039f"
             ],
             [
              0.2222222222222222,
              "#7201a8"
             ],
             [
              0.3333333333333333,
              "#9c179e"
             ],
             [
              0.4444444444444444,
              "#bd3786"
             ],
             [
              0.5555555555555556,
              "#d8576b"
             ],
             [
              0.6666666666666666,
              "#ed7953"
             ],
             [
              0.7777777777777778,
              "#fb9f3a"
             ],
             [
              0.8888888888888888,
              "#fdca26"
             ],
             [
              1,
              "#f0f921"
             ]
            ],
            "type": "heatmapgl"
           }
          ],
          "histogram": [
           {
            "marker": {
             "pattern": {
              "fillmode": "overlay",
              "size": 10,
              "solidity": 0.2
             }
            },
            "type": "histogram"
           }
          ],
          "histogram2d": [
           {
            "colorbar": {
             "outlinewidth": 0,
             "ticks": ""
            },
            "colorscale": [
             [
              0,
              "#0d0887"
             ],
             [
              0.1111111111111111,
              "#46039f"
             ],
             [
              0.2222222222222222,
              "#7201a8"
             ],
             [
              0.3333333333333333,
              "#9c179e"
             ],
             [
              0.4444444444444444,
              "#bd3786"
             ],
             [
              0.5555555555555556,
              "#d8576b"
             ],
             [
              0.6666666666666666,
              "#ed7953"
             ],
             [
              0.7777777777777778,
              "#fb9f3a"
             ],
             [
              0.8888888888888888,
              "#fdca26"
             ],
             [
              1,
              "#f0f921"
             ]
            ],
            "type": "histogram2d"
           }
          ],
          "histogram2dcontour": [
           {
            "colorbar": {
             "outlinewidth": 0,
             "ticks": ""
            },
            "colorscale": [
             [
              0,
              "#0d0887"
             ],
             [
              0.1111111111111111,
              "#46039f"
             ],
             [
              0.2222222222222222,
              "#7201a8"
             ],
             [
              0.3333333333333333,
              "#9c179e"
             ],
             [
              0.4444444444444444,
              "#bd3786"
             ],
             [
              0.5555555555555556,
              "#d8576b"
             ],
             [
              0.6666666666666666,
              "#ed7953"
             ],
             [
              0.7777777777777778,
              "#fb9f3a"
             ],
             [
              0.8888888888888888,
              "#fdca26"
             ],
             [
              1,
              "#f0f921"
             ]
            ],
            "type": "histogram2dcontour"
           }
          ],
          "mesh3d": [
           {
            "colorbar": {
             "outlinewidth": 0,
             "ticks": ""
            },
            "type": "mesh3d"
           }
          ],
          "parcoords": [
           {
            "line": {
             "colorbar": {
              "outlinewidth": 0,
              "ticks": ""
             }
            },
            "type": "parcoords"
           }
          ],
          "pie": [
           {
            "automargin": true,
            "type": "pie"
           }
          ],
          "scatter": [
           {
            "fillpattern": {
             "fillmode": "overlay",
             "size": 10,
             "solidity": 0.2
            },
            "type": "scatter"
           }
          ],
          "scatter3d": [
           {
            "line": {
             "colorbar": {
              "outlinewidth": 0,
              "ticks": ""
             }
            },
            "marker": {
             "colorbar": {
              "outlinewidth": 0,
              "ticks": ""
             }
            },
            "type": "scatter3d"
           }
          ],
          "scattercarpet": [
           {
            "marker": {
             "colorbar": {
              "outlinewidth": 0,
              "ticks": ""
             }
            },
            "type": "scattercarpet"
           }
          ],
          "scattergeo": [
           {
            "marker": {
             "colorbar": {
              "outlinewidth": 0,
              "ticks": ""
             }
            },
            "type": "scattergeo"
           }
          ],
          "scattergl": [
           {
            "marker": {
             "colorbar": {
              "outlinewidth": 0,
              "ticks": ""
             }
            },
            "type": "scattergl"
           }
          ],
          "scattermapbox": [
           {
            "marker": {
             "colorbar": {
              "outlinewidth": 0,
              "ticks": ""
             }
            },
            "type": "scattermapbox"
           }
          ],
          "scatterpolar": [
           {
            "marker": {
             "colorbar": {
              "outlinewidth": 0,
              "ticks": ""
             }
            },
            "type": "scatterpolar"
           }
          ],
          "scatterpolargl": [
           {
            "marker": {
             "colorbar": {
              "outlinewidth": 0,
              "ticks": ""
             }
            },
            "type": "scatterpolargl"
           }
          ],
          "scatterternary": [
           {
            "marker": {
             "colorbar": {
              "outlinewidth": 0,
              "ticks": ""
             }
            },
            "type": "scatterternary"
           }
          ],
          "surface": [
           {
            "colorbar": {
             "outlinewidth": 0,
             "ticks": ""
            },
            "colorscale": [
             [
              0,
              "#0d0887"
             ],
             [
              0.1111111111111111,
              "#46039f"
             ],
             [
              0.2222222222222222,
              "#7201a8"
             ],
             [
              0.3333333333333333,
              "#9c179e"
             ],
             [
              0.4444444444444444,
              "#bd3786"
             ],
             [
              0.5555555555555556,
              "#d8576b"
             ],
             [
              0.6666666666666666,
              "#ed7953"
             ],
             [
              0.7777777777777778,
              "#fb9f3a"
             ],
             [
              0.8888888888888888,
              "#fdca26"
             ],
             [
              1,
              "#f0f921"
             ]
            ],
            "type": "surface"
           }
          ],
          "table": [
           {
            "cells": {
             "fill": {
              "color": "#EBF0F8"
             },
             "line": {
              "color": "white"
             }
            },
            "header": {
             "fill": {
              "color": "#C8D4E3"
             },
             "line": {
              "color": "white"
             }
            },
            "type": "table"
           }
          ]
         },
         "layout": {
          "annotationdefaults": {
           "arrowcolor": "#2a3f5f",
           "arrowhead": 0,
           "arrowwidth": 1
          },
          "autotypenumbers": "strict",
          "coloraxis": {
           "colorbar": {
            "outlinewidth": 0,
            "ticks": ""
           }
          },
          "colorscale": {
           "diverging": [
            [
             0,
             "#8e0152"
            ],
            [
             0.1,
             "#c51b7d"
            ],
            [
             0.2,
             "#de77ae"
            ],
            [
             0.3,
             "#f1b6da"
            ],
            [
             0.4,
             "#fde0ef"
            ],
            [
             0.5,
             "#f7f7f7"
            ],
            [
             0.6,
             "#e6f5d0"
            ],
            [
             0.7,
             "#b8e186"
            ],
            [
             0.8,
             "#7fbc41"
            ],
            [
             0.9,
             "#4d9221"
            ],
            [
             1,
             "#276419"
            ]
           ],
           "sequential": [
            [
             0,
             "#0d0887"
            ],
            [
             0.1111111111111111,
             "#46039f"
            ],
            [
             0.2222222222222222,
             "#7201a8"
            ],
            [
             0.3333333333333333,
             "#9c179e"
            ],
            [
             0.4444444444444444,
             "#bd3786"
            ],
            [
             0.5555555555555556,
             "#d8576b"
            ],
            [
             0.6666666666666666,
             "#ed7953"
            ],
            [
             0.7777777777777778,
             "#fb9f3a"
            ],
            [
             0.8888888888888888,
             "#fdca26"
            ],
            [
             1,
             "#f0f921"
            ]
           ],
           "sequentialminus": [
            [
             0,
             "#0d0887"
            ],
            [
             0.1111111111111111,
             "#46039f"
            ],
            [
             0.2222222222222222,
             "#7201a8"
            ],
            [
             0.3333333333333333,
             "#9c179e"
            ],
            [
             0.4444444444444444,
             "#bd3786"
            ],
            [
             0.5555555555555556,
             "#d8576b"
            ],
            [
             0.6666666666666666,
             "#ed7953"
            ],
            [
             0.7777777777777778,
             "#fb9f3a"
            ],
            [
             0.8888888888888888,
             "#fdca26"
            ],
            [
             1,
             "#f0f921"
            ]
           ]
          },
          "colorway": [
           "#636efa",
           "#EF553B",
           "#00cc96",
           "#ab63fa",
           "#FFA15A",
           "#19d3f3",
           "#FF6692",
           "#B6E880",
           "#FF97FF",
           "#FECB52"
          ],
          "font": {
           "color": "#2a3f5f"
          },
          "geo": {
           "bgcolor": "white",
           "lakecolor": "white",
           "landcolor": "#E5ECF6",
           "showlakes": true,
           "showland": true,
           "subunitcolor": "white"
          },
          "hoverlabel": {
           "align": "left"
          },
          "hovermode": "closest",
          "mapbox": {
           "style": "light"
          },
          "paper_bgcolor": "white",
          "plot_bgcolor": "#E5ECF6",
          "polar": {
           "angularaxis": {
            "gridcolor": "white",
            "linecolor": "white",
            "ticks": ""
           },
           "bgcolor": "#E5ECF6",
           "radialaxis": {
            "gridcolor": "white",
            "linecolor": "white",
            "ticks": ""
           }
          },
          "scene": {
           "xaxis": {
            "backgroundcolor": "#E5ECF6",
            "gridcolor": "white",
            "gridwidth": 2,
            "linecolor": "white",
            "showbackground": true,
            "ticks": "",
            "zerolinecolor": "white"
           },
           "yaxis": {
            "backgroundcolor": "#E5ECF6",
            "gridcolor": "white",
            "gridwidth": 2,
            "linecolor": "white",
            "showbackground": true,
            "ticks": "",
            "zerolinecolor": "white"
           },
           "zaxis": {
            "backgroundcolor": "#E5ECF6",
            "gridcolor": "white",
            "gridwidth": 2,
            "linecolor": "white",
            "showbackground": true,
            "ticks": "",
            "zerolinecolor": "white"
           }
          },
          "shapedefaults": {
           "line": {
            "color": "#2a3f5f"
           }
          },
          "ternary": {
           "aaxis": {
            "gridcolor": "white",
            "linecolor": "white",
            "ticks": ""
           },
           "baxis": {
            "gridcolor": "white",
            "linecolor": "white",
            "ticks": ""
           },
           "bgcolor": "#E5ECF6",
           "caxis": {
            "gridcolor": "white",
            "linecolor": "white",
            "ticks": ""
           }
          },
          "title": {
           "x": 0.05
          },
          "xaxis": {
           "automargin": true,
           "gridcolor": "white",
           "linecolor": "white",
           "ticks": "",
           "title": {
            "standoff": 15
           },
           "zerolinecolor": "white",
           "zerolinewidth": 2
          },
          "yaxis": {
           "automargin": true,
           "gridcolor": "white",
           "linecolor": "white",
           "ticks": "",
           "title": {
            "standoff": 15
           },
           "zerolinecolor": "white",
           "zerolinewidth": 2
          }
         }
        },
        "width": 700,
        "xaxis": {
         "anchor": "y",
         "domain": [
          0,
          1
         ],
         "title": {
          "text": "Number of Grammy Awards Won"
         }
        },
        "yaxis": {
         "anchor": "x",
         "domain": [
          0,
          1
         ],
         "title": {
          "text": "Artist"
         }
        }
       }
      }
     },
     "metadata": {},
     "output_type": "display_data"
    }
   ],
   "source": [
    "color_scale = ['orange','darkblue','darkolivegreen','turquoise','magenta']\n",
    "fig_grammy_trend = px.bar(df_merged, \n",
    "             y='Artist', \n",
    "             color='Genre_y', \n",
    "             hover_data={'Genre_y': True, 'Date': True, 'GrammyYear': True, 'Name': True,'count_grammy':True}, \n",
    "             labels={'count': 'Number of Grammy Awards Won','count_grammy': 'Number of Awards won for the song','Genre_y':'Genre'},\n",
    "             color_discrete_sequence=color_scale)\n",
    "fig_grammy_trend.update_layout(width=700,height=700)"
   ]
  },
  {
   "cell_type": "code",
   "execution_count": 54,
   "metadata": {},
   "outputs": [
    {
     "ename": "TypeError",
     "evalue": "datetime64 type does not support sum operations",
     "output_type": "error",
     "traceback": [
      "\u001b[0;31m---------------------------------------------------------------------------\u001b[0m",
      "\u001b[0;31mTypeError\u001b[0m                                 Traceback (most recent call last)",
      "Cell \u001b[0;32mIn[54], line 17\u001b[0m\n\u001b[1;32m     15\u001b[0m genre_week_2[\u001b[39m'\u001b[39m\u001b[39mWeek\u001b[39m\u001b[39m'\u001b[39m] \u001b[39m=\u001b[39m pd\u001b[39m.\u001b[39mto_datetime(genre_week_2[\u001b[39m'\u001b[39m\u001b[39mWeek\u001b[39m\u001b[39m'\u001b[39m])\n\u001b[1;32m     16\u001b[0m genre_week_pivot_2[\u001b[39m'\u001b[39m\u001b[39mYear\u001b[39m\u001b[39m'\u001b[39m] \u001b[39m=\u001b[39m genre_week_pivot_2[\u001b[39m'\u001b[39m\u001b[39mWeek\u001b[39m\u001b[39m'\u001b[39m]\u001b[39m.\u001b[39mdt\u001b[39m.\u001b[39myear\n\u001b[0;32m---> 17\u001b[0m yearly_counts_2 \u001b[39m=\u001b[39m genre_week_pivot_2\u001b[39m.\u001b[39;49mgroupby(\u001b[39m'\u001b[39;49m\u001b[39mYear\u001b[39;49m\u001b[39m'\u001b[39;49m)\u001b[39m.\u001b[39;49msum()\u001b[39m.\u001b[39mreset_index()\n",
      "File \u001b[0;32m/opt/homebrew/lib/python3.11/site-packages/pandas/core/groupby/groupby.py:3053\u001b[0m, in \u001b[0;36mGroupBy.sum\u001b[0;34m(self, numeric_only, min_count, engine, engine_kwargs)\u001b[0m\n\u001b[1;32m   3048\u001b[0m \u001b[39melse\u001b[39;00m:\n\u001b[1;32m   3049\u001b[0m     \u001b[39m# If we are grouping on categoricals we want unobserved categories to\u001b[39;00m\n\u001b[1;32m   3050\u001b[0m     \u001b[39m# return zero, rather than the default of NaN which the reindexing in\u001b[39;00m\n\u001b[1;32m   3051\u001b[0m     \u001b[39m# _agg_general() returns. GH #31422\u001b[39;00m\n\u001b[1;32m   3052\u001b[0m     \u001b[39mwith\u001b[39;00m com\u001b[39m.\u001b[39mtemp_setattr(\u001b[39mself\u001b[39m, \u001b[39m\"\u001b[39m\u001b[39mobserved\u001b[39m\u001b[39m\"\u001b[39m, \u001b[39mTrue\u001b[39;00m):\n\u001b[0;32m-> 3053\u001b[0m         result \u001b[39m=\u001b[39m \u001b[39mself\u001b[39;49m\u001b[39m.\u001b[39;49m_agg_general(\n\u001b[1;32m   3054\u001b[0m             numeric_only\u001b[39m=\u001b[39;49mnumeric_only,\n\u001b[1;32m   3055\u001b[0m             min_count\u001b[39m=\u001b[39;49mmin_count,\n\u001b[1;32m   3056\u001b[0m             alias\u001b[39m=\u001b[39;49m\u001b[39m\"\u001b[39;49m\u001b[39msum\u001b[39;49m\u001b[39m\"\u001b[39;49m,\n\u001b[1;32m   3057\u001b[0m             npfunc\u001b[39m=\u001b[39;49mnp\u001b[39m.\u001b[39;49msum,\n\u001b[1;32m   3058\u001b[0m         )\n\u001b[1;32m   3060\u001b[0m     \u001b[39mreturn\u001b[39;00m \u001b[39mself\u001b[39m\u001b[39m.\u001b[39m_reindex_output(result, fill_value\u001b[39m=\u001b[39m\u001b[39m0\u001b[39m)\n",
      "File \u001b[0;32m/opt/homebrew/lib/python3.11/site-packages/pandas/core/groupby/groupby.py:1835\u001b[0m, in \u001b[0;36mGroupBy._agg_general\u001b[0;34m(self, numeric_only, min_count, alias, npfunc)\u001b[0m\n\u001b[1;32m   1826\u001b[0m \u001b[39m@final\u001b[39m\n\u001b[1;32m   1827\u001b[0m \u001b[39mdef\u001b[39;00m \u001b[39m_agg_general\u001b[39m(\n\u001b[1;32m   1828\u001b[0m     \u001b[39mself\u001b[39m,\n\u001b[0;32m   (...)\u001b[0m\n\u001b[1;32m   1833\u001b[0m     npfunc: Callable,\n\u001b[1;32m   1834\u001b[0m ):\n\u001b[0;32m-> 1835\u001b[0m     result \u001b[39m=\u001b[39m \u001b[39mself\u001b[39;49m\u001b[39m.\u001b[39;49m_cython_agg_general(\n\u001b[1;32m   1836\u001b[0m         how\u001b[39m=\u001b[39;49malias,\n\u001b[1;32m   1837\u001b[0m         alt\u001b[39m=\u001b[39;49mnpfunc,\n\u001b[1;32m   1838\u001b[0m         numeric_only\u001b[39m=\u001b[39;49mnumeric_only,\n\u001b[1;32m   1839\u001b[0m         min_count\u001b[39m=\u001b[39;49mmin_count,\n\u001b[1;32m   1840\u001b[0m     )\n\u001b[1;32m   1841\u001b[0m     \u001b[39mreturn\u001b[39;00m result\u001b[39m.\u001b[39m__finalize__(\u001b[39mself\u001b[39m\u001b[39m.\u001b[39mobj, method\u001b[39m=\u001b[39m\u001b[39m\"\u001b[39m\u001b[39mgroupby\u001b[39m\u001b[39m\"\u001b[39m)\n",
      "File \u001b[0;32m/opt/homebrew/lib/python3.11/site-packages/pandas/core/groupby/groupby.py:1926\u001b[0m, in \u001b[0;36mGroupBy._cython_agg_general\u001b[0;34m(self, how, alt, numeric_only, min_count, **kwargs)\u001b[0m\n\u001b[1;32m   1923\u001b[0m     result \u001b[39m=\u001b[39m \u001b[39mself\u001b[39m\u001b[39m.\u001b[39m_agg_py_fallback(how, values, ndim\u001b[39m=\u001b[39mdata\u001b[39m.\u001b[39mndim, alt\u001b[39m=\u001b[39malt)\n\u001b[1;32m   1924\u001b[0m     \u001b[39mreturn\u001b[39;00m result\n\u001b[0;32m-> 1926\u001b[0m new_mgr \u001b[39m=\u001b[39m data\u001b[39m.\u001b[39;49mgrouped_reduce(array_func)\n\u001b[1;32m   1927\u001b[0m res \u001b[39m=\u001b[39m \u001b[39mself\u001b[39m\u001b[39m.\u001b[39m_wrap_agged_manager(new_mgr)\n\u001b[1;32m   1928\u001b[0m out \u001b[39m=\u001b[39m \u001b[39mself\u001b[39m\u001b[39m.\u001b[39m_wrap_aggregated_output(res)\n",
      "File \u001b[0;32m/opt/homebrew/lib/python3.11/site-packages/pandas/core/internals/managers.py:1431\u001b[0m, in \u001b[0;36mBlockManager.grouped_reduce\u001b[0;34m(self, func)\u001b[0m\n\u001b[1;32m   1429\u001b[0m             result_blocks \u001b[39m=\u001b[39m extend_blocks(applied, result_blocks)\n\u001b[1;32m   1430\u001b[0m     \u001b[39melse\u001b[39;00m:\n\u001b[0;32m-> 1431\u001b[0m         applied \u001b[39m=\u001b[39m blk\u001b[39m.\u001b[39;49mapply(func)\n\u001b[1;32m   1432\u001b[0m         result_blocks \u001b[39m=\u001b[39m extend_blocks(applied, result_blocks)\n\u001b[1;32m   1434\u001b[0m \u001b[39mif\u001b[39;00m \u001b[39mlen\u001b[39m(result_blocks) \u001b[39m==\u001b[39m \u001b[39m0\u001b[39m:\n",
      "File \u001b[0;32m/opt/homebrew/lib/python3.11/site-packages/pandas/core/internals/blocks.py:366\u001b[0m, in \u001b[0;36mBlock.apply\u001b[0;34m(self, func, **kwargs)\u001b[0m\n\u001b[1;32m    360\u001b[0m \u001b[39m@final\u001b[39m\n\u001b[1;32m    361\u001b[0m \u001b[39mdef\u001b[39;00m \u001b[39mapply\u001b[39m(\u001b[39mself\u001b[39m, func, \u001b[39m*\u001b[39m\u001b[39m*\u001b[39mkwargs) \u001b[39m-\u001b[39m\u001b[39m>\u001b[39m \u001b[39mlist\u001b[39m[Block]:\n\u001b[1;32m    362\u001b[0m \u001b[39m    \u001b[39m\u001b[39m\"\"\"\u001b[39;00m\n\u001b[1;32m    363\u001b[0m \u001b[39m    apply the function to my values; return a block if we are not\u001b[39;00m\n\u001b[1;32m    364\u001b[0m \u001b[39m    one\u001b[39;00m\n\u001b[1;32m    365\u001b[0m \u001b[39m    \"\"\"\u001b[39;00m\n\u001b[0;32m--> 366\u001b[0m     result \u001b[39m=\u001b[39m func(\u001b[39mself\u001b[39;49m\u001b[39m.\u001b[39;49mvalues, \u001b[39m*\u001b[39;49m\u001b[39m*\u001b[39;49mkwargs)\n\u001b[1;32m    368\u001b[0m     result \u001b[39m=\u001b[39m maybe_coerce_values(result)\n\u001b[1;32m    369\u001b[0m     \u001b[39mreturn\u001b[39;00m \u001b[39mself\u001b[39m\u001b[39m.\u001b[39m_split_op_result(result)\n",
      "File \u001b[0;32m/opt/homebrew/lib/python3.11/site-packages/pandas/core/groupby/groupby.py:1902\u001b[0m, in \u001b[0;36mGroupBy._cython_agg_general.<locals>.array_func\u001b[0;34m(values)\u001b[0m\n\u001b[1;32m   1900\u001b[0m \u001b[39mdef\u001b[39;00m \u001b[39marray_func\u001b[39m(values: ArrayLike) \u001b[39m-\u001b[39m\u001b[39m>\u001b[39m ArrayLike:\n\u001b[1;32m   1901\u001b[0m     \u001b[39mtry\u001b[39;00m:\n\u001b[0;32m-> 1902\u001b[0m         result \u001b[39m=\u001b[39m \u001b[39mself\u001b[39;49m\u001b[39m.\u001b[39;49mgrouper\u001b[39m.\u001b[39;49m_cython_operation(\n\u001b[1;32m   1903\u001b[0m             \u001b[39m\"\u001b[39;49m\u001b[39maggregate\u001b[39;49m\u001b[39m\"\u001b[39;49m,\n\u001b[1;32m   1904\u001b[0m             values,\n\u001b[1;32m   1905\u001b[0m             how,\n\u001b[1;32m   1906\u001b[0m             axis\u001b[39m=\u001b[39;49mdata\u001b[39m.\u001b[39;49mndim \u001b[39m-\u001b[39;49m \u001b[39m1\u001b[39;49m,\n\u001b[1;32m   1907\u001b[0m             min_count\u001b[39m=\u001b[39;49mmin_count,\n\u001b[1;32m   1908\u001b[0m             \u001b[39m*\u001b[39;49m\u001b[39m*\u001b[39;49mkwargs,\n\u001b[1;32m   1909\u001b[0m         )\n\u001b[1;32m   1910\u001b[0m     \u001b[39mexcept\u001b[39;00m \u001b[39mNotImplementedError\u001b[39;00m:\n\u001b[1;32m   1911\u001b[0m         \u001b[39m# generally if we have numeric_only=False\u001b[39;00m\n\u001b[1;32m   1912\u001b[0m         \u001b[39m# and non-applicable functions\u001b[39;00m\n\u001b[1;32m   1913\u001b[0m         \u001b[39m# try to python agg\u001b[39;00m\n\u001b[1;32m   1914\u001b[0m         \u001b[39m# TODO: shouldn't min_count matter?\u001b[39;00m\n\u001b[1;32m   1915\u001b[0m         \u001b[39m# TODO: avoid special casing SparseArray here\u001b[39;00m\n\u001b[1;32m   1916\u001b[0m         \u001b[39mif\u001b[39;00m how \u001b[39min\u001b[39;00m [\u001b[39m\"\u001b[39m\u001b[39many\u001b[39m\u001b[39m\"\u001b[39m, \u001b[39m\"\u001b[39m\u001b[39mall\u001b[39m\u001b[39m\"\u001b[39m] \u001b[39mand\u001b[39;00m \u001b[39misinstance\u001b[39m(values, SparseArray):\n",
      "File \u001b[0;32m/opt/homebrew/lib/python3.11/site-packages/pandas/core/groupby/ops.py:815\u001b[0m, in \u001b[0;36mBaseGrouper._cython_operation\u001b[0;34m(self, kind, values, how, axis, min_count, **kwargs)\u001b[0m\n\u001b[1;32m    813\u001b[0m ids, _, _ \u001b[39m=\u001b[39m \u001b[39mself\u001b[39m\u001b[39m.\u001b[39mgroup_info\n\u001b[1;32m    814\u001b[0m ngroups \u001b[39m=\u001b[39m \u001b[39mself\u001b[39m\u001b[39m.\u001b[39mngroups\n\u001b[0;32m--> 815\u001b[0m \u001b[39mreturn\u001b[39;00m cy_op\u001b[39m.\u001b[39;49mcython_operation(\n\u001b[1;32m    816\u001b[0m     values\u001b[39m=\u001b[39;49mvalues,\n\u001b[1;32m    817\u001b[0m     axis\u001b[39m=\u001b[39;49maxis,\n\u001b[1;32m    818\u001b[0m     min_count\u001b[39m=\u001b[39;49mmin_count,\n\u001b[1;32m    819\u001b[0m     comp_ids\u001b[39m=\u001b[39;49mids,\n\u001b[1;32m    820\u001b[0m     ngroups\u001b[39m=\u001b[39;49mngroups,\n\u001b[1;32m    821\u001b[0m     \u001b[39m*\u001b[39;49m\u001b[39m*\u001b[39;49mkwargs,\n\u001b[1;32m    822\u001b[0m )\n",
      "File \u001b[0;32m/opt/homebrew/lib/python3.11/site-packages/pandas/core/groupby/ops.py:525\u001b[0m, in \u001b[0;36mWrappedCythonOp.cython_operation\u001b[0;34m(self, values, axis, min_count, comp_ids, ngroups, **kwargs)\u001b[0m\n\u001b[1;32m    521\u001b[0m \u001b[39mself\u001b[39m\u001b[39m.\u001b[39m_validate_axis(axis, values)\n\u001b[1;32m    523\u001b[0m \u001b[39mif\u001b[39;00m \u001b[39mnot\u001b[39;00m \u001b[39misinstance\u001b[39m(values, np\u001b[39m.\u001b[39mndarray):\n\u001b[1;32m    524\u001b[0m     \u001b[39m# i.e. ExtensionArray\u001b[39;00m\n\u001b[0;32m--> 525\u001b[0m     \u001b[39mreturn\u001b[39;00m values\u001b[39m.\u001b[39;49m_groupby_op(\n\u001b[1;32m    526\u001b[0m         how\u001b[39m=\u001b[39;49m\u001b[39mself\u001b[39;49m\u001b[39m.\u001b[39;49mhow,\n\u001b[1;32m    527\u001b[0m         has_dropped_na\u001b[39m=\u001b[39;49m\u001b[39mself\u001b[39;49m\u001b[39m.\u001b[39;49mhas_dropped_na,\n\u001b[1;32m    528\u001b[0m         min_count\u001b[39m=\u001b[39;49mmin_count,\n\u001b[1;32m    529\u001b[0m         ngroups\u001b[39m=\u001b[39;49mngroups,\n\u001b[1;32m    530\u001b[0m         ids\u001b[39m=\u001b[39;49mcomp_ids,\n\u001b[1;32m    531\u001b[0m         \u001b[39m*\u001b[39;49m\u001b[39m*\u001b[39;49mkwargs,\n\u001b[1;32m    532\u001b[0m     )\n\u001b[1;32m    534\u001b[0m \u001b[39mreturn\u001b[39;00m \u001b[39mself\u001b[39m\u001b[39m.\u001b[39m_cython_op_ndim_compat(\n\u001b[1;32m    535\u001b[0m     values,\n\u001b[1;32m    536\u001b[0m     min_count\u001b[39m=\u001b[39mmin_count,\n\u001b[0;32m   (...)\u001b[0m\n\u001b[1;32m    540\u001b[0m     \u001b[39m*\u001b[39m\u001b[39m*\u001b[39mkwargs,\n\u001b[1;32m    541\u001b[0m )\n",
      "File \u001b[0;32m/opt/homebrew/lib/python3.11/site-packages/pandas/core/arrays/datetimelike.py:1637\u001b[0m, in \u001b[0;36mDatetimeLikeArrayMixin._groupby_op\u001b[0;34m(self, how, has_dropped_na, min_count, ngroups, ids, **kwargs)\u001b[0m\n\u001b[1;32m   1634\u001b[0m \u001b[39mif\u001b[39;00m dtype\u001b[39m.\u001b[39mkind \u001b[39m==\u001b[39m \u001b[39m\"\u001b[39m\u001b[39mM\u001b[39m\u001b[39m\"\u001b[39m:\n\u001b[1;32m   1635\u001b[0m     \u001b[39m# Adding/multiplying datetimes is not valid\u001b[39;00m\n\u001b[1;32m   1636\u001b[0m     \u001b[39mif\u001b[39;00m how \u001b[39min\u001b[39;00m [\u001b[39m\"\u001b[39m\u001b[39msum\u001b[39m\u001b[39m\"\u001b[39m, \u001b[39m\"\u001b[39m\u001b[39mprod\u001b[39m\u001b[39m\"\u001b[39m, \u001b[39m\"\u001b[39m\u001b[39mcumsum\u001b[39m\u001b[39m\"\u001b[39m, \u001b[39m\"\u001b[39m\u001b[39mcumprod\u001b[39m\u001b[39m\"\u001b[39m, \u001b[39m\"\u001b[39m\u001b[39mvar\u001b[39m\u001b[39m\"\u001b[39m, \u001b[39m\"\u001b[39m\u001b[39mskew\u001b[39m\u001b[39m\"\u001b[39m]:\n\u001b[0;32m-> 1637\u001b[0m         \u001b[39mraise\u001b[39;00m \u001b[39mTypeError\u001b[39;00m(\u001b[39mf\u001b[39m\u001b[39m\"\u001b[39m\u001b[39mdatetime64 type does not support \u001b[39m\u001b[39m{\u001b[39;00mhow\u001b[39m}\u001b[39;00m\u001b[39m operations\u001b[39m\u001b[39m\"\u001b[39m)\n\u001b[1;32m   1638\u001b[0m     \u001b[39mif\u001b[39;00m how \u001b[39min\u001b[39;00m [\u001b[39m\"\u001b[39m\u001b[39many\u001b[39m\u001b[39m\"\u001b[39m, \u001b[39m\"\u001b[39m\u001b[39mall\u001b[39m\u001b[39m\"\u001b[39m]:\n\u001b[1;32m   1639\u001b[0m         \u001b[39m# GH#34479\u001b[39;00m\n\u001b[1;32m   1640\u001b[0m         warnings\u001b[39m.\u001b[39mwarn(\n\u001b[1;32m   1641\u001b[0m             \u001b[39mf\u001b[39m\u001b[39m\"\u001b[39m\u001b[39m'\u001b[39m\u001b[39m{\u001b[39;00mhow\u001b[39m}\u001b[39;00m\u001b[39m'\u001b[39m\u001b[39m with datetime64 dtypes is deprecated and will raise in a \u001b[39m\u001b[39m\"\u001b[39m\n\u001b[1;32m   1642\u001b[0m             \u001b[39mf\u001b[39m\u001b[39m\"\u001b[39m\u001b[39mfuture version. Use (obj != pd.Timestamp(0)).\u001b[39m\u001b[39m{\u001b[39;00mhow\u001b[39m}\u001b[39;00m\u001b[39m() instead.\u001b[39m\u001b[39m\"\u001b[39m,\n\u001b[1;32m   1643\u001b[0m             \u001b[39mFutureWarning\u001b[39;00m,\n\u001b[1;32m   1644\u001b[0m             stacklevel\u001b[39m=\u001b[39mfind_stack_level(),\n\u001b[1;32m   1645\u001b[0m         )\n",
      "\u001b[0;31mTypeError\u001b[0m: datetime64 type does not support sum operations"
     ]
    }
   ],
   "source": [
    "peak_positions = bb1[bb1['Weekly.rank'] == bb1['Peak.position']]\n",
    "pk = peak_positions[peak_positions['Peak.position'] < 40]\n",
    "pk['Genre'].value_counts()\n",
    "pk['Genre']=pk['Genre'].str.split(',')\n",
    "genres_exploded_2=pk.explode('Genre')\n",
    "genres_exploded_2['Genre']=genres_exploded_2['Genre'].str.strip()\n",
    "genre_counts_2 = genres_exploded_2['Genre'].value_counts()\n",
    "top_10_genres_2 = genre_counts_2.head(10)\n",
    "top_genres_counts_2 = genres_exploded_2['Genre'].value_counts().head(5)\n",
    "filtered_genres_2=genres_exploded_2[genres_exploded_2['Genre'].isin(top_genres_counts_2.index)]\n",
    "filtered_genres_2['Week'] = pd.to_datetime(filtered_genres_2['Week'])\n",
    "genre_week_2= filtered_genres_2.groupby(['Week', 'Genre']).size().reset_index(name='Count')\n",
    "genre_week_pivot_2 = genre_week_2.pivot(index='Week', columns='Genre', values='Count').fillna(0)\n",
    "genre_week_pivot_2=genre_week_pivot_2.reset_index()\n",
    "genre_week_2['Week'] = pd.to_datetime(genre_week_2['Week'])\n",
    "genre_week_pivot_2['Year'] = genre_week_pivot_2['Week'].dt.year\n",
    "yearly_counts_2 = genre_week_pivot_2.groupby('Year').sum().reset_index()"
   ]
  },
  {
   "cell_type": "code",
   "execution_count": 55,
   "metadata": {},
   "outputs": [],
   "source": [
    "pk=filtered_genres_2.groupby(['Artist', 'Genre'])['Week'].agg(['min', 'max'])\n",
    "pk['min'] = pd.to_datetime(pk['min'])\n",
    "pk['max'] = pd.to_datetime(pk['max'])\n",
    "pk['Duration'] = pk['max'] - pk['min']\n",
    "pk_sorted = pk.sort_values(by='Duration', ascending=False)\n",
    "top = pk_sorted.head(20)"
   ]
  },
  {
   "cell_type": "code",
   "execution_count": 56,
   "metadata": {},
   "outputs": [],
   "source": [
    "end_2008 = pd.Timestamp('2008-12-31')\n",
    "start_2009 = pd.Timestamp('2009-01-01')\n",
    "art1 = pk[pk['max'] <= end_2008]\n",
    "art2 = pk[pk['min'] >= start_2009]\n",
    "art1_sorted=art1.sort_values(by='Duration', ascending=False)\n",
    "art2_sorted=art2.sort_values(by='Duration', ascending=False)\n",
    "top_art1=art1_sorted.head(20)#top artists for decade1\n",
    "top_art2=art2_sorted.head(20)#top artists for decade 2"
   ]
  },
  {
   "cell_type": "code",
   "execution_count": 57,
   "metadata": {},
   "outputs": [
    {
     "data": {
      "application/vnd.plotly.v1+json": {
       "config": {
        "plotlyServerURL": "https://plot.ly"
       },
       "data": [
        {
         "hoverinfo": "text",
         "hovertext": "kenny chesney<br>Start: 1999-08-23<br>End: 2018-08-11<br>Duration: 6928 days<br>Genre:Country",
         "legendgroup": "Country",
         "line": {
          "color": "#1f77b4",
          "width": 2
         },
         "marker": {
          "color": "#1f77b4",
          "size": 10
         },
         "mode": "lines+markers",
         "name": "Country",
         "showlegend": true,
         "textposition": "bottom center",
         "type": "scatter",
         "x": [
          1999,
          2018
         ],
         "y": [
          "kenny chesney",
          "kenny chesney"
         ]
        },
        {
         "hoverinfo": "text",
         "hovertext": "tim mcgraw<br>Start: 1999-09-13<br>End: 2016-04-23<br>Duration: 6067 days<br>Genre:Country",
         "legendgroup": "Country",
         "line": {
          "color": "#1f77b4",
          "width": 2
         },
         "marker": {
          "color": "#1f77b4",
          "size": 10
         },
         "mode": "lines+markers",
         "name": "Country",
         "showlegend": false,
         "textposition": "bottom center",
         "type": "scatter",
         "x": [
          1999,
          2016
         ],
         "y": [
          "tim mcgraw",
          "tim mcgraw"
         ]
        },
        {
         "hoverinfo": "text",
         "hovertext": "keith urban<br>Start: 2001-02-20<br>End: 2017-04-22<br>Duration: 5905 days<br>Genre:Country",
         "legendgroup": "Country",
         "line": {
          "color": "#1f77b4",
          "width": 2
         },
         "marker": {
          "color": "#1f77b4",
          "size": 10
         },
         "mode": "lines+markers",
         "name": "Country",
         "showlegend": false,
         "textposition": "bottom center",
         "type": "scatter",
         "x": [
          2001,
          2017
         ],
         "y": [
          "keith urban",
          "keith urban"
         ]
        },
        {
         "hoverinfo": "text",
         "hovertext": "p!nk<br>Start: 2001-11-06<br>End: 2017-11-04<br>Duration: 5842 days<br>Genre:Pop",
         "legendgroup": "Pop",
         "line": {
          "color": "#ff7f0e",
          "width": 2
         },
         "marker": {
          "color": "#ff7f0e",
          "size": 10
         },
         "mode": "lines+markers",
         "name": "Pop",
         "showlegend": true,
         "textposition": "bottom center",
         "type": "scatter",
         "x": [
          2001,
          2017
         ],
         "y": [
          "p!nk",
          "p!nk"
         ]
        },
        {
         "hoverinfo": "text",
         "hovertext": "tim mcgraw<br>Start: 1999-09-13<br>End: 2015-01-02<br>Duration: 5590 days<br>Genre:Rock",
         "legendgroup": "Rock",
         "line": {
          "color": "#9467bd",
          "width": 2
         },
         "marker": {
          "color": "#9467bd",
          "size": 10
         },
         "mode": "lines+markers",
         "name": "Rock",
         "showlegend": true,
         "textposition": "bottom center",
         "type": "scatter",
         "x": [
          1999,
          2015
         ],
         "y": [
          "tim mcgraw",
          "tim mcgraw"
         ]
        },
        {
         "hoverinfo": "text",
         "hovertext": "maroon 5<br>Start: 2003-09-30<br>End: 2018-11-10<br>Duration: 5520 days<br>Genre:Pop",
         "legendgroup": "Pop",
         "line": {
          "color": "#ff7f0e",
          "width": 2
         },
         "marker": {
          "color": "#ff7f0e",
          "size": 10
         },
         "mode": "lines+markers",
         "name": "Pop",
         "showlegend": false,
         "textposition": "bottom center",
         "type": "scatter",
         "x": [
          2003,
          2018
         ],
         "y": [
          "maroon 5",
          "maroon 5"
         ]
        },
        {
         "hoverinfo": "text",
         "hovertext": "kenny chesney<br>Start: 1999-08-23<br>End: 2014-08-01<br>Duration: 5457 days<br>Genre:Rock",
         "legendgroup": "Rock",
         "line": {
          "color": "#9467bd",
          "width": 2
         },
         "marker": {
          "color": "#9467bd",
          "size": 10
         },
         "mode": "lines+markers",
         "name": "Rock",
         "showlegend": false,
         "textposition": "bottom center",
         "type": "scatter",
         "x": [
          1999,
          2014
         ],
         "y": [
          "kenny chesney",
          "kenny chesney"
         ]
        },
        {
         "hoverinfo": "text",
         "hovertext": "blake shelton<br>Start: 2001-07-24<br>End: 2016-06-11<br>Duration: 5436 days<br>Genre:Country",
         "legendgroup": "Country",
         "line": {
          "color": "#1f77b4",
          "width": 2
         },
         "marker": {
          "color": "#1f77b4",
          "size": 10
         },
         "mode": "lines+markers",
         "name": "Country",
         "showlegend": false,
         "textposition": "bottom center",
         "type": "scatter",
         "x": [
          2001,
          2016
         ],
         "y": [
          "blake shelton",
          "blake shelton"
         ]
        },
        {
         "hoverinfo": "text",
         "hovertext": "mariah carey<br>Start: 2005-02-02<br>End: 2019-01-05<br>Duration: 5085 days<br>Genre:R&;B",
         "legendgroup": "R&;B",
         "line": {
          "color": "#2ca02c",
          "width": 2
         },
         "marker": {
          "color": "#2ca02c",
          "size": 10
         },
         "mode": "lines+markers",
         "name": "R&;B",
         "showlegend": true,
         "textposition": "bottom center",
         "type": "scatter",
         "x": [
          2005,
          2019
         ],
         "y": [
          "mariah carey",
          "mariah carey"
         ]
        },
        {
         "hoverinfo": "text",
         "hovertext": "mariah carey<br>Start: 2005-02-02<br>End: 2019-01-05<br>Duration: 5085 days<br>Genre:Pop",
         "legendgroup": "Pop",
         "line": {
          "color": "#ff7f0e",
          "width": 2
         },
         "marker": {
          "color": "#ff7f0e",
          "size": 10
         },
         "mode": "lines+markers",
         "name": "Pop",
         "showlegend": false,
         "textposition": "bottom center",
         "type": "scatter",
         "x": [
          2005,
          2019
         ],
         "y": [
          "mariah carey",
          "mariah carey"
         ]
        },
        {
         "hoverinfo": "text",
         "hovertext": "eminem<br>Start: 2000-05-09<br>End: 2014-01-10<br>Duration: 4994 days<br>Genre:Rap",
         "legendgroup": "Rap",
         "line": {
          "color": "#d62728",
          "width": 2
         },
         "marker": {
          "color": "#d62728",
          "size": 10
         },
         "mode": "lines+markers",
         "name": "Rap",
         "showlegend": true,
         "textposition": "bottom center",
         "type": "scatter",
         "x": [
          2000,
          2014
         ],
         "y": [
          "eminem",
          "eminem"
         ]
        },
        {
         "hoverinfo": "text",
         "hovertext": "enrique iglesias<br>Start: 1999-07-19<br>End: 2012-10-12<br>Duration: 4834 days<br>Genre:Pop",
         "legendgroup": "Pop",
         "line": {
          "color": "#ff7f0e",
          "width": 2
         },
         "marker": {
          "color": "#ff7f0e",
          "size": 10
         },
         "mode": "lines+markers",
         "name": "Pop",
         "showlegend": false,
         "textposition": "bottom center",
         "type": "scatter",
         "x": [
          1999,
          2012
         ],
         "y": [
          "enrique iglesias",
          "enrique iglesias"
         ]
        },
        {
         "hoverinfo": "text",
         "hovertext": "train<br>Start: 1999-11-22<br>End: 2012-11-02<br>Duration: 4729 days<br>Genre:Rock",
         "legendgroup": "Rock",
         "line": {
          "color": "#9467bd",
          "width": 2
         },
         "marker": {
          "color": "#9467bd",
          "size": 10
         },
         "mode": "lines+markers",
         "name": "Rock",
         "showlegend": false,
         "textposition": "bottom center",
         "type": "scatter",
         "x": [
          1999,
          2012
         ],
         "y": [
          "train",
          "train"
         ]
        },
        {
         "hoverinfo": "text",
         "hovertext": "dierks bentley<br>Start: 2003-08-12<br>End: 2016-04-30<br>Duration: 4645 days<br>Genre:Country",
         "legendgroup": "Country",
         "line": {
          "color": "#1f77b4",
          "width": 2
         },
         "marker": {
          "color": "#1f77b4",
          "size": 10
         },
         "mode": "lines+markers",
         "name": "Country",
         "showlegend": false,
         "textposition": "bottom center",
         "type": "scatter",
         "x": [
          2003,
          2016
         ],
         "y": [
          "dierks bentley",
          "dierks bentley"
         ]
        },
        {
         "hoverinfo": "text",
         "hovertext": "panic! at the disco<br>Start: 2006-05-24<br>End: 2019-01-26<br>Duration: 4630 days<br>Genre:Rock",
         "legendgroup": "Rock",
         "line": {
          "color": "#9467bd",
          "width": 2
         },
         "marker": {
          "color": "#9467bd",
          "size": 10
         },
         "mode": "lines+markers",
         "name": "Rock",
         "showlegend": false,
         "textposition": "bottom center",
         "type": "scatter",
         "x": [
          2006,
          2019
         ],
         "y": [
          "panic! at the disco",
          "panic! at the disco"
         ]
        },
        {
         "hoverinfo": "text",
         "hovertext": "beyonce<br>Start: 2003-12-02<br>End: 2016-05-21<br>Duration: 4554 days<br>Genre:R&;B",
         "legendgroup": "R&;B",
         "line": {
          "color": "#2ca02c",
          "width": 2
         },
         "marker": {
          "color": "#2ca02c",
          "size": 10
         },
         "mode": "lines+markers",
         "name": "R&;B",
         "showlegend": false,
         "textposition": "bottom center",
         "type": "scatter",
         "x": [
          2003,
          2016
         ],
         "y": [
          "beyonce",
          "beyonce"
         ]
        },
        {
         "hoverinfo": "text",
         "hovertext": "beyonce<br>Start: 2003-12-02<br>End: 2016-05-21<br>Duration: 4554 days<br>Genre:Pop",
         "legendgroup": "Pop",
         "line": {
          "color": "#ff7f0e",
          "width": 2
         },
         "marker": {
          "color": "#ff7f0e",
          "size": 10
         },
         "mode": "lines+markers",
         "name": "Pop",
         "showlegend": false,
         "textposition": "bottom center",
         "type": "scatter",
         "x": [
          2003,
          2016
         ],
         "y": [
          "beyonce",
          "beyonce"
         ]
        },
        {
         "hoverinfo": "text",
         "hovertext": "kelly clarkson<br>Start: 2002-10-01<br>End: 2015-03-20<br>Duration: 4553 days<br>Genre:Pop",
         "legendgroup": "Pop",
         "line": {
          "color": "#ff7f0e",
          "width": 2
         },
         "marker": {
          "color": "#ff7f0e",
          "size": 10
         },
         "mode": "lines+markers",
         "name": "Pop",
         "showlegend": false,
         "textposition": "bottom center",
         "type": "scatter",
         "x": [
          2002,
          2015
         ],
         "y": [
          "kelly clarkson",
          "kelly clarkson"
         ]
        },
        {
         "hoverinfo": "text",
         "hovertext": "blake shelton<br>Start: 2001-07-24<br>End: 2013-11-22<br>Duration: 4504 days<br>Genre:Rock",
         "legendgroup": "Rock",
         "line": {
          "color": "#9467bd",
          "width": 2
         },
         "marker": {
          "color": "#9467bd",
          "size": 10
         },
         "mode": "lines+markers",
         "name": "Rock",
         "showlegend": false,
         "textposition": "bottom center",
         "type": "scatter",
         "x": [
          2001,
          2013
         ],
         "y": [
          "blake shelton",
          "blake shelton"
         ]
        },
        {
         "hoverinfo": "text",
         "hovertext": "britney spears<br>Start: 1999-07-12<br>End: 2011-08-18<br>Duration: 4420 days<br>Genre:Pop",
         "legendgroup": "Pop",
         "line": {
          "color": "#ff7f0e",
          "width": 2
         },
         "marker": {
          "color": "#ff7f0e",
          "size": 10
         },
         "mode": "lines+markers",
         "name": "Pop",
         "showlegend": false,
         "textposition": "bottom center",
         "type": "scatter",
         "x": [
          1999,
          2011
         ],
         "y": [
          "britney spears",
          "britney spears"
         ]
        }
       ],
       "layout": {
        "height": 700,
        "hovermode": "closest",
        "legend": {
         "orientation": "h",
         "title": {
          "text": "Genre"
         },
         "x": 1,
         "xanchor": "right",
         "y": 1.02,
         "yanchor": "bottom"
        },
        "showlegend": true,
        "template": {
         "data": {
          "bar": [
           {
            "error_x": {
             "color": "#2a3f5f"
            },
            "error_y": {
             "color": "#2a3f5f"
            },
            "marker": {
             "line": {
              "color": "#E5ECF6",
              "width": 0.5
             },
             "pattern": {
              "fillmode": "overlay",
              "size": 10,
              "solidity": 0.2
             }
            },
            "type": "bar"
           }
          ],
          "barpolar": [
           {
            "marker": {
             "line": {
              "color": "#E5ECF6",
              "width": 0.5
             },
             "pattern": {
              "fillmode": "overlay",
              "size": 10,
              "solidity": 0.2
             }
            },
            "type": "barpolar"
           }
          ],
          "carpet": [
           {
            "aaxis": {
             "endlinecolor": "#2a3f5f",
             "gridcolor": "white",
             "linecolor": "white",
             "minorgridcolor": "white",
             "startlinecolor": "#2a3f5f"
            },
            "baxis": {
             "endlinecolor": "#2a3f5f",
             "gridcolor": "white",
             "linecolor": "white",
             "minorgridcolor": "white",
             "startlinecolor": "#2a3f5f"
            },
            "type": "carpet"
           }
          ],
          "choropleth": [
           {
            "colorbar": {
             "outlinewidth": 0,
             "ticks": ""
            },
            "type": "choropleth"
           }
          ],
          "contour": [
           {
            "colorbar": {
             "outlinewidth": 0,
             "ticks": ""
            },
            "colorscale": [
             [
              0,
              "#0d0887"
             ],
             [
              0.1111111111111111,
              "#46039f"
             ],
             [
              0.2222222222222222,
              "#7201a8"
             ],
             [
              0.3333333333333333,
              "#9c179e"
             ],
             [
              0.4444444444444444,
              "#bd3786"
             ],
             [
              0.5555555555555556,
              "#d8576b"
             ],
             [
              0.6666666666666666,
              "#ed7953"
             ],
             [
              0.7777777777777778,
              "#fb9f3a"
             ],
             [
              0.8888888888888888,
              "#fdca26"
             ],
             [
              1,
              "#f0f921"
             ]
            ],
            "type": "contour"
           }
          ],
          "contourcarpet": [
           {
            "colorbar": {
             "outlinewidth": 0,
             "ticks": ""
            },
            "type": "contourcarpet"
           }
          ],
          "heatmap": [
           {
            "colorbar": {
             "outlinewidth": 0,
             "ticks": ""
            },
            "colorscale": [
             [
              0,
              "#0d0887"
             ],
             [
              0.1111111111111111,
              "#46039f"
             ],
             [
              0.2222222222222222,
              "#7201a8"
             ],
             [
              0.3333333333333333,
              "#9c179e"
             ],
             [
              0.4444444444444444,
              "#bd3786"
             ],
             [
              0.5555555555555556,
              "#d8576b"
             ],
             [
              0.6666666666666666,
              "#ed7953"
             ],
             [
              0.7777777777777778,
              "#fb9f3a"
             ],
             [
              0.8888888888888888,
              "#fdca26"
             ],
             [
              1,
              "#f0f921"
             ]
            ],
            "type": "heatmap"
           }
          ],
          "heatmapgl": [
           {
            "colorbar": {
             "outlinewidth": 0,
             "ticks": ""
            },
            "colorscale": [
             [
              0,
              "#0d0887"
             ],
             [
              0.1111111111111111,
              "#46039f"
             ],
             [
              0.2222222222222222,
              "#7201a8"
             ],
             [
              0.3333333333333333,
              "#9c179e"
             ],
             [
              0.4444444444444444,
              "#bd3786"
             ],
             [
              0.5555555555555556,
              "#d8576b"
             ],
             [
              0.6666666666666666,
              "#ed7953"
             ],
             [
              0.7777777777777778,
              "#fb9f3a"
             ],
             [
              0.8888888888888888,
              "#fdca26"
             ],
             [
              1,
              "#f0f921"
             ]
            ],
            "type": "heatmapgl"
           }
          ],
          "histogram": [
           {
            "marker": {
             "pattern": {
              "fillmode": "overlay",
              "size": 10,
              "solidity": 0.2
             }
            },
            "type": "histogram"
           }
          ],
          "histogram2d": [
           {
            "colorbar": {
             "outlinewidth": 0,
             "ticks": ""
            },
            "colorscale": [
             [
              0,
              "#0d0887"
             ],
             [
              0.1111111111111111,
              "#46039f"
             ],
             [
              0.2222222222222222,
              "#7201a8"
             ],
             [
              0.3333333333333333,
              "#9c179e"
             ],
             [
              0.4444444444444444,
              "#bd3786"
             ],
             [
              0.5555555555555556,
              "#d8576b"
             ],
             [
              0.6666666666666666,
              "#ed7953"
             ],
             [
              0.7777777777777778,
              "#fb9f3a"
             ],
             [
              0.8888888888888888,
              "#fdca26"
             ],
             [
              1,
              "#f0f921"
             ]
            ],
            "type": "histogram2d"
           }
          ],
          "histogram2dcontour": [
           {
            "colorbar": {
             "outlinewidth": 0,
             "ticks": ""
            },
            "colorscale": [
             [
              0,
              "#0d0887"
             ],
             [
              0.1111111111111111,
              "#46039f"
             ],
             [
              0.2222222222222222,
              "#7201a8"
             ],
             [
              0.3333333333333333,
              "#9c179e"
             ],
             [
              0.4444444444444444,
              "#bd3786"
             ],
             [
              0.5555555555555556,
              "#d8576b"
             ],
             [
              0.6666666666666666,
              "#ed7953"
             ],
             [
              0.7777777777777778,
              "#fb9f3a"
             ],
             [
              0.8888888888888888,
              "#fdca26"
             ],
             [
              1,
              "#f0f921"
             ]
            ],
            "type": "histogram2dcontour"
           }
          ],
          "mesh3d": [
           {
            "colorbar": {
             "outlinewidth": 0,
             "ticks": ""
            },
            "type": "mesh3d"
           }
          ],
          "parcoords": [
           {
            "line": {
             "colorbar": {
              "outlinewidth": 0,
              "ticks": ""
             }
            },
            "type": "parcoords"
           }
          ],
          "pie": [
           {
            "automargin": true,
            "type": "pie"
           }
          ],
          "scatter": [
           {
            "fillpattern": {
             "fillmode": "overlay",
             "size": 10,
             "solidity": 0.2
            },
            "type": "scatter"
           }
          ],
          "scatter3d": [
           {
            "line": {
             "colorbar": {
              "outlinewidth": 0,
              "ticks": ""
             }
            },
            "marker": {
             "colorbar": {
              "outlinewidth": 0,
              "ticks": ""
             }
            },
            "type": "scatter3d"
           }
          ],
          "scattercarpet": [
           {
            "marker": {
             "colorbar": {
              "outlinewidth": 0,
              "ticks": ""
             }
            },
            "type": "scattercarpet"
           }
          ],
          "scattergeo": [
           {
            "marker": {
             "colorbar": {
              "outlinewidth": 0,
              "ticks": ""
             }
            },
            "type": "scattergeo"
           }
          ],
          "scattergl": [
           {
            "marker": {
             "colorbar": {
              "outlinewidth": 0,
              "ticks": ""
             }
            },
            "type": "scattergl"
           }
          ],
          "scattermapbox": [
           {
            "marker": {
             "colorbar": {
              "outlinewidth": 0,
              "ticks": ""
             }
            },
            "type": "scattermapbox"
           }
          ],
          "scatterpolar": [
           {
            "marker": {
             "colorbar": {
              "outlinewidth": 0,
              "ticks": ""
             }
            },
            "type": "scatterpolar"
           }
          ],
          "scatterpolargl": [
           {
            "marker": {
             "colorbar": {
              "outlinewidth": 0,
              "ticks": ""
             }
            },
            "type": "scatterpolargl"
           }
          ],
          "scatterternary": [
           {
            "marker": {
             "colorbar": {
              "outlinewidth": 0,
              "ticks": ""
             }
            },
            "type": "scatterternary"
           }
          ],
          "surface": [
           {
            "colorbar": {
             "outlinewidth": 0,
             "ticks": ""
            },
            "colorscale": [
             [
              0,
              "#0d0887"
             ],
             [
              0.1111111111111111,
              "#46039f"
             ],
             [
              0.2222222222222222,
              "#7201a8"
             ],
             [
              0.3333333333333333,
              "#9c179e"
             ],
             [
              0.4444444444444444,
              "#bd3786"
             ],
             [
              0.5555555555555556,
              "#d8576b"
             ],
             [
              0.6666666666666666,
              "#ed7953"
             ],
             [
              0.7777777777777778,
              "#fb9f3a"
             ],
             [
              0.8888888888888888,
              "#fdca26"
             ],
             [
              1,
              "#f0f921"
             ]
            ],
            "type": "surface"
           }
          ],
          "table": [
           {
            "cells": {
             "fill": {
              "color": "#EBF0F8"
             },
             "line": {
              "color": "white"
             }
            },
            "header": {
             "fill": {
              "color": "#C8D4E3"
             },
             "line": {
              "color": "white"
             }
            },
            "type": "table"
           }
          ]
         },
         "layout": {
          "annotationdefaults": {
           "arrowcolor": "#2a3f5f",
           "arrowhead": 0,
           "arrowwidth": 1
          },
          "autotypenumbers": "strict",
          "coloraxis": {
           "colorbar": {
            "outlinewidth": 0,
            "ticks": ""
           }
          },
          "colorscale": {
           "diverging": [
            [
             0,
             "#8e0152"
            ],
            [
             0.1,
             "#c51b7d"
            ],
            [
             0.2,
             "#de77ae"
            ],
            [
             0.3,
             "#f1b6da"
            ],
            [
             0.4,
             "#fde0ef"
            ],
            [
             0.5,
             "#f7f7f7"
            ],
            [
             0.6,
             "#e6f5d0"
            ],
            [
             0.7,
             "#b8e186"
            ],
            [
             0.8,
             "#7fbc41"
            ],
            [
             0.9,
             "#4d9221"
            ],
            [
             1,
             "#276419"
            ]
           ],
           "sequential": [
            [
             0,
             "#0d0887"
            ],
            [
             0.1111111111111111,
             "#46039f"
            ],
            [
             0.2222222222222222,
             "#7201a8"
            ],
            [
             0.3333333333333333,
             "#9c179e"
            ],
            [
             0.4444444444444444,
             "#bd3786"
            ],
            [
             0.5555555555555556,
             "#d8576b"
            ],
            [
             0.6666666666666666,
             "#ed7953"
            ],
            [
             0.7777777777777778,
             "#fb9f3a"
            ],
            [
             0.8888888888888888,
             "#fdca26"
            ],
            [
             1,
             "#f0f921"
            ]
           ],
           "sequentialminus": [
            [
             0,
             "#0d0887"
            ],
            [
             0.1111111111111111,
             "#46039f"
            ],
            [
             0.2222222222222222,
             "#7201a8"
            ],
            [
             0.3333333333333333,
             "#9c179e"
            ],
            [
             0.4444444444444444,
             "#bd3786"
            ],
            [
             0.5555555555555556,
             "#d8576b"
            ],
            [
             0.6666666666666666,
             "#ed7953"
            ],
            [
             0.7777777777777778,
             "#fb9f3a"
            ],
            [
             0.8888888888888888,
             "#fdca26"
            ],
            [
             1,
             "#f0f921"
            ]
           ]
          },
          "colorway": [
           "#636efa",
           "#EF553B",
           "#00cc96",
           "#ab63fa",
           "#FFA15A",
           "#19d3f3",
           "#FF6692",
           "#B6E880",
           "#FF97FF",
           "#FECB52"
          ],
          "font": {
           "color": "#2a3f5f"
          },
          "geo": {
           "bgcolor": "white",
           "lakecolor": "white",
           "landcolor": "#E5ECF6",
           "showlakes": true,
           "showland": true,
           "subunitcolor": "white"
          },
          "hoverlabel": {
           "align": "left"
          },
          "hovermode": "closest",
          "mapbox": {
           "style": "light"
          },
          "paper_bgcolor": "white",
          "plot_bgcolor": "#E5ECF6",
          "polar": {
           "angularaxis": {
            "gridcolor": "white",
            "linecolor": "white",
            "ticks": ""
           },
           "bgcolor": "#E5ECF6",
           "radialaxis": {
            "gridcolor": "white",
            "linecolor": "white",
            "ticks": ""
           }
          },
          "scene": {
           "xaxis": {
            "backgroundcolor": "#E5ECF6",
            "gridcolor": "white",
            "gridwidth": 2,
            "linecolor": "white",
            "showbackground": true,
            "ticks": "",
            "zerolinecolor": "white"
           },
           "yaxis": {
            "backgroundcolor": "#E5ECF6",
            "gridcolor": "white",
            "gridwidth": 2,
            "linecolor": "white",
            "showbackground": true,
            "ticks": "",
            "zerolinecolor": "white"
           },
           "zaxis": {
            "backgroundcolor": "#E5ECF6",
            "gridcolor": "white",
            "gridwidth": 2,
            "linecolor": "white",
            "showbackground": true,
            "ticks": "",
            "zerolinecolor": "white"
           }
          },
          "shapedefaults": {
           "line": {
            "color": "#2a3f5f"
           }
          },
          "ternary": {
           "aaxis": {
            "gridcolor": "white",
            "linecolor": "white",
            "ticks": ""
           },
           "baxis": {
            "gridcolor": "white",
            "linecolor": "white",
            "ticks": ""
           },
           "bgcolor": "#E5ECF6",
           "caxis": {
            "gridcolor": "white",
            "linecolor": "white",
            "ticks": ""
           }
          },
          "title": {
           "x": 0.05
          },
          "xaxis": {
           "automargin": true,
           "gridcolor": "white",
           "linecolor": "white",
           "ticks": "",
           "title": {
            "standoff": 15
           },
           "zerolinecolor": "white",
           "zerolinewidth": 2
          },
          "yaxis": {
           "automargin": true,
           "gridcolor": "white",
           "linecolor": "white",
           "ticks": "",
           "title": {
            "standoff": 15
           },
           "zerolinecolor": "white",
           "zerolinewidth": 2
          }
         }
        },
        "title": {
         "font": {
          "size": 20
         },
         "text": "Top 20 Artists' Golden Era (1999-2019) with genres",
         "x": 0.5
        },
        "width": 1200,
        "xaxis": {
         "range": [
          1998,
          2020
         ],
         "showgrid": true,
         "showline": true,
         "tickmode": "linear",
         "title": {
          "font": {
           "size": 16
          },
          "text": "Year"
         }
        },
        "yaxis": {
         "automargin": true,
         "autorange": "reversed",
         "gridcolor": "white",
         "showgrid": false,
         "tickfont": {
          "size": 14
         },
         "title": {
          "font": {
           "size": 16
          },
          "text": "Artist"
         }
        }
       }
      }
     },
     "metadata": {},
     "output_type": "display_data"
    }
   ],
   "source": [
    "top['min'] = pd.to_datetime(top['min'])\n",
    "top['max'] = pd.to_datetime(top['max'])\n",
    "top_reset = top.reset_index()\n",
    "import plotly.graph_objects as go\n",
    "\n",
    "import plotly.graph_objects as go\n",
    "genre_color_map = {\n",
    "    'Country': '#1f77b4',  # Muted blue\n",
    "    'Pop': '#ff7f0e',      # Safety orange\n",
    "    'R&;B': '#2ca02c',      # Cooked asparagus green\n",
    "    'Rap': '#d62728',      # Brick red\n",
    "    'Rock': '#9467bd',     # Muted purple\n",
    "}\n",
    "\n",
    "\n",
    "# Create figure\n",
    "fig_full = go.Figure()\n",
    "legend_added = {genre: False for genre in genre_color_map.keys()}\n",
    "\n",
    "# Add a line for each artist\n",
    "for i, row in top_reset.iterrows():\n",
    "    genre_color = genre_color_map.get(row['Genre'], 'grey')\n",
    "    show_legend = not legend_added[row['Genre']]\n",
    "    legend_added[row['Genre']] = True\n",
    "    fig_full.add_trace(go.Scatter(\n",
    "        x=[row['min'].year, row['max'].year],\n",
    "        y=[row['Artist'], row['Artist']],\n",
    "        mode='lines+markers',\n",
    "        name=row['Genre'],\n",
    "        legendgroup=row['Genre'],  # Use genre as legend group\n",
    "        showlegend=show_legend,\n",
    "        #text=f\"{row['Artist']}<br>{row['Duration'].days} days\",\n",
    "        hovertext=f\"{row['Artist']}<br>Start: {row['min'].date()}<br>End: {row['max'].date()}<br>Duration: {row['Duration'].days} days<br>Genre:{row['Genre']}\",\n",
    "        textposition=\"bottom center\",\n",
    "        line=dict(width=2, color=genre_color),\n",
    "        marker=dict(size=10, color=genre_color),\n",
    "        hoverinfo='text',\n",
    "\n",
    "    ))\n",
    "\n",
    "# Update layout to adjust the look and feel of the plot\n",
    "fig_full.update_layout(\n",
    "    title='Top 20 Artists\\' Golden Era (1999-2019) with genres',\n",
    "    title_x=0.5,\n",
    "    title_font=dict(size=20),\n",
    "    xaxis=dict(\n",
    "        title='Year',\n",
    "        showgrid=True,  # Hide the x-axis grid lines\n",
    "        showline=True,\n",
    "        tickmode='linear',\n",
    "        title_font=dict(size=16),\n",
    "        #tickfont=dict(size=14),\n",
    "        range=[1998, 2020]  # Set the range for x-axis to cover the years of interest\n",
    "    ),\n",
    "    yaxis=dict(\n",
    "        title='Artist',\n",
    "        showgrid=False,  # Only show the grid lines for the y-axis\n",
    "        gridcolor='white',\n",
    "        autorange='reversed',\n",
    "        title_font=dict(size=16),\n",
    "        tickfont=dict(size=14),\n",
    "        automargin=True  # Automatically adjust the margin to fit the artist names\n",
    "    ),\n",
    "    hovermode='closest',  # Show hover for the closest point\n",
    "    legend_title='Genre',\n",
    "    legend=dict(orientation=\"h\", yanchor=\"bottom\", y=1.02, xanchor=\"right\", x=1),\n",
    "    showlegend=True,\n",
    "    height=700,\n",
    "    width=1200\n",
    "  \n",
    ")\n",
    "\n",
    "# Show figure\n",
    "fig_full.show()"
   ]
  },
  {
   "cell_type": "code",
   "execution_count": 58,
   "metadata": {},
   "outputs": [
    {
     "data": {
      "text/html": [
       "<div>\n",
       "<style scoped>\n",
       "    .dataframe tbody tr th:only-of-type {\n",
       "        vertical-align: middle;\n",
       "    }\n",
       "\n",
       "    .dataframe tbody tr th {\n",
       "        vertical-align: top;\n",
       "    }\n",
       "\n",
       "    .dataframe thead th {\n",
       "        text-align: right;\n",
       "    }\n",
       "</style>\n",
       "<table border=\"1\" class=\"dataframe\">\n",
       "  <thead>\n",
       "    <tr style=\"text-align: right;\">\n",
       "      <th></th>\n",
       "      <th>Name</th>\n",
       "      <th>Artist</th>\n",
       "      <th>Acousticness</th>\n",
       "      <th>Danceability</th>\n",
       "      <th>Duration</th>\n",
       "      <th>Energy</th>\n",
       "      <th>Explicit</th>\n",
       "      <th>Instrumentalness</th>\n",
       "      <th>Liveness</th>\n",
       "      <th>Loudness</th>\n",
       "      <th>Mode</th>\n",
       "      <th>Speechiness</th>\n",
       "      <th>Tempo</th>\n",
       "      <th>Valence</th>\n",
       "      <th>Genre</th>\n",
       "      <th>Popularity</th>\n",
       "      <th>Date</th>\n",
       "    </tr>\n",
       "  </thead>\n",
       "  <tbody>\n",
       "    <tr>\n",
       "      <th>0</th>\n",
       "      <td>...ready for it?</td>\n",
       "      <td>taylor swift</td>\n",
       "      <td>0.052700</td>\n",
       "      <td>0.613000</td>\n",
       "      <td>208.187000</td>\n",
       "      <td>0.764000</td>\n",
       "      <td>False</td>\n",
       "      <td>0.000000</td>\n",
       "      <td>0.197000</td>\n",
       "      <td>-6.509</td>\n",
       "      <td>1</td>\n",
       "      <td>0.136000</td>\n",
       "      <td>160.015</td>\n",
       "      <td>0.417000</td>\n",
       "      <td>Electronic,Electro-Pop,Pop</td>\n",
       "      <td>70</td>\n",
       "      <td>September 3, 2017</td>\n",
       "    </tr>\n",
       "    <tr>\n",
       "      <th>1</th>\n",
       "      <td>1 thing</td>\n",
       "      <td>amerie</td>\n",
       "      <td>0.115667</td>\n",
       "      <td>0.622667</td>\n",
       "      <td>239.475333</td>\n",
       "      <td>0.962333</td>\n",
       "      <td>False</td>\n",
       "      <td>0.000065</td>\n",
       "      <td>0.034133</td>\n",
       "      <td>-3.452</td>\n",
       "      <td>0</td>\n",
       "      <td>0.308667</td>\n",
       "      <td>127.671</td>\n",
       "      <td>0.858667</td>\n",
       "      <td>Pop,R&amp;;B</td>\n",
       "      <td>6</td>\n",
       "      <td>January 5, 2005</td>\n",
       "    </tr>\n",
       "    <tr>\n",
       "      <th>2</th>\n",
       "      <td>10 bands</td>\n",
       "      <td>drake</td>\n",
       "      <td>0.230000</td>\n",
       "      <td>0.835000</td>\n",
       "      <td>177.733000</td>\n",
       "      <td>0.756000</td>\n",
       "      <td>True</td>\n",
       "      <td>0.000000</td>\n",
       "      <td>0.080100</td>\n",
       "      <td>-3.789</td>\n",
       "      <td>1</td>\n",
       "      <td>0.382000</td>\n",
       "      <td>173.000</td>\n",
       "      <td>0.870000</td>\n",
       "      <td>Trap,Canada,Rap</td>\n",
       "      <td>66</td>\n",
       "      <td>February 13, 2015</td>\n",
       "    </tr>\n",
       "    <tr>\n",
       "      <th>3</th>\n",
       "      <td>100</td>\n",
       "      <td>the game</td>\n",
       "      <td>0.013600</td>\n",
       "      <td>0.801000</td>\n",
       "      <td>334.360000</td>\n",
       "      <td>0.521000</td>\n",
       "      <td>True</td>\n",
       "      <td>0.000000</td>\n",
       "      <td>0.179000</td>\n",
       "      <td>-9.871</td>\n",
       "      <td>0</td>\n",
       "      <td>0.280000</td>\n",
       "      <td>108.025</td>\n",
       "      <td>0.412000</td>\n",
       "      <td>Trap,Canada,West Coast,Rap</td>\n",
       "      <td>25</td>\n",
       "      <td>June 25, 2015</td>\n",
       "    </tr>\n",
       "    <tr>\n",
       "      <th>4</th>\n",
       "      <td>100 grandkids</td>\n",
       "      <td>mac miller</td>\n",
       "      <td>0.371000</td>\n",
       "      <td>0.735000</td>\n",
       "      <td>278.507000</td>\n",
       "      <td>0.749000</td>\n",
       "      <td>True</td>\n",
       "      <td>0.000000</td>\n",
       "      <td>0.470000</td>\n",
       "      <td>-3.766</td>\n",
       "      <td>0</td>\n",
       "      <td>0.087400</td>\n",
       "      <td>93.718</td>\n",
       "      <td>0.373000</td>\n",
       "      <td>Rap</td>\n",
       "      <td>65</td>\n",
       "      <td>August 7, 2015</td>\n",
       "    </tr>\n",
       "    <tr>\n",
       "      <th>...</th>\n",
       "      <td>...</td>\n",
       "      <td>...</td>\n",
       "      <td>...</td>\n",
       "      <td>...</td>\n",
       "      <td>...</td>\n",
       "      <td>...</td>\n",
       "      <td>...</td>\n",
       "      <td>...</td>\n",
       "      <td>...</td>\n",
       "      <td>...</td>\n",
       "      <td>...</td>\n",
       "      <td>...</td>\n",
       "      <td>...</td>\n",
       "      <td>...</td>\n",
       "      <td>...</td>\n",
       "      <td>...</td>\n",
       "      <td>...</td>\n",
       "    </tr>\n",
       "    <tr>\n",
       "      <th>3483</th>\n",
       "      <td>your side of the bed</td>\n",
       "      <td>little big town</td>\n",
       "      <td>0.676000</td>\n",
       "      <td>0.610000</td>\n",
       "      <td>221.680000</td>\n",
       "      <td>0.383000</td>\n",
       "      <td>False</td>\n",
       "      <td>0.000000</td>\n",
       "      <td>0.094900</td>\n",
       "      <td>-7.543</td>\n",
       "      <td>1</td>\n",
       "      <td>0.032200</td>\n",
       "      <td>137.766</td>\n",
       "      <td>0.164000</td>\n",
       "      <td>Country,Rock</td>\n",
       "      <td>48</td>\n",
       "      <td>April 8, 2013</td>\n",
       "    </tr>\n",
       "    <tr>\n",
       "      <th>3484</th>\n",
       "      <td>yours if you want it</td>\n",
       "      <td>rascal flatts</td>\n",
       "      <td>0.010200</td>\n",
       "      <td>0.544000</td>\n",
       "      <td>206.827000</td>\n",
       "      <td>0.903000</td>\n",
       "      <td>False</td>\n",
       "      <td>0.000000</td>\n",
       "      <td>0.108000</td>\n",
       "      <td>-3.151</td>\n",
       "      <td>1</td>\n",
       "      <td>0.053500</td>\n",
       "      <td>113.012</td>\n",
       "      <td>0.408000</td>\n",
       "      <td>Country</td>\n",
       "      <td>35</td>\n",
       "      <td>January 6, 2017</td>\n",
       "    </tr>\n",
       "    <tr>\n",
       "      <th>3485</th>\n",
       "      <td>youth of the nation</td>\n",
       "      <td>p.o.d.</td>\n",
       "      <td>0.008340</td>\n",
       "      <td>0.563000</td>\n",
       "      <td>256.240000</td>\n",
       "      <td>0.860000</td>\n",
       "      <td>False</td>\n",
       "      <td>0.010600</td>\n",
       "      <td>0.390000</td>\n",
       "      <td>-7.533</td>\n",
       "      <td>1</td>\n",
       "      <td>0.062100</td>\n",
       "      <td>97.867</td>\n",
       "      <td>0.517000</td>\n",
       "      <td>Alternative Rock,Alternative Metal,Rap Rock,Ro...</td>\n",
       "      <td>72</td>\n",
       "      <td>December 25, 2001</td>\n",
       "    </tr>\n",
       "    <tr>\n",
       "      <th>3486</th>\n",
       "      <td>yuck!</td>\n",
       "      <td>2 chainz</td>\n",
       "      <td>0.652000</td>\n",
       "      <td>0.600000</td>\n",
       "      <td>287.573000</td>\n",
       "      <td>0.882000</td>\n",
       "      <td>True</td>\n",
       "      <td>0.000236</td>\n",
       "      <td>0.146000</td>\n",
       "      <td>-4.385</td>\n",
       "      <td>0</td>\n",
       "      <td>0.292000</td>\n",
       "      <td>149.966</td>\n",
       "      <td>0.423000</td>\n",
       "      <td>Rap</td>\n",
       "      <td>35</td>\n",
       "      <td>August 14, 2012</td>\n",
       "    </tr>\n",
       "    <tr>\n",
       "      <th>3487</th>\n",
       "      <td>zero</td>\n",
       "      <td>chris brown</td>\n",
       "      <td>0.051700</td>\n",
       "      <td>0.731000</td>\n",
       "      <td>214.600000</td>\n",
       "      <td>0.818000</td>\n",
       "      <td>True</td>\n",
       "      <td>0.000000</td>\n",
       "      <td>0.074300</td>\n",
       "      <td>-4.564</td>\n",
       "      <td>0</td>\n",
       "      <td>0.063800</td>\n",
       "      <td>120.993</td>\n",
       "      <td>0.812000</td>\n",
       "      <td>Funk,Disco,R&amp;;B</td>\n",
       "      <td>57</td>\n",
       "      <td>September 18, 2015</td>\n",
       "    </tr>\n",
       "  </tbody>\n",
       "</table>\n",
       "<p>3488 rows × 17 columns</p>\n",
       "</div>"
      ],
      "text/plain": [
       "                      Name           Artist  Acousticness  Danceability  \\\n",
       "0         ...ready for it?     taylor swift      0.052700      0.613000   \n",
       "1                  1 thing           amerie      0.115667      0.622667   \n",
       "2                 10 bands            drake      0.230000      0.835000   \n",
       "3                      100         the game      0.013600      0.801000   \n",
       "4            100 grandkids       mac miller      0.371000      0.735000   \n",
       "...                    ...              ...           ...           ...   \n",
       "3483  your side of the bed  little big town      0.676000      0.610000   \n",
       "3484  yours if you want it    rascal flatts      0.010200      0.544000   \n",
       "3485   youth of the nation           p.o.d.      0.008340      0.563000   \n",
       "3486                 yuck!         2 chainz      0.652000      0.600000   \n",
       "3487                  zero      chris brown      0.051700      0.731000   \n",
       "\n",
       "        Duration    Energy  Explicit  Instrumentalness  Liveness  Loudness  \\\n",
       "0     208.187000  0.764000     False          0.000000  0.197000    -6.509   \n",
       "1     239.475333  0.962333     False          0.000065  0.034133    -3.452   \n",
       "2     177.733000  0.756000      True          0.000000  0.080100    -3.789   \n",
       "3     334.360000  0.521000      True          0.000000  0.179000    -9.871   \n",
       "4     278.507000  0.749000      True          0.000000  0.470000    -3.766   \n",
       "...          ...       ...       ...               ...       ...       ...   \n",
       "3483  221.680000  0.383000     False          0.000000  0.094900    -7.543   \n",
       "3484  206.827000  0.903000     False          0.000000  0.108000    -3.151   \n",
       "3485  256.240000  0.860000     False          0.010600  0.390000    -7.533   \n",
       "3486  287.573000  0.882000      True          0.000236  0.146000    -4.385   \n",
       "3487  214.600000  0.818000      True          0.000000  0.074300    -4.564   \n",
       "\n",
       "      Mode  Speechiness    Tempo   Valence  \\\n",
       "0        1     0.136000  160.015  0.417000   \n",
       "1        0     0.308667  127.671  0.858667   \n",
       "2        1     0.382000  173.000  0.870000   \n",
       "3        0     0.280000  108.025  0.412000   \n",
       "4        0     0.087400   93.718  0.373000   \n",
       "...    ...          ...      ...       ...   \n",
       "3483     1     0.032200  137.766  0.164000   \n",
       "3484     1     0.053500  113.012  0.408000   \n",
       "3485     1     0.062100   97.867  0.517000   \n",
       "3486     0     0.292000  149.966  0.423000   \n",
       "3487     0     0.063800  120.993  0.812000   \n",
       "\n",
       "                                                  Genre  Popularity  \\\n",
       "0                            Electronic,Electro-Pop,Pop          70   \n",
       "1                                              Pop,R&;B           6   \n",
       "2                                       Trap,Canada,Rap          66   \n",
       "3                            Trap,Canada,West Coast,Rap          25   \n",
       "4                                                   Rap          65   \n",
       "...                                                 ...         ...   \n",
       "3483                                       Country,Rock          48   \n",
       "3484                                            Country          35   \n",
       "3485  Alternative Rock,Alternative Metal,Rap Rock,Ro...          72   \n",
       "3486                                                Rap          35   \n",
       "3487                                    Funk,Disco,R&;B          57   \n",
       "\n",
       "                    Date  \n",
       "0      September 3, 2017  \n",
       "1        January 5, 2005  \n",
       "2      February 13, 2015  \n",
       "3          June 25, 2015  \n",
       "4         August 7, 2015  \n",
       "...                  ...  \n",
       "3483       April 8, 2013  \n",
       "3484     January 6, 2017  \n",
       "3485   December 25, 2001  \n",
       "3486     August 14, 2012  \n",
       "3487  September 18, 2015  \n",
       "\n",
       "[3488 rows x 17 columns]"
      ]
     },
     "execution_count": 58,
     "metadata": {},
     "output_type": "execute_result"
    }
   ],
   "source": [
    "data"
   ]
  },
  {
   "cell_type": "markdown",
   "id": "079c008f",
   "metadata": {},
   "source": [
    "# Dash Code"
   ]
  },
  {
   "cell_type": "code",
   "execution_count": 59,
   "metadata": {},
   "outputs": [
    {
     "data": {
      "text/html": [
       "\n",
       "        <iframe\n",
       "            width=\"100%\"\n",
       "            height=\"650\"\n",
       "            src=\"http://127.0.0.1:8083/\"\n",
       "            frameborder=\"0\"\n",
       "            allowfullscreen\n",
       "            \n",
       "        ></iframe>\n",
       "        "
      ],
      "text/plain": [
       "<IPython.lib.display.IFrame at 0x2a2323c90>"
      ]
     },
     "metadata": {},
     "output_type": "display_data"
    }
   ],
   "source": [
    "import dash\n",
    "from dash import html, dcc\n",
    "import dash_bootstrap_components as dbc\n",
    "\n",
    "# Assuming you have already loaded 'wordcloud1', 'wordcloud2', 'corr_df', and 'Yearly_Billboard_Trends'\n",
    "\n",
    "app = dash.Dash(__name__, external_stylesheets=[dbc.themes.BOOTSTRAP])\n",
    "\n",
    "app.layout = dbc.Container([\n",
    "    dbc.Row(\n",
    "        dbc.Col(\n",
    "            html.H1(children='Charting the Evolution of Music Trend'),\n",
    "            # width={'size': 8, 'offset': 3},\n",
    "            style={'text-align': 'center', 'margin-top':'20px', 'margin-bottom':'20px'}\n",
    "        )\n",
    "    ),\n",
    "    \n",
    "    dbc.Row([\n",
    "        dbc.Col(\n",
    "            html.H3(\"Popular Songs Over 2 Decades\"),\n",
    "            width=6,\n",
    "            style={'text-align': 'center'}\n",
    "        ),\n",
    "        dbc.Col(\n",
    "            html.H3(\"Popular Award winning Artist Over 2 Decades\"),\n",
    "            width=6,\n",
    "            style={'text-align': 'center'}\n",
    "        )]\n",
    "    ),\n",
    "    dbc.Row([\n",
    "    # First Chart: Song Trends\n",
    "    dbc.Col(\n",
    "        dcc.Graph(\n",
    "            id='bar-chart',\n",
    "            figure=fig_trend_song,\n",
    "            \n",
    "        ),\n",
    "        width=6  # Half width\n",
    "    ),\n",
    "\n",
    "    # Second Chart: Grammy Trends\n",
    "    dbc.Col(\n",
    "        dcc.Graph(\n",
    "            id='bar-chart_grammy',\n",
    "            figure=fig_grammy_trend\n",
    "        ),\n",
    "        width=6,  # Half width\n",
    "    ),\n",
    "]),\n",
    "\n",
    "    dbc.Row(\n",
    "        dbc.Col(\n",
    "            dcc.Graph(\n",
    "            id='adele-chart',\n",
    "            figure=fig_adele\n",
    "        )\n",
    "        )\n",
    "    ),\n",
    "\n",
    "    dbc.Row(\n",
    "        dbc.Col(\n",
    "            html.H2(\"Trends in Genres over the Years\"),\n",
    "            width=12,\n",
    "            style={'text-align': 'center'}\n",
    "        )\n",
    "    ),\n",
    "    \n",
    "    dbc.Row(\n",
    "        dbc.Col(    \n",
    "        dcc.Graph(\n",
    "        id='heatmap-graph',\n",
    "        figure=px.imshow(heatmap_df.values,\n",
    "                         x=heatmap_df.columns,\n",
    "                         y=heatmap_df.index,\n",
    "                         labels={'x': 'Genres', 'y': 'Year'},\n",
    "                         color_continuous_scale='YlGnBu',\n",
    "                         text_auto=True,\n",
    "                         height=600)\n",
    "        )\n",
    "        )\n",
    "    ),\n",
    "    \n",
    "    dbc.Row(\n",
    "        dbc.Col(\n",
    "            html.H2(\"Shift in Song Lyrics Trends across 2 Decades\"),\n",
    "            width=12,\n",
    "            style={'text-align': 'center','margin-bottom':'50px'}\n",
    "        )\n",
    "    ),\n",
    "    dbc.Row([\n",
    "        dbc.Col([\n",
    "            html.H2(\"1999-2009\"),\n",
    "            html.Img(src=wordcloud1.to_image(), style={'width': '100%'})\n",
    "        ], width=6),\n",
    "        dbc.Col([\n",
    "            html.H2(\"2010-2019\"),\n",
    "            html.Img(src=wordcloud2.to_image(), style={'width': '100%'})\n",
    "        ], width=6)\n",
    "    ],style={'margin-bottom': '50px'}\n",
    "    ),\n",
    "\n",
    "dbc.Row(\n",
    "        dbc.Col(\n",
    "            html.H2(\"Kernel Density Estimate of Song Attributes Over 2 Decades\"),\n",
    "            width=12,\n",
    "            style={'text-align': 'center','margin-bottom': '10px'}\n",
    "        )\n",
    "    ),\n",
    "\n",
    "    dbc.Row(\n",
    "        dbc.Col([ \n",
    "            dcc.Dropdown(\n",
    "            id='attribute-dropdown',\n",
    "            options=[\n",
    "                {'label': attr, 'value': attr} for attr in song_attributes\n",
    "            ],\n",
    "            value=[song_attributes[0]],\n",
    "            multi=True\n",
    "            ),\n",
    "             dcc.Graph(\n",
    "                id='kde-plot'\n",
    "            )]\n",
    "        )\n",
    "    ),\n",
    "dbc.Row(\n",
    "        dbc.Col(\n",
    "            html.H2(\"Shift in trends of Song Attributes over the years\"),\n",
    "            width=12,\n",
    "            style={'text-align': 'center','margin-bottom':'50px'}\n",
    "        )\n",
    "    ),\n",
    "dbc.Row(\n",
    "        dbc.Col([\n",
    "            dcc.Dropdown(\n",
    "                id='y-dropdown',\n",
    "                options=[\n",
    "                    {'label': col, 'value': col} for col in Yearly_Billboard_Trends.columns if col != 'BillboardYear'\n",
    "                ],\n",
    "                value='Energy',\n",
    "                multi=False,\n",
    "                style={'width': '48%','text-align': 'center','display':'inline-block'}\n",
    "            ),\n",
    "\n",
    "            dcc.Dropdown(\n",
    "                id='color-dropdown',\n",
    "                options=[\n",
    "                    {'label': col, 'value': col} for col in Yearly_Billboard_Trends.columns if col != 'BillboardYear'\n",
    "                ],\n",
    "                value='Loudness',\n",
    "                multi=False,\n",
    "                style={'width': '48%', 'text-align': 'center','display':'inline-block'}\n",
    "            ),\n",
    "            \n",
    "            dcc.Graph(\n",
    "                id='custom-graph'\n",
    "            )\n",
    "        ], width=12, style={'text-align': 'center'}),style={'margin-bottom': '50px'}\n",
    "    ),\n",
    "dbc.Row(\n",
    "        dbc.Col(\n",
    "            html.H2(\"Radar Chart\"),\n",
    "            width=12,\n",
    "            style={'text-align': 'center','margin-bottom': '30px'}\n",
    "        )\n",
    "    ),\n",
    " dbc.Row([\n",
    "        # Column for dropdowns\n",
    "        dbc.Col([\n",
    "            dcc.Dropdown(\n",
    "                id='artist-dropdown',\n",
    "                options=[{'label': artist, 'value': artist} for artist in artists],\n",
    "                value=None,\n",
    "                placeholder=\"Select an Song by Artist\",\n",
    "                multi=True,\n",
    "                clearable=True,\n",
    "                style={'margin-bottom': '10px'}\n",
    "            ),\n",
    "            dcc.Dropdown(\n",
    "                id='year-dropdown',\n",
    "                options=[{'label': year, 'value': year} for year in years],\n",
    "                placeholder=\"Select a Year\",\n",
    "                multi=True,\n",
    "                clearable=True,\n",
    "                style={'margin-bottom': '10px'}\n",
    "            ),\n",
    "            dcc.Dropdown(\n",
    "                id='genre-dropdown',\n",
    "                options=[{'label': genre, 'value': genre} for genre in genere_list],\n",
    "                placeholder=\"Select a Genre\",\n",
    "                clearable=True,\n",
    "                style={'margin-bottom': '10px'}\n",
    "            ),\n",
    "        ], ),\n",
    "]),\n",
    "\n",
    "dbc.Row([\n",
    "    dbc.Col([\n",
    "        dcc.Graph(id='radar-chart' ,config={'displayModeBar': False}, style={'width': '100%', 'height': '80vh'})\n",
    "    ], width=8),\n",
    "], style={'text-align': 'center', 'margin-bottom': '10px','margin':'auto'}\n",
    "),\n",
    "\n",
    "    dbc.Row(\n",
    "        dbc.Col(\n",
    "            dcc.Graph(\n",
    "            id='popular_artists-chart',\n",
    "            figure=fig_full,\n",
    "            \n",
    "        )\n",
    "        )\n",
    "    ),\n",
    "    \n",
    "#     dbc.Row(\n",
    "#         dbc.Col(\n",
    "#             html.H2(\"Correlation between Song Attributes\"),\n",
    "#             width=12,\n",
    "#             style={'text-align': 'center'}\n",
    "#         )\n",
    "#     ),\n",
    "#     dbc.Row(\n",
    "#         dbc.Col(\n",
    "#             dcc.Graph(\n",
    "#                 id='heatmap',\n",
    "#                 figure=px.imshow(corr_df.values,\n",
    "#                          x=corr_df.columns,\n",
    "#                          y=corr_df.index,\n",
    "#                          color_continuous_scale='YlGnBu',\n",
    "#                          text_auto=True),style={'width': '100%', 'height': '600px'}\n",
    "#             )\n",
    "#         )\n",
    "#     ),-\n",
    "            \n",
    "], fluid=False)\n",
    "\n",
    "\n",
    "@app.callback(\n",
    "    [Output('kde-plot', 'figure'),\n",
    "     Output('custom-graph', 'figure')],\n",
    "    [Input('attribute-dropdown', 'value'),\n",
    "     Input('y-dropdown', 'value'),\n",
    "     Input('color-dropdown', 'value')]\n",
    ")\n",
    "\n",
    "def update_figure(selected_attributes, selected_y, selected_color):\n",
    "    if not isinstance(selected_attributes, list):\n",
    "        selected_attributes = [selected_attributes]\n",
    "    \n",
    "    fig = go.Figure()\n",
    "\n",
    "    # Collect all KDE y-values to find the global maximum\n",
    "    all_kde_y_values = []\n",
    "\n",
    "    for attr in selected_attributes:\n",
    "        normalized_data = data[attr]\n",
    "        # fig.add_trace(go.Histogram(\n",
    "        #     x=normalized_data, \n",
    "        #     histnorm='probability density', \n",
    "        #     name=attr,\n",
    "        #     opacity=0.6,\n",
    "        #     marker=dict(color=np.random.rand(3,))\n",
    "        # ))\n",
    "\n",
    "        # Create KDE\n",
    "        kde = ff.create_distplot([normalized_data], [attr], show_hist=False, show_rug=False).data[0]\n",
    "        all_kde_y_values.extend(kde['y'])\n",
    "\n",
    "    # Find the maximum y-value across all KDE plots\n",
    "    if len(all_kde_y_values) >0:\n",
    "        max_kde_value = max(all_kde_y_values)\n",
    "    else:\n",
    "        max_kde_value = 1\n",
    "\n",
    "    # Add scaled KDE plots\n",
    "    for attr in selected_attributes:\n",
    "        normalized_data = data[attr]\n",
    "        kde = ff.create_distplot([normalized_data], [attr], show_hist=False, show_rug=False).data[0]\n",
    "        scaled_y = [y / max_kde_value for y in kde['y']]  # Scale the y-values\n",
    "\n",
    "        fig.add_trace(go.Scatter(\n",
    "            x=kde['x'], \n",
    "            y=scaled_y, \n",
    "            mode='lines', \n",
    "            fill='tozeroy',\n",
    "            name=attr + ' KDE'\n",
    "        ))\n",
    "\n",
    "    fig.update_layout(\n",
    "        title_text='Scaled KDE Plot for Selected Song Attributes',\n",
    "        xaxis_title_text='Value', \n",
    "        yaxis_title_text='Density'\n",
    "    )\n",
    "    \n",
    "    return fig, update_graph(selected_y, selected_color)\n",
    "\n",
    "def update_graph(selected_y, selected_color):\n",
    "    fig = px.bar(Yearly_Billboard_Trends, x='BillboardYear', y=selected_y, title=f'{selected_y} Trend Over Years', color=selected_color)\n",
    "    return fig\n",
    "\n",
    "@app.callback(\n",
    "    Output('radar-chart', 'figure'),\n",
    "    [Input('artist-dropdown', 'value'),\n",
    "     Input('year-dropdown', 'value'),\n",
    "     Input('genre-dropdown', 'value')]\n",
    ")\n",
    "def update_graph1(selected_artist, selected_year, selected_genre):\n",
    "    # Filter data based on selections\n",
    "    filtered_data = genere\n",
    "    if selected_artist:\n",
    "        filtered_data = filtered_data[filtered_data['Song by Artist'].isin(selected_artist)]\n",
    "    if selected_year:\n",
    "        filtered_data = filtered_data[filtered_data['Year'].astype(str).isin(selected_year)]\n",
    "    if selected_genre:\n",
    "        filtered_data = filtered_data[filtered_data['Genre'].str.contains(selected_genre)]\n",
    "    \n",
    "    # Calculate mean of song attributes\n",
    "    mean_attributes = filtered_data[['Acousticness', 'Danceability', 'Energy',  \n",
    "                                     'Liveness', 'Loudness', 'Speechiness',  'Valence']].mean()\n",
    "\n",
    "    # Create radar chart\n",
    "    categories = mean_attributes.index\n",
    "    values = mean_attributes.values\n",
    "\n",
    "    fig = go.Figure()\n",
    "\n",
    "    fig.add_trace(go.Scatterpolar(\n",
    "        r=values,\n",
    "        theta=categories,\n",
    "        fill='toself',\n",
    "    ))\n",
    "\n",
    "    fig.update_layout(\n",
    "        polar=dict(\n",
    "            radialaxis=dict(\n",
    "                visible=True,\n",
    "                range=[0, 1]\n",
    "            )),\n",
    "            \n",
    "        showlegend=False, title_text='Song Attributes'\n",
    "    )\n",
    "\n",
    "    return fig\n",
    "if __name__ == '__main__':\n",
    "    app.run_server(debug=True, port=8083)\n"
   ]
  },
  {
   "cell_type": "code",
   "execution_count": null,
   "metadata": {},
   "outputs": [],
   "source": []
  },
  {
   "cell_type": "code",
   "execution_count": null,
   "metadata": {},
   "outputs": [],
   "source": []
  },
  {
   "cell_type": "code",
   "execution_count": null,
   "metadata": {},
   "outputs": [],
   "source": []
  },
  {
   "cell_type": "code",
   "execution_count": null,
   "metadata": {},
   "outputs": [],
   "source": []
  },
  {
   "cell_type": "code",
   "execution_count": null,
   "metadata": {},
   "outputs": [],
   "source": []
  },
  {
   "cell_type": "code",
   "execution_count": null,
   "metadata": {},
   "outputs": [],
   "source": []
  },
  {
   "cell_type": "code",
   "execution_count": null,
   "metadata": {},
   "outputs": [],
   "source": []
  },
  {
   "cell_type": "code",
   "execution_count": 111,
   "id": "f9fef22f",
   "metadata": {},
   "outputs": [
    {
     "data": {
      "text/html": [
       "\n",
       "        <iframe\n",
       "            width=\"100%\"\n",
       "            height=\"650\"\n",
       "            src=\"http://127.0.0.1:8083/\"\n",
       "            frameborder=\"0\"\n",
       "            allowfullscreen\n",
       "            \n",
       "        ></iframe>\n",
       "        "
      ],
      "text/plain": [
       "<IPython.lib.display.IFrame at 0x20024973fa0>"
      ]
     },
     "metadata": {},
     "output_type": "display_data"
    }
   ],
   "source": []
  },
  {
   "cell_type": "code",
   "execution_count": 80,
   "id": "a6a1ebec",
   "metadata": {},
   "outputs": [],
   "source": []
  },
  {
   "cell_type": "code",
   "execution_count": null,
   "id": "35f1eef7",
   "metadata": {},
   "outputs": [],
   "source": []
  }
 ],
 "metadata": {
  "kernelspec": {
   "display_name": "Python 3",
   "language": "python",
   "name": "python3"
  },
  "language_info": {
   "codemirror_mode": {
    "name": "ipython",
    "version": 3
   },
   "file_extension": ".py",
   "mimetype": "text/x-python",
   "name": "python",
   "nbconvert_exporter": "python",
   "pygments_lexer": "ipython3",
   "version": "3.11.5"
  },
  "vscode": {
   "interpreter": {
    "hash": "b0fa6594d8f4cbf19f97940f81e996739fb7646882a419484c72d19e05852a7e"
   }
  }
 },
 "nbformat": 4,
 "nbformat_minor": 5
}
