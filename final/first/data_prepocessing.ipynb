{
 "cells": [
  {
   "cell_type": "code",
   "execution_count": 1,
   "id": "98af3c8f",
   "metadata": {},
   "outputs": [],
   "source": [
    "import numpy as np\n",
    "import pandas as pd\n",
    "import matplotlib.pyplot as plt\n",
    "import plotly.graph_objects as go\n",
    "import plotly.express as px\n",
    "from bokeh.plotting import figure\n",
    "from bokeh.models import ColumnDataSource,HoverTool\n",
    "from bokeh.io import show, output_notebook\n",
    "from scipy.ndimage import gaussian_gradient_magnitude\n",
    "from PIL import Image\n",
    "from wordcloud import WordCloud, STOPWORDS, ImageColorGenerator\n",
    "import seaborn as sns\n",
    "from matplotlib_venn import venn2\n",
    "import scipy as sp\n",
    "import os"
   ]
  },
  {
   "cell_type": "code",
   "execution_count": 2,
   "id": "328fa812",
   "metadata": {},
   "outputs": [],
   "source": [
    "grammy_data_path = '../datasets/grammySongs_1999-2019.csv'\n",
    "spotify_data_path = '../datasets/songAttributes_1999-2019.csv'\n",
    "billboard_data_path = '../datasets/billboardHot100_1999-2019.csv'"
   ]
  },
  {
   "cell_type": "code",
   "execution_count": 3,
   "id": "fd2c27d7",
   "metadata": {},
   "outputs": [],
   "source": [
    "spotify = pd.read_csv(spotify_data_path)\n",
    "grammy = pd.read_csv(grammy_data_path)\n",
    "billboard = pd.read_csv(billboard_data_path)"
   ]
  },
  {
   "cell_type": "code",
   "execution_count": 4,
   "id": "039cf340",
   "metadata": {},
   "outputs": [
    {
     "data": {
      "text/plain": [
       "154931"
      ]
     },
     "execution_count": 4,
     "metadata": {},
     "output_type": "execute_result"
    }
   ],
   "source": [
    "len(spotify)"
   ]
  },
  {
   "cell_type": "code",
   "execution_count": 5,
   "id": "8a12928f",
   "metadata": {},
   "outputs": [
    {
     "data": {
      "text/plain": [
       "428"
      ]
     },
     "execution_count": 5,
     "metadata": {},
     "output_type": "execute_result"
    }
   ],
   "source": [
    "len(grammy)"
   ]
  },
  {
   "cell_type": "code",
   "execution_count": 6,
   "id": "5a6ee1cf",
   "metadata": {},
   "outputs": [
    {
     "data": {
      "text/plain": [
       "97225"
      ]
     },
     "execution_count": 6,
     "metadata": {},
     "output_type": "execute_result"
    }
   ],
   "source": [
    "len(billboard)"
   ]
  },
  {
   "cell_type": "code",
   "execution_count": 7,
   "id": "8b692d15",
   "metadata": {},
   "outputs": [],
   "source": [
    "spotify['Artist'] = spotify['Artist'].str.strip(\"[]\")\n",
    "spotify['Artist'] = spotify['Artist'].str.replace(\"'\", \"\").str.replace(\" &\", \",\")\n",
    "spotify.rename(columns = {'name':'Name'}, inplace = True)\n",
    "spotify['Name'] = spotify['Name'].str.lower()\n",
    "spotify['Artist'] = spotify['Artist'].str.lower()\n",
    "spotify['Duration'] = spotify['Duration']/1000\n",
    "\n",
    "billboard.rename(columns = {'Artists':'Artist'}, inplace = True)\n",
    "billboard['Artist'] = billboard['Artist'].str.replace(\" &\", \",\")\n",
    "billboard['Name'] = billboard['Name'].str.lower()\n",
    "billboard['Artist'] = billboard['Artist'].str.lower()"
   ]
  },
  {
   "cell_type": "code",
   "execution_count": null,
   "id": "4f48fc17",
   "metadata": {},
   "outputs": [],
   "source": [
    "songs = spotify.groupby(['Name', 'Artist'], as_index = False).agg({'Acousticness' : 'mean', 'Danceability' : 'mean', 'Duration' : 'mean', 'Energy' : 'mean', 'Explicit' : 'max', 'Instrumentalness' : 'mean',  'Liveness' : 'mean',  'Loudness' : 'mean',  'Mode' : 'max', 'Popularity' : 'sum', 'Speechiness' : 'mean', 'Tempo' : 'mean', 'Valence' : 'mean'})\n",
    "\n",
    "bb1 = billboard.groupby(['Name', 'Artist', 'Week', 'Weekly.rank'], as_index = False).agg({'Weeks.on.chart' : 'max', 'Peak.position' : 'min', 'Genre' : 'first', 'Date':'first'})\n",
    "bb1 = bb1.merge(songs, on = ['Name', 'Artist'])\n",
    "bb2 = bb1.groupby(['Name','Artist'], as_index = False).agg({'Weeks.on.chart' : 'max', 'Peak.position' : 'min'})\n",
    "bb2 = bb2.dropna(subset = ['Peak.position', 'Weeks.on.chart'])\n",
    "bb3 = bb1.groupby(['Name','Artist'], as_index = False).agg({'Acousticness' : 'mean', 'Danceability' : 'mean', 'Duration' : 'mean', 'Energy' : 'mean', 'Explicit' : 'max', 'Instrumentalness' : 'mean',  'Liveness' : 'mean',  'Loudness' : 'mean',  'Mode' : 'max', 'Speechiness' : 'mean', 'Tempo' : 'mean', 'Valence' : 'mean','Genre' : 'first', 'Date':'first'})"
   ]
  },
  {
   "cell_type": "code",
   "execution_count": null,
   "id": "c3062221",
   "metadata": {},
   "outputs": [],
   "source": [
    "bb1.shape"
   ]
  },
  {
   "cell_type": "code",
   "execution_count": null,
   "id": "c110cb86",
   "metadata": {},
   "outputs": [],
   "source": [
    "bb2.shape"
   ]
  },
  {
   "cell_type": "code",
   "execution_count": null,
   "id": "39c2f9fa",
   "metadata": {},
   "outputs": [],
   "source": [
    "bb3.shape"
   ]
  },
  {
   "cell_type": "code",
   "execution_count": null,
   "id": "041bf7ad",
   "metadata": {},
   "outputs": [],
   "source": [
    "songs.shape"
   ]
  },
  {
   "cell_type": "code",
   "execution_count": null,
   "id": "15a1d676",
   "metadata": {},
   "outputs": [],
   "source": []
  },
  {
   "cell_type": "code",
   "execution_count": null,
   "id": "619da791",
   "metadata": {},
   "outputs": [],
   "source": [
    "# bb3['YearRelease'] = pd.to_datetime(bb3['Date'])\n",
    "# bb3['YearRelease'] = bb3['YearRelease'].dt.year\n",
    "\n",
    "# bb1['YearRelease'] = pd.to_datetime(bb1['Week'])\n",
    "# bb1['YearRelease'] = bb1['YearRelease'].dt.year\n",
    "\n",
    "# bb1['MonthRelease'] = pd.to_datetime(bb1['Week'])\n",
    "# bb1['MonthRelease'] = bb1['MonthRelease'].dt.month\n",
    "\n",
    "songs['Name'] = songs['Name'].str.title()\n",
    "songs['Artist'] = songs['Artist'].str.title()\n",
    "bb1['Name'] = bb1['Name'].str.title()\n",
    "bb1['Artist'] = bb1['Artist'].str.title()\n",
    "bb2['Name'] = bb2['Name'].str.title()\n",
    "bb2['Artist'] = bb2['Artist'].str.title()\n",
    "bb3['Name'] = bb3['Name'].str.title()\n",
    "bb3['Artist'] = bb3['Artist'].str.title()\n",
    "bb1['Loudness'] = bb1['Loudness']/60 + 1\n",
    "bb3['Loudness'] = bb3['Loudness']/60 + 1\n",
    "songs['Loudness'] = songs['Loudness']/60 + 1"
   ]
  },
  {
   "cell_type": "code",
   "execution_count": null,
   "id": "711b2cfa",
   "metadata": {},
   "outputs": [],
   "source": [
    "bb1.shape"
   ]
  },
  {
   "cell_type": "code",
   "execution_count": null,
   "id": "6f6cdcb8",
   "metadata": {},
   "outputs": [],
   "source": [
    "bb2.shape"
   ]
  },
  {
   "cell_type": "code",
   "execution_count": null,
   "id": "3c5ce7e0",
   "metadata": {},
   "outputs": [],
   "source": [
    "bb3.shape"
   ]
  },
  {
   "cell_type": "code",
   "execution_count": null,
   "id": "7430efb9",
   "metadata": {},
   "outputs": [],
   "source": [
    "songs.shape"
   ]
  }
 ],
 "metadata": {
  "kernelspec": {
   "display_name": "Python 3",
   "language": "python",
   "name": "python3"
  },
  "language_info": {
   "codemirror_mode": {
    "name": "ipython",
    "version": 3
   },
   "file_extension": ".py",
   "mimetype": "text/x-python",
   "name": "python",
   "nbconvert_exporter": "python",
   "pygments_lexer": "ipython3",
   "version": "3.10.6"
  }
 },
 "nbformat": 4,
 "nbformat_minor": 5
}
