{
  "cells": [
    {
      "cell_type": "code",
      "execution_count": 1,
      "metadata": {
        "colab": {
          "base_uri": "https://localhost:8080/"
        },
        "id": "Yy9IkdmZqag5",
        "outputId": "5e35d73c-4d47-4e04-a74e-b4cc9e0f5fea"
      },
      "outputs": [
        {
          "name": "stdout",
          "output_type": "stream",
          "text": [
            "Collecting dash\n",
            "  Downloading dash-2.14.2-py3-none-any.whl (10.2 MB)\n",
            "\u001b[2K     \u001b[90m━━━━━━━━━━━━━━━━━━━━━━━━━━━━━━━━━━━━━━━━\u001b[0m \u001b[32m10.2/10.2 MB\u001b[0m \u001b[31m58.1 MB/s\u001b[0m eta \u001b[36m0:00:00\u001b[0m\n",
            "\u001b[?25hRequirement already satisfied: Flask<3.1,>=1.0.4 in /usr/local/lib/python3.10/dist-packages (from dash) (2.2.5)\n",
            "Requirement already satisfied: Werkzeug<3.1 in /usr/local/lib/python3.10/dist-packages (from dash) (3.0.1)\n",
            "Requirement already satisfied: plotly>=5.0.0 in /usr/local/lib/python3.10/dist-packages (from dash) (5.15.0)\n",
            "Collecting dash-html-components==2.0.0 (from dash)\n",
            "  Downloading dash_html_components-2.0.0-py3-none-any.whl (4.1 kB)\n",
            "Collecting dash-core-components==2.0.0 (from dash)\n",
            "  Downloading dash_core_components-2.0.0-py3-none-any.whl (3.8 kB)\n",
            "Collecting dash-table==5.0.0 (from dash)\n",
            "  Downloading dash_table-5.0.0-py3-none-any.whl (3.9 kB)\n",
            "Requirement already satisfied: typing-extensions>=4.1.1 in /usr/local/lib/python3.10/dist-packages (from dash) (4.5.0)\n",
            "Requirement already satisfied: requests in /usr/local/lib/python3.10/dist-packages (from dash) (2.31.0)\n",
            "Collecting retrying (from dash)\n",
            "  Downloading retrying-1.3.4-py3-none-any.whl (11 kB)\n",
            "Collecting ansi2html (from dash)\n",
            "  Downloading ansi2html-1.8.0-py3-none-any.whl (16 kB)\n",
            "Requirement already satisfied: nest-asyncio in /usr/local/lib/python3.10/dist-packages (from dash) (1.5.8)\n",
            "Requirement already satisfied: setuptools in /usr/local/lib/python3.10/dist-packages (from dash) (67.7.2)\n",
            "Requirement already satisfied: importlib-metadata in /usr/local/lib/python3.10/dist-packages (from dash) (6.8.0)\n",
            "Requirement already satisfied: Jinja2>=3.0 in /usr/local/lib/python3.10/dist-packages (from Flask<3.1,>=1.0.4->dash) (3.1.2)\n",
            "Requirement already satisfied: itsdangerous>=2.0 in /usr/local/lib/python3.10/dist-packages (from Flask<3.1,>=1.0.4->dash) (2.1.2)\n",
            "Requirement already satisfied: click>=8.0 in /usr/local/lib/python3.10/dist-packages (from Flask<3.1,>=1.0.4->dash) (8.1.7)\n",
            "Requirement already satisfied: tenacity>=6.2.0 in /usr/local/lib/python3.10/dist-packages (from plotly>=5.0.0->dash) (8.2.3)\n",
            "Requirement already satisfied: packaging in /usr/local/lib/python3.10/dist-packages (from plotly>=5.0.0->dash) (23.2)\n",
            "Requirement already satisfied: MarkupSafe>=2.1.1 in /usr/local/lib/python3.10/dist-packages (from Werkzeug<3.1->dash) (2.1.3)\n",
            "Requirement already satisfied: zipp>=0.5 in /usr/local/lib/python3.10/dist-packages (from importlib-metadata->dash) (3.17.0)\n",
            "Requirement already satisfied: charset-normalizer<4,>=2 in /usr/local/lib/python3.10/dist-packages (from requests->dash) (3.3.2)\n",
            "Requirement already satisfied: idna<4,>=2.5 in /usr/local/lib/python3.10/dist-packages (from requests->dash) (3.6)\n",
            "Requirement already satisfied: urllib3<3,>=1.21.1 in /usr/local/lib/python3.10/dist-packages (from requests->dash) (2.0.7)\n",
            "Requirement already satisfied: certifi>=2017.4.17 in /usr/local/lib/python3.10/dist-packages (from requests->dash) (2023.11.17)\n",
            "Requirement already satisfied: six>=1.7.0 in /usr/local/lib/python3.10/dist-packages (from retrying->dash) (1.16.0)\n",
            "Installing collected packages: dash-table, dash-html-components, dash-core-components, retrying, ansi2html, dash\n",
            "Successfully installed ansi2html-1.8.0 dash-2.14.2 dash-core-components-2.0.0 dash-html-components-2.0.0 dash-table-5.0.0 retrying-1.3.4\n"
          ]
        }
      ],
      "source": [
        "#!pip install dash"
      ]
    },
    {
      "cell_type": "code",
      "execution_count": 2,
      "metadata": {
        "colab": {
          "base_uri": "https://localhost:8080/"
        },
        "id": "V7tEy8iGqhbR",
        "outputId": "d5e3d0d9-ec6c-43f5-b8a6-7aa85096cf8e"
      },
      "outputs": [
        {
          "name": "stdout",
          "output_type": "stream",
          "text": [
            "Collecting dash-bootstrap-components\n",
            "  Downloading dash_bootstrap_components-1.5.0-py3-none-any.whl (221 kB)\n",
            "\u001b[2K     \u001b[90m━━━━━━━━━━━━━━━━━━━━━━━━━━━━━━━━━━━━━━━━\u001b[0m \u001b[32m221.2/221.2 kB\u001b[0m \u001b[31m3.1 MB/s\u001b[0m eta \u001b[36m0:00:00\u001b[0m\n",
            "\u001b[?25hRequirement already satisfied: dash>=2.0.0 in /usr/local/lib/python3.10/dist-packages (from dash-bootstrap-components) (2.14.2)\n",
            "Requirement already satisfied: Flask<3.1,>=1.0.4 in /usr/local/lib/python3.10/dist-packages (from dash>=2.0.0->dash-bootstrap-components) (2.2.5)\n",
            "Requirement already satisfied: Werkzeug<3.1 in /usr/local/lib/python3.10/dist-packages (from dash>=2.0.0->dash-bootstrap-components) (3.0.1)\n",
            "Requirement already satisfied: plotly>=5.0.0 in /usr/local/lib/python3.10/dist-packages (from dash>=2.0.0->dash-bootstrap-components) (5.15.0)\n",
            "Requirement already satisfied: dash-html-components==2.0.0 in /usr/local/lib/python3.10/dist-packages (from dash>=2.0.0->dash-bootstrap-components) (2.0.0)\n",
            "Requirement already satisfied: dash-core-components==2.0.0 in /usr/local/lib/python3.10/dist-packages (from dash>=2.0.0->dash-bootstrap-components) (2.0.0)\n",
            "Requirement already satisfied: dash-table==5.0.0 in /usr/local/lib/python3.10/dist-packages (from dash>=2.0.0->dash-bootstrap-components) (5.0.0)\n",
            "Requirement already satisfied: typing-extensions>=4.1.1 in /usr/local/lib/python3.10/dist-packages (from dash>=2.0.0->dash-bootstrap-components) (4.5.0)\n",
            "Requirement already satisfied: requests in /usr/local/lib/python3.10/dist-packages (from dash>=2.0.0->dash-bootstrap-components) (2.31.0)\n",
            "Requirement already satisfied: retrying in /usr/local/lib/python3.10/dist-packages (from dash>=2.0.0->dash-bootstrap-components) (1.3.4)\n",
            "Requirement already satisfied: ansi2html in /usr/local/lib/python3.10/dist-packages (from dash>=2.0.0->dash-bootstrap-components) (1.8.0)\n",
            "Requirement already satisfied: nest-asyncio in /usr/local/lib/python3.10/dist-packages (from dash>=2.0.0->dash-bootstrap-components) (1.5.8)\n",
            "Requirement already satisfied: setuptools in /usr/local/lib/python3.10/dist-packages (from dash>=2.0.0->dash-bootstrap-components) (67.7.2)\n",
            "Requirement already satisfied: importlib-metadata in /usr/local/lib/python3.10/dist-packages (from dash>=2.0.0->dash-bootstrap-components) (6.8.0)\n",
            "Requirement already satisfied: Jinja2>=3.0 in /usr/local/lib/python3.10/dist-packages (from Flask<3.1,>=1.0.4->dash>=2.0.0->dash-bootstrap-components) (3.1.2)\n",
            "Requirement already satisfied: itsdangerous>=2.0 in /usr/local/lib/python3.10/dist-packages (from Flask<3.1,>=1.0.4->dash>=2.0.0->dash-bootstrap-components) (2.1.2)\n",
            "Requirement already satisfied: click>=8.0 in /usr/local/lib/python3.10/dist-packages (from Flask<3.1,>=1.0.4->dash>=2.0.0->dash-bootstrap-components) (8.1.7)\n",
            "Requirement already satisfied: tenacity>=6.2.0 in /usr/local/lib/python3.10/dist-packages (from plotly>=5.0.0->dash>=2.0.0->dash-bootstrap-components) (8.2.3)\n",
            "Requirement already satisfied: packaging in /usr/local/lib/python3.10/dist-packages (from plotly>=5.0.0->dash>=2.0.0->dash-bootstrap-components) (23.2)\n",
            "Requirement already satisfied: MarkupSafe>=2.1.1 in /usr/local/lib/python3.10/dist-packages (from Werkzeug<3.1->dash>=2.0.0->dash-bootstrap-components) (2.1.3)\n",
            "Requirement already satisfied: zipp>=0.5 in /usr/local/lib/python3.10/dist-packages (from importlib-metadata->dash>=2.0.0->dash-bootstrap-components) (3.17.0)\n",
            "Requirement already satisfied: charset-normalizer<4,>=2 in /usr/local/lib/python3.10/dist-packages (from requests->dash>=2.0.0->dash-bootstrap-components) (3.3.2)\n",
            "Requirement already satisfied: idna<4,>=2.5 in /usr/local/lib/python3.10/dist-packages (from requests->dash>=2.0.0->dash-bootstrap-components) (3.6)\n",
            "Requirement already satisfied: urllib3<3,>=1.21.1 in /usr/local/lib/python3.10/dist-packages (from requests->dash>=2.0.0->dash-bootstrap-components) (2.0.7)\n",
            "Requirement already satisfied: certifi>=2017.4.17 in /usr/local/lib/python3.10/dist-packages (from requests->dash>=2.0.0->dash-bootstrap-components) (2023.11.17)\n",
            "Requirement already satisfied: six>=1.7.0 in /usr/local/lib/python3.10/dist-packages (from retrying->dash>=2.0.0->dash-bootstrap-components) (1.16.0)\n",
            "Installing collected packages: dash-bootstrap-components\n",
            "Successfully installed dash-bootstrap-components-1.5.0\n"
          ]
        }
      ],
      "source": [
        "#!pip install dash-bootstrap-components\n",
        "\n"
      ]
    },
    {
      "cell_type": "code",
      "execution_count": 7,
      "metadata": {
        "id": "3serPFz9sB2_"
      },
      "outputs": [],
      "source": [
        "import pandas as pd\n",
        "import IPython.display as ipd\n",
        "import dash\n",
        "from dash import dcc, html\n",
        "from dash.dependencies import Input, Output\n",
        "import dash_bootstrap_components as dbc\n",
        "import plotly.graph_objects as go\n",
        "import plotly.express as px\n",
        "import plotly.figure_factory as ff"
      ]
    },
    {
      "cell_type": "code",
      "execution_count": 6,
      "metadata": {},
      "outputs": [
        {
          "name": "stdout",
          "output_type": "stream",
          "text": [
            "Collecting dash-bootstrap-components\n",
            "  Obtaining dependency information for dash-bootstrap-components from https://files.pythonhosted.org/packages/cd/2a/cf963336e8b6745406d357e2f2b33ff1f236531fcadbe250096931855ec0/dash_bootstrap_components-1.5.0-py3-none-any.whl.metadata\n",
            "  Downloading dash_bootstrap_components-1.5.0-py3-none-any.whl.metadata (5.2 kB)\n",
            "Requirement already satisfied: dash>=2.0.0 in /opt/homebrew/lib/python3.11/site-packages (from dash-bootstrap-components) (2.14.2)\n",
            "Requirement already satisfied: Flask<3.1,>=1.0.4 in /opt/homebrew/lib/python3.11/site-packages (from dash>=2.0.0->dash-bootstrap-components) (3.0.0)\n",
            "Requirement already satisfied: Werkzeug<3.1 in /opt/homebrew/lib/python3.11/site-packages (from dash>=2.0.0->dash-bootstrap-components) (3.0.1)\n",
            "Requirement already satisfied: plotly>=5.0.0 in /opt/homebrew/lib/python3.11/site-packages (from dash>=2.0.0->dash-bootstrap-components) (5.18.0)\n",
            "Requirement already satisfied: dash-html-components==2.0.0 in /opt/homebrew/lib/python3.11/site-packages (from dash>=2.0.0->dash-bootstrap-components) (2.0.0)\n",
            "Requirement already satisfied: dash-core-components==2.0.0 in /opt/homebrew/lib/python3.11/site-packages (from dash>=2.0.0->dash-bootstrap-components) (2.0.0)\n",
            "Requirement already satisfied: dash-table==5.0.0 in /opt/homebrew/lib/python3.11/site-packages (from dash>=2.0.0->dash-bootstrap-components) (5.0.0)\n",
            "Requirement already satisfied: typing-extensions>=4.1.1 in /opt/homebrew/lib/python3.11/site-packages (from dash>=2.0.0->dash-bootstrap-components) (4.9.0)\n",
            "Requirement already satisfied: requests in /opt/homebrew/lib/python3.11/site-packages (from dash>=2.0.0->dash-bootstrap-components) (2.31.0)\n",
            "Requirement already satisfied: retrying in /opt/homebrew/lib/python3.11/site-packages (from dash>=2.0.0->dash-bootstrap-components) (1.3.4)\n",
            "Requirement already satisfied: ansi2html in /opt/homebrew/lib/python3.11/site-packages (from dash>=2.0.0->dash-bootstrap-components) (1.9.1)\n",
            "Requirement already satisfied: nest-asyncio in /Users/shreyagajbhiye/Library/Python/3.11/lib/python/site-packages (from dash>=2.0.0->dash-bootstrap-components) (1.5.8)\n",
            "Requirement already satisfied: setuptools in /opt/homebrew/lib/python3.11/site-packages (from dash>=2.0.0->dash-bootstrap-components) (68.1.2)\n",
            "Requirement already satisfied: importlib-metadata in /opt/homebrew/lib/python3.11/site-packages (from dash>=2.0.0->dash-bootstrap-components) (7.0.1)\n",
            "Requirement already satisfied: Jinja2>=3.1.2 in /Users/shreyagajbhiye/Library/Python/3.11/lib/python/site-packages (from Flask<3.1,>=1.0.4->dash>=2.0.0->dash-bootstrap-components) (3.1.2)\n",
            "Requirement already satisfied: itsdangerous>=2.1.2 in /opt/homebrew/lib/python3.11/site-packages (from Flask<3.1,>=1.0.4->dash>=2.0.0->dash-bootstrap-components) (2.1.2)\n",
            "Requirement already satisfied: click>=8.1.3 in /opt/homebrew/lib/python3.11/site-packages (from Flask<3.1,>=1.0.4->dash>=2.0.0->dash-bootstrap-components) (8.1.7)\n",
            "Requirement already satisfied: blinker>=1.6.2 in /opt/homebrew/lib/python3.11/site-packages (from Flask<3.1,>=1.0.4->dash>=2.0.0->dash-bootstrap-components) (1.7.0)\n",
            "Requirement already satisfied: tenacity>=6.2.0 in /opt/homebrew/lib/python3.11/site-packages (from plotly>=5.0.0->dash>=2.0.0->dash-bootstrap-components) (8.2.3)\n",
            "Requirement already satisfied: packaging in /Users/shreyagajbhiye/Library/Python/3.11/lib/python/site-packages (from plotly>=5.0.0->dash>=2.0.0->dash-bootstrap-components) (23.2)\n",
            "Requirement already satisfied: MarkupSafe>=2.1.1 in /Users/shreyagajbhiye/Library/Python/3.11/lib/python/site-packages (from Werkzeug<3.1->dash>=2.0.0->dash-bootstrap-components) (2.1.3)\n",
            "Requirement already satisfied: zipp>=0.5 in /opt/homebrew/lib/python3.11/site-packages (from importlib-metadata->dash>=2.0.0->dash-bootstrap-components) (3.17.0)\n",
            "Requirement already satisfied: charset-normalizer<4,>=2 in /opt/homebrew/lib/python3.11/site-packages (from requests->dash>=2.0.0->dash-bootstrap-components) (3.3.0)\n",
            "Requirement already satisfied: idna<4,>=2.5 in /opt/homebrew/lib/python3.11/site-packages (from requests->dash>=2.0.0->dash-bootstrap-components) (3.4)\n",
            "Requirement already satisfied: urllib3<3,>=1.21.1 in /opt/homebrew/lib/python3.11/site-packages (from requests->dash>=2.0.0->dash-bootstrap-components) (2.0.6)\n",
            "Requirement already satisfied: certifi>=2017.4.17 in /opt/homebrew/lib/python3.11/site-packages (from requests->dash>=2.0.0->dash-bootstrap-components) (2023.7.22)\n",
            "Requirement already satisfied: six>=1.7.0 in /opt/homebrew/lib/python3.11/site-packages (from retrying->dash>=2.0.0->dash-bootstrap-components) (1.16.0)\n",
            "Downloading dash_bootstrap_components-1.5.0-py3-none-any.whl (221 kB)\n",
            "\u001b[2K   \u001b[90m━━━━━━━━━━━━━━━━━━━━━━━━━━━━━━━━━━━━━━━━\u001b[0m \u001b[32m221.2/221.2 kB\u001b[0m \u001b[31m1.9 MB/s\u001b[0m eta \u001b[36m0:00:00\u001b[0ma \u001b[36m0:00:01\u001b[0m\n",
            "\u001b[?25hInstalling collected packages: dash-bootstrap-components\n",
            "Successfully installed dash-bootstrap-components-1.5.0\n",
            "\n",
            "\u001b[1m[\u001b[0m\u001b[34;49mnotice\u001b[0m\u001b[1;39;49m]\u001b[0m\u001b[39;49m A new release of pip is available: \u001b[0m\u001b[31;49m23.2.1\u001b[0m\u001b[39;49m -> \u001b[0m\u001b[32;49m23.3.2\u001b[0m\n",
            "\u001b[1m[\u001b[0m\u001b[34;49mnotice\u001b[0m\u001b[1;39;49m]\u001b[0m\u001b[39;49m To update, run: \u001b[0m\u001b[32;49mpython3.11 -m pip install --upgrade pip\u001b[0m\n",
            "Note: you may need to restart the kernel to use updated packages.\n"
          ]
        }
      ],
      "source": [
        "pip install dash-bootstrap-components\n"
      ]
    },
    {
      "cell_type": "code",
      "execution_count": 3,
      "metadata": {},
      "outputs": [
        {
          "name": "stderr",
          "output_type": "stream",
          "text": [
            "/var/folders/t4/83cv2mw90hs41ls9brlkgwnm0000gn/T/ipykernel_24908/3450216147.py:3: UserWarning: \n",
            "The dash_core_components package is deprecated. Please replace\n",
            "`import dash_core_components as dcc` with `from dash import dcc`\n",
            "  import dash_core_components as dcc\n",
            "/var/folders/t4/83cv2mw90hs41ls9brlkgwnm0000gn/T/ipykernel_24908/3450216147.py:4: UserWarning: \n",
            "The dash_html_components package is deprecated. Please replace\n",
            "`import dash_html_components as html` with `from dash import html`\n",
            "  import dash_html_components as html\n"
          ]
        }
      ],
      "source": [
        "import dash\n",
        "# html is used to set up the layout, and dcc is used to embed the graphs to the dashboard:\n",
        "import dash_core_components as dcc\n",
        "import dash_html_components as html"
      ]
    },
    {
      "cell_type": "code",
      "execution_count": 4,
      "metadata": {
        "colab": {
          "base_uri": "https://localhost:8080/"
        },
        "id": "kMy32BqzsG4E",
        "outputId": "d83194cf-eac4-4df4-c072-e99ecb0afaac"
      },
      "outputs": [
        {
          "name": "stdout",
          "output_type": "stream",
          "text": [
            "Mounted at /content/drive\n",
            "/content/drive/MyDrive\n"
          ]
        }
      ],
      "source": [
        "from google.colab import drive\n",
        "drive.mount('/content/drive')\n",
        "%cd 'drive/MyDrive'"
      ]
    },
    {
      "cell_type": "code",
      "execution_count": 9,
      "metadata": {
        "id": "hYj2GS8bsIzw"
      },
      "outputs": [],
      "source": [
        "grammy = pd.read_csv('../Data/grammySongs_1999-2019.csv')"
      ]
    },
    {
      "cell_type": "code",
      "execution_count": 10,
      "metadata": {
        "id": "oUQNRB0LsNs8"
      },
      "outputs": [],
      "source": [
        "grammy = grammy.drop(columns='Unnamed: 0')"
      ]
    },
    {
      "cell_type": "code",
      "execution_count": 11,
      "metadata": {
        "id": "viPl2XfesQEU"
      },
      "outputs": [],
      "source": [
        "grammy['Artist'] = grammy['Artist'].str.replace(\" &\", \",\")\n",
        "grammy['Name'] = grammy['Name'].str.lower()\n",
        "grammy['Artist'] = grammy['Artist'].str.lower()"
      ]
    },
    {
      "cell_type": "code",
      "execution_count": 12,
      "metadata": {
        "id": "zVlZo3PQsR_b"
      },
      "outputs": [],
      "source": [
        "grammy = grammy.drop(columns = 'X')"
      ]
    },
    {
      "cell_type": "code",
      "execution_count": 15,
      "metadata": {
        "id": "A5ZbYA3ysTuB"
      },
      "outputs": [],
      "source": [
        "billboard = pd.read_csv(\"../Data/billboardHot100_1999-2019.csv\")"
      ]
    },
    {
      "cell_type": "code",
      "execution_count": 16,
      "metadata": {
        "id": "mQV8p5M7sWWW"
      },
      "outputs": [],
      "source": [
        "billboard = billboard.drop(columns='Unnamed: 0')\n"
      ]
    },
    {
      "cell_type": "code",
      "execution_count": 17,
      "metadata": {
        "id": "WqjqZWKXsYsE"
      },
      "outputs": [],
      "source": [
        "# put billboard into the same format\n",
        "billboard.rename(columns = {'Artists':'Artist'}, inplace = True)\n",
        "billboard['Artist'] = billboard['Artist'].str.replace(\" &\", \",\")\n",
        "billboard['Name'] = billboard['Name'].str.lower()\n",
        "billboard['Artist'] = billboard['Artist'].str.lower()"
      ]
    },
    {
      "cell_type": "code",
      "execution_count": 19,
      "metadata": {
        "id": "MPD1XOA7sb5o"
      },
      "outputs": [],
      "source": [
        "spotify = pd.read_csv('../Data/songAttributes_1999-2019.csv')"
      ]
    },
    {
      "cell_type": "code",
      "execution_count": 20,
      "metadata": {
        "id": "RpmJOvTRsf1G"
      },
      "outputs": [],
      "source": [
        "spotify = spotify.drop(columns='Unnamed: 0')"
      ]
    },
    {
      "cell_type": "code",
      "execution_count": 21,
      "metadata": {
        "id": "j0WvUdX5siEC"
      },
      "outputs": [],
      "source": [
        "# put spotify into the same format\n",
        "spotify['Artist'] = spotify['Artist'].str.strip(\"[]\")\n",
        "spotify['Artist'] = spotify['Artist'].str.replace(\"'\", \"\").str.replace(\" &\", \",\")\n",
        "spotify['Name'] = spotify['Name'].str.lower()\n",
        "spotify['Artist'] = spotify['Artist'].str.lower()"
      ]
    },
    {
      "cell_type": "code",
      "execution_count": 22,
      "metadata": {
        "id": "9FuUcObPsj6S"
      },
      "outputs": [],
      "source": [
        "songs = spotify.groupby(['Name', 'Artist'], as_index = False).agg({'Acousticness' : 'mean', 'Acousticness' : 'mean', 'Danceability' : 'mean', 'Duration' : 'mean', 'Energy' : 'mean', 'Explicit' : 'max', 'Instrumentalness' : 'mean', 'Liveness' : 'mean',  'Loudness' : 'mean',  'Mode' : 'max', 'Popularity' : 'sum', 'Speechiness' : 'mean', 'Tempo' : 'mean', 'Valence' : 'mean'})"
      ]
    },
    {
      "cell_type": "code",
      "execution_count": 23,
      "metadata": {
        "colab": {
          "base_uri": "https://localhost:8080/",
          "height": 756
        },
        "id": "v01o7-7zsnLO",
        "outputId": "203fbd69-1ecb-4cb0-cfc7-a7d81f58a84b"
      },
      "outputs": [
        {
          "data": {
            "text/html": [
              "<div>\n",
              "<style scoped>\n",
              "    .dataframe tbody tr th:only-of-type {\n",
              "        vertical-align: middle;\n",
              "    }\n",
              "\n",
              "    .dataframe tbody tr th {\n",
              "        vertical-align: top;\n",
              "    }\n",
              "\n",
              "    .dataframe thead th {\n",
              "        text-align: right;\n",
              "    }\n",
              "</style>\n",
              "<table border=\"1\" class=\"dataframe\">\n",
              "  <thead>\n",
              "    <tr style=\"text-align: right;\">\n",
              "      <th></th>\n",
              "      <th>Name</th>\n",
              "      <th>Artist</th>\n",
              "      <th>Acousticness</th>\n",
              "      <th>Danceability</th>\n",
              "      <th>Duration</th>\n",
              "      <th>Energy</th>\n",
              "      <th>Explicit</th>\n",
              "      <th>Instrumentalness</th>\n",
              "      <th>Liveness</th>\n",
              "      <th>Loudness</th>\n",
              "      <th>Mode</th>\n",
              "      <th>Popularity</th>\n",
              "      <th>Speechiness</th>\n",
              "      <th>Tempo</th>\n",
              "      <th>Valence</th>\n",
              "    </tr>\n",
              "  </thead>\n",
              "  <tbody>\n",
              "    <tr>\n",
              "      <th>0</th>\n",
              "      <td>!</td>\n",
              "      <td>ghostface killah</td>\n",
              "      <td>0.840000</td>\n",
              "      <td>0.317</td>\n",
              "      <td>35147.0</td>\n",
              "      <td>0.943</td>\n",
              "      <td>True</td>\n",
              "      <td>0.646000</td>\n",
              "      <td>0.3790</td>\n",
              "      <td>-7.730</td>\n",
              "      <td>0</td>\n",
              "      <td>2</td>\n",
              "      <td>0.0510</td>\n",
              "      <td>107.088</td>\n",
              "      <td>0.457</td>\n",
              "    </tr>\n",
              "    <tr>\n",
              "      <th>1</th>\n",
              "      <td>!!!!!!!</td>\n",
              "      <td>the roots</td>\n",
              "      <td>0.000072</td>\n",
              "      <td>0.245</td>\n",
              "      <td>24653.0</td>\n",
              "      <td>0.991</td>\n",
              "      <td>True</td>\n",
              "      <td>0.528000</td>\n",
              "      <td>0.4040</td>\n",
              "      <td>-1.973</td>\n",
              "      <td>0</td>\n",
              "      <td>0</td>\n",
              "      <td>0.4740</td>\n",
              "      <td>195.135</td>\n",
              "      <td>0.814</td>\n",
              "    </tr>\n",
              "    <tr>\n",
              "      <th>2</th>\n",
              "      <td>\"...after my departure i caled to mynde our co...</td>\n",
              "      <td>sting</td>\n",
              "      <td>0.693000</td>\n",
              "      <td>0.789</td>\n",
              "      <td>30120.0</td>\n",
              "      <td>0.580</td>\n",
              "      <td>False</td>\n",
              "      <td>0.049100</td>\n",
              "      <td>0.1160</td>\n",
              "      <td>-19.639</td>\n",
              "      <td>0</td>\n",
              "      <td>7</td>\n",
              "      <td>0.8360</td>\n",
              "      <td>94.192</td>\n",
              "      <td>0.559</td>\n",
              "    </tr>\n",
              "    <tr>\n",
              "      <th>3</th>\n",
              "      <td>\"...and accordinge as i desired ther cam a let...</td>\n",
              "      <td>sting</td>\n",
              "      <td>0.718000</td>\n",
              "      <td>0.498</td>\n",
              "      <td>55533.0</td>\n",
              "      <td>0.253</td>\n",
              "      <td>False</td>\n",
              "      <td>0.000002</td>\n",
              "      <td>0.1370</td>\n",
              "      <td>-19.916</td>\n",
              "      <td>1</td>\n",
              "      <td>7</td>\n",
              "      <td>0.6280</td>\n",
              "      <td>182.456</td>\n",
              "      <td>0.563</td>\n",
              "    </tr>\n",
              "    <tr>\n",
              "      <th>4</th>\n",
              "      <td>\"...and from thence i had great desire to see ...</td>\n",
              "      <td>sting</td>\n",
              "      <td>0.346000</td>\n",
              "      <td>0.720</td>\n",
              "      <td>28853.0</td>\n",
              "      <td>0.310</td>\n",
              "      <td>False</td>\n",
              "      <td>0.000083</td>\n",
              "      <td>0.1790</td>\n",
              "      <td>-23.719</td>\n",
              "      <td>0</td>\n",
              "      <td>0</td>\n",
              "      <td>0.1010</td>\n",
              "      <td>118.895</td>\n",
              "      <td>0.325</td>\n",
              "    </tr>\n",
              "    <tr>\n",
              "      <th>...</th>\n",
              "      <td>...</td>\n",
              "      <td>...</td>\n",
              "      <td>...</td>\n",
              "      <td>...</td>\n",
              "      <td>...</td>\n",
              "      <td>...</td>\n",
              "      <td>...</td>\n",
              "      <td>...</td>\n",
              "      <td>...</td>\n",
              "      <td>...</td>\n",
              "      <td>...</td>\n",
              "      <td>...</td>\n",
              "      <td>...</td>\n",
              "      <td>...</td>\n",
              "      <td>...</td>\n",
              "    </tr>\n",
              "    <tr>\n",
              "      <th>129816</th>\n",
              "      <td>언젠가는</td>\n",
              "      <td>psy</td>\n",
              "      <td>0.210000</td>\n",
              "      <td>0.679</td>\n",
              "      <td>250415.0</td>\n",
              "      <td>0.655</td>\n",
              "      <td>False</td>\n",
              "      <td>0.000001</td>\n",
              "      <td>0.0806</td>\n",
              "      <td>-6.012</td>\n",
              "      <td>1</td>\n",
              "      <td>23</td>\n",
              "      <td>0.0568</td>\n",
              "      <td>139.911</td>\n",
              "      <td>0.576</td>\n",
              "    </tr>\n",
              "    <tr>\n",
              "      <th>129817</th>\n",
              "      <td>인생극장-a형</td>\n",
              "      <td>psy</td>\n",
              "      <td>0.382000</td>\n",
              "      <td>0.725</td>\n",
              "      <td>248631.0</td>\n",
              "      <td>0.809</td>\n",
              "      <td>True</td>\n",
              "      <td>0.000000</td>\n",
              "      <td>0.1100</td>\n",
              "      <td>-6.106</td>\n",
              "      <td>1</td>\n",
              "      <td>20</td>\n",
              "      <td>0.1340</td>\n",
              "      <td>90.041</td>\n",
              "      <td>0.846</td>\n",
              "    </tr>\n",
              "    <tr>\n",
              "      <th>129818</th>\n",
              "      <td>인생극장-b형</td>\n",
              "      <td>psy</td>\n",
              "      <td>0.380000</td>\n",
              "      <td>0.817</td>\n",
              "      <td>188309.0</td>\n",
              "      <td>0.989</td>\n",
              "      <td>True</td>\n",
              "      <td>0.000000</td>\n",
              "      <td>0.3700</td>\n",
              "      <td>-1.625</td>\n",
              "      <td>1</td>\n",
              "      <td>7</td>\n",
              "      <td>0.1780</td>\n",
              "      <td>122.049</td>\n",
              "      <td>0.633</td>\n",
              "    </tr>\n",
              "    <tr>\n",
              "      <th>129819</th>\n",
              "      <td>환희</td>\n",
              "      <td>psy</td>\n",
              "      <td>0.099800</td>\n",
              "      <td>0.835</td>\n",
              "      <td>205462.0</td>\n",
              "      <td>0.845</td>\n",
              "      <td>False</td>\n",
              "      <td>0.000004</td>\n",
              "      <td>0.0279</td>\n",
              "      <td>-2.301</td>\n",
              "      <td>0</td>\n",
              "      <td>24</td>\n",
              "      <td>0.0782</td>\n",
              "      <td>120.021</td>\n",
              "      <td>0.918</td>\n",
              "    </tr>\n",
              "    <tr>\n",
              "      <th>129820</th>\n",
              "      <td>흐린 기억 속의 그대</td>\n",
              "      <td>psy</td>\n",
              "      <td>0.002630</td>\n",
              "      <td>0.657</td>\n",
              "      <td>254768.0</td>\n",
              "      <td>0.912</td>\n",
              "      <td>False</td>\n",
              "      <td>0.000000</td>\n",
              "      <td>0.0932</td>\n",
              "      <td>-4.553</td>\n",
              "      <td>1</td>\n",
              "      <td>10</td>\n",
              "      <td>0.0719</td>\n",
              "      <td>116.960</td>\n",
              "      <td>0.614</td>\n",
              "    </tr>\n",
              "  </tbody>\n",
              "</table>\n",
              "<p>129821 rows × 15 columns</p>\n",
              "</div>"
            ],
            "text/plain": [
              "                                                     Name            Artist  \\\n",
              "0                                                       !  ghostface killah   \n",
              "1                                                 !!!!!!!         the roots   \n",
              "2       \"...after my departure i caled to mynde our co...             sting   \n",
              "3       \"...and accordinge as i desired ther cam a let...             sting   \n",
              "4       \"...and from thence i had great desire to see ...             sting   \n",
              "...                                                   ...               ...   \n",
              "129816                                               언젠가는               psy   \n",
              "129817                                            인생극장-a형               psy   \n",
              "129818                                            인생극장-b형               psy   \n",
              "129819                                                 환희               psy   \n",
              "129820                                        흐린 기억 속의 그대               psy   \n",
              "\n",
              "        Acousticness  Danceability  Duration  Energy  Explicit  \\\n",
              "0           0.840000         0.317   35147.0   0.943      True   \n",
              "1           0.000072         0.245   24653.0   0.991      True   \n",
              "2           0.693000         0.789   30120.0   0.580     False   \n",
              "3           0.718000         0.498   55533.0   0.253     False   \n",
              "4           0.346000         0.720   28853.0   0.310     False   \n",
              "...              ...           ...       ...     ...       ...   \n",
              "129816      0.210000         0.679  250415.0   0.655     False   \n",
              "129817      0.382000         0.725  248631.0   0.809      True   \n",
              "129818      0.380000         0.817  188309.0   0.989      True   \n",
              "129819      0.099800         0.835  205462.0   0.845     False   \n",
              "129820      0.002630         0.657  254768.0   0.912     False   \n",
              "\n",
              "        Instrumentalness  Liveness  Loudness  Mode  Popularity  Speechiness  \\\n",
              "0               0.646000    0.3790    -7.730     0           2       0.0510   \n",
              "1               0.528000    0.4040    -1.973     0           0       0.4740   \n",
              "2               0.049100    0.1160   -19.639     0           7       0.8360   \n",
              "3               0.000002    0.1370   -19.916     1           7       0.6280   \n",
              "4               0.000083    0.1790   -23.719     0           0       0.1010   \n",
              "...                  ...       ...       ...   ...         ...          ...   \n",
              "129816          0.000001    0.0806    -6.012     1          23       0.0568   \n",
              "129817          0.000000    0.1100    -6.106     1          20       0.1340   \n",
              "129818          0.000000    0.3700    -1.625     1           7       0.1780   \n",
              "129819          0.000004    0.0279    -2.301     0          24       0.0782   \n",
              "129820          0.000000    0.0932    -4.553     1          10       0.0719   \n",
              "\n",
              "          Tempo  Valence  \n",
              "0       107.088    0.457  \n",
              "1       195.135    0.814  \n",
              "2        94.192    0.559  \n",
              "3       182.456    0.563  \n",
              "4       118.895    0.325  \n",
              "...         ...      ...  \n",
              "129816  139.911    0.576  \n",
              "129817   90.041    0.846  \n",
              "129818  122.049    0.633  \n",
              "129819  120.021    0.918  \n",
              "129820  116.960    0.614  \n",
              "\n",
              "[129821 rows x 15 columns]"
            ]
          },
          "execution_count": 23,
          "metadata": {},
          "output_type": "execute_result"
        }
      ],
      "source": [
        "songs"
      ]
    },
    {
      "cell_type": "code",
      "execution_count": 24,
      "metadata": {
        "id": "LKpNxH_gsn83"
      },
      "outputs": [],
      "source": [
        "gr = grammy.merge(songs, on = ['Name', 'Artist'])"
      ]
    },
    {
      "cell_type": "code",
      "execution_count": 25,
      "metadata": {
        "id": "6FXB_RbIsq34"
      },
      "outputs": [],
      "source": [
        "grammy['Name'] = grammy['Name'].str.title()\n",
        "grammy['Artist'] = grammy['Artist'].str.title()"
      ]
    },
    {
      "cell_type": "code",
      "execution_count": 26,
      "metadata": {
        "id": "A6opHfghswG-"
      },
      "outputs": [],
      "source": [
        "bb1 = billboard.groupby(['Name', 'Artist', 'Week', 'Weekly.rank'], as_index = False).agg({'Weeks.on.chart' : 'max', 'Peak.position' : 'min', 'Genre' : 'first', 'Date':'first'})\n",
        "bb1 = bb1.merge(songs, on = ['Name', 'Artist'])\n",
        "bb2 = bb1.groupby(['Name','Artist'], as_index = False).agg({'Weeks.on.chart' : 'max', 'Peak.position' : 'min'})\n",
        "bb2 = bb2.dropna(subset = ['Peak.position', 'Weeks.on.chart'])\n",
        "bb3 = bb1.groupby(['Name','Artist'], as_index = False).agg({'Acousticness' : 'mean', 'Danceability' : 'mean', 'Duration' : 'mean', 'Energy' : 'mean', 'Explicit' : 'max', 'Instrumentalness' : 'mean', 'Liveness' : 'mean',  'Loudness' : 'mean',  'Mode' : 'max', 'Speechiness' : 'mean', 'Tempo' : 'mean', 'Valence' : 'mean','Popularity':'sum'})"
      ]
    },
    {
      "cell_type": "code",
      "execution_count": 27,
      "metadata": {
        "id": "TFACy_m4s55p"
      },
      "outputs": [],
      "source": [
        "songs['Name'] = songs['Name'].str.title()\n",
        "songs['Artist'] = songs['Artist'].str.title()\n",
        "gr['Name'] = gr['Name'].str.title()\n",
        "gr['Artist'] = gr['Artist'].str.title()\n",
        "bb1['Name'] = bb1['Name'].str.title()\n",
        "bb1['Artist'] = bb1['Artist'].str.title()\n",
        "bb2['Name'] = bb2['Name'].str.title()\n",
        "bb2['Artist'] = bb2['Artist'].str.title()\n",
        "bb3['Name'] = bb3['Name'].str.title()\n",
        "bb3['Artist'] = bb3['Artist'].str.title()\n",
        "billboard['Name'] = billboard['Name'].str.title()\n",
        "billboard['Artist'] = billboard['Artist'].str.title()"
      ]
    },
    {
      "cell_type": "code",
      "execution_count": 28,
      "metadata": {
        "id": "6xHvO4jRs9Zl"
      },
      "outputs": [],
      "source": [
        "bb3['Loudness'] = bb3['Loudness']/60 + 1\n",
        "songs['Loudness'] = songs['Loudness']/60 + 1\n",
        "gr['Loudness'] = gr['Loudness']/60 + 1"
      ]
    },
    {
      "cell_type": "markdown",
      "metadata": {
        "id": "KgKahCXytlyA"
      },
      "source": [
        "##Interactive Plot for Adele"
      ]
    },
    {
      "cell_type": "code",
      "execution_count": 29,
      "metadata": {
        "colab": {
          "base_uri": "https://localhost:8080/",
          "height": 542
        },
        "id": "mqt99JIhtLRs",
        "outputId": "037fa62f-43b5-4367-9db8-1827b419fd28"
      },
      "outputs": [
        {
          "data": {
            "application/vnd.plotly.v1+json": {
              "config": {
                "plotlyServerURL": "https://plot.ly"
              },
              "data": [
                {
                  "hovertemplate": "%{x}: %{y} <br>Song: %{text}",
                  "mode": "lines+markers",
                  "name": "Rolling In The Deep",
                  "text": [
                    "Rolling In The Deep"
                  ],
                  "type": "scatter",
                  "x": [
                    "2011-01-27T00:00:00"
                  ],
                  "y": [
                    97
                  ]
                },
                {
                  "hovertemplate": "%{x}: %{y} <br>Song: %{text}",
                  "mode": "lines+markers",
                  "name": "Set Fire To The Rain",
                  "text": [],
                  "type": "scatter",
                  "x": [],
                  "y": []
                },
                {
                  "hovertemplate": "%{x}: %{y} <br>Song: %{text}",
                  "mode": "lines+markers",
                  "name": "Someone Like You",
                  "text": [],
                  "type": "scatter",
                  "x": [],
                  "y": []
                },
                {
                  "hovertemplate": "%{x}: %{y} <br>Song: %{text}",
                  "mode": "lines+markers",
                  "name": "Turning Tables",
                  "text": [],
                  "type": "scatter",
                  "x": [],
                  "y": []
                },
                {
                  "hovertemplate": "%{x}: %{y} <br>Song: %{text}",
                  "mode": "lines+markers",
                  "name": "Rumour Has It",
                  "text": [],
                  "type": "scatter",
                  "x": [],
                  "y": []
                }
              ],
              "frames": [
                {
                  "data": [
                    {
                      "hovertemplate": "%{x}: %{y} <br>Song: %{text}",
                      "mode": "lines+markers",
                      "name": "Rolling In The Deep",
                      "text": [
                        "Rolling In The Deep"
                      ],
                      "type": "scatter",
                      "x": [
                        "2011-01-27T00:00:00"
                      ],
                      "y": [
                        97
                      ]
                    },
                    {
                      "hovertemplate": "%{x}: %{y} <br>Song: %{text}",
                      "mode": "lines+markers",
                      "name": "Set Fire To The Rain",
                      "text": [],
                      "type": "scatter",
                      "x": [],
                      "y": []
                    },
                    {
                      "hovertemplate": "%{x}: %{y} <br>Song: %{text}",
                      "mode": "lines+markers",
                      "name": "Someone Like You",
                      "text": [],
                      "type": "scatter",
                      "x": [],
                      "y": []
                    },
                    {
                      "hovertemplate": "%{x}: %{y} <br>Song: %{text}",
                      "mode": "lines+markers",
                      "name": "Turning Tables",
                      "text": [],
                      "type": "scatter",
                      "x": [],
                      "y": []
                    },
                    {
                      "hovertemplate": "%{x}: %{y} <br>Song: %{text}",
                      "mode": "lines+markers",
                      "name": "Rumour Has It",
                      "text": [],
                      "type": "scatter",
                      "x": [],
                      "y": []
                    }
                  ]
                },
                {
                  "data": [
                    {
                      "hovertemplate": "%{x}: %{y} <br>Song: %{text}",
                      "mode": "lines+markers",
                      "name": "Rolling In The Deep",
                      "text": [
                        "Rolling In The Deep",
                        "Rolling In The Deep"
                      ],
                      "type": "scatter",
                      "x": [
                        "2011-01-27T00:00:00",
                        "2011-02-03T00:00:00"
                      ],
                      "y": [
                        97,
                        84
                      ]
                    },
                    {
                      "hovertemplate": "%{x}: %{y} <br>Song: %{text}",
                      "mode": "lines+markers",
                      "name": "Set Fire To The Rain",
                      "text": [],
                      "type": "scatter",
                      "x": [],
                      "y": []
                    },
                    {
                      "hovertemplate": "%{x}: %{y} <br>Song: %{text}",
                      "mode": "lines+markers",
                      "name": "Someone Like You",
                      "text": [],
                      "type": "scatter",
                      "x": [],
                      "y": []
                    },
                    {
                      "hovertemplate": "%{x}: %{y} <br>Song: %{text}",
                      "mode": "lines+markers",
                      "name": "Turning Tables",
                      "text": [],
                      "type": "scatter",
                      "x": [],
                      "y": []
                    },
                    {
                      "hovertemplate": "%{x}: %{y} <br>Song: %{text}",
                      "mode": "lines+markers",
                      "name": "Rumour Has It",
                      "text": [],
                      "type": "scatter",
                      "x": [],
                      "y": []
                    }
                  ]
                },
                {
                  "data": [
                    {
                      "hovertemplate": "%{x}: %{y} <br>Song: %{text}",
                      "mode": "lines+markers",
                      "name": "Rolling In The Deep",
                      "text": [
                        "Rolling In The Deep",
                        "Rolling In The Deep",
                        "Rolling In The Deep"
                      ],
                      "type": "scatter",
                      "x": [
                        "2011-01-27T00:00:00",
                        "2011-02-03T00:00:00",
                        "2011-02-10T00:00:00"
                      ],
                      "y": [
                        97,
                        84,
                        69
                      ]
                    },
                    {
                      "hovertemplate": "%{x}: %{y} <br>Song: %{text}",
                      "mode": "lines+markers",
                      "name": "Set Fire To The Rain",
                      "text": [],
                      "type": "scatter",
                      "x": [],
                      "y": []
                    },
                    {
                      "hovertemplate": "%{x}: %{y} <br>Song: %{text}",
                      "mode": "lines+markers",
                      "name": "Someone Like You",
                      "text": [],
                      "type": "scatter",
                      "x": [],
                      "y": []
                    },
                    {
                      "hovertemplate": "%{x}: %{y} <br>Song: %{text}",
                      "mode": "lines+markers",
                      "name": "Turning Tables",
                      "text": [],
                      "type": "scatter",
                      "x": [],
                      "y": []
                    },
                    {
                      "hovertemplate": "%{x}: %{y} <br>Song: %{text}",
                      "mode": "lines+markers",
                      "name": "Rumour Has It",
                      "text": [],
                      "type": "scatter",
                      "x": [],
                      "y": []
                    }
                  ]
                },
                {
                  "data": [
                    {
                      "hovertemplate": "%{x}: %{y} <br>Song: %{text}",
                      "mode": "lines+markers",
                      "name": "Rolling In The Deep",
                      "text": [
                        "Rolling In The Deep",
                        "Rolling In The Deep",
                        "Rolling In The Deep",
                        "Rolling In The Deep"
                      ],
                      "type": "scatter",
                      "x": [
                        "2011-01-27T00:00:00",
                        "2011-02-03T00:00:00",
                        "2011-02-10T00:00:00",
                        "2011-02-17T00:00:00"
                      ],
                      "y": [
                        97,
                        84,
                        69,
                        64
                      ]
                    },
                    {
                      "hovertemplate": "%{x}: %{y} <br>Song: %{text}",
                      "mode": "lines+markers",
                      "name": "Set Fire To The Rain",
                      "text": [],
                      "type": "scatter",
                      "x": [],
                      "y": []
                    },
                    {
                      "hovertemplate": "%{x}: %{y} <br>Song: %{text}",
                      "mode": "lines+markers",
                      "name": "Someone Like You",
                      "text": [],
                      "type": "scatter",
                      "x": [],
                      "y": []
                    },
                    {
                      "hovertemplate": "%{x}: %{y} <br>Song: %{text}",
                      "mode": "lines+markers",
                      "name": "Turning Tables",
                      "text": [],
                      "type": "scatter",
                      "x": [],
                      "y": []
                    },
                    {
                      "hovertemplate": "%{x}: %{y} <br>Song: %{text}",
                      "mode": "lines+markers",
                      "name": "Rumour Has It",
                      "text": [],
                      "type": "scatter",
                      "x": [],
                      "y": []
                    }
                  ]
                },
                {
                  "data": [
                    {
                      "hovertemplate": "%{x}: %{y} <br>Song: %{text}",
                      "mode": "lines+markers",
                      "name": "Rolling In The Deep",
                      "text": [
                        "Rolling In The Deep",
                        "Rolling In The Deep",
                        "Rolling In The Deep",
                        "Rolling In The Deep",
                        "Rolling In The Deep"
                      ],
                      "type": "scatter",
                      "x": [
                        "2011-01-27T00:00:00",
                        "2011-02-03T00:00:00",
                        "2011-02-10T00:00:00",
                        "2011-02-17T00:00:00",
                        "2011-02-24T00:00:00"
                      ],
                      "y": [
                        97,
                        84,
                        69,
                        64,
                        41
                      ]
                    },
                    {
                      "hovertemplate": "%{x}: %{y} <br>Song: %{text}",
                      "mode": "lines+markers",
                      "name": "Set Fire To The Rain",
                      "text": [],
                      "type": "scatter",
                      "x": [],
                      "y": []
                    },
                    {
                      "hovertemplate": "%{x}: %{y} <br>Song: %{text}",
                      "mode": "lines+markers",
                      "name": "Someone Like You",
                      "text": [],
                      "type": "scatter",
                      "x": [],
                      "y": []
                    },
                    {
                      "hovertemplate": "%{x}: %{y} <br>Song: %{text}",
                      "mode": "lines+markers",
                      "name": "Turning Tables",
                      "text": [],
                      "type": "scatter",
                      "x": [],
                      "y": []
                    },
                    {
                      "hovertemplate": "%{x}: %{y} <br>Song: %{text}",
                      "mode": "lines+markers",
                      "name": "Rumour Has It",
                      "text": [],
                      "type": "scatter",
                      "x": [],
                      "y": []
                    }
                  ]
                },
                {
                  "data": [
                    {
                      "hovertemplate": "%{x}: %{y} <br>Song: %{text}",
                      "mode": "lines+markers",
                      "name": "Rolling In The Deep",
                      "text": [
                        "Rolling In The Deep",
                        "Rolling In The Deep",
                        "Rolling In The Deep",
                        "Rolling In The Deep",
                        "Rolling In The Deep",
                        "Rolling In The Deep"
                      ],
                      "type": "scatter",
                      "x": [
                        "2011-01-27T00:00:00",
                        "2011-02-03T00:00:00",
                        "2011-02-10T00:00:00",
                        "2011-02-17T00:00:00",
                        "2011-02-24T00:00:00",
                        "2011-03-03T00:00:00"
                      ],
                      "y": [
                        97,
                        84,
                        69,
                        64,
                        41,
                        26
                      ]
                    },
                    {
                      "hovertemplate": "%{x}: %{y} <br>Song: %{text}",
                      "mode": "lines+markers",
                      "name": "Set Fire To The Rain",
                      "text": [],
                      "type": "scatter",
                      "x": [],
                      "y": []
                    },
                    {
                      "hovertemplate": "%{x}: %{y} <br>Song: %{text}",
                      "mode": "lines+markers",
                      "name": "Someone Like You",
                      "text": [],
                      "type": "scatter",
                      "x": [],
                      "y": []
                    },
                    {
                      "hovertemplate": "%{x}: %{y} <br>Song: %{text}",
                      "mode": "lines+markers",
                      "name": "Turning Tables",
                      "text": [],
                      "type": "scatter",
                      "x": [],
                      "y": []
                    },
                    {
                      "hovertemplate": "%{x}: %{y} <br>Song: %{text}",
                      "mode": "lines+markers",
                      "name": "Rumour Has It",
                      "text": [],
                      "type": "scatter",
                      "x": [],
                      "y": []
                    }
                  ]
                },
                {
                  "data": [
                    {
                      "hovertemplate": "%{x}: %{y} <br>Song: %{text}",
                      "mode": "lines+markers",
                      "name": "Rolling In The Deep",
                      "text": [
                        "Rolling In The Deep",
                        "Rolling In The Deep",
                        "Rolling In The Deep",
                        "Rolling In The Deep",
                        "Rolling In The Deep",
                        "Rolling In The Deep",
                        "Rolling In The Deep"
                      ],
                      "type": "scatter",
                      "x": [
                        "2011-01-27T00:00:00",
                        "2011-02-03T00:00:00",
                        "2011-02-10T00:00:00",
                        "2011-02-17T00:00:00",
                        "2011-02-24T00:00:00",
                        "2011-03-03T00:00:00",
                        "2011-03-10T00:00:00"
                      ],
                      "y": [
                        97,
                        84,
                        69,
                        64,
                        41,
                        26,
                        13
                      ]
                    },
                    {
                      "hovertemplate": "%{x}: %{y} <br>Song: %{text}",
                      "mode": "lines+markers",
                      "name": "Set Fire To The Rain",
                      "text": [
                        "Set Fire To The Rain"
                      ],
                      "type": "scatter",
                      "x": [
                        "2011-03-10T00:00:00"
                      ],
                      "y": [
                        88
                      ]
                    },
                    {
                      "hovertemplate": "%{x}: %{y} <br>Song: %{text}",
                      "mode": "lines+markers",
                      "name": "Someone Like You",
                      "text": [
                        "Someone Like You"
                      ],
                      "type": "scatter",
                      "x": [
                        "2011-03-10T00:00:00"
                      ],
                      "y": [
                        65
                      ]
                    },
                    {
                      "hovertemplate": "%{x}: %{y} <br>Song: %{text}",
                      "mode": "lines+markers",
                      "name": "Turning Tables",
                      "text": [],
                      "type": "scatter",
                      "x": [],
                      "y": []
                    },
                    {
                      "hovertemplate": "%{x}: %{y} <br>Song: %{text}",
                      "mode": "lines+markers",
                      "name": "Rumour Has It",
                      "text": [],
                      "type": "scatter",
                      "x": [],
                      "y": []
                    }
                  ]
                },
                {
                  "data": [
                    {
                      "hovertemplate": "%{x}: %{y} <br>Song: %{text}",
                      "mode": "lines+markers",
                      "name": "Rolling In The Deep",
                      "text": [
                        "Rolling In The Deep",
                        "Rolling In The Deep",
                        "Rolling In The Deep",
                        "Rolling In The Deep",
                        "Rolling In The Deep",
                        "Rolling In The Deep",
                        "Rolling In The Deep",
                        "Rolling In The Deep"
                      ],
                      "type": "scatter",
                      "x": [
                        "2011-01-27T00:00:00",
                        "2011-02-03T00:00:00",
                        "2011-02-10T00:00:00",
                        "2011-02-17T00:00:00",
                        "2011-02-24T00:00:00",
                        "2011-03-03T00:00:00",
                        "2011-03-10T00:00:00",
                        "2011-03-17T00:00:00"
                      ],
                      "y": [
                        97,
                        84,
                        69,
                        64,
                        41,
                        26,
                        13,
                        18
                      ]
                    },
                    {
                      "hovertemplate": "%{x}: %{y} <br>Song: %{text}",
                      "mode": "lines+markers",
                      "name": "Set Fire To The Rain",
                      "text": [
                        "Set Fire To The Rain"
                      ],
                      "type": "scatter",
                      "x": [
                        "2011-03-10T00:00:00"
                      ],
                      "y": [
                        88
                      ]
                    },
                    {
                      "hovertemplate": "%{x}: %{y} <br>Song: %{text}",
                      "mode": "lines+markers",
                      "name": "Someone Like You",
                      "text": [
                        "Someone Like You"
                      ],
                      "type": "scatter",
                      "x": [
                        "2011-03-10T00:00:00"
                      ],
                      "y": [
                        65
                      ]
                    },
                    {
                      "hovertemplate": "%{x}: %{y} <br>Song: %{text}",
                      "mode": "lines+markers",
                      "name": "Turning Tables",
                      "text": [],
                      "type": "scatter",
                      "x": [],
                      "y": []
                    },
                    {
                      "hovertemplate": "%{x}: %{y} <br>Song: %{text}",
                      "mode": "lines+markers",
                      "name": "Rumour Has It",
                      "text": [],
                      "type": "scatter",
                      "x": [],
                      "y": []
                    }
                  ]
                },
                {
                  "data": [
                    {
                      "hovertemplate": "%{x}: %{y} <br>Song: %{text}",
                      "mode": "lines+markers",
                      "name": "Rolling In The Deep",
                      "text": [
                        "Rolling In The Deep",
                        "Rolling In The Deep",
                        "Rolling In The Deep",
                        "Rolling In The Deep",
                        "Rolling In The Deep",
                        "Rolling In The Deep",
                        "Rolling In The Deep",
                        "Rolling In The Deep",
                        "Rolling In The Deep"
                      ],
                      "type": "scatter",
                      "x": [
                        "2011-01-27T00:00:00",
                        "2011-02-03T00:00:00",
                        "2011-02-10T00:00:00",
                        "2011-02-17T00:00:00",
                        "2011-02-24T00:00:00",
                        "2011-03-03T00:00:00",
                        "2011-03-10T00:00:00",
                        "2011-03-17T00:00:00",
                        "2011-03-24T00:00:00"
                      ],
                      "y": [
                        97,
                        84,
                        69,
                        64,
                        41,
                        26,
                        13,
                        18,
                        25
                      ]
                    },
                    {
                      "hovertemplate": "%{x}: %{y} <br>Song: %{text}",
                      "mode": "lines+markers",
                      "name": "Set Fire To The Rain",
                      "text": [
                        "Set Fire To The Rain"
                      ],
                      "type": "scatter",
                      "x": [
                        "2011-03-10T00:00:00"
                      ],
                      "y": [
                        88
                      ]
                    },
                    {
                      "hovertemplate": "%{x}: %{y} <br>Song: %{text}",
                      "mode": "lines+markers",
                      "name": "Someone Like You",
                      "text": [
                        "Someone Like You"
                      ],
                      "type": "scatter",
                      "x": [
                        "2011-03-10T00:00:00"
                      ],
                      "y": [
                        65
                      ]
                    },
                    {
                      "hovertemplate": "%{x}: %{y} <br>Song: %{text}",
                      "mode": "lines+markers",
                      "name": "Turning Tables",
                      "text": [],
                      "type": "scatter",
                      "x": [],
                      "y": []
                    },
                    {
                      "hovertemplate": "%{x}: %{y} <br>Song: %{text}",
                      "mode": "lines+markers",
                      "name": "Rumour Has It",
                      "text": [],
                      "type": "scatter",
                      "x": [],
                      "y": []
                    }
                  ]
                },
                {
                  "data": [
                    {
                      "hovertemplate": "%{x}: %{y} <br>Song: %{text}",
                      "mode": "lines+markers",
                      "name": "Rolling In The Deep",
                      "text": [
                        "Rolling In The Deep",
                        "Rolling In The Deep",
                        "Rolling In The Deep",
                        "Rolling In The Deep",
                        "Rolling In The Deep",
                        "Rolling In The Deep",
                        "Rolling In The Deep",
                        "Rolling In The Deep",
                        "Rolling In The Deep",
                        "Rolling In The Deep"
                      ],
                      "type": "scatter",
                      "x": [
                        "2011-01-27T00:00:00",
                        "2011-02-03T00:00:00",
                        "2011-02-10T00:00:00",
                        "2011-02-17T00:00:00",
                        "2011-02-24T00:00:00",
                        "2011-03-03T00:00:00",
                        "2011-03-10T00:00:00",
                        "2011-03-17T00:00:00",
                        "2011-03-24T00:00:00",
                        "2011-03-31T00:00:00"
                      ],
                      "y": [
                        97,
                        84,
                        69,
                        64,
                        41,
                        26,
                        13,
                        18,
                        25,
                        26
                      ]
                    },
                    {
                      "hovertemplate": "%{x}: %{y} <br>Song: %{text}",
                      "mode": "lines+markers",
                      "name": "Set Fire To The Rain",
                      "text": [
                        "Set Fire To The Rain"
                      ],
                      "type": "scatter",
                      "x": [
                        "2011-03-10T00:00:00"
                      ],
                      "y": [
                        88
                      ]
                    },
                    {
                      "hovertemplate": "%{x}: %{y} <br>Song: %{text}",
                      "mode": "lines+markers",
                      "name": "Someone Like You",
                      "text": [
                        "Someone Like You"
                      ],
                      "type": "scatter",
                      "x": [
                        "2011-03-10T00:00:00"
                      ],
                      "y": [
                        65
                      ]
                    },
                    {
                      "hovertemplate": "%{x}: %{y} <br>Song: %{text}",
                      "mode": "lines+markers",
                      "name": "Turning Tables",
                      "text": [],
                      "type": "scatter",
                      "x": [],
                      "y": []
                    },
                    {
                      "hovertemplate": "%{x}: %{y} <br>Song: %{text}",
                      "mode": "lines+markers",
                      "name": "Rumour Has It",
                      "text": [],
                      "type": "scatter",
                      "x": [],
                      "y": []
                    }
                  ]
                },
                {
                  "data": [
                    {
                      "hovertemplate": "%{x}: %{y} <br>Song: %{text}",
                      "mode": "lines+markers",
                      "name": "Rolling In The Deep",
                      "text": [
                        "Rolling In The Deep",
                        "Rolling In The Deep",
                        "Rolling In The Deep",
                        "Rolling In The Deep",
                        "Rolling In The Deep",
                        "Rolling In The Deep",
                        "Rolling In The Deep",
                        "Rolling In The Deep",
                        "Rolling In The Deep",
                        "Rolling In The Deep",
                        "Rolling In The Deep"
                      ],
                      "type": "scatter",
                      "x": [
                        "2011-01-27T00:00:00",
                        "2011-02-03T00:00:00",
                        "2011-02-10T00:00:00",
                        "2011-02-17T00:00:00",
                        "2011-02-24T00:00:00",
                        "2011-03-03T00:00:00",
                        "2011-03-10T00:00:00",
                        "2011-03-17T00:00:00",
                        "2011-03-24T00:00:00",
                        "2011-03-31T00:00:00",
                        "2011-04-07T00:00:00"
                      ],
                      "y": [
                        97,
                        84,
                        69,
                        64,
                        41,
                        26,
                        13,
                        18,
                        25,
                        26,
                        17
                      ]
                    },
                    {
                      "hovertemplate": "%{x}: %{y} <br>Song: %{text}",
                      "mode": "lines+markers",
                      "name": "Set Fire To The Rain",
                      "text": [
                        "Set Fire To The Rain"
                      ],
                      "type": "scatter",
                      "x": [
                        "2011-03-10T00:00:00"
                      ],
                      "y": [
                        88
                      ]
                    },
                    {
                      "hovertemplate": "%{x}: %{y} <br>Song: %{text}",
                      "mode": "lines+markers",
                      "name": "Someone Like You",
                      "text": [
                        "Someone Like You"
                      ],
                      "type": "scatter",
                      "x": [
                        "2011-03-10T00:00:00"
                      ],
                      "y": [
                        65
                      ]
                    },
                    {
                      "hovertemplate": "%{x}: %{y} <br>Song: %{text}",
                      "mode": "lines+markers",
                      "name": "Turning Tables",
                      "text": [],
                      "type": "scatter",
                      "x": [],
                      "y": []
                    },
                    {
                      "hovertemplate": "%{x}: %{y} <br>Song: %{text}",
                      "mode": "lines+markers",
                      "name": "Rumour Has It",
                      "text": [],
                      "type": "scatter",
                      "x": [],
                      "y": []
                    }
                  ]
                },
                {
                  "data": [
                    {
                      "hovertemplate": "%{x}: %{y} <br>Song: %{text}",
                      "mode": "lines+markers",
                      "name": "Rolling In The Deep",
                      "text": [
                        "Rolling In The Deep",
                        "Rolling In The Deep",
                        "Rolling In The Deep",
                        "Rolling In The Deep",
                        "Rolling In The Deep",
                        "Rolling In The Deep",
                        "Rolling In The Deep",
                        "Rolling In The Deep",
                        "Rolling In The Deep",
                        "Rolling In The Deep",
                        "Rolling In The Deep",
                        "Rolling In The Deep"
                      ],
                      "type": "scatter",
                      "x": [
                        "2011-01-27T00:00:00",
                        "2011-02-03T00:00:00",
                        "2011-02-10T00:00:00",
                        "2011-02-17T00:00:00",
                        "2011-02-24T00:00:00",
                        "2011-03-03T00:00:00",
                        "2011-03-10T00:00:00",
                        "2011-03-17T00:00:00",
                        "2011-03-24T00:00:00",
                        "2011-03-31T00:00:00",
                        "2011-04-07T00:00:00",
                        "2011-04-14T00:00:00"
                      ],
                      "y": [
                        97,
                        84,
                        69,
                        64,
                        41,
                        26,
                        13,
                        18,
                        25,
                        26,
                        17,
                        10
                      ]
                    },
                    {
                      "hovertemplate": "%{x}: %{y} <br>Song: %{text}",
                      "mode": "lines+markers",
                      "name": "Set Fire To The Rain",
                      "text": [
                        "Set Fire To The Rain"
                      ],
                      "type": "scatter",
                      "x": [
                        "2011-03-10T00:00:00"
                      ],
                      "y": [
                        88
                      ]
                    },
                    {
                      "hovertemplate": "%{x}: %{y} <br>Song: %{text}",
                      "mode": "lines+markers",
                      "name": "Someone Like You",
                      "text": [
                        "Someone Like You"
                      ],
                      "type": "scatter",
                      "x": [
                        "2011-03-10T00:00:00"
                      ],
                      "y": [
                        65
                      ]
                    },
                    {
                      "hovertemplate": "%{x}: %{y} <br>Song: %{text}",
                      "mode": "lines+markers",
                      "name": "Turning Tables",
                      "text": [],
                      "type": "scatter",
                      "x": [],
                      "y": []
                    },
                    {
                      "hovertemplate": "%{x}: %{y} <br>Song: %{text}",
                      "mode": "lines+markers",
                      "name": "Rumour Has It",
                      "text": [],
                      "type": "scatter",
                      "x": [],
                      "y": []
                    }
                  ]
                },
                {
                  "data": [
                    {
                      "hovertemplate": "%{x}: %{y} <br>Song: %{text}",
                      "mode": "lines+markers",
                      "name": "Rolling In The Deep",
                      "text": [
                        "Rolling In The Deep",
                        "Rolling In The Deep",
                        "Rolling In The Deep",
                        "Rolling In The Deep",
                        "Rolling In The Deep",
                        "Rolling In The Deep",
                        "Rolling In The Deep",
                        "Rolling In The Deep",
                        "Rolling In The Deep",
                        "Rolling In The Deep",
                        "Rolling In The Deep",
                        "Rolling In The Deep",
                        "Rolling In The Deep"
                      ],
                      "type": "scatter",
                      "x": [
                        "2011-01-27T00:00:00",
                        "2011-02-03T00:00:00",
                        "2011-02-10T00:00:00",
                        "2011-02-17T00:00:00",
                        "2011-02-24T00:00:00",
                        "2011-03-03T00:00:00",
                        "2011-03-10T00:00:00",
                        "2011-03-17T00:00:00",
                        "2011-03-24T00:00:00",
                        "2011-03-31T00:00:00",
                        "2011-04-07T00:00:00",
                        "2011-04-14T00:00:00",
                        "2011-04-21T00:00:00"
                      ],
                      "y": [
                        97,
                        84,
                        69,
                        64,
                        41,
                        26,
                        13,
                        18,
                        25,
                        26,
                        17,
                        10,
                        10
                      ]
                    },
                    {
                      "hovertemplate": "%{x}: %{y} <br>Song: %{text}",
                      "mode": "lines+markers",
                      "name": "Set Fire To The Rain",
                      "text": [
                        "Set Fire To The Rain"
                      ],
                      "type": "scatter",
                      "x": [
                        "2011-03-10T00:00:00"
                      ],
                      "y": [
                        88
                      ]
                    },
                    {
                      "hovertemplate": "%{x}: %{y} <br>Song: %{text}",
                      "mode": "lines+markers",
                      "name": "Someone Like You",
                      "text": [
                        "Someone Like You"
                      ],
                      "type": "scatter",
                      "x": [
                        "2011-03-10T00:00:00"
                      ],
                      "y": [
                        65
                      ]
                    },
                    {
                      "hovertemplate": "%{x}: %{y} <br>Song: %{text}",
                      "mode": "lines+markers",
                      "name": "Turning Tables",
                      "text": [],
                      "type": "scatter",
                      "x": [],
                      "y": []
                    },
                    {
                      "hovertemplate": "%{x}: %{y} <br>Song: %{text}",
                      "mode": "lines+markers",
                      "name": "Rumour Has It",
                      "text": [],
                      "type": "scatter",
                      "x": [],
                      "y": []
                    }
                  ]
                },
                {
                  "data": [
                    {
                      "hovertemplate": "%{x}: %{y} <br>Song: %{text}",
                      "mode": "lines+markers",
                      "name": "Rolling In The Deep",
                      "text": [
                        "Rolling In The Deep",
                        "Rolling In The Deep",
                        "Rolling In The Deep",
                        "Rolling In The Deep",
                        "Rolling In The Deep",
                        "Rolling In The Deep",
                        "Rolling In The Deep",
                        "Rolling In The Deep",
                        "Rolling In The Deep",
                        "Rolling In The Deep",
                        "Rolling In The Deep",
                        "Rolling In The Deep",
                        "Rolling In The Deep",
                        "Rolling In The Deep"
                      ],
                      "type": "scatter",
                      "x": [
                        "2011-01-27T00:00:00",
                        "2011-02-03T00:00:00",
                        "2011-02-10T00:00:00",
                        "2011-02-17T00:00:00",
                        "2011-02-24T00:00:00",
                        "2011-03-03T00:00:00",
                        "2011-03-10T00:00:00",
                        "2011-03-17T00:00:00",
                        "2011-03-24T00:00:00",
                        "2011-03-31T00:00:00",
                        "2011-04-07T00:00:00",
                        "2011-04-14T00:00:00",
                        "2011-04-21T00:00:00",
                        "2011-04-28T00:00:00"
                      ],
                      "y": [
                        97,
                        84,
                        69,
                        64,
                        41,
                        26,
                        13,
                        18,
                        25,
                        26,
                        17,
                        10,
                        10,
                        6
                      ]
                    },
                    {
                      "hovertemplate": "%{x}: %{y} <br>Song: %{text}",
                      "mode": "lines+markers",
                      "name": "Set Fire To The Rain",
                      "text": [
                        "Set Fire To The Rain"
                      ],
                      "type": "scatter",
                      "x": [
                        "2011-03-10T00:00:00"
                      ],
                      "y": [
                        88
                      ]
                    },
                    {
                      "hovertemplate": "%{x}: %{y} <br>Song: %{text}",
                      "mode": "lines+markers",
                      "name": "Someone Like You",
                      "text": [
                        "Someone Like You"
                      ],
                      "type": "scatter",
                      "x": [
                        "2011-03-10T00:00:00"
                      ],
                      "y": [
                        65
                      ]
                    },
                    {
                      "hovertemplate": "%{x}: %{y} <br>Song: %{text}",
                      "mode": "lines+markers",
                      "name": "Turning Tables",
                      "text": [],
                      "type": "scatter",
                      "x": [],
                      "y": []
                    },
                    {
                      "hovertemplate": "%{x}: %{y} <br>Song: %{text}",
                      "mode": "lines+markers",
                      "name": "Rumour Has It",
                      "text": [],
                      "type": "scatter",
                      "x": [],
                      "y": []
                    }
                  ]
                },
                {
                  "data": [
                    {
                      "hovertemplate": "%{x}: %{y} <br>Song: %{text}",
                      "mode": "lines+markers",
                      "name": "Rolling In The Deep",
                      "text": [
                        "Rolling In The Deep",
                        "Rolling In The Deep",
                        "Rolling In The Deep",
                        "Rolling In The Deep",
                        "Rolling In The Deep",
                        "Rolling In The Deep",
                        "Rolling In The Deep",
                        "Rolling In The Deep",
                        "Rolling In The Deep",
                        "Rolling In The Deep",
                        "Rolling In The Deep",
                        "Rolling In The Deep",
                        "Rolling In The Deep",
                        "Rolling In The Deep",
                        "Rolling In The Deep"
                      ],
                      "type": "scatter",
                      "x": [
                        "2011-01-27T00:00:00",
                        "2011-02-03T00:00:00",
                        "2011-02-10T00:00:00",
                        "2011-02-17T00:00:00",
                        "2011-02-24T00:00:00",
                        "2011-03-03T00:00:00",
                        "2011-03-10T00:00:00",
                        "2011-03-17T00:00:00",
                        "2011-03-24T00:00:00",
                        "2011-03-31T00:00:00",
                        "2011-04-07T00:00:00",
                        "2011-04-14T00:00:00",
                        "2011-04-21T00:00:00",
                        "2011-04-28T00:00:00",
                        "2011-05-05T00:00:00"
                      ],
                      "y": [
                        97,
                        84,
                        69,
                        64,
                        41,
                        26,
                        13,
                        18,
                        25,
                        26,
                        17,
                        10,
                        10,
                        6,
                        2
                      ]
                    },
                    {
                      "hovertemplate": "%{x}: %{y} <br>Song: %{text}",
                      "mode": "lines+markers",
                      "name": "Set Fire To The Rain",
                      "text": [
                        "Set Fire To The Rain"
                      ],
                      "type": "scatter",
                      "x": [
                        "2011-03-10T00:00:00"
                      ],
                      "y": [
                        88
                      ]
                    },
                    {
                      "hovertemplate": "%{x}: %{y} <br>Song: %{text}",
                      "mode": "lines+markers",
                      "name": "Someone Like You",
                      "text": [
                        "Someone Like You"
                      ],
                      "type": "scatter",
                      "x": [
                        "2011-03-10T00:00:00"
                      ],
                      "y": [
                        65
                      ]
                    },
                    {
                      "hovertemplate": "%{x}: %{y} <br>Song: %{text}",
                      "mode": "lines+markers",
                      "name": "Turning Tables",
                      "text": [
                        "Turning Tables"
                      ],
                      "type": "scatter",
                      "x": [
                        "2011-05-05T00:00:00"
                      ],
                      "y": [
                        63
                      ]
                    },
                    {
                      "hovertemplate": "%{x}: %{y} <br>Song: %{text}",
                      "mode": "lines+markers",
                      "name": "Rumour Has It",
                      "text": [],
                      "type": "scatter",
                      "x": [],
                      "y": []
                    }
                  ]
                },
                {
                  "data": [
                    {
                      "hovertemplate": "%{x}: %{y} <br>Song: %{text}",
                      "mode": "lines+markers",
                      "name": "Rolling In The Deep",
                      "text": [
                        "Rolling In The Deep",
                        "Rolling In The Deep",
                        "Rolling In The Deep",
                        "Rolling In The Deep",
                        "Rolling In The Deep",
                        "Rolling In The Deep",
                        "Rolling In The Deep",
                        "Rolling In The Deep",
                        "Rolling In The Deep",
                        "Rolling In The Deep",
                        "Rolling In The Deep",
                        "Rolling In The Deep",
                        "Rolling In The Deep",
                        "Rolling In The Deep",
                        "Rolling In The Deep",
                        "Rolling In The Deep"
                      ],
                      "type": "scatter",
                      "x": [
                        "2011-01-27T00:00:00",
                        "2011-02-03T00:00:00",
                        "2011-02-10T00:00:00",
                        "2011-02-17T00:00:00",
                        "2011-02-24T00:00:00",
                        "2011-03-03T00:00:00",
                        "2011-03-10T00:00:00",
                        "2011-03-17T00:00:00",
                        "2011-03-24T00:00:00",
                        "2011-03-31T00:00:00",
                        "2011-04-07T00:00:00",
                        "2011-04-14T00:00:00",
                        "2011-04-21T00:00:00",
                        "2011-04-28T00:00:00",
                        "2011-05-05T00:00:00",
                        "2011-05-12T00:00:00"
                      ],
                      "y": [
                        97,
                        84,
                        69,
                        64,
                        41,
                        26,
                        13,
                        18,
                        25,
                        26,
                        17,
                        10,
                        10,
                        6,
                        2,
                        2
                      ]
                    },
                    {
                      "hovertemplate": "%{x}: %{y} <br>Song: %{text}",
                      "mode": "lines+markers",
                      "name": "Set Fire To The Rain",
                      "text": [
                        "Set Fire To The Rain"
                      ],
                      "type": "scatter",
                      "x": [
                        "2011-03-10T00:00:00"
                      ],
                      "y": [
                        88
                      ]
                    },
                    {
                      "hovertemplate": "%{x}: %{y} <br>Song: %{text}",
                      "mode": "lines+markers",
                      "name": "Someone Like You",
                      "text": [
                        "Someone Like You"
                      ],
                      "type": "scatter",
                      "x": [
                        "2011-03-10T00:00:00"
                      ],
                      "y": [
                        65
                      ]
                    },
                    {
                      "hovertemplate": "%{x}: %{y} <br>Song: %{text}",
                      "mode": "lines+markers",
                      "name": "Turning Tables",
                      "text": [
                        "Turning Tables",
                        "Turning Tables"
                      ],
                      "type": "scatter",
                      "x": [
                        "2011-05-05T00:00:00",
                        "2011-05-12T00:00:00"
                      ],
                      "y": [
                        63,
                        85
                      ]
                    },
                    {
                      "hovertemplate": "%{x}: %{y} <br>Song: %{text}",
                      "mode": "lines+markers",
                      "name": "Rumour Has It",
                      "text": [],
                      "type": "scatter",
                      "x": [],
                      "y": []
                    }
                  ]
                },
                {
                  "data": [
                    {
                      "hovertemplate": "%{x}: %{y} <br>Song: %{text}",
                      "mode": "lines+markers",
                      "name": "Rolling In The Deep",
                      "text": [
                        "Rolling In The Deep",
                        "Rolling In The Deep",
                        "Rolling In The Deep",
                        "Rolling In The Deep",
                        "Rolling In The Deep",
                        "Rolling In The Deep",
                        "Rolling In The Deep",
                        "Rolling In The Deep",
                        "Rolling In The Deep",
                        "Rolling In The Deep",
                        "Rolling In The Deep",
                        "Rolling In The Deep",
                        "Rolling In The Deep",
                        "Rolling In The Deep",
                        "Rolling In The Deep",
                        "Rolling In The Deep",
                        "Rolling In The Deep"
                      ],
                      "type": "scatter",
                      "x": [
                        "2011-01-27T00:00:00",
                        "2011-02-03T00:00:00",
                        "2011-02-10T00:00:00",
                        "2011-02-17T00:00:00",
                        "2011-02-24T00:00:00",
                        "2011-03-03T00:00:00",
                        "2011-03-10T00:00:00",
                        "2011-03-17T00:00:00",
                        "2011-03-24T00:00:00",
                        "2011-03-31T00:00:00",
                        "2011-04-07T00:00:00",
                        "2011-04-14T00:00:00",
                        "2011-04-21T00:00:00",
                        "2011-04-28T00:00:00",
                        "2011-05-05T00:00:00",
                        "2011-05-12T00:00:00",
                        "2011-05-19T00:00:00"
                      ],
                      "y": [
                        97,
                        84,
                        69,
                        64,
                        41,
                        26,
                        13,
                        18,
                        25,
                        26,
                        17,
                        10,
                        10,
                        6,
                        2,
                        2,
                        1
                      ]
                    },
                    {
                      "hovertemplate": "%{x}: %{y} <br>Song: %{text}",
                      "mode": "lines+markers",
                      "name": "Set Fire To The Rain",
                      "text": [
                        "Set Fire To The Rain"
                      ],
                      "type": "scatter",
                      "x": [
                        "2011-03-10T00:00:00"
                      ],
                      "y": [
                        88
                      ]
                    },
                    {
                      "hovertemplate": "%{x}: %{y} <br>Song: %{text}",
                      "mode": "lines+markers",
                      "name": "Someone Like You",
                      "text": [
                        "Someone Like You"
                      ],
                      "type": "scatter",
                      "x": [
                        "2011-03-10T00:00:00"
                      ],
                      "y": [
                        65
                      ]
                    },
                    {
                      "hovertemplate": "%{x}: %{y} <br>Song: %{text}",
                      "mode": "lines+markers",
                      "name": "Turning Tables",
                      "text": [
                        "Turning Tables",
                        "Turning Tables"
                      ],
                      "type": "scatter",
                      "x": [
                        "2011-05-05T00:00:00",
                        "2011-05-12T00:00:00"
                      ],
                      "y": [
                        63,
                        85
                      ]
                    },
                    {
                      "hovertemplate": "%{x}: %{y} <br>Song: %{text}",
                      "mode": "lines+markers",
                      "name": "Rumour Has It",
                      "text": [],
                      "type": "scatter",
                      "x": [],
                      "y": []
                    }
                  ]
                },
                {
                  "data": [
                    {
                      "hovertemplate": "%{x}: %{y} <br>Song: %{text}",
                      "mode": "lines+markers",
                      "name": "Rolling In The Deep",
                      "text": [
                        "Rolling In The Deep",
                        "Rolling In The Deep",
                        "Rolling In The Deep",
                        "Rolling In The Deep",
                        "Rolling In The Deep",
                        "Rolling In The Deep",
                        "Rolling In The Deep",
                        "Rolling In The Deep",
                        "Rolling In The Deep",
                        "Rolling In The Deep",
                        "Rolling In The Deep",
                        "Rolling In The Deep",
                        "Rolling In The Deep",
                        "Rolling In The Deep",
                        "Rolling In The Deep",
                        "Rolling In The Deep",
                        "Rolling In The Deep",
                        "Rolling In The Deep"
                      ],
                      "type": "scatter",
                      "x": [
                        "2011-01-27T00:00:00",
                        "2011-02-03T00:00:00",
                        "2011-02-10T00:00:00",
                        "2011-02-17T00:00:00",
                        "2011-02-24T00:00:00",
                        "2011-03-03T00:00:00",
                        "2011-03-10T00:00:00",
                        "2011-03-17T00:00:00",
                        "2011-03-24T00:00:00",
                        "2011-03-31T00:00:00",
                        "2011-04-07T00:00:00",
                        "2011-04-14T00:00:00",
                        "2011-04-21T00:00:00",
                        "2011-04-28T00:00:00",
                        "2011-05-05T00:00:00",
                        "2011-05-12T00:00:00",
                        "2011-05-19T00:00:00",
                        "2011-05-26T00:00:00"
                      ],
                      "y": [
                        97,
                        84,
                        69,
                        64,
                        41,
                        26,
                        13,
                        18,
                        25,
                        26,
                        17,
                        10,
                        10,
                        6,
                        2,
                        2,
                        1,
                        1
                      ]
                    },
                    {
                      "hovertemplate": "%{x}: %{y} <br>Song: %{text}",
                      "mode": "lines+markers",
                      "name": "Set Fire To The Rain",
                      "text": [
                        "Set Fire To The Rain"
                      ],
                      "type": "scatter",
                      "x": [
                        "2011-03-10T00:00:00"
                      ],
                      "y": [
                        88
                      ]
                    },
                    {
                      "hovertemplate": "%{x}: %{y} <br>Song: %{text}",
                      "mode": "lines+markers",
                      "name": "Someone Like You",
                      "text": [
                        "Someone Like You"
                      ],
                      "type": "scatter",
                      "x": [
                        "2011-03-10T00:00:00"
                      ],
                      "y": [
                        65
                      ]
                    },
                    {
                      "hovertemplate": "%{x}: %{y} <br>Song: %{text}",
                      "mode": "lines+markers",
                      "name": "Turning Tables",
                      "text": [
                        "Turning Tables",
                        "Turning Tables",
                        "Turning Tables"
                      ],
                      "type": "scatter",
                      "x": [
                        "2011-05-05T00:00:00",
                        "2011-05-12T00:00:00",
                        "2011-05-26T00:00:00"
                      ],
                      "y": [
                        63,
                        85,
                        96
                      ]
                    },
                    {
                      "hovertemplate": "%{x}: %{y} <br>Song: %{text}",
                      "mode": "lines+markers",
                      "name": "Rumour Has It",
                      "text": [],
                      "type": "scatter",
                      "x": [],
                      "y": []
                    }
                  ]
                },
                {
                  "data": [
                    {
                      "hovertemplate": "%{x}: %{y} <br>Song: %{text}",
                      "mode": "lines+markers",
                      "name": "Rolling In The Deep",
                      "text": [
                        "Rolling In The Deep",
                        "Rolling In The Deep",
                        "Rolling In The Deep",
                        "Rolling In The Deep",
                        "Rolling In The Deep",
                        "Rolling In The Deep",
                        "Rolling In The Deep",
                        "Rolling In The Deep",
                        "Rolling In The Deep",
                        "Rolling In The Deep",
                        "Rolling In The Deep",
                        "Rolling In The Deep",
                        "Rolling In The Deep",
                        "Rolling In The Deep",
                        "Rolling In The Deep",
                        "Rolling In The Deep",
                        "Rolling In The Deep",
                        "Rolling In The Deep",
                        "Rolling In The Deep"
                      ],
                      "type": "scatter",
                      "x": [
                        "2011-01-27T00:00:00",
                        "2011-02-03T00:00:00",
                        "2011-02-10T00:00:00",
                        "2011-02-17T00:00:00",
                        "2011-02-24T00:00:00",
                        "2011-03-03T00:00:00",
                        "2011-03-10T00:00:00",
                        "2011-03-17T00:00:00",
                        "2011-03-24T00:00:00",
                        "2011-03-31T00:00:00",
                        "2011-04-07T00:00:00",
                        "2011-04-14T00:00:00",
                        "2011-04-21T00:00:00",
                        "2011-04-28T00:00:00",
                        "2011-05-05T00:00:00",
                        "2011-05-12T00:00:00",
                        "2011-05-19T00:00:00",
                        "2011-05-26T00:00:00",
                        "2011-06-02T00:00:00"
                      ],
                      "y": [
                        97,
                        84,
                        69,
                        64,
                        41,
                        26,
                        13,
                        18,
                        25,
                        26,
                        17,
                        10,
                        10,
                        6,
                        2,
                        2,
                        1,
                        1,
                        1
                      ]
                    },
                    {
                      "hovertemplate": "%{x}: %{y} <br>Song: %{text}",
                      "mode": "lines+markers",
                      "name": "Set Fire To The Rain",
                      "text": [
                        "Set Fire To The Rain"
                      ],
                      "type": "scatter",
                      "x": [
                        "2011-03-10T00:00:00"
                      ],
                      "y": [
                        88
                      ]
                    },
                    {
                      "hovertemplate": "%{x}: %{y} <br>Song: %{text}",
                      "mode": "lines+markers",
                      "name": "Someone Like You",
                      "text": [
                        "Someone Like You"
                      ],
                      "type": "scatter",
                      "x": [
                        "2011-03-10T00:00:00"
                      ],
                      "y": [
                        65
                      ]
                    },
                    {
                      "hovertemplate": "%{x}: %{y} <br>Song: %{text}",
                      "mode": "lines+markers",
                      "name": "Turning Tables",
                      "text": [
                        "Turning Tables",
                        "Turning Tables",
                        "Turning Tables"
                      ],
                      "type": "scatter",
                      "x": [
                        "2011-05-05T00:00:00",
                        "2011-05-12T00:00:00",
                        "2011-05-26T00:00:00"
                      ],
                      "y": [
                        63,
                        85,
                        96
                      ]
                    },
                    {
                      "hovertemplate": "%{x}: %{y} <br>Song: %{text}",
                      "mode": "lines+markers",
                      "name": "Rumour Has It",
                      "text": [],
                      "type": "scatter",
                      "x": [],
                      "y": []
                    }
                  ]
                },
                {
                  "data": [
                    {
                      "hovertemplate": "%{x}: %{y} <br>Song: %{text}",
                      "mode": "lines+markers",
                      "name": "Rolling In The Deep",
                      "text": [
                        "Rolling In The Deep",
                        "Rolling In The Deep",
                        "Rolling In The Deep",
                        "Rolling In The Deep",
                        "Rolling In The Deep",
                        "Rolling In The Deep",
                        "Rolling In The Deep",
                        "Rolling In The Deep",
                        "Rolling In The Deep",
                        "Rolling In The Deep",
                        "Rolling In The Deep",
                        "Rolling In The Deep",
                        "Rolling In The Deep",
                        "Rolling In The Deep",
                        "Rolling In The Deep",
                        "Rolling In The Deep",
                        "Rolling In The Deep",
                        "Rolling In The Deep",
                        "Rolling In The Deep",
                        "Rolling In The Deep"
                      ],
                      "type": "scatter",
                      "x": [
                        "2011-01-27T00:00:00",
                        "2011-02-03T00:00:00",
                        "2011-02-10T00:00:00",
                        "2011-02-17T00:00:00",
                        "2011-02-24T00:00:00",
                        "2011-03-03T00:00:00",
                        "2011-03-10T00:00:00",
                        "2011-03-17T00:00:00",
                        "2011-03-24T00:00:00",
                        "2011-03-31T00:00:00",
                        "2011-04-07T00:00:00",
                        "2011-04-14T00:00:00",
                        "2011-04-21T00:00:00",
                        "2011-04-28T00:00:00",
                        "2011-05-05T00:00:00",
                        "2011-05-12T00:00:00",
                        "2011-05-19T00:00:00",
                        "2011-05-26T00:00:00",
                        "2011-06-02T00:00:00",
                        "2011-06-09T00:00:00"
                      ],
                      "y": [
                        97,
                        84,
                        69,
                        64,
                        41,
                        26,
                        13,
                        18,
                        25,
                        26,
                        17,
                        10,
                        10,
                        6,
                        2,
                        2,
                        1,
                        1,
                        1,
                        1
                      ]
                    },
                    {
                      "hovertemplate": "%{x}: %{y} <br>Song: %{text}",
                      "mode": "lines+markers",
                      "name": "Set Fire To The Rain",
                      "text": [
                        "Set Fire To The Rain"
                      ],
                      "type": "scatter",
                      "x": [
                        "2011-03-10T00:00:00"
                      ],
                      "y": [
                        88
                      ]
                    },
                    {
                      "hovertemplate": "%{x}: %{y} <br>Song: %{text}",
                      "mode": "lines+markers",
                      "name": "Someone Like You",
                      "text": [
                        "Someone Like You"
                      ],
                      "type": "scatter",
                      "x": [
                        "2011-03-10T00:00:00"
                      ],
                      "y": [
                        65
                      ]
                    },
                    {
                      "hovertemplate": "%{x}: %{y} <br>Song: %{text}",
                      "mode": "lines+markers",
                      "name": "Turning Tables",
                      "text": [
                        "Turning Tables",
                        "Turning Tables",
                        "Turning Tables"
                      ],
                      "type": "scatter",
                      "x": [
                        "2011-05-05T00:00:00",
                        "2011-05-12T00:00:00",
                        "2011-05-26T00:00:00"
                      ],
                      "y": [
                        63,
                        85,
                        96
                      ]
                    },
                    {
                      "hovertemplate": "%{x}: %{y} <br>Song: %{text}",
                      "mode": "lines+markers",
                      "name": "Rumour Has It",
                      "text": [],
                      "type": "scatter",
                      "x": [],
                      "y": []
                    }
                  ]
                },
                {
                  "data": [
                    {
                      "hovertemplate": "%{x}: %{y} <br>Song: %{text}",
                      "mode": "lines+markers",
                      "name": "Rolling In The Deep",
                      "text": [
                        "Rolling In The Deep",
                        "Rolling In The Deep",
                        "Rolling In The Deep",
                        "Rolling In The Deep",
                        "Rolling In The Deep",
                        "Rolling In The Deep",
                        "Rolling In The Deep",
                        "Rolling In The Deep",
                        "Rolling In The Deep",
                        "Rolling In The Deep",
                        "Rolling In The Deep",
                        "Rolling In The Deep",
                        "Rolling In The Deep",
                        "Rolling In The Deep",
                        "Rolling In The Deep",
                        "Rolling In The Deep",
                        "Rolling In The Deep",
                        "Rolling In The Deep",
                        "Rolling In The Deep",
                        "Rolling In The Deep",
                        "Rolling In The Deep"
                      ],
                      "type": "scatter",
                      "x": [
                        "2011-01-27T00:00:00",
                        "2011-02-03T00:00:00",
                        "2011-02-10T00:00:00",
                        "2011-02-17T00:00:00",
                        "2011-02-24T00:00:00",
                        "2011-03-03T00:00:00",
                        "2011-03-10T00:00:00",
                        "2011-03-17T00:00:00",
                        "2011-03-24T00:00:00",
                        "2011-03-31T00:00:00",
                        "2011-04-07T00:00:00",
                        "2011-04-14T00:00:00",
                        "2011-04-21T00:00:00",
                        "2011-04-28T00:00:00",
                        "2011-05-05T00:00:00",
                        "2011-05-12T00:00:00",
                        "2011-05-19T00:00:00",
                        "2011-05-26T00:00:00",
                        "2011-06-02T00:00:00",
                        "2011-06-09T00:00:00",
                        "2011-06-16T00:00:00"
                      ],
                      "y": [
                        97,
                        84,
                        69,
                        64,
                        41,
                        26,
                        13,
                        18,
                        25,
                        26,
                        17,
                        10,
                        10,
                        6,
                        2,
                        2,
                        1,
                        1,
                        1,
                        1,
                        1
                      ]
                    },
                    {
                      "hovertemplate": "%{x}: %{y} <br>Song: %{text}",
                      "mode": "lines+markers",
                      "name": "Set Fire To The Rain",
                      "text": [
                        "Set Fire To The Rain"
                      ],
                      "type": "scatter",
                      "x": [
                        "2011-03-10T00:00:00"
                      ],
                      "y": [
                        88
                      ]
                    },
                    {
                      "hovertemplate": "%{x}: %{y} <br>Song: %{text}",
                      "mode": "lines+markers",
                      "name": "Someone Like You",
                      "text": [
                        "Someone Like You"
                      ],
                      "type": "scatter",
                      "x": [
                        "2011-03-10T00:00:00"
                      ],
                      "y": [
                        65
                      ]
                    },
                    {
                      "hovertemplate": "%{x}: %{y} <br>Song: %{text}",
                      "mode": "lines+markers",
                      "name": "Turning Tables",
                      "text": [
                        "Turning Tables",
                        "Turning Tables",
                        "Turning Tables"
                      ],
                      "type": "scatter",
                      "x": [
                        "2011-05-05T00:00:00",
                        "2011-05-12T00:00:00",
                        "2011-05-26T00:00:00"
                      ],
                      "y": [
                        63,
                        85,
                        96
                      ]
                    },
                    {
                      "hovertemplate": "%{x}: %{y} <br>Song: %{text}",
                      "mode": "lines+markers",
                      "name": "Rumour Has It",
                      "text": [],
                      "type": "scatter",
                      "x": [],
                      "y": []
                    }
                  ]
                },
                {
                  "data": [
                    {
                      "hovertemplate": "%{x}: %{y} <br>Song: %{text}",
                      "mode": "lines+markers",
                      "name": "Rolling In The Deep",
                      "text": [
                        "Rolling In The Deep",
                        "Rolling In The Deep",
                        "Rolling In The Deep",
                        "Rolling In The Deep",
                        "Rolling In The Deep",
                        "Rolling In The Deep",
                        "Rolling In The Deep",
                        "Rolling In The Deep",
                        "Rolling In The Deep",
                        "Rolling In The Deep",
                        "Rolling In The Deep",
                        "Rolling In The Deep",
                        "Rolling In The Deep",
                        "Rolling In The Deep",
                        "Rolling In The Deep",
                        "Rolling In The Deep",
                        "Rolling In The Deep",
                        "Rolling In The Deep",
                        "Rolling In The Deep",
                        "Rolling In The Deep",
                        "Rolling In The Deep",
                        "Rolling In The Deep"
                      ],
                      "type": "scatter",
                      "x": [
                        "2011-01-27T00:00:00",
                        "2011-02-03T00:00:00",
                        "2011-02-10T00:00:00",
                        "2011-02-17T00:00:00",
                        "2011-02-24T00:00:00",
                        "2011-03-03T00:00:00",
                        "2011-03-10T00:00:00",
                        "2011-03-17T00:00:00",
                        "2011-03-24T00:00:00",
                        "2011-03-31T00:00:00",
                        "2011-04-07T00:00:00",
                        "2011-04-14T00:00:00",
                        "2011-04-21T00:00:00",
                        "2011-04-28T00:00:00",
                        "2011-05-05T00:00:00",
                        "2011-05-12T00:00:00",
                        "2011-05-19T00:00:00",
                        "2011-05-26T00:00:00",
                        "2011-06-02T00:00:00",
                        "2011-06-09T00:00:00",
                        "2011-06-16T00:00:00",
                        "2011-06-23T00:00:00"
                      ],
                      "y": [
                        97,
                        84,
                        69,
                        64,
                        41,
                        26,
                        13,
                        18,
                        25,
                        26,
                        17,
                        10,
                        10,
                        6,
                        2,
                        2,
                        1,
                        1,
                        1,
                        1,
                        1,
                        1
                      ]
                    },
                    {
                      "hovertemplate": "%{x}: %{y} <br>Song: %{text}",
                      "mode": "lines+markers",
                      "name": "Set Fire To The Rain",
                      "text": [
                        "Set Fire To The Rain"
                      ],
                      "type": "scatter",
                      "x": [
                        "2011-03-10T00:00:00"
                      ],
                      "y": [
                        88
                      ]
                    },
                    {
                      "hovertemplate": "%{x}: %{y} <br>Song: %{text}",
                      "mode": "lines+markers",
                      "name": "Someone Like You",
                      "text": [
                        "Someone Like You"
                      ],
                      "type": "scatter",
                      "x": [
                        "2011-03-10T00:00:00"
                      ],
                      "y": [
                        65
                      ]
                    },
                    {
                      "hovertemplate": "%{x}: %{y} <br>Song: %{text}",
                      "mode": "lines+markers",
                      "name": "Turning Tables",
                      "text": [
                        "Turning Tables",
                        "Turning Tables",
                        "Turning Tables"
                      ],
                      "type": "scatter",
                      "x": [
                        "2011-05-05T00:00:00",
                        "2011-05-12T00:00:00",
                        "2011-05-26T00:00:00"
                      ],
                      "y": [
                        63,
                        85,
                        96
                      ]
                    },
                    {
                      "hovertemplate": "%{x}: %{y} <br>Song: %{text}",
                      "mode": "lines+markers",
                      "name": "Rumour Has It",
                      "text": [],
                      "type": "scatter",
                      "x": [],
                      "y": []
                    }
                  ]
                },
                {
                  "data": [
                    {
                      "hovertemplate": "%{x}: %{y} <br>Song: %{text}",
                      "mode": "lines+markers",
                      "name": "Rolling In The Deep",
                      "text": [
                        "Rolling In The Deep",
                        "Rolling In The Deep",
                        "Rolling In The Deep",
                        "Rolling In The Deep",
                        "Rolling In The Deep",
                        "Rolling In The Deep",
                        "Rolling In The Deep",
                        "Rolling In The Deep",
                        "Rolling In The Deep",
                        "Rolling In The Deep",
                        "Rolling In The Deep",
                        "Rolling In The Deep",
                        "Rolling In The Deep",
                        "Rolling In The Deep",
                        "Rolling In The Deep",
                        "Rolling In The Deep",
                        "Rolling In The Deep",
                        "Rolling In The Deep",
                        "Rolling In The Deep",
                        "Rolling In The Deep",
                        "Rolling In The Deep",
                        "Rolling In The Deep",
                        "Rolling In The Deep"
                      ],
                      "type": "scatter",
                      "x": [
                        "2011-01-27T00:00:00",
                        "2011-02-03T00:00:00",
                        "2011-02-10T00:00:00",
                        "2011-02-17T00:00:00",
                        "2011-02-24T00:00:00",
                        "2011-03-03T00:00:00",
                        "2011-03-10T00:00:00",
                        "2011-03-17T00:00:00",
                        "2011-03-24T00:00:00",
                        "2011-03-31T00:00:00",
                        "2011-04-07T00:00:00",
                        "2011-04-14T00:00:00",
                        "2011-04-21T00:00:00",
                        "2011-04-28T00:00:00",
                        "2011-05-05T00:00:00",
                        "2011-05-12T00:00:00",
                        "2011-05-19T00:00:00",
                        "2011-05-26T00:00:00",
                        "2011-06-02T00:00:00",
                        "2011-06-09T00:00:00",
                        "2011-06-16T00:00:00",
                        "2011-06-23T00:00:00",
                        "2011-06-30T00:00:00"
                      ],
                      "y": [
                        97,
                        84,
                        69,
                        64,
                        41,
                        26,
                        13,
                        18,
                        25,
                        26,
                        17,
                        10,
                        10,
                        6,
                        2,
                        2,
                        1,
                        1,
                        1,
                        1,
                        1,
                        1,
                        1
                      ]
                    },
                    {
                      "hovertemplate": "%{x}: %{y} <br>Song: %{text}",
                      "mode": "lines+markers",
                      "name": "Set Fire To The Rain",
                      "text": [
                        "Set Fire To The Rain"
                      ],
                      "type": "scatter",
                      "x": [
                        "2011-03-10T00:00:00"
                      ],
                      "y": [
                        88
                      ]
                    },
                    {
                      "hovertemplate": "%{x}: %{y} <br>Song: %{text}",
                      "mode": "lines+markers",
                      "name": "Someone Like You",
                      "text": [
                        "Someone Like You"
                      ],
                      "type": "scatter",
                      "x": [
                        "2011-03-10T00:00:00"
                      ],
                      "y": [
                        65
                      ]
                    },
                    {
                      "hovertemplate": "%{x}: %{y} <br>Song: %{text}",
                      "mode": "lines+markers",
                      "name": "Turning Tables",
                      "text": [
                        "Turning Tables",
                        "Turning Tables",
                        "Turning Tables"
                      ],
                      "type": "scatter",
                      "x": [
                        "2011-05-05T00:00:00",
                        "2011-05-12T00:00:00",
                        "2011-05-26T00:00:00"
                      ],
                      "y": [
                        63,
                        85,
                        96
                      ]
                    },
                    {
                      "hovertemplate": "%{x}: %{y} <br>Song: %{text}",
                      "mode": "lines+markers",
                      "name": "Rumour Has It",
                      "text": [],
                      "type": "scatter",
                      "x": [],
                      "y": []
                    }
                  ]
                },
                {
                  "data": [
                    {
                      "hovertemplate": "%{x}: %{y} <br>Song: %{text}",
                      "mode": "lines+markers",
                      "name": "Rolling In The Deep",
                      "text": [
                        "Rolling In The Deep",
                        "Rolling In The Deep",
                        "Rolling In The Deep",
                        "Rolling In The Deep",
                        "Rolling In The Deep",
                        "Rolling In The Deep",
                        "Rolling In The Deep",
                        "Rolling In The Deep",
                        "Rolling In The Deep",
                        "Rolling In The Deep",
                        "Rolling In The Deep",
                        "Rolling In The Deep",
                        "Rolling In The Deep",
                        "Rolling In The Deep",
                        "Rolling In The Deep",
                        "Rolling In The Deep",
                        "Rolling In The Deep",
                        "Rolling In The Deep",
                        "Rolling In The Deep",
                        "Rolling In The Deep",
                        "Rolling In The Deep",
                        "Rolling In The Deep",
                        "Rolling In The Deep",
                        "Rolling In The Deep"
                      ],
                      "type": "scatter",
                      "x": [
                        "2011-01-27T00:00:00",
                        "2011-02-03T00:00:00",
                        "2011-02-10T00:00:00",
                        "2011-02-17T00:00:00",
                        "2011-02-24T00:00:00",
                        "2011-03-03T00:00:00",
                        "2011-03-10T00:00:00",
                        "2011-03-17T00:00:00",
                        "2011-03-24T00:00:00",
                        "2011-03-31T00:00:00",
                        "2011-04-07T00:00:00",
                        "2011-04-14T00:00:00",
                        "2011-04-21T00:00:00",
                        "2011-04-28T00:00:00",
                        "2011-05-05T00:00:00",
                        "2011-05-12T00:00:00",
                        "2011-05-19T00:00:00",
                        "2011-05-26T00:00:00",
                        "2011-06-02T00:00:00",
                        "2011-06-09T00:00:00",
                        "2011-06-16T00:00:00",
                        "2011-06-23T00:00:00",
                        "2011-06-30T00:00:00",
                        "2011-07-07T00:00:00"
                      ],
                      "y": [
                        97,
                        84,
                        69,
                        64,
                        41,
                        26,
                        13,
                        18,
                        25,
                        26,
                        17,
                        10,
                        10,
                        6,
                        2,
                        2,
                        1,
                        1,
                        1,
                        1,
                        1,
                        1,
                        1,
                        2
                      ]
                    },
                    {
                      "hovertemplate": "%{x}: %{y} <br>Song: %{text}",
                      "mode": "lines+markers",
                      "name": "Set Fire To The Rain",
                      "text": [
                        "Set Fire To The Rain"
                      ],
                      "type": "scatter",
                      "x": [
                        "2011-03-10T00:00:00"
                      ],
                      "y": [
                        88
                      ]
                    },
                    {
                      "hovertemplate": "%{x}: %{y} <br>Song: %{text}",
                      "mode": "lines+markers",
                      "name": "Someone Like You",
                      "text": [
                        "Someone Like You"
                      ],
                      "type": "scatter",
                      "x": [
                        "2011-03-10T00:00:00"
                      ],
                      "y": [
                        65
                      ]
                    },
                    {
                      "hovertemplate": "%{x}: %{y} <br>Song: %{text}",
                      "mode": "lines+markers",
                      "name": "Turning Tables",
                      "text": [
                        "Turning Tables",
                        "Turning Tables",
                        "Turning Tables"
                      ],
                      "type": "scatter",
                      "x": [
                        "2011-05-05T00:00:00",
                        "2011-05-12T00:00:00",
                        "2011-05-26T00:00:00"
                      ],
                      "y": [
                        63,
                        85,
                        96
                      ]
                    },
                    {
                      "hovertemplate": "%{x}: %{y} <br>Song: %{text}",
                      "mode": "lines+markers",
                      "name": "Rumour Has It",
                      "text": [],
                      "type": "scatter",
                      "x": [],
                      "y": []
                    }
                  ]
                },
                {
                  "data": [
                    {
                      "hovertemplate": "%{x}: %{y} <br>Song: %{text}",
                      "mode": "lines+markers",
                      "name": "Rolling In The Deep",
                      "text": [
                        "Rolling In The Deep",
                        "Rolling In The Deep",
                        "Rolling In The Deep",
                        "Rolling In The Deep",
                        "Rolling In The Deep",
                        "Rolling In The Deep",
                        "Rolling In The Deep",
                        "Rolling In The Deep",
                        "Rolling In The Deep",
                        "Rolling In The Deep",
                        "Rolling In The Deep",
                        "Rolling In The Deep",
                        "Rolling In The Deep",
                        "Rolling In The Deep",
                        "Rolling In The Deep",
                        "Rolling In The Deep",
                        "Rolling In The Deep",
                        "Rolling In The Deep",
                        "Rolling In The Deep",
                        "Rolling In The Deep",
                        "Rolling In The Deep",
                        "Rolling In The Deep",
                        "Rolling In The Deep",
                        "Rolling In The Deep",
                        "Rolling In The Deep"
                      ],
                      "type": "scatter",
                      "x": [
                        "2011-01-27T00:00:00",
                        "2011-02-03T00:00:00",
                        "2011-02-10T00:00:00",
                        "2011-02-17T00:00:00",
                        "2011-02-24T00:00:00",
                        "2011-03-03T00:00:00",
                        "2011-03-10T00:00:00",
                        "2011-03-17T00:00:00",
                        "2011-03-24T00:00:00",
                        "2011-03-31T00:00:00",
                        "2011-04-07T00:00:00",
                        "2011-04-14T00:00:00",
                        "2011-04-21T00:00:00",
                        "2011-04-28T00:00:00",
                        "2011-05-05T00:00:00",
                        "2011-05-12T00:00:00",
                        "2011-05-19T00:00:00",
                        "2011-05-26T00:00:00",
                        "2011-06-02T00:00:00",
                        "2011-06-09T00:00:00",
                        "2011-06-16T00:00:00",
                        "2011-06-23T00:00:00",
                        "2011-06-30T00:00:00",
                        "2011-07-07T00:00:00",
                        "2011-07-14T00:00:00"
                      ],
                      "y": [
                        97,
                        84,
                        69,
                        64,
                        41,
                        26,
                        13,
                        18,
                        25,
                        26,
                        17,
                        10,
                        10,
                        6,
                        2,
                        2,
                        1,
                        1,
                        1,
                        1,
                        1,
                        1,
                        1,
                        2,
                        3
                      ]
                    },
                    {
                      "hovertemplate": "%{x}: %{y} <br>Song: %{text}",
                      "mode": "lines+markers",
                      "name": "Set Fire To The Rain",
                      "text": [
                        "Set Fire To The Rain"
                      ],
                      "type": "scatter",
                      "x": [
                        "2011-03-10T00:00:00"
                      ],
                      "y": [
                        88
                      ]
                    },
                    {
                      "hovertemplate": "%{x}: %{y} <br>Song: %{text}",
                      "mode": "lines+markers",
                      "name": "Someone Like You",
                      "text": [
                        "Someone Like You"
                      ],
                      "type": "scatter",
                      "x": [
                        "2011-03-10T00:00:00"
                      ],
                      "y": [
                        65
                      ]
                    },
                    {
                      "hovertemplate": "%{x}: %{y} <br>Song: %{text}",
                      "mode": "lines+markers",
                      "name": "Turning Tables",
                      "text": [
                        "Turning Tables",
                        "Turning Tables",
                        "Turning Tables"
                      ],
                      "type": "scatter",
                      "x": [
                        "2011-05-05T00:00:00",
                        "2011-05-12T00:00:00",
                        "2011-05-26T00:00:00"
                      ],
                      "y": [
                        63,
                        85,
                        96
                      ]
                    },
                    {
                      "hovertemplate": "%{x}: %{y} <br>Song: %{text}",
                      "mode": "lines+markers",
                      "name": "Rumour Has It",
                      "text": [],
                      "type": "scatter",
                      "x": [],
                      "y": []
                    }
                  ]
                },
                {
                  "data": [
                    {
                      "hovertemplate": "%{x}: %{y} <br>Song: %{text}",
                      "mode": "lines+markers",
                      "name": "Rolling In The Deep",
                      "text": [
                        "Rolling In The Deep",
                        "Rolling In The Deep",
                        "Rolling In The Deep",
                        "Rolling In The Deep",
                        "Rolling In The Deep",
                        "Rolling In The Deep",
                        "Rolling In The Deep",
                        "Rolling In The Deep",
                        "Rolling In The Deep",
                        "Rolling In The Deep",
                        "Rolling In The Deep",
                        "Rolling In The Deep",
                        "Rolling In The Deep",
                        "Rolling In The Deep",
                        "Rolling In The Deep",
                        "Rolling In The Deep",
                        "Rolling In The Deep",
                        "Rolling In The Deep",
                        "Rolling In The Deep",
                        "Rolling In The Deep",
                        "Rolling In The Deep",
                        "Rolling In The Deep",
                        "Rolling In The Deep",
                        "Rolling In The Deep",
                        "Rolling In The Deep",
                        "Rolling In The Deep"
                      ],
                      "type": "scatter",
                      "x": [
                        "2011-01-27T00:00:00",
                        "2011-02-03T00:00:00",
                        "2011-02-10T00:00:00",
                        "2011-02-17T00:00:00",
                        "2011-02-24T00:00:00",
                        "2011-03-03T00:00:00",
                        "2011-03-10T00:00:00",
                        "2011-03-17T00:00:00",
                        "2011-03-24T00:00:00",
                        "2011-03-31T00:00:00",
                        "2011-04-07T00:00:00",
                        "2011-04-14T00:00:00",
                        "2011-04-21T00:00:00",
                        "2011-04-28T00:00:00",
                        "2011-05-05T00:00:00",
                        "2011-05-12T00:00:00",
                        "2011-05-19T00:00:00",
                        "2011-05-26T00:00:00",
                        "2011-06-02T00:00:00",
                        "2011-06-09T00:00:00",
                        "2011-06-16T00:00:00",
                        "2011-06-23T00:00:00",
                        "2011-06-30T00:00:00",
                        "2011-07-07T00:00:00",
                        "2011-07-14T00:00:00",
                        "2011-07-21T00:00:00"
                      ],
                      "y": [
                        97,
                        84,
                        69,
                        64,
                        41,
                        26,
                        13,
                        18,
                        25,
                        26,
                        17,
                        10,
                        10,
                        6,
                        2,
                        2,
                        1,
                        1,
                        1,
                        1,
                        1,
                        1,
                        1,
                        2,
                        3,
                        3
                      ]
                    },
                    {
                      "hovertemplate": "%{x}: %{y} <br>Song: %{text}",
                      "mode": "lines+markers",
                      "name": "Set Fire To The Rain",
                      "text": [
                        "Set Fire To The Rain"
                      ],
                      "type": "scatter",
                      "x": [
                        "2011-03-10T00:00:00"
                      ],
                      "y": [
                        88
                      ]
                    },
                    {
                      "hovertemplate": "%{x}: %{y} <br>Song: %{text}",
                      "mode": "lines+markers",
                      "name": "Someone Like You",
                      "text": [
                        "Someone Like You"
                      ],
                      "type": "scatter",
                      "x": [
                        "2011-03-10T00:00:00"
                      ],
                      "y": [
                        65
                      ]
                    },
                    {
                      "hovertemplate": "%{x}: %{y} <br>Song: %{text}",
                      "mode": "lines+markers",
                      "name": "Turning Tables",
                      "text": [
                        "Turning Tables",
                        "Turning Tables",
                        "Turning Tables"
                      ],
                      "type": "scatter",
                      "x": [
                        "2011-05-05T00:00:00",
                        "2011-05-12T00:00:00",
                        "2011-05-26T00:00:00"
                      ],
                      "y": [
                        63,
                        85,
                        96
                      ]
                    },
                    {
                      "hovertemplate": "%{x}: %{y} <br>Song: %{text}",
                      "mode": "lines+markers",
                      "name": "Rumour Has It",
                      "text": [],
                      "type": "scatter",
                      "x": [],
                      "y": []
                    }
                  ]
                },
                {
                  "data": [
                    {
                      "hovertemplate": "%{x}: %{y} <br>Song: %{text}",
                      "mode": "lines+markers",
                      "name": "Rolling In The Deep",
                      "text": [
                        "Rolling In The Deep",
                        "Rolling In The Deep",
                        "Rolling In The Deep",
                        "Rolling In The Deep",
                        "Rolling In The Deep",
                        "Rolling In The Deep",
                        "Rolling In The Deep",
                        "Rolling In The Deep",
                        "Rolling In The Deep",
                        "Rolling In The Deep",
                        "Rolling In The Deep",
                        "Rolling In The Deep",
                        "Rolling In The Deep",
                        "Rolling In The Deep",
                        "Rolling In The Deep",
                        "Rolling In The Deep",
                        "Rolling In The Deep",
                        "Rolling In The Deep",
                        "Rolling In The Deep",
                        "Rolling In The Deep",
                        "Rolling In The Deep",
                        "Rolling In The Deep",
                        "Rolling In The Deep",
                        "Rolling In The Deep",
                        "Rolling In The Deep",
                        "Rolling In The Deep",
                        "Rolling In The Deep"
                      ],
                      "type": "scatter",
                      "x": [
                        "2011-01-27T00:00:00",
                        "2011-02-03T00:00:00",
                        "2011-02-10T00:00:00",
                        "2011-02-17T00:00:00",
                        "2011-02-24T00:00:00",
                        "2011-03-03T00:00:00",
                        "2011-03-10T00:00:00",
                        "2011-03-17T00:00:00",
                        "2011-03-24T00:00:00",
                        "2011-03-31T00:00:00",
                        "2011-04-07T00:00:00",
                        "2011-04-14T00:00:00",
                        "2011-04-21T00:00:00",
                        "2011-04-28T00:00:00",
                        "2011-05-05T00:00:00",
                        "2011-05-12T00:00:00",
                        "2011-05-19T00:00:00",
                        "2011-05-26T00:00:00",
                        "2011-06-02T00:00:00",
                        "2011-06-09T00:00:00",
                        "2011-06-16T00:00:00",
                        "2011-06-23T00:00:00",
                        "2011-06-30T00:00:00",
                        "2011-07-07T00:00:00",
                        "2011-07-14T00:00:00",
                        "2011-07-21T00:00:00",
                        "2011-07-28T00:00:00"
                      ],
                      "y": [
                        97,
                        84,
                        69,
                        64,
                        41,
                        26,
                        13,
                        18,
                        25,
                        26,
                        17,
                        10,
                        10,
                        6,
                        2,
                        2,
                        1,
                        1,
                        1,
                        1,
                        1,
                        1,
                        1,
                        2,
                        3,
                        3,
                        4
                      ]
                    },
                    {
                      "hovertemplate": "%{x}: %{y} <br>Song: %{text}",
                      "mode": "lines+markers",
                      "name": "Set Fire To The Rain",
                      "text": [
                        "Set Fire To The Rain"
                      ],
                      "type": "scatter",
                      "x": [
                        "2011-03-10T00:00:00"
                      ],
                      "y": [
                        88
                      ]
                    },
                    {
                      "hovertemplate": "%{x}: %{y} <br>Song: %{text}",
                      "mode": "lines+markers",
                      "name": "Someone Like You",
                      "text": [
                        "Someone Like You",
                        "Someone Like You"
                      ],
                      "type": "scatter",
                      "x": [
                        "2011-03-10T00:00:00",
                        "2011-07-28T00:00:00"
                      ],
                      "y": [
                        65,
                        97
                      ]
                    },
                    {
                      "hovertemplate": "%{x}: %{y} <br>Song: %{text}",
                      "mode": "lines+markers",
                      "name": "Turning Tables",
                      "text": [
                        "Turning Tables",
                        "Turning Tables",
                        "Turning Tables"
                      ],
                      "type": "scatter",
                      "x": [
                        "2011-05-05T00:00:00",
                        "2011-05-12T00:00:00",
                        "2011-05-26T00:00:00"
                      ],
                      "y": [
                        63,
                        85,
                        96
                      ]
                    },
                    {
                      "hovertemplate": "%{x}: %{y} <br>Song: %{text}",
                      "mode": "lines+markers",
                      "name": "Rumour Has It",
                      "text": [],
                      "type": "scatter",
                      "x": [],
                      "y": []
                    }
                  ]
                },
                {
                  "data": [
                    {
                      "hovertemplate": "%{x}: %{y} <br>Song: %{text}",
                      "mode": "lines+markers",
                      "name": "Rolling In The Deep",
                      "text": [
                        "Rolling In The Deep",
                        "Rolling In The Deep",
                        "Rolling In The Deep",
                        "Rolling In The Deep",
                        "Rolling In The Deep",
                        "Rolling In The Deep",
                        "Rolling In The Deep",
                        "Rolling In The Deep",
                        "Rolling In The Deep",
                        "Rolling In The Deep",
                        "Rolling In The Deep",
                        "Rolling In The Deep",
                        "Rolling In The Deep",
                        "Rolling In The Deep",
                        "Rolling In The Deep",
                        "Rolling In The Deep",
                        "Rolling In The Deep",
                        "Rolling In The Deep",
                        "Rolling In The Deep",
                        "Rolling In The Deep",
                        "Rolling In The Deep",
                        "Rolling In The Deep",
                        "Rolling In The Deep",
                        "Rolling In The Deep",
                        "Rolling In The Deep",
                        "Rolling In The Deep",
                        "Rolling In The Deep",
                        "Rolling In The Deep"
                      ],
                      "type": "scatter",
                      "x": [
                        "2011-01-27T00:00:00",
                        "2011-02-03T00:00:00",
                        "2011-02-10T00:00:00",
                        "2011-02-17T00:00:00",
                        "2011-02-24T00:00:00",
                        "2011-03-03T00:00:00",
                        "2011-03-10T00:00:00",
                        "2011-03-17T00:00:00",
                        "2011-03-24T00:00:00",
                        "2011-03-31T00:00:00",
                        "2011-04-07T00:00:00",
                        "2011-04-14T00:00:00",
                        "2011-04-21T00:00:00",
                        "2011-04-28T00:00:00",
                        "2011-05-05T00:00:00",
                        "2011-05-12T00:00:00",
                        "2011-05-19T00:00:00",
                        "2011-05-26T00:00:00",
                        "2011-06-02T00:00:00",
                        "2011-06-09T00:00:00",
                        "2011-06-16T00:00:00",
                        "2011-06-23T00:00:00",
                        "2011-06-30T00:00:00",
                        "2011-07-07T00:00:00",
                        "2011-07-14T00:00:00",
                        "2011-07-21T00:00:00",
                        "2011-07-28T00:00:00",
                        "2012-01-05T00:00:00"
                      ],
                      "y": [
                        97,
                        84,
                        69,
                        64,
                        41,
                        26,
                        13,
                        18,
                        25,
                        26,
                        17,
                        10,
                        10,
                        6,
                        2,
                        2,
                        1,
                        1,
                        1,
                        1,
                        1,
                        1,
                        1,
                        2,
                        3,
                        3,
                        4,
                        35
                      ]
                    },
                    {
                      "hovertemplate": "%{x}: %{y} <br>Song: %{text}",
                      "mode": "lines+markers",
                      "name": "Set Fire To The Rain",
                      "text": [
                        "Set Fire To The Rain",
                        "Set Fire To The Rain"
                      ],
                      "type": "scatter",
                      "x": [
                        "2011-03-10T00:00:00",
                        "2012-01-05T00:00:00"
                      ],
                      "y": [
                        88,
                        7
                      ]
                    },
                    {
                      "hovertemplate": "%{x}: %{y} <br>Song: %{text}",
                      "mode": "lines+markers",
                      "name": "Someone Like You",
                      "text": [
                        "Someone Like You",
                        "Someone Like You",
                        "Someone Like You"
                      ],
                      "type": "scatter",
                      "x": [
                        "2011-03-10T00:00:00",
                        "2011-07-28T00:00:00",
                        "2012-01-05T00:00:00"
                      ],
                      "y": [
                        65,
                        97,
                        8
                      ]
                    },
                    {
                      "hovertemplate": "%{x}: %{y} <br>Song: %{text}",
                      "mode": "lines+markers",
                      "name": "Turning Tables",
                      "text": [
                        "Turning Tables",
                        "Turning Tables",
                        "Turning Tables"
                      ],
                      "type": "scatter",
                      "x": [
                        "2011-05-05T00:00:00",
                        "2011-05-12T00:00:00",
                        "2011-05-26T00:00:00"
                      ],
                      "y": [
                        63,
                        85,
                        96
                      ]
                    },
                    {
                      "hovertemplate": "%{x}: %{y} <br>Song: %{text}",
                      "mode": "lines+markers",
                      "name": "Rumour Has It",
                      "text": [
                        "Rumour Has It"
                      ],
                      "type": "scatter",
                      "x": [
                        "2012-01-05T00:00:00"
                      ],
                      "y": [
                        78
                      ]
                    }
                  ]
                },
                {
                  "data": [
                    {
                      "hovertemplate": "%{x}: %{y} <br>Song: %{text}",
                      "mode": "lines+markers",
                      "name": "Rolling In The Deep",
                      "text": [
                        "Rolling In The Deep",
                        "Rolling In The Deep",
                        "Rolling In The Deep",
                        "Rolling In The Deep",
                        "Rolling In The Deep",
                        "Rolling In The Deep",
                        "Rolling In The Deep",
                        "Rolling In The Deep",
                        "Rolling In The Deep",
                        "Rolling In The Deep",
                        "Rolling In The Deep",
                        "Rolling In The Deep",
                        "Rolling In The Deep",
                        "Rolling In The Deep",
                        "Rolling In The Deep",
                        "Rolling In The Deep",
                        "Rolling In The Deep",
                        "Rolling In The Deep",
                        "Rolling In The Deep",
                        "Rolling In The Deep",
                        "Rolling In The Deep",
                        "Rolling In The Deep",
                        "Rolling In The Deep",
                        "Rolling In The Deep",
                        "Rolling In The Deep",
                        "Rolling In The Deep",
                        "Rolling In The Deep",
                        "Rolling In The Deep",
                        "Rolling In The Deep"
                      ],
                      "type": "scatter",
                      "x": [
                        "2011-01-27T00:00:00",
                        "2011-02-03T00:00:00",
                        "2011-02-10T00:00:00",
                        "2011-02-17T00:00:00",
                        "2011-02-24T00:00:00",
                        "2011-03-03T00:00:00",
                        "2011-03-10T00:00:00",
                        "2011-03-17T00:00:00",
                        "2011-03-24T00:00:00",
                        "2011-03-31T00:00:00",
                        "2011-04-07T00:00:00",
                        "2011-04-14T00:00:00",
                        "2011-04-21T00:00:00",
                        "2011-04-28T00:00:00",
                        "2011-05-05T00:00:00",
                        "2011-05-12T00:00:00",
                        "2011-05-19T00:00:00",
                        "2011-05-26T00:00:00",
                        "2011-06-02T00:00:00",
                        "2011-06-09T00:00:00",
                        "2011-06-16T00:00:00",
                        "2011-06-23T00:00:00",
                        "2011-06-30T00:00:00",
                        "2011-07-07T00:00:00",
                        "2011-07-14T00:00:00",
                        "2011-07-21T00:00:00",
                        "2011-07-28T00:00:00",
                        "2012-01-05T00:00:00",
                        "2012-01-12T00:00:00"
                      ],
                      "y": [
                        97,
                        84,
                        69,
                        64,
                        41,
                        26,
                        13,
                        18,
                        25,
                        26,
                        17,
                        10,
                        10,
                        6,
                        2,
                        2,
                        1,
                        1,
                        1,
                        1,
                        1,
                        1,
                        1,
                        2,
                        3,
                        3,
                        4,
                        35,
                        30
                      ]
                    },
                    {
                      "hovertemplate": "%{x}: %{y} <br>Song: %{text}",
                      "mode": "lines+markers",
                      "name": "Set Fire To The Rain",
                      "text": [
                        "Set Fire To The Rain",
                        "Set Fire To The Rain",
                        "Set Fire To The Rain"
                      ],
                      "type": "scatter",
                      "x": [
                        "2011-03-10T00:00:00",
                        "2012-01-05T00:00:00",
                        "2012-01-12T00:00:00"
                      ],
                      "y": [
                        88,
                        7,
                        8
                      ]
                    },
                    {
                      "hovertemplate": "%{x}: %{y} <br>Song: %{text}",
                      "mode": "lines+markers",
                      "name": "Someone Like You",
                      "text": [
                        "Someone Like You",
                        "Someone Like You",
                        "Someone Like You",
                        "Someone Like You"
                      ],
                      "type": "scatter",
                      "x": [
                        "2011-03-10T00:00:00",
                        "2011-07-28T00:00:00",
                        "2012-01-05T00:00:00",
                        "2012-01-12T00:00:00"
                      ],
                      "y": [
                        65,
                        97,
                        8,
                        9
                      ]
                    },
                    {
                      "hovertemplate": "%{x}: %{y} <br>Song: %{text}",
                      "mode": "lines+markers",
                      "name": "Turning Tables",
                      "text": [
                        "Turning Tables",
                        "Turning Tables",
                        "Turning Tables"
                      ],
                      "type": "scatter",
                      "x": [
                        "2011-05-05T00:00:00",
                        "2011-05-12T00:00:00",
                        "2011-05-26T00:00:00"
                      ],
                      "y": [
                        63,
                        85,
                        96
                      ]
                    },
                    {
                      "hovertemplate": "%{x}: %{y} <br>Song: %{text}",
                      "mode": "lines+markers",
                      "name": "Rumour Has It",
                      "text": [
                        "Rumour Has It",
                        "Rumour Has It"
                      ],
                      "type": "scatter",
                      "x": [
                        "2012-01-05T00:00:00",
                        "2012-01-12T00:00:00"
                      ],
                      "y": [
                        78,
                        75
                      ]
                    }
                  ]
                },
                {
                  "data": [
                    {
                      "hovertemplate": "%{x}: %{y} <br>Song: %{text}",
                      "mode": "lines+markers",
                      "name": "Rolling In The Deep",
                      "text": [
                        "Rolling In The Deep",
                        "Rolling In The Deep",
                        "Rolling In The Deep",
                        "Rolling In The Deep",
                        "Rolling In The Deep",
                        "Rolling In The Deep",
                        "Rolling In The Deep",
                        "Rolling In The Deep",
                        "Rolling In The Deep",
                        "Rolling In The Deep",
                        "Rolling In The Deep",
                        "Rolling In The Deep",
                        "Rolling In The Deep",
                        "Rolling In The Deep",
                        "Rolling In The Deep",
                        "Rolling In The Deep",
                        "Rolling In The Deep",
                        "Rolling In The Deep",
                        "Rolling In The Deep",
                        "Rolling In The Deep",
                        "Rolling In The Deep",
                        "Rolling In The Deep",
                        "Rolling In The Deep",
                        "Rolling In The Deep",
                        "Rolling In The Deep",
                        "Rolling In The Deep",
                        "Rolling In The Deep",
                        "Rolling In The Deep",
                        "Rolling In The Deep",
                        "Rolling In The Deep"
                      ],
                      "type": "scatter",
                      "x": [
                        "2011-01-27T00:00:00",
                        "2011-02-03T00:00:00",
                        "2011-02-10T00:00:00",
                        "2011-02-17T00:00:00",
                        "2011-02-24T00:00:00",
                        "2011-03-03T00:00:00",
                        "2011-03-10T00:00:00",
                        "2011-03-17T00:00:00",
                        "2011-03-24T00:00:00",
                        "2011-03-31T00:00:00",
                        "2011-04-07T00:00:00",
                        "2011-04-14T00:00:00",
                        "2011-04-21T00:00:00",
                        "2011-04-28T00:00:00",
                        "2011-05-05T00:00:00",
                        "2011-05-12T00:00:00",
                        "2011-05-19T00:00:00",
                        "2011-05-26T00:00:00",
                        "2011-06-02T00:00:00",
                        "2011-06-09T00:00:00",
                        "2011-06-16T00:00:00",
                        "2011-06-23T00:00:00",
                        "2011-06-30T00:00:00",
                        "2011-07-07T00:00:00",
                        "2011-07-14T00:00:00",
                        "2011-07-21T00:00:00",
                        "2011-07-28T00:00:00",
                        "2012-01-05T00:00:00",
                        "2012-01-12T00:00:00",
                        "2012-01-19T00:00:00"
                      ],
                      "y": [
                        97,
                        84,
                        69,
                        64,
                        41,
                        26,
                        13,
                        18,
                        25,
                        26,
                        17,
                        10,
                        10,
                        6,
                        2,
                        2,
                        1,
                        1,
                        1,
                        1,
                        1,
                        1,
                        1,
                        2,
                        3,
                        3,
                        4,
                        35,
                        30,
                        36
                      ]
                    },
                    {
                      "hovertemplate": "%{x}: %{y} <br>Song: %{text}",
                      "mode": "lines+markers",
                      "name": "Set Fire To The Rain",
                      "text": [
                        "Set Fire To The Rain",
                        "Set Fire To The Rain",
                        "Set Fire To The Rain",
                        "Set Fire To The Rain"
                      ],
                      "type": "scatter",
                      "x": [
                        "2011-03-10T00:00:00",
                        "2012-01-05T00:00:00",
                        "2012-01-12T00:00:00",
                        "2012-01-19T00:00:00"
                      ],
                      "y": [
                        88,
                        7,
                        8,
                        4
                      ]
                    },
                    {
                      "hovertemplate": "%{x}: %{y} <br>Song: %{text}",
                      "mode": "lines+markers",
                      "name": "Someone Like You",
                      "text": [
                        "Someone Like You",
                        "Someone Like You",
                        "Someone Like You",
                        "Someone Like You",
                        "Someone Like You"
                      ],
                      "type": "scatter",
                      "x": [
                        "2011-03-10T00:00:00",
                        "2011-07-28T00:00:00",
                        "2012-01-05T00:00:00",
                        "2012-01-12T00:00:00",
                        "2012-01-19T00:00:00"
                      ],
                      "y": [
                        65,
                        97,
                        8,
                        9,
                        10
                      ]
                    },
                    {
                      "hovertemplate": "%{x}: %{y} <br>Song: %{text}",
                      "mode": "lines+markers",
                      "name": "Turning Tables",
                      "text": [
                        "Turning Tables",
                        "Turning Tables",
                        "Turning Tables"
                      ],
                      "type": "scatter",
                      "x": [
                        "2011-05-05T00:00:00",
                        "2011-05-12T00:00:00",
                        "2011-05-26T00:00:00"
                      ],
                      "y": [
                        63,
                        85,
                        96
                      ]
                    },
                    {
                      "hovertemplate": "%{x}: %{y} <br>Song: %{text}",
                      "mode": "lines+markers",
                      "name": "Rumour Has It",
                      "text": [
                        "Rumour Has It",
                        "Rumour Has It",
                        "Rumour Has It"
                      ],
                      "type": "scatter",
                      "x": [
                        "2012-01-05T00:00:00",
                        "2012-01-12T00:00:00",
                        "2012-01-19T00:00:00"
                      ],
                      "y": [
                        78,
                        75,
                        95
                      ]
                    }
                  ]
                },
                {
                  "data": [
                    {
                      "hovertemplate": "%{x}: %{y} <br>Song: %{text}",
                      "mode": "lines+markers",
                      "name": "Rolling In The Deep",
                      "text": [
                        "Rolling In The Deep",
                        "Rolling In The Deep",
                        "Rolling In The Deep",
                        "Rolling In The Deep",
                        "Rolling In The Deep",
                        "Rolling In The Deep",
                        "Rolling In The Deep",
                        "Rolling In The Deep",
                        "Rolling In The Deep",
                        "Rolling In The Deep",
                        "Rolling In The Deep",
                        "Rolling In The Deep",
                        "Rolling In The Deep",
                        "Rolling In The Deep",
                        "Rolling In The Deep",
                        "Rolling In The Deep",
                        "Rolling In The Deep",
                        "Rolling In The Deep",
                        "Rolling In The Deep",
                        "Rolling In The Deep",
                        "Rolling In The Deep",
                        "Rolling In The Deep",
                        "Rolling In The Deep",
                        "Rolling In The Deep",
                        "Rolling In The Deep",
                        "Rolling In The Deep",
                        "Rolling In The Deep",
                        "Rolling In The Deep",
                        "Rolling In The Deep",
                        "Rolling In The Deep",
                        "Rolling In The Deep"
                      ],
                      "type": "scatter",
                      "x": [
                        "2011-01-27T00:00:00",
                        "2011-02-03T00:00:00",
                        "2011-02-10T00:00:00",
                        "2011-02-17T00:00:00",
                        "2011-02-24T00:00:00",
                        "2011-03-03T00:00:00",
                        "2011-03-10T00:00:00",
                        "2011-03-17T00:00:00",
                        "2011-03-24T00:00:00",
                        "2011-03-31T00:00:00",
                        "2011-04-07T00:00:00",
                        "2011-04-14T00:00:00",
                        "2011-04-21T00:00:00",
                        "2011-04-28T00:00:00",
                        "2011-05-05T00:00:00",
                        "2011-05-12T00:00:00",
                        "2011-05-19T00:00:00",
                        "2011-05-26T00:00:00",
                        "2011-06-02T00:00:00",
                        "2011-06-09T00:00:00",
                        "2011-06-16T00:00:00",
                        "2011-06-23T00:00:00",
                        "2011-06-30T00:00:00",
                        "2011-07-07T00:00:00",
                        "2011-07-14T00:00:00",
                        "2011-07-21T00:00:00",
                        "2011-07-28T00:00:00",
                        "2012-01-05T00:00:00",
                        "2012-01-12T00:00:00",
                        "2012-01-19T00:00:00",
                        "2012-01-26T00:00:00"
                      ],
                      "y": [
                        97,
                        84,
                        69,
                        64,
                        41,
                        26,
                        13,
                        18,
                        25,
                        26,
                        17,
                        10,
                        10,
                        6,
                        2,
                        2,
                        1,
                        1,
                        1,
                        1,
                        1,
                        1,
                        1,
                        2,
                        3,
                        3,
                        4,
                        35,
                        30,
                        36,
                        40
                      ]
                    },
                    {
                      "hovertemplate": "%{x}: %{y} <br>Song: %{text}",
                      "mode": "lines+markers",
                      "name": "Set Fire To The Rain",
                      "text": [
                        "Set Fire To The Rain",
                        "Set Fire To The Rain",
                        "Set Fire To The Rain",
                        "Set Fire To The Rain",
                        "Set Fire To The Rain"
                      ],
                      "type": "scatter",
                      "x": [
                        "2011-03-10T00:00:00",
                        "2012-01-05T00:00:00",
                        "2012-01-12T00:00:00",
                        "2012-01-19T00:00:00",
                        "2012-01-26T00:00:00"
                      ],
                      "y": [
                        88,
                        7,
                        8,
                        4,
                        2
                      ]
                    },
                    {
                      "hovertemplate": "%{x}: %{y} <br>Song: %{text}",
                      "mode": "lines+markers",
                      "name": "Someone Like You",
                      "text": [
                        "Someone Like You",
                        "Someone Like You",
                        "Someone Like You",
                        "Someone Like You",
                        "Someone Like You",
                        "Someone Like You"
                      ],
                      "type": "scatter",
                      "x": [
                        "2011-03-10T00:00:00",
                        "2011-07-28T00:00:00",
                        "2012-01-05T00:00:00",
                        "2012-01-12T00:00:00",
                        "2012-01-19T00:00:00",
                        "2012-01-26T00:00:00"
                      ],
                      "y": [
                        65,
                        97,
                        8,
                        9,
                        10,
                        16
                      ]
                    },
                    {
                      "hovertemplate": "%{x}: %{y} <br>Song: %{text}",
                      "mode": "lines+markers",
                      "name": "Turning Tables",
                      "text": [
                        "Turning Tables",
                        "Turning Tables",
                        "Turning Tables"
                      ],
                      "type": "scatter",
                      "x": [
                        "2011-05-05T00:00:00",
                        "2011-05-12T00:00:00",
                        "2011-05-26T00:00:00"
                      ],
                      "y": [
                        63,
                        85,
                        96
                      ]
                    },
                    {
                      "hovertemplate": "%{x}: %{y} <br>Song: %{text}",
                      "mode": "lines+markers",
                      "name": "Rumour Has It",
                      "text": [
                        "Rumour Has It",
                        "Rumour Has It",
                        "Rumour Has It"
                      ],
                      "type": "scatter",
                      "x": [
                        "2012-01-05T00:00:00",
                        "2012-01-12T00:00:00",
                        "2012-01-19T00:00:00"
                      ],
                      "y": [
                        78,
                        75,
                        95
                      ]
                    }
                  ]
                },
                {
                  "data": [
                    {
                      "hovertemplate": "%{x}: %{y} <br>Song: %{text}",
                      "mode": "lines+markers",
                      "name": "Rolling In The Deep",
                      "text": [
                        "Rolling In The Deep",
                        "Rolling In The Deep",
                        "Rolling In The Deep",
                        "Rolling In The Deep",
                        "Rolling In The Deep",
                        "Rolling In The Deep",
                        "Rolling In The Deep",
                        "Rolling In The Deep",
                        "Rolling In The Deep",
                        "Rolling In The Deep",
                        "Rolling In The Deep",
                        "Rolling In The Deep",
                        "Rolling In The Deep",
                        "Rolling In The Deep",
                        "Rolling In The Deep",
                        "Rolling In The Deep",
                        "Rolling In The Deep",
                        "Rolling In The Deep",
                        "Rolling In The Deep",
                        "Rolling In The Deep",
                        "Rolling In The Deep",
                        "Rolling In The Deep",
                        "Rolling In The Deep",
                        "Rolling In The Deep",
                        "Rolling In The Deep",
                        "Rolling In The Deep",
                        "Rolling In The Deep",
                        "Rolling In The Deep",
                        "Rolling In The Deep",
                        "Rolling In The Deep",
                        "Rolling In The Deep",
                        "Rolling In The Deep"
                      ],
                      "type": "scatter",
                      "x": [
                        "2011-01-27T00:00:00",
                        "2011-02-03T00:00:00",
                        "2011-02-10T00:00:00",
                        "2011-02-17T00:00:00",
                        "2011-02-24T00:00:00",
                        "2011-03-03T00:00:00",
                        "2011-03-10T00:00:00",
                        "2011-03-17T00:00:00",
                        "2011-03-24T00:00:00",
                        "2011-03-31T00:00:00",
                        "2011-04-07T00:00:00",
                        "2011-04-14T00:00:00",
                        "2011-04-21T00:00:00",
                        "2011-04-28T00:00:00",
                        "2011-05-05T00:00:00",
                        "2011-05-12T00:00:00",
                        "2011-05-19T00:00:00",
                        "2011-05-26T00:00:00",
                        "2011-06-02T00:00:00",
                        "2011-06-09T00:00:00",
                        "2011-06-16T00:00:00",
                        "2011-06-23T00:00:00",
                        "2011-06-30T00:00:00",
                        "2011-07-07T00:00:00",
                        "2011-07-14T00:00:00",
                        "2011-07-21T00:00:00",
                        "2011-07-28T00:00:00",
                        "2012-01-05T00:00:00",
                        "2012-01-12T00:00:00",
                        "2012-01-19T00:00:00",
                        "2012-01-26T00:00:00",
                        "2012-02-02T00:00:00"
                      ],
                      "y": [
                        97,
                        84,
                        69,
                        64,
                        41,
                        26,
                        13,
                        18,
                        25,
                        26,
                        17,
                        10,
                        10,
                        6,
                        2,
                        2,
                        1,
                        1,
                        1,
                        1,
                        1,
                        1,
                        1,
                        2,
                        3,
                        3,
                        4,
                        35,
                        30,
                        36,
                        40,
                        41
                      ]
                    },
                    {
                      "hovertemplate": "%{x}: %{y} <br>Song: %{text}",
                      "mode": "lines+markers",
                      "name": "Set Fire To The Rain",
                      "text": [
                        "Set Fire To The Rain",
                        "Set Fire To The Rain",
                        "Set Fire To The Rain",
                        "Set Fire To The Rain",
                        "Set Fire To The Rain",
                        "Set Fire To The Rain"
                      ],
                      "type": "scatter",
                      "x": [
                        "2011-03-10T00:00:00",
                        "2012-01-05T00:00:00",
                        "2012-01-12T00:00:00",
                        "2012-01-19T00:00:00",
                        "2012-01-26T00:00:00",
                        "2012-02-02T00:00:00"
                      ],
                      "y": [
                        88,
                        7,
                        8,
                        4,
                        2,
                        1
                      ]
                    },
                    {
                      "hovertemplate": "%{x}: %{y} <br>Song: %{text}",
                      "mode": "lines+markers",
                      "name": "Someone Like You",
                      "text": [
                        "Someone Like You",
                        "Someone Like You",
                        "Someone Like You",
                        "Someone Like You",
                        "Someone Like You",
                        "Someone Like You",
                        "Someone Like You"
                      ],
                      "type": "scatter",
                      "x": [
                        "2011-03-10T00:00:00",
                        "2011-07-28T00:00:00",
                        "2012-01-05T00:00:00",
                        "2012-01-12T00:00:00",
                        "2012-01-19T00:00:00",
                        "2012-01-26T00:00:00",
                        "2012-02-02T00:00:00"
                      ],
                      "y": [
                        65,
                        97,
                        8,
                        9,
                        10,
                        16,
                        19
                      ]
                    },
                    {
                      "hovertemplate": "%{x}: %{y} <br>Song: %{text}",
                      "mode": "lines+markers",
                      "name": "Turning Tables",
                      "text": [
                        "Turning Tables",
                        "Turning Tables",
                        "Turning Tables"
                      ],
                      "type": "scatter",
                      "x": [
                        "2011-05-05T00:00:00",
                        "2011-05-12T00:00:00",
                        "2011-05-26T00:00:00"
                      ],
                      "y": [
                        63,
                        85,
                        96
                      ]
                    },
                    {
                      "hovertemplate": "%{x}: %{y} <br>Song: %{text}",
                      "mode": "lines+markers",
                      "name": "Rumour Has It",
                      "text": [
                        "Rumour Has It",
                        "Rumour Has It",
                        "Rumour Has It"
                      ],
                      "type": "scatter",
                      "x": [
                        "2012-01-05T00:00:00",
                        "2012-01-12T00:00:00",
                        "2012-01-19T00:00:00"
                      ],
                      "y": [
                        78,
                        75,
                        95
                      ]
                    }
                  ]
                },
                {
                  "data": [
                    {
                      "hovertemplate": "%{x}: %{y} <br>Song: %{text}",
                      "mode": "lines+markers",
                      "name": "Rolling In The Deep",
                      "text": [
                        "Rolling In The Deep",
                        "Rolling In The Deep",
                        "Rolling In The Deep",
                        "Rolling In The Deep",
                        "Rolling In The Deep",
                        "Rolling In The Deep",
                        "Rolling In The Deep",
                        "Rolling In The Deep",
                        "Rolling In The Deep",
                        "Rolling In The Deep",
                        "Rolling In The Deep",
                        "Rolling In The Deep",
                        "Rolling In The Deep",
                        "Rolling In The Deep",
                        "Rolling In The Deep",
                        "Rolling In The Deep",
                        "Rolling In The Deep",
                        "Rolling In The Deep",
                        "Rolling In The Deep",
                        "Rolling In The Deep",
                        "Rolling In The Deep",
                        "Rolling In The Deep",
                        "Rolling In The Deep",
                        "Rolling In The Deep",
                        "Rolling In The Deep",
                        "Rolling In The Deep",
                        "Rolling In The Deep",
                        "Rolling In The Deep",
                        "Rolling In The Deep",
                        "Rolling In The Deep",
                        "Rolling In The Deep",
                        "Rolling In The Deep",
                        "Rolling In The Deep"
                      ],
                      "type": "scatter",
                      "x": [
                        "2011-01-27T00:00:00",
                        "2011-02-03T00:00:00",
                        "2011-02-10T00:00:00",
                        "2011-02-17T00:00:00",
                        "2011-02-24T00:00:00",
                        "2011-03-03T00:00:00",
                        "2011-03-10T00:00:00",
                        "2011-03-17T00:00:00",
                        "2011-03-24T00:00:00",
                        "2011-03-31T00:00:00",
                        "2011-04-07T00:00:00",
                        "2011-04-14T00:00:00",
                        "2011-04-21T00:00:00",
                        "2011-04-28T00:00:00",
                        "2011-05-05T00:00:00",
                        "2011-05-12T00:00:00",
                        "2011-05-19T00:00:00",
                        "2011-05-26T00:00:00",
                        "2011-06-02T00:00:00",
                        "2011-06-09T00:00:00",
                        "2011-06-16T00:00:00",
                        "2011-06-23T00:00:00",
                        "2011-06-30T00:00:00",
                        "2011-07-07T00:00:00",
                        "2011-07-14T00:00:00",
                        "2011-07-21T00:00:00",
                        "2011-07-28T00:00:00",
                        "2012-01-05T00:00:00",
                        "2012-01-12T00:00:00",
                        "2012-01-19T00:00:00",
                        "2012-01-26T00:00:00",
                        "2012-02-02T00:00:00",
                        "2012-02-09T00:00:00"
                      ],
                      "y": [
                        97,
                        84,
                        69,
                        64,
                        41,
                        26,
                        13,
                        18,
                        25,
                        26,
                        17,
                        10,
                        10,
                        6,
                        2,
                        2,
                        1,
                        1,
                        1,
                        1,
                        1,
                        1,
                        1,
                        2,
                        3,
                        3,
                        4,
                        35,
                        30,
                        36,
                        40,
                        41,
                        43
                      ]
                    },
                    {
                      "hovertemplate": "%{x}: %{y} <br>Song: %{text}",
                      "mode": "lines+markers",
                      "name": "Set Fire To The Rain",
                      "text": [
                        "Set Fire To The Rain",
                        "Set Fire To The Rain",
                        "Set Fire To The Rain",
                        "Set Fire To The Rain",
                        "Set Fire To The Rain",
                        "Set Fire To The Rain",
                        "Set Fire To The Rain"
                      ],
                      "type": "scatter",
                      "x": [
                        "2011-03-10T00:00:00",
                        "2012-01-05T00:00:00",
                        "2012-01-12T00:00:00",
                        "2012-01-19T00:00:00",
                        "2012-01-26T00:00:00",
                        "2012-02-02T00:00:00",
                        "2012-02-09T00:00:00"
                      ],
                      "y": [
                        88,
                        7,
                        8,
                        4,
                        2,
                        1,
                        1
                      ]
                    },
                    {
                      "hovertemplate": "%{x}: %{y} <br>Song: %{text}",
                      "mode": "lines+markers",
                      "name": "Someone Like You",
                      "text": [
                        "Someone Like You",
                        "Someone Like You",
                        "Someone Like You",
                        "Someone Like You",
                        "Someone Like You",
                        "Someone Like You",
                        "Someone Like You",
                        "Someone Like You"
                      ],
                      "type": "scatter",
                      "x": [
                        "2011-03-10T00:00:00",
                        "2011-07-28T00:00:00",
                        "2012-01-05T00:00:00",
                        "2012-01-12T00:00:00",
                        "2012-01-19T00:00:00",
                        "2012-01-26T00:00:00",
                        "2012-02-02T00:00:00",
                        "2012-02-09T00:00:00"
                      ],
                      "y": [
                        65,
                        97,
                        8,
                        9,
                        10,
                        16,
                        19,
                        21
                      ]
                    },
                    {
                      "hovertemplate": "%{x}: %{y} <br>Song: %{text}",
                      "mode": "lines+markers",
                      "name": "Turning Tables",
                      "text": [
                        "Turning Tables",
                        "Turning Tables",
                        "Turning Tables"
                      ],
                      "type": "scatter",
                      "x": [
                        "2011-05-05T00:00:00",
                        "2011-05-12T00:00:00",
                        "2011-05-26T00:00:00"
                      ],
                      "y": [
                        63,
                        85,
                        96
                      ]
                    },
                    {
                      "hovertemplate": "%{x}: %{y} <br>Song: %{text}",
                      "mode": "lines+markers",
                      "name": "Rumour Has It",
                      "text": [
                        "Rumour Has It",
                        "Rumour Has It",
                        "Rumour Has It"
                      ],
                      "type": "scatter",
                      "x": [
                        "2012-01-05T00:00:00",
                        "2012-01-12T00:00:00",
                        "2012-01-19T00:00:00"
                      ],
                      "y": [
                        78,
                        75,
                        95
                      ]
                    }
                  ]
                },
                {
                  "data": [
                    {
                      "hovertemplate": "%{x}: %{y} <br>Song: %{text}",
                      "mode": "lines+markers",
                      "name": "Rolling In The Deep",
                      "text": [
                        "Rolling In The Deep",
                        "Rolling In The Deep",
                        "Rolling In The Deep",
                        "Rolling In The Deep",
                        "Rolling In The Deep",
                        "Rolling In The Deep",
                        "Rolling In The Deep",
                        "Rolling In The Deep",
                        "Rolling In The Deep",
                        "Rolling In The Deep",
                        "Rolling In The Deep",
                        "Rolling In The Deep",
                        "Rolling In The Deep",
                        "Rolling In The Deep",
                        "Rolling In The Deep",
                        "Rolling In The Deep",
                        "Rolling In The Deep",
                        "Rolling In The Deep",
                        "Rolling In The Deep",
                        "Rolling In The Deep",
                        "Rolling In The Deep",
                        "Rolling In The Deep",
                        "Rolling In The Deep",
                        "Rolling In The Deep",
                        "Rolling In The Deep",
                        "Rolling In The Deep",
                        "Rolling In The Deep",
                        "Rolling In The Deep",
                        "Rolling In The Deep",
                        "Rolling In The Deep",
                        "Rolling In The Deep",
                        "Rolling In The Deep",
                        "Rolling In The Deep",
                        "Rolling In The Deep"
                      ],
                      "type": "scatter",
                      "x": [
                        "2011-01-27T00:00:00",
                        "2011-02-03T00:00:00",
                        "2011-02-10T00:00:00",
                        "2011-02-17T00:00:00",
                        "2011-02-24T00:00:00",
                        "2011-03-03T00:00:00",
                        "2011-03-10T00:00:00",
                        "2011-03-17T00:00:00",
                        "2011-03-24T00:00:00",
                        "2011-03-31T00:00:00",
                        "2011-04-07T00:00:00",
                        "2011-04-14T00:00:00",
                        "2011-04-21T00:00:00",
                        "2011-04-28T00:00:00",
                        "2011-05-05T00:00:00",
                        "2011-05-12T00:00:00",
                        "2011-05-19T00:00:00",
                        "2011-05-26T00:00:00",
                        "2011-06-02T00:00:00",
                        "2011-06-09T00:00:00",
                        "2011-06-16T00:00:00",
                        "2011-06-23T00:00:00",
                        "2011-06-30T00:00:00",
                        "2011-07-07T00:00:00",
                        "2011-07-14T00:00:00",
                        "2011-07-21T00:00:00",
                        "2011-07-28T00:00:00",
                        "2012-01-05T00:00:00",
                        "2012-01-12T00:00:00",
                        "2012-01-19T00:00:00",
                        "2012-01-26T00:00:00",
                        "2012-02-02T00:00:00",
                        "2012-02-09T00:00:00",
                        "2012-02-16T00:00:00"
                      ],
                      "y": [
                        97,
                        84,
                        69,
                        64,
                        41,
                        26,
                        13,
                        18,
                        25,
                        26,
                        17,
                        10,
                        10,
                        6,
                        2,
                        2,
                        1,
                        1,
                        1,
                        1,
                        1,
                        1,
                        1,
                        2,
                        3,
                        3,
                        4,
                        35,
                        30,
                        36,
                        40,
                        41,
                        43,
                        44
                      ]
                    },
                    {
                      "hovertemplate": "%{x}: %{y} <br>Song: %{text}",
                      "mode": "lines+markers",
                      "name": "Set Fire To The Rain",
                      "text": [
                        "Set Fire To The Rain",
                        "Set Fire To The Rain",
                        "Set Fire To The Rain",
                        "Set Fire To The Rain",
                        "Set Fire To The Rain",
                        "Set Fire To The Rain",
                        "Set Fire To The Rain",
                        "Set Fire To The Rain"
                      ],
                      "type": "scatter",
                      "x": [
                        "2011-03-10T00:00:00",
                        "2012-01-05T00:00:00",
                        "2012-01-12T00:00:00",
                        "2012-01-19T00:00:00",
                        "2012-01-26T00:00:00",
                        "2012-02-02T00:00:00",
                        "2012-02-09T00:00:00",
                        "2012-02-16T00:00:00"
                      ],
                      "y": [
                        88,
                        7,
                        8,
                        4,
                        2,
                        1,
                        1,
                        2
                      ]
                    },
                    {
                      "hovertemplate": "%{x}: %{y} <br>Song: %{text}",
                      "mode": "lines+markers",
                      "name": "Someone Like You",
                      "text": [
                        "Someone Like You",
                        "Someone Like You",
                        "Someone Like You",
                        "Someone Like You",
                        "Someone Like You",
                        "Someone Like You",
                        "Someone Like You",
                        "Someone Like You",
                        "Someone Like You"
                      ],
                      "type": "scatter",
                      "x": [
                        "2011-03-10T00:00:00",
                        "2011-07-28T00:00:00",
                        "2012-01-05T00:00:00",
                        "2012-01-12T00:00:00",
                        "2012-01-19T00:00:00",
                        "2012-01-26T00:00:00",
                        "2012-02-02T00:00:00",
                        "2012-02-09T00:00:00",
                        "2012-02-16T00:00:00"
                      ],
                      "y": [
                        65,
                        97,
                        8,
                        9,
                        10,
                        16,
                        19,
                        21,
                        22
                      ]
                    },
                    {
                      "hovertemplate": "%{x}: %{y} <br>Song: %{text}",
                      "mode": "lines+markers",
                      "name": "Turning Tables",
                      "text": [
                        "Turning Tables",
                        "Turning Tables",
                        "Turning Tables"
                      ],
                      "type": "scatter",
                      "x": [
                        "2011-05-05T00:00:00",
                        "2011-05-12T00:00:00",
                        "2011-05-26T00:00:00"
                      ],
                      "y": [
                        63,
                        85,
                        96
                      ]
                    },
                    {
                      "hovertemplate": "%{x}: %{y} <br>Song: %{text}",
                      "mode": "lines+markers",
                      "name": "Rumour Has It",
                      "text": [
                        "Rumour Has It",
                        "Rumour Has It",
                        "Rumour Has It"
                      ],
                      "type": "scatter",
                      "x": [
                        "2012-01-05T00:00:00",
                        "2012-01-12T00:00:00",
                        "2012-01-19T00:00:00"
                      ],
                      "y": [
                        78,
                        75,
                        95
                      ]
                    }
                  ]
                },
                {
                  "data": [
                    {
                      "hovertemplate": "%{x}: %{y} <br>Song: %{text}",
                      "mode": "lines+markers",
                      "name": "Rolling In The Deep",
                      "text": [
                        "Rolling In The Deep",
                        "Rolling In The Deep",
                        "Rolling In The Deep",
                        "Rolling In The Deep",
                        "Rolling In The Deep",
                        "Rolling In The Deep",
                        "Rolling In The Deep",
                        "Rolling In The Deep",
                        "Rolling In The Deep",
                        "Rolling In The Deep",
                        "Rolling In The Deep",
                        "Rolling In The Deep",
                        "Rolling In The Deep",
                        "Rolling In The Deep",
                        "Rolling In The Deep",
                        "Rolling In The Deep",
                        "Rolling In The Deep",
                        "Rolling In The Deep",
                        "Rolling In The Deep",
                        "Rolling In The Deep",
                        "Rolling In The Deep",
                        "Rolling In The Deep",
                        "Rolling In The Deep",
                        "Rolling In The Deep",
                        "Rolling In The Deep",
                        "Rolling In The Deep",
                        "Rolling In The Deep",
                        "Rolling In The Deep",
                        "Rolling In The Deep",
                        "Rolling In The Deep",
                        "Rolling In The Deep",
                        "Rolling In The Deep",
                        "Rolling In The Deep",
                        "Rolling In The Deep",
                        "Rolling In The Deep"
                      ],
                      "type": "scatter",
                      "x": [
                        "2011-01-27T00:00:00",
                        "2011-02-03T00:00:00",
                        "2011-02-10T00:00:00",
                        "2011-02-17T00:00:00",
                        "2011-02-24T00:00:00",
                        "2011-03-03T00:00:00",
                        "2011-03-10T00:00:00",
                        "2011-03-17T00:00:00",
                        "2011-03-24T00:00:00",
                        "2011-03-31T00:00:00",
                        "2011-04-07T00:00:00",
                        "2011-04-14T00:00:00",
                        "2011-04-21T00:00:00",
                        "2011-04-28T00:00:00",
                        "2011-05-05T00:00:00",
                        "2011-05-12T00:00:00",
                        "2011-05-19T00:00:00",
                        "2011-05-26T00:00:00",
                        "2011-06-02T00:00:00",
                        "2011-06-09T00:00:00",
                        "2011-06-16T00:00:00",
                        "2011-06-23T00:00:00",
                        "2011-06-30T00:00:00",
                        "2011-07-07T00:00:00",
                        "2011-07-14T00:00:00",
                        "2011-07-21T00:00:00",
                        "2011-07-28T00:00:00",
                        "2012-01-05T00:00:00",
                        "2012-01-12T00:00:00",
                        "2012-01-19T00:00:00",
                        "2012-01-26T00:00:00",
                        "2012-02-02T00:00:00",
                        "2012-02-09T00:00:00",
                        "2012-02-16T00:00:00",
                        "2012-02-23T00:00:00"
                      ],
                      "y": [
                        97,
                        84,
                        69,
                        64,
                        41,
                        26,
                        13,
                        18,
                        25,
                        26,
                        17,
                        10,
                        10,
                        6,
                        2,
                        2,
                        1,
                        1,
                        1,
                        1,
                        1,
                        1,
                        1,
                        2,
                        3,
                        3,
                        4,
                        35,
                        30,
                        36,
                        40,
                        41,
                        43,
                        44,
                        17
                      ]
                    },
                    {
                      "hovertemplate": "%{x}: %{y} <br>Song: %{text}",
                      "mode": "lines+markers",
                      "name": "Set Fire To The Rain",
                      "text": [
                        "Set Fire To The Rain",
                        "Set Fire To The Rain",
                        "Set Fire To The Rain",
                        "Set Fire To The Rain",
                        "Set Fire To The Rain",
                        "Set Fire To The Rain",
                        "Set Fire To The Rain",
                        "Set Fire To The Rain",
                        "Set Fire To The Rain"
                      ],
                      "type": "scatter",
                      "x": [
                        "2011-03-10T00:00:00",
                        "2012-01-05T00:00:00",
                        "2012-01-12T00:00:00",
                        "2012-01-19T00:00:00",
                        "2012-01-26T00:00:00",
                        "2012-02-02T00:00:00",
                        "2012-02-09T00:00:00",
                        "2012-02-16T00:00:00",
                        "2012-02-23T00:00:00"
                      ],
                      "y": [
                        88,
                        7,
                        8,
                        4,
                        2,
                        1,
                        1,
                        2,
                        2
                      ]
                    },
                    {
                      "hovertemplate": "%{x}: %{y} <br>Song: %{text}",
                      "mode": "lines+markers",
                      "name": "Someone Like You",
                      "text": [
                        "Someone Like You",
                        "Someone Like You",
                        "Someone Like You",
                        "Someone Like You",
                        "Someone Like You",
                        "Someone Like You",
                        "Someone Like You",
                        "Someone Like You",
                        "Someone Like You",
                        "Someone Like You"
                      ],
                      "type": "scatter",
                      "x": [
                        "2011-03-10T00:00:00",
                        "2011-07-28T00:00:00",
                        "2012-01-05T00:00:00",
                        "2012-01-12T00:00:00",
                        "2012-01-19T00:00:00",
                        "2012-01-26T00:00:00",
                        "2012-02-02T00:00:00",
                        "2012-02-09T00:00:00",
                        "2012-02-16T00:00:00",
                        "2012-02-23T00:00:00"
                      ],
                      "y": [
                        65,
                        97,
                        8,
                        9,
                        10,
                        16,
                        19,
                        21,
                        22,
                        11
                      ]
                    },
                    {
                      "hovertemplate": "%{x}: %{y} <br>Song: %{text}",
                      "mode": "lines+markers",
                      "name": "Turning Tables",
                      "text": [
                        "Turning Tables",
                        "Turning Tables",
                        "Turning Tables"
                      ],
                      "type": "scatter",
                      "x": [
                        "2011-05-05T00:00:00",
                        "2011-05-12T00:00:00",
                        "2011-05-26T00:00:00"
                      ],
                      "y": [
                        63,
                        85,
                        96
                      ]
                    },
                    {
                      "hovertemplate": "%{x}: %{y} <br>Song: %{text}",
                      "mode": "lines+markers",
                      "name": "Rumour Has It",
                      "text": [
                        "Rumour Has It",
                        "Rumour Has It",
                        "Rumour Has It"
                      ],
                      "type": "scatter",
                      "x": [
                        "2012-01-05T00:00:00",
                        "2012-01-12T00:00:00",
                        "2012-01-19T00:00:00"
                      ],
                      "y": [
                        78,
                        75,
                        95
                      ]
                    }
                  ]
                },
                {
                  "data": [
                    {
                      "hovertemplate": "%{x}: %{y} <br>Song: %{text}",
                      "mode": "lines+markers",
                      "name": "Rolling In The Deep",
                      "text": [
                        "Rolling In The Deep",
                        "Rolling In The Deep",
                        "Rolling In The Deep",
                        "Rolling In The Deep",
                        "Rolling In The Deep",
                        "Rolling In The Deep",
                        "Rolling In The Deep",
                        "Rolling In The Deep",
                        "Rolling In The Deep",
                        "Rolling In The Deep",
                        "Rolling In The Deep",
                        "Rolling In The Deep",
                        "Rolling In The Deep",
                        "Rolling In The Deep",
                        "Rolling In The Deep",
                        "Rolling In The Deep",
                        "Rolling In The Deep",
                        "Rolling In The Deep",
                        "Rolling In The Deep",
                        "Rolling In The Deep",
                        "Rolling In The Deep",
                        "Rolling In The Deep",
                        "Rolling In The Deep",
                        "Rolling In The Deep",
                        "Rolling In The Deep",
                        "Rolling In The Deep",
                        "Rolling In The Deep",
                        "Rolling In The Deep",
                        "Rolling In The Deep",
                        "Rolling In The Deep",
                        "Rolling In The Deep",
                        "Rolling In The Deep",
                        "Rolling In The Deep",
                        "Rolling In The Deep",
                        "Rolling In The Deep",
                        "Rolling In The Deep"
                      ],
                      "type": "scatter",
                      "x": [
                        "2011-01-27T00:00:00",
                        "2011-02-03T00:00:00",
                        "2011-02-10T00:00:00",
                        "2011-02-17T00:00:00",
                        "2011-02-24T00:00:00",
                        "2011-03-03T00:00:00",
                        "2011-03-10T00:00:00",
                        "2011-03-17T00:00:00",
                        "2011-03-24T00:00:00",
                        "2011-03-31T00:00:00",
                        "2011-04-07T00:00:00",
                        "2011-04-14T00:00:00",
                        "2011-04-21T00:00:00",
                        "2011-04-28T00:00:00",
                        "2011-05-05T00:00:00",
                        "2011-05-12T00:00:00",
                        "2011-05-19T00:00:00",
                        "2011-05-26T00:00:00",
                        "2011-06-02T00:00:00",
                        "2011-06-09T00:00:00",
                        "2011-06-16T00:00:00",
                        "2011-06-23T00:00:00",
                        "2011-06-30T00:00:00",
                        "2011-07-07T00:00:00",
                        "2011-07-14T00:00:00",
                        "2011-07-21T00:00:00",
                        "2011-07-28T00:00:00",
                        "2012-01-05T00:00:00",
                        "2012-01-12T00:00:00",
                        "2012-01-19T00:00:00",
                        "2012-01-26T00:00:00",
                        "2012-02-02T00:00:00",
                        "2012-02-09T00:00:00",
                        "2012-02-16T00:00:00",
                        "2012-02-23T00:00:00",
                        "2012-03-02T00:00:00"
                      ],
                      "y": [
                        97,
                        84,
                        69,
                        64,
                        41,
                        26,
                        13,
                        18,
                        25,
                        26,
                        17,
                        10,
                        10,
                        6,
                        2,
                        2,
                        1,
                        1,
                        1,
                        1,
                        1,
                        1,
                        1,
                        2,
                        3,
                        3,
                        4,
                        35,
                        30,
                        36,
                        40,
                        41,
                        43,
                        44,
                        17,
                        5
                      ]
                    },
                    {
                      "hovertemplate": "%{x}: %{y} <br>Song: %{text}",
                      "mode": "lines+markers",
                      "name": "Set Fire To The Rain",
                      "text": [
                        "Set Fire To The Rain",
                        "Set Fire To The Rain",
                        "Set Fire To The Rain",
                        "Set Fire To The Rain",
                        "Set Fire To The Rain",
                        "Set Fire To The Rain",
                        "Set Fire To The Rain",
                        "Set Fire To The Rain",
                        "Set Fire To The Rain",
                        "Set Fire To The Rain"
                      ],
                      "type": "scatter",
                      "x": [
                        "2011-03-10T00:00:00",
                        "2012-01-05T00:00:00",
                        "2012-01-12T00:00:00",
                        "2012-01-19T00:00:00",
                        "2012-01-26T00:00:00",
                        "2012-02-02T00:00:00",
                        "2012-02-09T00:00:00",
                        "2012-02-16T00:00:00",
                        "2012-02-23T00:00:00",
                        "2012-03-02T00:00:00"
                      ],
                      "y": [
                        88,
                        7,
                        8,
                        4,
                        2,
                        1,
                        1,
                        2,
                        2,
                        2
                      ]
                    },
                    {
                      "hovertemplate": "%{x}: %{y} <br>Song: %{text}",
                      "mode": "lines+markers",
                      "name": "Someone Like You",
                      "text": [
                        "Someone Like You",
                        "Someone Like You",
                        "Someone Like You",
                        "Someone Like You",
                        "Someone Like You",
                        "Someone Like You",
                        "Someone Like You",
                        "Someone Like You",
                        "Someone Like You",
                        "Someone Like You",
                        "Someone Like You"
                      ],
                      "type": "scatter",
                      "x": [
                        "2011-03-10T00:00:00",
                        "2011-07-28T00:00:00",
                        "2012-01-05T00:00:00",
                        "2012-01-12T00:00:00",
                        "2012-01-19T00:00:00",
                        "2012-01-26T00:00:00",
                        "2012-02-02T00:00:00",
                        "2012-02-09T00:00:00",
                        "2012-02-16T00:00:00",
                        "2012-02-23T00:00:00",
                        "2012-03-02T00:00:00"
                      ],
                      "y": [
                        65,
                        97,
                        8,
                        9,
                        10,
                        16,
                        19,
                        21,
                        22,
                        11,
                        7
                      ]
                    },
                    {
                      "hovertemplate": "%{x}: %{y} <br>Song: %{text}",
                      "mode": "lines+markers",
                      "name": "Turning Tables",
                      "text": [
                        "Turning Tables",
                        "Turning Tables",
                        "Turning Tables"
                      ],
                      "type": "scatter",
                      "x": [
                        "2011-05-05T00:00:00",
                        "2011-05-12T00:00:00",
                        "2011-05-26T00:00:00"
                      ],
                      "y": [
                        63,
                        85,
                        96
                      ]
                    },
                    {
                      "hovertemplate": "%{x}: %{y} <br>Song: %{text}",
                      "mode": "lines+markers",
                      "name": "Rumour Has It",
                      "text": [
                        "Rumour Has It",
                        "Rumour Has It",
                        "Rumour Has It",
                        "Rumour Has It"
                      ],
                      "type": "scatter",
                      "x": [
                        "2012-01-05T00:00:00",
                        "2012-01-12T00:00:00",
                        "2012-01-19T00:00:00",
                        "2012-03-02T00:00:00"
                      ],
                      "y": [
                        78,
                        75,
                        95,
                        67
                      ]
                    }
                  ]
                },
                {
                  "data": [
                    {
                      "hovertemplate": "%{x}: %{y} <br>Song: %{text}",
                      "mode": "lines+markers",
                      "name": "Rolling In The Deep",
                      "text": [
                        "Rolling In The Deep",
                        "Rolling In The Deep",
                        "Rolling In The Deep",
                        "Rolling In The Deep",
                        "Rolling In The Deep",
                        "Rolling In The Deep",
                        "Rolling In The Deep",
                        "Rolling In The Deep",
                        "Rolling In The Deep",
                        "Rolling In The Deep",
                        "Rolling In The Deep",
                        "Rolling In The Deep",
                        "Rolling In The Deep",
                        "Rolling In The Deep",
                        "Rolling In The Deep",
                        "Rolling In The Deep",
                        "Rolling In The Deep",
                        "Rolling In The Deep",
                        "Rolling In The Deep",
                        "Rolling In The Deep",
                        "Rolling In The Deep",
                        "Rolling In The Deep",
                        "Rolling In The Deep",
                        "Rolling In The Deep",
                        "Rolling In The Deep",
                        "Rolling In The Deep",
                        "Rolling In The Deep",
                        "Rolling In The Deep",
                        "Rolling In The Deep",
                        "Rolling In The Deep",
                        "Rolling In The Deep",
                        "Rolling In The Deep",
                        "Rolling In The Deep",
                        "Rolling In The Deep",
                        "Rolling In The Deep",
                        "Rolling In The Deep",
                        "Rolling In The Deep"
                      ],
                      "type": "scatter",
                      "x": [
                        "2011-01-27T00:00:00",
                        "2011-02-03T00:00:00",
                        "2011-02-10T00:00:00",
                        "2011-02-17T00:00:00",
                        "2011-02-24T00:00:00",
                        "2011-03-03T00:00:00",
                        "2011-03-10T00:00:00",
                        "2011-03-17T00:00:00",
                        "2011-03-24T00:00:00",
                        "2011-03-31T00:00:00",
                        "2011-04-07T00:00:00",
                        "2011-04-14T00:00:00",
                        "2011-04-21T00:00:00",
                        "2011-04-28T00:00:00",
                        "2011-05-05T00:00:00",
                        "2011-05-12T00:00:00",
                        "2011-05-19T00:00:00",
                        "2011-05-26T00:00:00",
                        "2011-06-02T00:00:00",
                        "2011-06-09T00:00:00",
                        "2011-06-16T00:00:00",
                        "2011-06-23T00:00:00",
                        "2011-06-30T00:00:00",
                        "2011-07-07T00:00:00",
                        "2011-07-14T00:00:00",
                        "2011-07-21T00:00:00",
                        "2011-07-28T00:00:00",
                        "2012-01-05T00:00:00",
                        "2012-01-12T00:00:00",
                        "2012-01-19T00:00:00",
                        "2012-01-26T00:00:00",
                        "2012-02-02T00:00:00",
                        "2012-02-09T00:00:00",
                        "2012-02-16T00:00:00",
                        "2012-02-23T00:00:00",
                        "2012-03-02T00:00:00",
                        "2012-03-09T00:00:00"
                      ],
                      "y": [
                        97,
                        84,
                        69,
                        64,
                        41,
                        26,
                        13,
                        18,
                        25,
                        26,
                        17,
                        10,
                        10,
                        6,
                        2,
                        2,
                        1,
                        1,
                        1,
                        1,
                        1,
                        1,
                        1,
                        2,
                        3,
                        3,
                        4,
                        35,
                        30,
                        36,
                        40,
                        41,
                        43,
                        44,
                        17,
                        5,
                        23
                      ]
                    },
                    {
                      "hovertemplate": "%{x}: %{y} <br>Song: %{text}",
                      "mode": "lines+markers",
                      "name": "Set Fire To The Rain",
                      "text": [
                        "Set Fire To The Rain",
                        "Set Fire To The Rain",
                        "Set Fire To The Rain",
                        "Set Fire To The Rain",
                        "Set Fire To The Rain",
                        "Set Fire To The Rain",
                        "Set Fire To The Rain",
                        "Set Fire To The Rain",
                        "Set Fire To The Rain",
                        "Set Fire To The Rain",
                        "Set Fire To The Rain"
                      ],
                      "type": "scatter",
                      "x": [
                        "2011-03-10T00:00:00",
                        "2012-01-05T00:00:00",
                        "2012-01-12T00:00:00",
                        "2012-01-19T00:00:00",
                        "2012-01-26T00:00:00",
                        "2012-02-02T00:00:00",
                        "2012-02-09T00:00:00",
                        "2012-02-16T00:00:00",
                        "2012-02-23T00:00:00",
                        "2012-03-02T00:00:00",
                        "2012-03-09T00:00:00"
                      ],
                      "y": [
                        88,
                        7,
                        8,
                        4,
                        2,
                        1,
                        1,
                        2,
                        2,
                        2,
                        2
                      ]
                    },
                    {
                      "hovertemplate": "%{x}: %{y} <br>Song: %{text}",
                      "mode": "lines+markers",
                      "name": "Someone Like You",
                      "text": [
                        "Someone Like You",
                        "Someone Like You",
                        "Someone Like You",
                        "Someone Like You",
                        "Someone Like You",
                        "Someone Like You",
                        "Someone Like You",
                        "Someone Like You",
                        "Someone Like You",
                        "Someone Like You",
                        "Someone Like You",
                        "Someone Like You"
                      ],
                      "type": "scatter",
                      "x": [
                        "2011-03-10T00:00:00",
                        "2011-07-28T00:00:00",
                        "2012-01-05T00:00:00",
                        "2012-01-12T00:00:00",
                        "2012-01-19T00:00:00",
                        "2012-01-26T00:00:00",
                        "2012-02-02T00:00:00",
                        "2012-02-09T00:00:00",
                        "2012-02-16T00:00:00",
                        "2012-02-23T00:00:00",
                        "2012-03-02T00:00:00",
                        "2012-03-09T00:00:00"
                      ],
                      "y": [
                        65,
                        97,
                        8,
                        9,
                        10,
                        16,
                        19,
                        21,
                        22,
                        11,
                        7,
                        21
                      ]
                    },
                    {
                      "hovertemplate": "%{x}: %{y} <br>Song: %{text}",
                      "mode": "lines+markers",
                      "name": "Turning Tables",
                      "text": [
                        "Turning Tables",
                        "Turning Tables",
                        "Turning Tables"
                      ],
                      "type": "scatter",
                      "x": [
                        "2011-05-05T00:00:00",
                        "2011-05-12T00:00:00",
                        "2011-05-26T00:00:00"
                      ],
                      "y": [
                        63,
                        85,
                        96
                      ]
                    },
                    {
                      "hovertemplate": "%{x}: %{y} <br>Song: %{text}",
                      "mode": "lines+markers",
                      "name": "Rumour Has It",
                      "text": [
                        "Rumour Has It",
                        "Rumour Has It",
                        "Rumour Has It",
                        "Rumour Has It",
                        "Rumour Has It"
                      ],
                      "type": "scatter",
                      "x": [
                        "2012-01-05T00:00:00",
                        "2012-01-12T00:00:00",
                        "2012-01-19T00:00:00",
                        "2012-03-02T00:00:00",
                        "2012-03-09T00:00:00"
                      ],
                      "y": [
                        78,
                        75,
                        95,
                        67,
                        51
                      ]
                    }
                  ]
                },
                {
                  "data": [
                    {
                      "hovertemplate": "%{x}: %{y} <br>Song: %{text}",
                      "mode": "lines+markers",
                      "name": "Rolling In The Deep",
                      "text": [
                        "Rolling In The Deep",
                        "Rolling In The Deep",
                        "Rolling In The Deep",
                        "Rolling In The Deep",
                        "Rolling In The Deep",
                        "Rolling In The Deep",
                        "Rolling In The Deep",
                        "Rolling In The Deep",
                        "Rolling In The Deep",
                        "Rolling In The Deep",
                        "Rolling In The Deep",
                        "Rolling In The Deep",
                        "Rolling In The Deep",
                        "Rolling In The Deep",
                        "Rolling In The Deep",
                        "Rolling In The Deep",
                        "Rolling In The Deep",
                        "Rolling In The Deep",
                        "Rolling In The Deep",
                        "Rolling In The Deep",
                        "Rolling In The Deep",
                        "Rolling In The Deep",
                        "Rolling In The Deep",
                        "Rolling In The Deep",
                        "Rolling In The Deep",
                        "Rolling In The Deep",
                        "Rolling In The Deep",
                        "Rolling In The Deep",
                        "Rolling In The Deep",
                        "Rolling In The Deep",
                        "Rolling In The Deep",
                        "Rolling In The Deep",
                        "Rolling In The Deep",
                        "Rolling In The Deep",
                        "Rolling In The Deep",
                        "Rolling In The Deep",
                        "Rolling In The Deep",
                        "Rolling In The Deep"
                      ],
                      "type": "scatter",
                      "x": [
                        "2011-01-27T00:00:00",
                        "2011-02-03T00:00:00",
                        "2011-02-10T00:00:00",
                        "2011-02-17T00:00:00",
                        "2011-02-24T00:00:00",
                        "2011-03-03T00:00:00",
                        "2011-03-10T00:00:00",
                        "2011-03-17T00:00:00",
                        "2011-03-24T00:00:00",
                        "2011-03-31T00:00:00",
                        "2011-04-07T00:00:00",
                        "2011-04-14T00:00:00",
                        "2011-04-21T00:00:00",
                        "2011-04-28T00:00:00",
                        "2011-05-05T00:00:00",
                        "2011-05-12T00:00:00",
                        "2011-05-19T00:00:00",
                        "2011-05-26T00:00:00",
                        "2011-06-02T00:00:00",
                        "2011-06-09T00:00:00",
                        "2011-06-16T00:00:00",
                        "2011-06-23T00:00:00",
                        "2011-06-30T00:00:00",
                        "2011-07-07T00:00:00",
                        "2011-07-14T00:00:00",
                        "2011-07-21T00:00:00",
                        "2011-07-28T00:00:00",
                        "2012-01-05T00:00:00",
                        "2012-01-12T00:00:00",
                        "2012-01-19T00:00:00",
                        "2012-01-26T00:00:00",
                        "2012-02-02T00:00:00",
                        "2012-02-09T00:00:00",
                        "2012-02-16T00:00:00",
                        "2012-02-23T00:00:00",
                        "2012-03-02T00:00:00",
                        "2012-03-09T00:00:00",
                        "2012-03-16T00:00:00"
                      ],
                      "y": [
                        97,
                        84,
                        69,
                        64,
                        41,
                        26,
                        13,
                        18,
                        25,
                        26,
                        17,
                        10,
                        10,
                        6,
                        2,
                        2,
                        1,
                        1,
                        1,
                        1,
                        1,
                        1,
                        1,
                        2,
                        3,
                        3,
                        4,
                        35,
                        30,
                        36,
                        40,
                        41,
                        43,
                        44,
                        17,
                        5,
                        23,
                        32
                      ]
                    },
                    {
                      "hovertemplate": "%{x}: %{y} <br>Song: %{text}",
                      "mode": "lines+markers",
                      "name": "Set Fire To The Rain",
                      "text": [
                        "Set Fire To The Rain",
                        "Set Fire To The Rain",
                        "Set Fire To The Rain",
                        "Set Fire To The Rain",
                        "Set Fire To The Rain",
                        "Set Fire To The Rain",
                        "Set Fire To The Rain",
                        "Set Fire To The Rain",
                        "Set Fire To The Rain",
                        "Set Fire To The Rain",
                        "Set Fire To The Rain",
                        "Set Fire To The Rain"
                      ],
                      "type": "scatter",
                      "x": [
                        "2011-03-10T00:00:00",
                        "2012-01-05T00:00:00",
                        "2012-01-12T00:00:00",
                        "2012-01-19T00:00:00",
                        "2012-01-26T00:00:00",
                        "2012-02-02T00:00:00",
                        "2012-02-09T00:00:00",
                        "2012-02-16T00:00:00",
                        "2012-02-23T00:00:00",
                        "2012-03-02T00:00:00",
                        "2012-03-09T00:00:00",
                        "2012-03-16T00:00:00"
                      ],
                      "y": [
                        88,
                        7,
                        8,
                        4,
                        2,
                        1,
                        1,
                        2,
                        2,
                        2,
                        2,
                        3
                      ]
                    },
                    {
                      "hovertemplate": "%{x}: %{y} <br>Song: %{text}",
                      "mode": "lines+markers",
                      "name": "Someone Like You",
                      "text": [
                        "Someone Like You",
                        "Someone Like You",
                        "Someone Like You",
                        "Someone Like You",
                        "Someone Like You",
                        "Someone Like You",
                        "Someone Like You",
                        "Someone Like You",
                        "Someone Like You",
                        "Someone Like You",
                        "Someone Like You",
                        "Someone Like You",
                        "Someone Like You"
                      ],
                      "type": "scatter",
                      "x": [
                        "2011-03-10T00:00:00",
                        "2011-07-28T00:00:00",
                        "2012-01-05T00:00:00",
                        "2012-01-12T00:00:00",
                        "2012-01-19T00:00:00",
                        "2012-01-26T00:00:00",
                        "2012-02-02T00:00:00",
                        "2012-02-09T00:00:00",
                        "2012-02-16T00:00:00",
                        "2012-02-23T00:00:00",
                        "2012-03-02T00:00:00",
                        "2012-03-09T00:00:00",
                        "2012-03-16T00:00:00"
                      ],
                      "y": [
                        65,
                        97,
                        8,
                        9,
                        10,
                        16,
                        19,
                        21,
                        22,
                        11,
                        7,
                        21,
                        24
                      ]
                    },
                    {
                      "hovertemplate": "%{x}: %{y} <br>Song: %{text}",
                      "mode": "lines+markers",
                      "name": "Turning Tables",
                      "text": [
                        "Turning Tables",
                        "Turning Tables",
                        "Turning Tables"
                      ],
                      "type": "scatter",
                      "x": [
                        "2011-05-05T00:00:00",
                        "2011-05-12T00:00:00",
                        "2011-05-26T00:00:00"
                      ],
                      "y": [
                        63,
                        85,
                        96
                      ]
                    },
                    {
                      "hovertemplate": "%{x}: %{y} <br>Song: %{text}",
                      "mode": "lines+markers",
                      "name": "Rumour Has It",
                      "text": [
                        "Rumour Has It",
                        "Rumour Has It",
                        "Rumour Has It",
                        "Rumour Has It",
                        "Rumour Has It",
                        "Rumour Has It"
                      ],
                      "type": "scatter",
                      "x": [
                        "2012-01-05T00:00:00",
                        "2012-01-12T00:00:00",
                        "2012-01-19T00:00:00",
                        "2012-03-02T00:00:00",
                        "2012-03-09T00:00:00",
                        "2012-03-16T00:00:00"
                      ],
                      "y": [
                        78,
                        75,
                        95,
                        67,
                        51,
                        39
                      ]
                    }
                  ]
                },
                {
                  "data": [
                    {
                      "hovertemplate": "%{x}: %{y} <br>Song: %{text}",
                      "mode": "lines+markers",
                      "name": "Rolling In The Deep",
                      "text": [
                        "Rolling In The Deep",
                        "Rolling In The Deep",
                        "Rolling In The Deep",
                        "Rolling In The Deep",
                        "Rolling In The Deep",
                        "Rolling In The Deep",
                        "Rolling In The Deep",
                        "Rolling In The Deep",
                        "Rolling In The Deep",
                        "Rolling In The Deep",
                        "Rolling In The Deep",
                        "Rolling In The Deep",
                        "Rolling In The Deep",
                        "Rolling In The Deep",
                        "Rolling In The Deep",
                        "Rolling In The Deep",
                        "Rolling In The Deep",
                        "Rolling In The Deep",
                        "Rolling In The Deep",
                        "Rolling In The Deep",
                        "Rolling In The Deep",
                        "Rolling In The Deep",
                        "Rolling In The Deep",
                        "Rolling In The Deep",
                        "Rolling In The Deep",
                        "Rolling In The Deep",
                        "Rolling In The Deep",
                        "Rolling In The Deep",
                        "Rolling In The Deep",
                        "Rolling In The Deep",
                        "Rolling In The Deep",
                        "Rolling In The Deep",
                        "Rolling In The Deep",
                        "Rolling In The Deep",
                        "Rolling In The Deep",
                        "Rolling In The Deep",
                        "Rolling In The Deep",
                        "Rolling In The Deep",
                        "Rolling In The Deep"
                      ],
                      "type": "scatter",
                      "x": [
                        "2011-01-27T00:00:00",
                        "2011-02-03T00:00:00",
                        "2011-02-10T00:00:00",
                        "2011-02-17T00:00:00",
                        "2011-02-24T00:00:00",
                        "2011-03-03T00:00:00",
                        "2011-03-10T00:00:00",
                        "2011-03-17T00:00:00",
                        "2011-03-24T00:00:00",
                        "2011-03-31T00:00:00",
                        "2011-04-07T00:00:00",
                        "2011-04-14T00:00:00",
                        "2011-04-21T00:00:00",
                        "2011-04-28T00:00:00",
                        "2011-05-05T00:00:00",
                        "2011-05-12T00:00:00",
                        "2011-05-19T00:00:00",
                        "2011-05-26T00:00:00",
                        "2011-06-02T00:00:00",
                        "2011-06-09T00:00:00",
                        "2011-06-16T00:00:00",
                        "2011-06-23T00:00:00",
                        "2011-06-30T00:00:00",
                        "2011-07-07T00:00:00",
                        "2011-07-14T00:00:00",
                        "2011-07-21T00:00:00",
                        "2011-07-28T00:00:00",
                        "2012-01-05T00:00:00",
                        "2012-01-12T00:00:00",
                        "2012-01-19T00:00:00",
                        "2012-01-26T00:00:00",
                        "2012-02-02T00:00:00",
                        "2012-02-09T00:00:00",
                        "2012-02-16T00:00:00",
                        "2012-02-23T00:00:00",
                        "2012-03-02T00:00:00",
                        "2012-03-09T00:00:00",
                        "2012-03-16T00:00:00",
                        "2012-03-23T00:00:00"
                      ],
                      "y": [
                        97,
                        84,
                        69,
                        64,
                        41,
                        26,
                        13,
                        18,
                        25,
                        26,
                        17,
                        10,
                        10,
                        6,
                        2,
                        2,
                        1,
                        1,
                        1,
                        1,
                        1,
                        1,
                        1,
                        2,
                        3,
                        3,
                        4,
                        35,
                        30,
                        36,
                        40,
                        41,
                        43,
                        44,
                        17,
                        5,
                        23,
                        32,
                        30
                      ]
                    },
                    {
                      "hovertemplate": "%{x}: %{y} <br>Song: %{text}",
                      "mode": "lines+markers",
                      "name": "Set Fire To The Rain",
                      "text": [
                        "Set Fire To The Rain",
                        "Set Fire To The Rain",
                        "Set Fire To The Rain",
                        "Set Fire To The Rain",
                        "Set Fire To The Rain",
                        "Set Fire To The Rain",
                        "Set Fire To The Rain",
                        "Set Fire To The Rain",
                        "Set Fire To The Rain",
                        "Set Fire To The Rain",
                        "Set Fire To The Rain",
                        "Set Fire To The Rain",
                        "Set Fire To The Rain"
                      ],
                      "type": "scatter",
                      "x": [
                        "2011-03-10T00:00:00",
                        "2012-01-05T00:00:00",
                        "2012-01-12T00:00:00",
                        "2012-01-19T00:00:00",
                        "2012-01-26T00:00:00",
                        "2012-02-02T00:00:00",
                        "2012-02-09T00:00:00",
                        "2012-02-16T00:00:00",
                        "2012-02-23T00:00:00",
                        "2012-03-02T00:00:00",
                        "2012-03-09T00:00:00",
                        "2012-03-16T00:00:00",
                        "2012-03-23T00:00:00"
                      ],
                      "y": [
                        88,
                        7,
                        8,
                        4,
                        2,
                        1,
                        1,
                        2,
                        2,
                        2,
                        2,
                        3,
                        3
                      ]
                    },
                    {
                      "hovertemplate": "%{x}: %{y} <br>Song: %{text}",
                      "mode": "lines+markers",
                      "name": "Someone Like You",
                      "text": [
                        "Someone Like You",
                        "Someone Like You",
                        "Someone Like You",
                        "Someone Like You",
                        "Someone Like You",
                        "Someone Like You",
                        "Someone Like You",
                        "Someone Like You",
                        "Someone Like You",
                        "Someone Like You",
                        "Someone Like You",
                        "Someone Like You",
                        "Someone Like You",
                        "Someone Like You"
                      ],
                      "type": "scatter",
                      "x": [
                        "2011-03-10T00:00:00",
                        "2011-07-28T00:00:00",
                        "2012-01-05T00:00:00",
                        "2012-01-12T00:00:00",
                        "2012-01-19T00:00:00",
                        "2012-01-26T00:00:00",
                        "2012-02-02T00:00:00",
                        "2012-02-09T00:00:00",
                        "2012-02-16T00:00:00",
                        "2012-02-23T00:00:00",
                        "2012-03-02T00:00:00",
                        "2012-03-09T00:00:00",
                        "2012-03-16T00:00:00",
                        "2012-03-23T00:00:00"
                      ],
                      "y": [
                        65,
                        97,
                        8,
                        9,
                        10,
                        16,
                        19,
                        21,
                        22,
                        11,
                        7,
                        21,
                        24,
                        29
                      ]
                    },
                    {
                      "hovertemplate": "%{x}: %{y} <br>Song: %{text}",
                      "mode": "lines+markers",
                      "name": "Turning Tables",
                      "text": [
                        "Turning Tables",
                        "Turning Tables",
                        "Turning Tables"
                      ],
                      "type": "scatter",
                      "x": [
                        "2011-05-05T00:00:00",
                        "2011-05-12T00:00:00",
                        "2011-05-26T00:00:00"
                      ],
                      "y": [
                        63,
                        85,
                        96
                      ]
                    },
                    {
                      "hovertemplate": "%{x}: %{y} <br>Song: %{text}",
                      "mode": "lines+markers",
                      "name": "Rumour Has It",
                      "text": [
                        "Rumour Has It",
                        "Rumour Has It",
                        "Rumour Has It",
                        "Rumour Has It",
                        "Rumour Has It",
                        "Rumour Has It",
                        "Rumour Has It"
                      ],
                      "type": "scatter",
                      "x": [
                        "2012-01-05T00:00:00",
                        "2012-01-12T00:00:00",
                        "2012-01-19T00:00:00",
                        "2012-03-02T00:00:00",
                        "2012-03-09T00:00:00",
                        "2012-03-16T00:00:00",
                        "2012-03-23T00:00:00"
                      ],
                      "y": [
                        78,
                        75,
                        95,
                        67,
                        51,
                        39,
                        57
                      ]
                    }
                  ]
                },
                {
                  "data": [
                    {
                      "hovertemplate": "%{x}: %{y} <br>Song: %{text}",
                      "mode": "lines+markers",
                      "name": "Rolling In The Deep",
                      "text": [
                        "Rolling In The Deep",
                        "Rolling In The Deep",
                        "Rolling In The Deep",
                        "Rolling In The Deep",
                        "Rolling In The Deep",
                        "Rolling In The Deep",
                        "Rolling In The Deep",
                        "Rolling In The Deep",
                        "Rolling In The Deep",
                        "Rolling In The Deep",
                        "Rolling In The Deep",
                        "Rolling In The Deep",
                        "Rolling In The Deep",
                        "Rolling In The Deep",
                        "Rolling In The Deep",
                        "Rolling In The Deep",
                        "Rolling In The Deep",
                        "Rolling In The Deep",
                        "Rolling In The Deep",
                        "Rolling In The Deep",
                        "Rolling In The Deep",
                        "Rolling In The Deep",
                        "Rolling In The Deep",
                        "Rolling In The Deep",
                        "Rolling In The Deep",
                        "Rolling In The Deep",
                        "Rolling In The Deep",
                        "Rolling In The Deep",
                        "Rolling In The Deep",
                        "Rolling In The Deep",
                        "Rolling In The Deep",
                        "Rolling In The Deep",
                        "Rolling In The Deep",
                        "Rolling In The Deep",
                        "Rolling In The Deep",
                        "Rolling In The Deep",
                        "Rolling In The Deep",
                        "Rolling In The Deep",
                        "Rolling In The Deep",
                        "Rolling In The Deep"
                      ],
                      "type": "scatter",
                      "x": [
                        "2011-01-27T00:00:00",
                        "2011-02-03T00:00:00",
                        "2011-02-10T00:00:00",
                        "2011-02-17T00:00:00",
                        "2011-02-24T00:00:00",
                        "2011-03-03T00:00:00",
                        "2011-03-10T00:00:00",
                        "2011-03-17T00:00:00",
                        "2011-03-24T00:00:00",
                        "2011-03-31T00:00:00",
                        "2011-04-07T00:00:00",
                        "2011-04-14T00:00:00",
                        "2011-04-21T00:00:00",
                        "2011-04-28T00:00:00",
                        "2011-05-05T00:00:00",
                        "2011-05-12T00:00:00",
                        "2011-05-19T00:00:00",
                        "2011-05-26T00:00:00",
                        "2011-06-02T00:00:00",
                        "2011-06-09T00:00:00",
                        "2011-06-16T00:00:00",
                        "2011-06-23T00:00:00",
                        "2011-06-30T00:00:00",
                        "2011-07-07T00:00:00",
                        "2011-07-14T00:00:00",
                        "2011-07-21T00:00:00",
                        "2011-07-28T00:00:00",
                        "2012-01-05T00:00:00",
                        "2012-01-12T00:00:00",
                        "2012-01-19T00:00:00",
                        "2012-01-26T00:00:00",
                        "2012-02-02T00:00:00",
                        "2012-02-09T00:00:00",
                        "2012-02-16T00:00:00",
                        "2012-02-23T00:00:00",
                        "2012-03-02T00:00:00",
                        "2012-03-09T00:00:00",
                        "2012-03-16T00:00:00",
                        "2012-03-23T00:00:00",
                        "2012-03-30T00:00:00"
                      ],
                      "y": [
                        97,
                        84,
                        69,
                        64,
                        41,
                        26,
                        13,
                        18,
                        25,
                        26,
                        17,
                        10,
                        10,
                        6,
                        2,
                        2,
                        1,
                        1,
                        1,
                        1,
                        1,
                        1,
                        1,
                        2,
                        3,
                        3,
                        4,
                        35,
                        30,
                        36,
                        40,
                        41,
                        43,
                        44,
                        17,
                        5,
                        23,
                        32,
                        30,
                        33
                      ]
                    },
                    {
                      "hovertemplate": "%{x}: %{y} <br>Song: %{text}",
                      "mode": "lines+markers",
                      "name": "Set Fire To The Rain",
                      "text": [
                        "Set Fire To The Rain",
                        "Set Fire To The Rain",
                        "Set Fire To The Rain",
                        "Set Fire To The Rain",
                        "Set Fire To The Rain",
                        "Set Fire To The Rain",
                        "Set Fire To The Rain",
                        "Set Fire To The Rain",
                        "Set Fire To The Rain",
                        "Set Fire To The Rain",
                        "Set Fire To The Rain",
                        "Set Fire To The Rain",
                        "Set Fire To The Rain",
                        "Set Fire To The Rain"
                      ],
                      "type": "scatter",
                      "x": [
                        "2011-03-10T00:00:00",
                        "2012-01-05T00:00:00",
                        "2012-01-12T00:00:00",
                        "2012-01-19T00:00:00",
                        "2012-01-26T00:00:00",
                        "2012-02-02T00:00:00",
                        "2012-02-09T00:00:00",
                        "2012-02-16T00:00:00",
                        "2012-02-23T00:00:00",
                        "2012-03-02T00:00:00",
                        "2012-03-09T00:00:00",
                        "2012-03-16T00:00:00",
                        "2012-03-23T00:00:00",
                        "2012-03-30T00:00:00"
                      ],
                      "y": [
                        88,
                        7,
                        8,
                        4,
                        2,
                        1,
                        1,
                        2,
                        2,
                        2,
                        2,
                        3,
                        3,
                        4
                      ]
                    },
                    {
                      "hovertemplate": "%{x}: %{y} <br>Song: %{text}",
                      "mode": "lines+markers",
                      "name": "Someone Like You",
                      "text": [
                        "Someone Like You",
                        "Someone Like You",
                        "Someone Like You",
                        "Someone Like You",
                        "Someone Like You",
                        "Someone Like You",
                        "Someone Like You",
                        "Someone Like You",
                        "Someone Like You",
                        "Someone Like You",
                        "Someone Like You",
                        "Someone Like You",
                        "Someone Like You",
                        "Someone Like You",
                        "Someone Like You"
                      ],
                      "type": "scatter",
                      "x": [
                        "2011-03-10T00:00:00",
                        "2011-07-28T00:00:00",
                        "2012-01-05T00:00:00",
                        "2012-01-12T00:00:00",
                        "2012-01-19T00:00:00",
                        "2012-01-26T00:00:00",
                        "2012-02-02T00:00:00",
                        "2012-02-09T00:00:00",
                        "2012-02-16T00:00:00",
                        "2012-02-23T00:00:00",
                        "2012-03-02T00:00:00",
                        "2012-03-09T00:00:00",
                        "2012-03-16T00:00:00",
                        "2012-03-23T00:00:00",
                        "2012-03-30T00:00:00"
                      ],
                      "y": [
                        65,
                        97,
                        8,
                        9,
                        10,
                        16,
                        19,
                        21,
                        22,
                        11,
                        7,
                        21,
                        24,
                        29,
                        31
                      ]
                    },
                    {
                      "hovertemplate": "%{x}: %{y} <br>Song: %{text}",
                      "mode": "lines+markers",
                      "name": "Turning Tables",
                      "text": [
                        "Turning Tables",
                        "Turning Tables",
                        "Turning Tables"
                      ],
                      "type": "scatter",
                      "x": [
                        "2011-05-05T00:00:00",
                        "2011-05-12T00:00:00",
                        "2011-05-26T00:00:00"
                      ],
                      "y": [
                        63,
                        85,
                        96
                      ]
                    },
                    {
                      "hovertemplate": "%{x}: %{y} <br>Song: %{text}",
                      "mode": "lines+markers",
                      "name": "Rumour Has It",
                      "text": [
                        "Rumour Has It",
                        "Rumour Has It",
                        "Rumour Has It",
                        "Rumour Has It",
                        "Rumour Has It",
                        "Rumour Has It",
                        "Rumour Has It",
                        "Rumour Has It"
                      ],
                      "type": "scatter",
                      "x": [
                        "2012-01-05T00:00:00",
                        "2012-01-12T00:00:00",
                        "2012-01-19T00:00:00",
                        "2012-03-02T00:00:00",
                        "2012-03-09T00:00:00",
                        "2012-03-16T00:00:00",
                        "2012-03-23T00:00:00",
                        "2012-03-30T00:00:00"
                      ],
                      "y": [
                        78,
                        75,
                        95,
                        67,
                        51,
                        39,
                        57,
                        50
                      ]
                    }
                  ]
                },
                {
                  "data": [
                    {
                      "hovertemplate": "%{x}: %{y} <br>Song: %{text}",
                      "mode": "lines+markers",
                      "name": "Rolling In The Deep",
                      "text": [
                        "Rolling In The Deep",
                        "Rolling In The Deep",
                        "Rolling In The Deep",
                        "Rolling In The Deep",
                        "Rolling In The Deep",
                        "Rolling In The Deep",
                        "Rolling In The Deep",
                        "Rolling In The Deep",
                        "Rolling In The Deep",
                        "Rolling In The Deep",
                        "Rolling In The Deep",
                        "Rolling In The Deep",
                        "Rolling In The Deep",
                        "Rolling In The Deep",
                        "Rolling In The Deep",
                        "Rolling In The Deep",
                        "Rolling In The Deep",
                        "Rolling In The Deep",
                        "Rolling In The Deep",
                        "Rolling In The Deep",
                        "Rolling In The Deep",
                        "Rolling In The Deep",
                        "Rolling In The Deep",
                        "Rolling In The Deep",
                        "Rolling In The Deep",
                        "Rolling In The Deep",
                        "Rolling In The Deep",
                        "Rolling In The Deep",
                        "Rolling In The Deep",
                        "Rolling In The Deep",
                        "Rolling In The Deep",
                        "Rolling In The Deep",
                        "Rolling In The Deep",
                        "Rolling In The Deep",
                        "Rolling In The Deep",
                        "Rolling In The Deep",
                        "Rolling In The Deep",
                        "Rolling In The Deep",
                        "Rolling In The Deep",
                        "Rolling In The Deep",
                        "Rolling In The Deep"
                      ],
                      "type": "scatter",
                      "x": [
                        "2011-01-27T00:00:00",
                        "2011-02-03T00:00:00",
                        "2011-02-10T00:00:00",
                        "2011-02-17T00:00:00",
                        "2011-02-24T00:00:00",
                        "2011-03-03T00:00:00",
                        "2011-03-10T00:00:00",
                        "2011-03-17T00:00:00",
                        "2011-03-24T00:00:00",
                        "2011-03-31T00:00:00",
                        "2011-04-07T00:00:00",
                        "2011-04-14T00:00:00",
                        "2011-04-21T00:00:00",
                        "2011-04-28T00:00:00",
                        "2011-05-05T00:00:00",
                        "2011-05-12T00:00:00",
                        "2011-05-19T00:00:00",
                        "2011-05-26T00:00:00",
                        "2011-06-02T00:00:00",
                        "2011-06-09T00:00:00",
                        "2011-06-16T00:00:00",
                        "2011-06-23T00:00:00",
                        "2011-06-30T00:00:00",
                        "2011-07-07T00:00:00",
                        "2011-07-14T00:00:00",
                        "2011-07-21T00:00:00",
                        "2011-07-28T00:00:00",
                        "2012-01-05T00:00:00",
                        "2012-01-12T00:00:00",
                        "2012-01-19T00:00:00",
                        "2012-01-26T00:00:00",
                        "2012-02-02T00:00:00",
                        "2012-02-09T00:00:00",
                        "2012-02-16T00:00:00",
                        "2012-02-23T00:00:00",
                        "2012-03-02T00:00:00",
                        "2012-03-09T00:00:00",
                        "2012-03-16T00:00:00",
                        "2012-03-23T00:00:00",
                        "2012-03-30T00:00:00",
                        "2012-04-06T00:00:00"
                      ],
                      "y": [
                        97,
                        84,
                        69,
                        64,
                        41,
                        26,
                        13,
                        18,
                        25,
                        26,
                        17,
                        10,
                        10,
                        6,
                        2,
                        2,
                        1,
                        1,
                        1,
                        1,
                        1,
                        1,
                        1,
                        2,
                        3,
                        3,
                        4,
                        35,
                        30,
                        36,
                        40,
                        41,
                        43,
                        44,
                        17,
                        5,
                        23,
                        32,
                        30,
                        33,
                        43
                      ]
                    },
                    {
                      "hovertemplate": "%{x}: %{y} <br>Song: %{text}",
                      "mode": "lines+markers",
                      "name": "Set Fire To The Rain",
                      "text": [
                        "Set Fire To The Rain",
                        "Set Fire To The Rain",
                        "Set Fire To The Rain",
                        "Set Fire To The Rain",
                        "Set Fire To The Rain",
                        "Set Fire To The Rain",
                        "Set Fire To The Rain",
                        "Set Fire To The Rain",
                        "Set Fire To The Rain",
                        "Set Fire To The Rain",
                        "Set Fire To The Rain",
                        "Set Fire To The Rain",
                        "Set Fire To The Rain",
                        "Set Fire To The Rain",
                        "Set Fire To The Rain"
                      ],
                      "type": "scatter",
                      "x": [
                        "2011-03-10T00:00:00",
                        "2012-01-05T00:00:00",
                        "2012-01-12T00:00:00",
                        "2012-01-19T00:00:00",
                        "2012-01-26T00:00:00",
                        "2012-02-02T00:00:00",
                        "2012-02-09T00:00:00",
                        "2012-02-16T00:00:00",
                        "2012-02-23T00:00:00",
                        "2012-03-02T00:00:00",
                        "2012-03-09T00:00:00",
                        "2012-03-16T00:00:00",
                        "2012-03-23T00:00:00",
                        "2012-03-30T00:00:00",
                        "2012-04-06T00:00:00"
                      ],
                      "y": [
                        88,
                        7,
                        8,
                        4,
                        2,
                        1,
                        1,
                        2,
                        2,
                        2,
                        2,
                        3,
                        3,
                        4,
                        6
                      ]
                    },
                    {
                      "hovertemplate": "%{x}: %{y} <br>Song: %{text}",
                      "mode": "lines+markers",
                      "name": "Someone Like You",
                      "text": [
                        "Someone Like You",
                        "Someone Like You",
                        "Someone Like You",
                        "Someone Like You",
                        "Someone Like You",
                        "Someone Like You",
                        "Someone Like You",
                        "Someone Like You",
                        "Someone Like You",
                        "Someone Like You",
                        "Someone Like You",
                        "Someone Like You",
                        "Someone Like You",
                        "Someone Like You",
                        "Someone Like You",
                        "Someone Like You"
                      ],
                      "type": "scatter",
                      "x": [
                        "2011-03-10T00:00:00",
                        "2011-07-28T00:00:00",
                        "2012-01-05T00:00:00",
                        "2012-01-12T00:00:00",
                        "2012-01-19T00:00:00",
                        "2012-01-26T00:00:00",
                        "2012-02-02T00:00:00",
                        "2012-02-09T00:00:00",
                        "2012-02-16T00:00:00",
                        "2012-02-23T00:00:00",
                        "2012-03-02T00:00:00",
                        "2012-03-09T00:00:00",
                        "2012-03-16T00:00:00",
                        "2012-03-23T00:00:00",
                        "2012-03-30T00:00:00",
                        "2012-04-06T00:00:00"
                      ],
                      "y": [
                        65,
                        97,
                        8,
                        9,
                        10,
                        16,
                        19,
                        21,
                        22,
                        11,
                        7,
                        21,
                        24,
                        29,
                        31,
                        39
                      ]
                    },
                    {
                      "hovertemplate": "%{x}: %{y} <br>Song: %{text}",
                      "mode": "lines+markers",
                      "name": "Turning Tables",
                      "text": [
                        "Turning Tables",
                        "Turning Tables",
                        "Turning Tables"
                      ],
                      "type": "scatter",
                      "x": [
                        "2011-05-05T00:00:00",
                        "2011-05-12T00:00:00",
                        "2011-05-26T00:00:00"
                      ],
                      "y": [
                        63,
                        85,
                        96
                      ]
                    },
                    {
                      "hovertemplate": "%{x}: %{y} <br>Song: %{text}",
                      "mode": "lines+markers",
                      "name": "Rumour Has It",
                      "text": [
                        "Rumour Has It",
                        "Rumour Has It",
                        "Rumour Has It",
                        "Rumour Has It",
                        "Rumour Has It",
                        "Rumour Has It",
                        "Rumour Has It",
                        "Rumour Has It",
                        "Rumour Has It"
                      ],
                      "type": "scatter",
                      "x": [
                        "2012-01-05T00:00:00",
                        "2012-01-12T00:00:00",
                        "2012-01-19T00:00:00",
                        "2012-03-02T00:00:00",
                        "2012-03-09T00:00:00",
                        "2012-03-16T00:00:00",
                        "2012-03-23T00:00:00",
                        "2012-03-30T00:00:00",
                        "2012-04-06T00:00:00"
                      ],
                      "y": [
                        78,
                        75,
                        95,
                        67,
                        51,
                        39,
                        57,
                        50,
                        44
                      ]
                    }
                  ]
                },
                {
                  "data": [
                    {
                      "hovertemplate": "%{x}: %{y} <br>Song: %{text}",
                      "mode": "lines+markers",
                      "name": "Rolling In The Deep",
                      "text": [
                        "Rolling In The Deep",
                        "Rolling In The Deep",
                        "Rolling In The Deep",
                        "Rolling In The Deep",
                        "Rolling In The Deep",
                        "Rolling In The Deep",
                        "Rolling In The Deep",
                        "Rolling In The Deep",
                        "Rolling In The Deep",
                        "Rolling In The Deep",
                        "Rolling In The Deep",
                        "Rolling In The Deep",
                        "Rolling In The Deep",
                        "Rolling In The Deep",
                        "Rolling In The Deep",
                        "Rolling In The Deep",
                        "Rolling In The Deep",
                        "Rolling In The Deep",
                        "Rolling In The Deep",
                        "Rolling In The Deep",
                        "Rolling In The Deep",
                        "Rolling In The Deep",
                        "Rolling In The Deep",
                        "Rolling In The Deep",
                        "Rolling In The Deep",
                        "Rolling In The Deep",
                        "Rolling In The Deep",
                        "Rolling In The Deep",
                        "Rolling In The Deep",
                        "Rolling In The Deep",
                        "Rolling In The Deep",
                        "Rolling In The Deep",
                        "Rolling In The Deep",
                        "Rolling In The Deep",
                        "Rolling In The Deep",
                        "Rolling In The Deep",
                        "Rolling In The Deep",
                        "Rolling In The Deep",
                        "Rolling In The Deep",
                        "Rolling In The Deep",
                        "Rolling In The Deep",
                        "Rolling In The Deep"
                      ],
                      "type": "scatter",
                      "x": [
                        "2011-01-27T00:00:00",
                        "2011-02-03T00:00:00",
                        "2011-02-10T00:00:00",
                        "2011-02-17T00:00:00",
                        "2011-02-24T00:00:00",
                        "2011-03-03T00:00:00",
                        "2011-03-10T00:00:00",
                        "2011-03-17T00:00:00",
                        "2011-03-24T00:00:00",
                        "2011-03-31T00:00:00",
                        "2011-04-07T00:00:00",
                        "2011-04-14T00:00:00",
                        "2011-04-21T00:00:00",
                        "2011-04-28T00:00:00",
                        "2011-05-05T00:00:00",
                        "2011-05-12T00:00:00",
                        "2011-05-19T00:00:00",
                        "2011-05-26T00:00:00",
                        "2011-06-02T00:00:00",
                        "2011-06-09T00:00:00",
                        "2011-06-16T00:00:00",
                        "2011-06-23T00:00:00",
                        "2011-06-30T00:00:00",
                        "2011-07-07T00:00:00",
                        "2011-07-14T00:00:00",
                        "2011-07-21T00:00:00",
                        "2011-07-28T00:00:00",
                        "2012-01-05T00:00:00",
                        "2012-01-12T00:00:00",
                        "2012-01-19T00:00:00",
                        "2012-01-26T00:00:00",
                        "2012-02-02T00:00:00",
                        "2012-02-09T00:00:00",
                        "2012-02-16T00:00:00",
                        "2012-02-23T00:00:00",
                        "2012-03-02T00:00:00",
                        "2012-03-09T00:00:00",
                        "2012-03-16T00:00:00",
                        "2012-03-23T00:00:00",
                        "2012-03-30T00:00:00",
                        "2012-04-06T00:00:00",
                        "2012-04-13T00:00:00"
                      ],
                      "y": [
                        97,
                        84,
                        69,
                        64,
                        41,
                        26,
                        13,
                        18,
                        25,
                        26,
                        17,
                        10,
                        10,
                        6,
                        2,
                        2,
                        1,
                        1,
                        1,
                        1,
                        1,
                        1,
                        1,
                        2,
                        3,
                        3,
                        4,
                        35,
                        30,
                        36,
                        40,
                        41,
                        43,
                        44,
                        17,
                        5,
                        23,
                        32,
                        30,
                        33,
                        43,
                        49
                      ]
                    },
                    {
                      "hovertemplate": "%{x}: %{y} <br>Song: %{text}",
                      "mode": "lines+markers",
                      "name": "Set Fire To The Rain",
                      "text": [
                        "Set Fire To The Rain",
                        "Set Fire To The Rain",
                        "Set Fire To The Rain",
                        "Set Fire To The Rain",
                        "Set Fire To The Rain",
                        "Set Fire To The Rain",
                        "Set Fire To The Rain",
                        "Set Fire To The Rain",
                        "Set Fire To The Rain",
                        "Set Fire To The Rain",
                        "Set Fire To The Rain",
                        "Set Fire To The Rain",
                        "Set Fire To The Rain",
                        "Set Fire To The Rain",
                        "Set Fire To The Rain",
                        "Set Fire To The Rain"
                      ],
                      "type": "scatter",
                      "x": [
                        "2011-03-10T00:00:00",
                        "2012-01-05T00:00:00",
                        "2012-01-12T00:00:00",
                        "2012-01-19T00:00:00",
                        "2012-01-26T00:00:00",
                        "2012-02-02T00:00:00",
                        "2012-02-09T00:00:00",
                        "2012-02-16T00:00:00",
                        "2012-02-23T00:00:00",
                        "2012-03-02T00:00:00",
                        "2012-03-09T00:00:00",
                        "2012-03-16T00:00:00",
                        "2012-03-23T00:00:00",
                        "2012-03-30T00:00:00",
                        "2012-04-06T00:00:00",
                        "2012-04-13T00:00:00"
                      ],
                      "y": [
                        88,
                        7,
                        8,
                        4,
                        2,
                        1,
                        1,
                        2,
                        2,
                        2,
                        2,
                        3,
                        3,
                        4,
                        6,
                        12
                      ]
                    },
                    {
                      "hovertemplate": "%{x}: %{y} <br>Song: %{text}",
                      "mode": "lines+markers",
                      "name": "Someone Like You",
                      "text": [
                        "Someone Like You",
                        "Someone Like You",
                        "Someone Like You",
                        "Someone Like You",
                        "Someone Like You",
                        "Someone Like You",
                        "Someone Like You",
                        "Someone Like You",
                        "Someone Like You",
                        "Someone Like You",
                        "Someone Like You",
                        "Someone Like You",
                        "Someone Like You",
                        "Someone Like You",
                        "Someone Like You",
                        "Someone Like You",
                        "Someone Like You"
                      ],
                      "type": "scatter",
                      "x": [
                        "2011-03-10T00:00:00",
                        "2011-07-28T00:00:00",
                        "2012-01-05T00:00:00",
                        "2012-01-12T00:00:00",
                        "2012-01-19T00:00:00",
                        "2012-01-26T00:00:00",
                        "2012-02-02T00:00:00",
                        "2012-02-09T00:00:00",
                        "2012-02-16T00:00:00",
                        "2012-02-23T00:00:00",
                        "2012-03-02T00:00:00",
                        "2012-03-09T00:00:00",
                        "2012-03-16T00:00:00",
                        "2012-03-23T00:00:00",
                        "2012-03-30T00:00:00",
                        "2012-04-06T00:00:00",
                        "2012-04-13T00:00:00"
                      ],
                      "y": [
                        65,
                        97,
                        8,
                        9,
                        10,
                        16,
                        19,
                        21,
                        22,
                        11,
                        7,
                        21,
                        24,
                        29,
                        31,
                        39,
                        48
                      ]
                    },
                    {
                      "hovertemplate": "%{x}: %{y} <br>Song: %{text}",
                      "mode": "lines+markers",
                      "name": "Turning Tables",
                      "text": [
                        "Turning Tables",
                        "Turning Tables",
                        "Turning Tables"
                      ],
                      "type": "scatter",
                      "x": [
                        "2011-05-05T00:00:00",
                        "2011-05-12T00:00:00",
                        "2011-05-26T00:00:00"
                      ],
                      "y": [
                        63,
                        85,
                        96
                      ]
                    },
                    {
                      "hovertemplate": "%{x}: %{y} <br>Song: %{text}",
                      "mode": "lines+markers",
                      "name": "Rumour Has It",
                      "text": [
                        "Rumour Has It",
                        "Rumour Has It",
                        "Rumour Has It",
                        "Rumour Has It",
                        "Rumour Has It",
                        "Rumour Has It",
                        "Rumour Has It",
                        "Rumour Has It",
                        "Rumour Has It",
                        "Rumour Has It"
                      ],
                      "type": "scatter",
                      "x": [
                        "2012-01-05T00:00:00",
                        "2012-01-12T00:00:00",
                        "2012-01-19T00:00:00",
                        "2012-03-02T00:00:00",
                        "2012-03-09T00:00:00",
                        "2012-03-16T00:00:00",
                        "2012-03-23T00:00:00",
                        "2012-03-30T00:00:00",
                        "2012-04-06T00:00:00",
                        "2012-04-13T00:00:00"
                      ],
                      "y": [
                        78,
                        75,
                        95,
                        67,
                        51,
                        39,
                        57,
                        50,
                        44,
                        35
                      ]
                    }
                  ]
                },
                {
                  "data": [
                    {
                      "hovertemplate": "%{x}: %{y} <br>Song: %{text}",
                      "mode": "lines+markers",
                      "name": "Rolling In The Deep",
                      "text": [
                        "Rolling In The Deep",
                        "Rolling In The Deep",
                        "Rolling In The Deep",
                        "Rolling In The Deep",
                        "Rolling In The Deep",
                        "Rolling In The Deep",
                        "Rolling In The Deep",
                        "Rolling In The Deep",
                        "Rolling In The Deep",
                        "Rolling In The Deep",
                        "Rolling In The Deep",
                        "Rolling In The Deep",
                        "Rolling In The Deep",
                        "Rolling In The Deep",
                        "Rolling In The Deep",
                        "Rolling In The Deep",
                        "Rolling In The Deep",
                        "Rolling In The Deep",
                        "Rolling In The Deep",
                        "Rolling In The Deep",
                        "Rolling In The Deep",
                        "Rolling In The Deep",
                        "Rolling In The Deep",
                        "Rolling In The Deep",
                        "Rolling In The Deep",
                        "Rolling In The Deep",
                        "Rolling In The Deep",
                        "Rolling In The Deep",
                        "Rolling In The Deep",
                        "Rolling In The Deep",
                        "Rolling In The Deep",
                        "Rolling In The Deep",
                        "Rolling In The Deep",
                        "Rolling In The Deep",
                        "Rolling In The Deep",
                        "Rolling In The Deep",
                        "Rolling In The Deep",
                        "Rolling In The Deep",
                        "Rolling In The Deep",
                        "Rolling In The Deep",
                        "Rolling In The Deep",
                        "Rolling In The Deep"
                      ],
                      "type": "scatter",
                      "x": [
                        "2011-01-27T00:00:00",
                        "2011-02-03T00:00:00",
                        "2011-02-10T00:00:00",
                        "2011-02-17T00:00:00",
                        "2011-02-24T00:00:00",
                        "2011-03-03T00:00:00",
                        "2011-03-10T00:00:00",
                        "2011-03-17T00:00:00",
                        "2011-03-24T00:00:00",
                        "2011-03-31T00:00:00",
                        "2011-04-07T00:00:00",
                        "2011-04-14T00:00:00",
                        "2011-04-21T00:00:00",
                        "2011-04-28T00:00:00",
                        "2011-05-05T00:00:00",
                        "2011-05-12T00:00:00",
                        "2011-05-19T00:00:00",
                        "2011-05-26T00:00:00",
                        "2011-06-02T00:00:00",
                        "2011-06-09T00:00:00",
                        "2011-06-16T00:00:00",
                        "2011-06-23T00:00:00",
                        "2011-06-30T00:00:00",
                        "2011-07-07T00:00:00",
                        "2011-07-14T00:00:00",
                        "2011-07-21T00:00:00",
                        "2011-07-28T00:00:00",
                        "2012-01-05T00:00:00",
                        "2012-01-12T00:00:00",
                        "2012-01-19T00:00:00",
                        "2012-01-26T00:00:00",
                        "2012-02-02T00:00:00",
                        "2012-02-09T00:00:00",
                        "2012-02-16T00:00:00",
                        "2012-02-23T00:00:00",
                        "2012-03-02T00:00:00",
                        "2012-03-09T00:00:00",
                        "2012-03-16T00:00:00",
                        "2012-03-23T00:00:00",
                        "2012-03-30T00:00:00",
                        "2012-04-06T00:00:00",
                        "2012-04-13T00:00:00"
                      ],
                      "y": [
                        97,
                        84,
                        69,
                        64,
                        41,
                        26,
                        13,
                        18,
                        25,
                        26,
                        17,
                        10,
                        10,
                        6,
                        2,
                        2,
                        1,
                        1,
                        1,
                        1,
                        1,
                        1,
                        1,
                        2,
                        3,
                        3,
                        4,
                        35,
                        30,
                        36,
                        40,
                        41,
                        43,
                        44,
                        17,
                        5,
                        23,
                        32,
                        30,
                        33,
                        43,
                        49
                      ]
                    },
                    {
                      "hovertemplate": "%{x}: %{y} <br>Song: %{text}",
                      "mode": "lines+markers",
                      "name": "Set Fire To The Rain",
                      "text": [
                        "Set Fire To The Rain",
                        "Set Fire To The Rain",
                        "Set Fire To The Rain",
                        "Set Fire To The Rain",
                        "Set Fire To The Rain",
                        "Set Fire To The Rain",
                        "Set Fire To The Rain",
                        "Set Fire To The Rain",
                        "Set Fire To The Rain",
                        "Set Fire To The Rain",
                        "Set Fire To The Rain",
                        "Set Fire To The Rain",
                        "Set Fire To The Rain",
                        "Set Fire To The Rain",
                        "Set Fire To The Rain",
                        "Set Fire To The Rain",
                        "Set Fire To The Rain"
                      ],
                      "type": "scatter",
                      "x": [
                        "2011-03-10T00:00:00",
                        "2012-01-05T00:00:00",
                        "2012-01-12T00:00:00",
                        "2012-01-19T00:00:00",
                        "2012-01-26T00:00:00",
                        "2012-02-02T00:00:00",
                        "2012-02-09T00:00:00",
                        "2012-02-16T00:00:00",
                        "2012-02-23T00:00:00",
                        "2012-03-02T00:00:00",
                        "2012-03-09T00:00:00",
                        "2012-03-16T00:00:00",
                        "2012-03-23T00:00:00",
                        "2012-03-30T00:00:00",
                        "2012-04-06T00:00:00",
                        "2012-04-13T00:00:00",
                        "2012-04-20T00:00:00"
                      ],
                      "y": [
                        88,
                        7,
                        8,
                        4,
                        2,
                        1,
                        1,
                        2,
                        2,
                        2,
                        2,
                        3,
                        3,
                        4,
                        6,
                        12,
                        15
                      ]
                    },
                    {
                      "hovertemplate": "%{x}: %{y} <br>Song: %{text}",
                      "mode": "lines+markers",
                      "name": "Someone Like You",
                      "text": [
                        "Someone Like You",
                        "Someone Like You",
                        "Someone Like You",
                        "Someone Like You",
                        "Someone Like You",
                        "Someone Like You",
                        "Someone Like You",
                        "Someone Like You",
                        "Someone Like You",
                        "Someone Like You",
                        "Someone Like You",
                        "Someone Like You",
                        "Someone Like You",
                        "Someone Like You",
                        "Someone Like You",
                        "Someone Like You",
                        "Someone Like You"
                      ],
                      "type": "scatter",
                      "x": [
                        "2011-03-10T00:00:00",
                        "2011-07-28T00:00:00",
                        "2012-01-05T00:00:00",
                        "2012-01-12T00:00:00",
                        "2012-01-19T00:00:00",
                        "2012-01-26T00:00:00",
                        "2012-02-02T00:00:00",
                        "2012-02-09T00:00:00",
                        "2012-02-16T00:00:00",
                        "2012-02-23T00:00:00",
                        "2012-03-02T00:00:00",
                        "2012-03-09T00:00:00",
                        "2012-03-16T00:00:00",
                        "2012-03-23T00:00:00",
                        "2012-03-30T00:00:00",
                        "2012-04-06T00:00:00",
                        "2012-04-13T00:00:00"
                      ],
                      "y": [
                        65,
                        97,
                        8,
                        9,
                        10,
                        16,
                        19,
                        21,
                        22,
                        11,
                        7,
                        21,
                        24,
                        29,
                        31,
                        39,
                        48
                      ]
                    },
                    {
                      "hovertemplate": "%{x}: %{y} <br>Song: %{text}",
                      "mode": "lines+markers",
                      "name": "Turning Tables",
                      "text": [
                        "Turning Tables",
                        "Turning Tables",
                        "Turning Tables"
                      ],
                      "type": "scatter",
                      "x": [
                        "2011-05-05T00:00:00",
                        "2011-05-12T00:00:00",
                        "2011-05-26T00:00:00"
                      ],
                      "y": [
                        63,
                        85,
                        96
                      ]
                    },
                    {
                      "hovertemplate": "%{x}: %{y} <br>Song: %{text}",
                      "mode": "lines+markers",
                      "name": "Rumour Has It",
                      "text": [
                        "Rumour Has It",
                        "Rumour Has It",
                        "Rumour Has It",
                        "Rumour Has It",
                        "Rumour Has It",
                        "Rumour Has It",
                        "Rumour Has It",
                        "Rumour Has It",
                        "Rumour Has It",
                        "Rumour Has It",
                        "Rumour Has It"
                      ],
                      "type": "scatter",
                      "x": [
                        "2012-01-05T00:00:00",
                        "2012-01-12T00:00:00",
                        "2012-01-19T00:00:00",
                        "2012-03-02T00:00:00",
                        "2012-03-09T00:00:00",
                        "2012-03-16T00:00:00",
                        "2012-03-23T00:00:00",
                        "2012-03-30T00:00:00",
                        "2012-04-06T00:00:00",
                        "2012-04-13T00:00:00",
                        "2012-04-20T00:00:00"
                      ],
                      "y": [
                        78,
                        75,
                        95,
                        67,
                        51,
                        39,
                        57,
                        50,
                        44,
                        35,
                        23
                      ]
                    }
                  ]
                },
                {
                  "data": [
                    {
                      "hovertemplate": "%{x}: %{y} <br>Song: %{text}",
                      "mode": "lines+markers",
                      "name": "Rolling In The Deep",
                      "text": [
                        "Rolling In The Deep",
                        "Rolling In The Deep",
                        "Rolling In The Deep",
                        "Rolling In The Deep",
                        "Rolling In The Deep",
                        "Rolling In The Deep",
                        "Rolling In The Deep",
                        "Rolling In The Deep",
                        "Rolling In The Deep",
                        "Rolling In The Deep",
                        "Rolling In The Deep",
                        "Rolling In The Deep",
                        "Rolling In The Deep",
                        "Rolling In The Deep",
                        "Rolling In The Deep",
                        "Rolling In The Deep",
                        "Rolling In The Deep",
                        "Rolling In The Deep",
                        "Rolling In The Deep",
                        "Rolling In The Deep",
                        "Rolling In The Deep",
                        "Rolling In The Deep",
                        "Rolling In The Deep",
                        "Rolling In The Deep",
                        "Rolling In The Deep",
                        "Rolling In The Deep",
                        "Rolling In The Deep",
                        "Rolling In The Deep",
                        "Rolling In The Deep",
                        "Rolling In The Deep",
                        "Rolling In The Deep",
                        "Rolling In The Deep",
                        "Rolling In The Deep",
                        "Rolling In The Deep",
                        "Rolling In The Deep",
                        "Rolling In The Deep",
                        "Rolling In The Deep",
                        "Rolling In The Deep",
                        "Rolling In The Deep",
                        "Rolling In The Deep",
                        "Rolling In The Deep",
                        "Rolling In The Deep"
                      ],
                      "type": "scatter",
                      "x": [
                        "2011-01-27T00:00:00",
                        "2011-02-03T00:00:00",
                        "2011-02-10T00:00:00",
                        "2011-02-17T00:00:00",
                        "2011-02-24T00:00:00",
                        "2011-03-03T00:00:00",
                        "2011-03-10T00:00:00",
                        "2011-03-17T00:00:00",
                        "2011-03-24T00:00:00",
                        "2011-03-31T00:00:00",
                        "2011-04-07T00:00:00",
                        "2011-04-14T00:00:00",
                        "2011-04-21T00:00:00",
                        "2011-04-28T00:00:00",
                        "2011-05-05T00:00:00",
                        "2011-05-12T00:00:00",
                        "2011-05-19T00:00:00",
                        "2011-05-26T00:00:00",
                        "2011-06-02T00:00:00",
                        "2011-06-09T00:00:00",
                        "2011-06-16T00:00:00",
                        "2011-06-23T00:00:00",
                        "2011-06-30T00:00:00",
                        "2011-07-07T00:00:00",
                        "2011-07-14T00:00:00",
                        "2011-07-21T00:00:00",
                        "2011-07-28T00:00:00",
                        "2012-01-05T00:00:00",
                        "2012-01-12T00:00:00",
                        "2012-01-19T00:00:00",
                        "2012-01-26T00:00:00",
                        "2012-02-02T00:00:00",
                        "2012-02-09T00:00:00",
                        "2012-02-16T00:00:00",
                        "2012-02-23T00:00:00",
                        "2012-03-02T00:00:00",
                        "2012-03-09T00:00:00",
                        "2012-03-16T00:00:00",
                        "2012-03-23T00:00:00",
                        "2012-03-30T00:00:00",
                        "2012-04-06T00:00:00",
                        "2012-04-13T00:00:00"
                      ],
                      "y": [
                        97,
                        84,
                        69,
                        64,
                        41,
                        26,
                        13,
                        18,
                        25,
                        26,
                        17,
                        10,
                        10,
                        6,
                        2,
                        2,
                        1,
                        1,
                        1,
                        1,
                        1,
                        1,
                        1,
                        2,
                        3,
                        3,
                        4,
                        35,
                        30,
                        36,
                        40,
                        41,
                        43,
                        44,
                        17,
                        5,
                        23,
                        32,
                        30,
                        33,
                        43,
                        49
                      ]
                    },
                    {
                      "hovertemplate": "%{x}: %{y} <br>Song: %{text}",
                      "mode": "lines+markers",
                      "name": "Set Fire To The Rain",
                      "text": [
                        "Set Fire To The Rain",
                        "Set Fire To The Rain",
                        "Set Fire To The Rain",
                        "Set Fire To The Rain",
                        "Set Fire To The Rain",
                        "Set Fire To The Rain",
                        "Set Fire To The Rain",
                        "Set Fire To The Rain",
                        "Set Fire To The Rain",
                        "Set Fire To The Rain",
                        "Set Fire To The Rain",
                        "Set Fire To The Rain",
                        "Set Fire To The Rain",
                        "Set Fire To The Rain",
                        "Set Fire To The Rain",
                        "Set Fire To The Rain",
                        "Set Fire To The Rain",
                        "Set Fire To The Rain"
                      ],
                      "type": "scatter",
                      "x": [
                        "2011-03-10T00:00:00",
                        "2012-01-05T00:00:00",
                        "2012-01-12T00:00:00",
                        "2012-01-19T00:00:00",
                        "2012-01-26T00:00:00",
                        "2012-02-02T00:00:00",
                        "2012-02-09T00:00:00",
                        "2012-02-16T00:00:00",
                        "2012-02-23T00:00:00",
                        "2012-03-02T00:00:00",
                        "2012-03-09T00:00:00",
                        "2012-03-16T00:00:00",
                        "2012-03-23T00:00:00",
                        "2012-03-30T00:00:00",
                        "2012-04-06T00:00:00",
                        "2012-04-13T00:00:00",
                        "2012-04-20T00:00:00",
                        "2012-04-27T00:00:00"
                      ],
                      "y": [
                        88,
                        7,
                        8,
                        4,
                        2,
                        1,
                        1,
                        2,
                        2,
                        2,
                        2,
                        3,
                        3,
                        4,
                        6,
                        12,
                        15,
                        17
                      ]
                    },
                    {
                      "hovertemplate": "%{x}: %{y} <br>Song: %{text}",
                      "mode": "lines+markers",
                      "name": "Someone Like You",
                      "text": [
                        "Someone Like You",
                        "Someone Like You",
                        "Someone Like You",
                        "Someone Like You",
                        "Someone Like You",
                        "Someone Like You",
                        "Someone Like You",
                        "Someone Like You",
                        "Someone Like You",
                        "Someone Like You",
                        "Someone Like You",
                        "Someone Like You",
                        "Someone Like You",
                        "Someone Like You",
                        "Someone Like You",
                        "Someone Like You",
                        "Someone Like You"
                      ],
                      "type": "scatter",
                      "x": [
                        "2011-03-10T00:00:00",
                        "2011-07-28T00:00:00",
                        "2012-01-05T00:00:00",
                        "2012-01-12T00:00:00",
                        "2012-01-19T00:00:00",
                        "2012-01-26T00:00:00",
                        "2012-02-02T00:00:00",
                        "2012-02-09T00:00:00",
                        "2012-02-16T00:00:00",
                        "2012-02-23T00:00:00",
                        "2012-03-02T00:00:00",
                        "2012-03-09T00:00:00",
                        "2012-03-16T00:00:00",
                        "2012-03-23T00:00:00",
                        "2012-03-30T00:00:00",
                        "2012-04-06T00:00:00",
                        "2012-04-13T00:00:00"
                      ],
                      "y": [
                        65,
                        97,
                        8,
                        9,
                        10,
                        16,
                        19,
                        21,
                        22,
                        11,
                        7,
                        21,
                        24,
                        29,
                        31,
                        39,
                        48
                      ]
                    },
                    {
                      "hovertemplate": "%{x}: %{y} <br>Song: %{text}",
                      "mode": "lines+markers",
                      "name": "Turning Tables",
                      "text": [
                        "Turning Tables",
                        "Turning Tables",
                        "Turning Tables"
                      ],
                      "type": "scatter",
                      "x": [
                        "2011-05-05T00:00:00",
                        "2011-05-12T00:00:00",
                        "2011-05-26T00:00:00"
                      ],
                      "y": [
                        63,
                        85,
                        96
                      ]
                    },
                    {
                      "hovertemplate": "%{x}: %{y} <br>Song: %{text}",
                      "mode": "lines+markers",
                      "name": "Rumour Has It",
                      "text": [
                        "Rumour Has It",
                        "Rumour Has It",
                        "Rumour Has It",
                        "Rumour Has It",
                        "Rumour Has It",
                        "Rumour Has It",
                        "Rumour Has It",
                        "Rumour Has It",
                        "Rumour Has It",
                        "Rumour Has It",
                        "Rumour Has It",
                        "Rumour Has It"
                      ],
                      "type": "scatter",
                      "x": [
                        "2012-01-05T00:00:00",
                        "2012-01-12T00:00:00",
                        "2012-01-19T00:00:00",
                        "2012-03-02T00:00:00",
                        "2012-03-09T00:00:00",
                        "2012-03-16T00:00:00",
                        "2012-03-23T00:00:00",
                        "2012-03-30T00:00:00",
                        "2012-04-06T00:00:00",
                        "2012-04-13T00:00:00",
                        "2012-04-20T00:00:00",
                        "2012-04-27T00:00:00"
                      ],
                      "y": [
                        78,
                        75,
                        95,
                        67,
                        51,
                        39,
                        57,
                        50,
                        44,
                        35,
                        23,
                        20
                      ]
                    }
                  ]
                },
                {
                  "data": [
                    {
                      "hovertemplate": "%{x}: %{y} <br>Song: %{text}",
                      "mode": "lines+markers",
                      "name": "Rolling In The Deep",
                      "text": [
                        "Rolling In The Deep",
                        "Rolling In The Deep",
                        "Rolling In The Deep",
                        "Rolling In The Deep",
                        "Rolling In The Deep",
                        "Rolling In The Deep",
                        "Rolling In The Deep",
                        "Rolling In The Deep",
                        "Rolling In The Deep",
                        "Rolling In The Deep",
                        "Rolling In The Deep",
                        "Rolling In The Deep",
                        "Rolling In The Deep",
                        "Rolling In The Deep",
                        "Rolling In The Deep",
                        "Rolling In The Deep",
                        "Rolling In The Deep",
                        "Rolling In The Deep",
                        "Rolling In The Deep",
                        "Rolling In The Deep",
                        "Rolling In The Deep",
                        "Rolling In The Deep",
                        "Rolling In The Deep",
                        "Rolling In The Deep",
                        "Rolling In The Deep",
                        "Rolling In The Deep",
                        "Rolling In The Deep",
                        "Rolling In The Deep",
                        "Rolling In The Deep",
                        "Rolling In The Deep",
                        "Rolling In The Deep",
                        "Rolling In The Deep",
                        "Rolling In The Deep",
                        "Rolling In The Deep",
                        "Rolling In The Deep",
                        "Rolling In The Deep",
                        "Rolling In The Deep",
                        "Rolling In The Deep",
                        "Rolling In The Deep",
                        "Rolling In The Deep",
                        "Rolling In The Deep",
                        "Rolling In The Deep"
                      ],
                      "type": "scatter",
                      "x": [
                        "2011-01-27T00:00:00",
                        "2011-02-03T00:00:00",
                        "2011-02-10T00:00:00",
                        "2011-02-17T00:00:00",
                        "2011-02-24T00:00:00",
                        "2011-03-03T00:00:00",
                        "2011-03-10T00:00:00",
                        "2011-03-17T00:00:00",
                        "2011-03-24T00:00:00",
                        "2011-03-31T00:00:00",
                        "2011-04-07T00:00:00",
                        "2011-04-14T00:00:00",
                        "2011-04-21T00:00:00",
                        "2011-04-28T00:00:00",
                        "2011-05-05T00:00:00",
                        "2011-05-12T00:00:00",
                        "2011-05-19T00:00:00",
                        "2011-05-26T00:00:00",
                        "2011-06-02T00:00:00",
                        "2011-06-09T00:00:00",
                        "2011-06-16T00:00:00",
                        "2011-06-23T00:00:00",
                        "2011-06-30T00:00:00",
                        "2011-07-07T00:00:00",
                        "2011-07-14T00:00:00",
                        "2011-07-21T00:00:00",
                        "2011-07-28T00:00:00",
                        "2012-01-05T00:00:00",
                        "2012-01-12T00:00:00",
                        "2012-01-19T00:00:00",
                        "2012-01-26T00:00:00",
                        "2012-02-02T00:00:00",
                        "2012-02-09T00:00:00",
                        "2012-02-16T00:00:00",
                        "2012-02-23T00:00:00",
                        "2012-03-02T00:00:00",
                        "2012-03-09T00:00:00",
                        "2012-03-16T00:00:00",
                        "2012-03-23T00:00:00",
                        "2012-03-30T00:00:00",
                        "2012-04-06T00:00:00",
                        "2012-04-13T00:00:00"
                      ],
                      "y": [
                        97,
                        84,
                        69,
                        64,
                        41,
                        26,
                        13,
                        18,
                        25,
                        26,
                        17,
                        10,
                        10,
                        6,
                        2,
                        2,
                        1,
                        1,
                        1,
                        1,
                        1,
                        1,
                        1,
                        2,
                        3,
                        3,
                        4,
                        35,
                        30,
                        36,
                        40,
                        41,
                        43,
                        44,
                        17,
                        5,
                        23,
                        32,
                        30,
                        33,
                        43,
                        49
                      ]
                    },
                    {
                      "hovertemplate": "%{x}: %{y} <br>Song: %{text}",
                      "mode": "lines+markers",
                      "name": "Set Fire To The Rain",
                      "text": [
                        "Set Fire To The Rain",
                        "Set Fire To The Rain",
                        "Set Fire To The Rain",
                        "Set Fire To The Rain",
                        "Set Fire To The Rain",
                        "Set Fire To The Rain",
                        "Set Fire To The Rain",
                        "Set Fire To The Rain",
                        "Set Fire To The Rain",
                        "Set Fire To The Rain",
                        "Set Fire To The Rain",
                        "Set Fire To The Rain",
                        "Set Fire To The Rain",
                        "Set Fire To The Rain",
                        "Set Fire To The Rain",
                        "Set Fire To The Rain",
                        "Set Fire To The Rain",
                        "Set Fire To The Rain",
                        "Set Fire To The Rain"
                      ],
                      "type": "scatter",
                      "x": [
                        "2011-03-10T00:00:00",
                        "2012-01-05T00:00:00",
                        "2012-01-12T00:00:00",
                        "2012-01-19T00:00:00",
                        "2012-01-26T00:00:00",
                        "2012-02-02T00:00:00",
                        "2012-02-09T00:00:00",
                        "2012-02-16T00:00:00",
                        "2012-02-23T00:00:00",
                        "2012-03-02T00:00:00",
                        "2012-03-09T00:00:00",
                        "2012-03-16T00:00:00",
                        "2012-03-23T00:00:00",
                        "2012-03-30T00:00:00",
                        "2012-04-06T00:00:00",
                        "2012-04-13T00:00:00",
                        "2012-04-20T00:00:00",
                        "2012-04-27T00:00:00",
                        "2012-05-04T00:00:00"
                      ],
                      "y": [
                        88,
                        7,
                        8,
                        4,
                        2,
                        1,
                        1,
                        2,
                        2,
                        2,
                        2,
                        3,
                        3,
                        4,
                        6,
                        12,
                        15,
                        17,
                        18
                      ]
                    },
                    {
                      "hovertemplate": "%{x}: %{y} <br>Song: %{text}",
                      "mode": "lines+markers",
                      "name": "Someone Like You",
                      "text": [
                        "Someone Like You",
                        "Someone Like You",
                        "Someone Like You",
                        "Someone Like You",
                        "Someone Like You",
                        "Someone Like You",
                        "Someone Like You",
                        "Someone Like You",
                        "Someone Like You",
                        "Someone Like You",
                        "Someone Like You",
                        "Someone Like You",
                        "Someone Like You",
                        "Someone Like You",
                        "Someone Like You",
                        "Someone Like You",
                        "Someone Like You"
                      ],
                      "type": "scatter",
                      "x": [
                        "2011-03-10T00:00:00",
                        "2011-07-28T00:00:00",
                        "2012-01-05T00:00:00",
                        "2012-01-12T00:00:00",
                        "2012-01-19T00:00:00",
                        "2012-01-26T00:00:00",
                        "2012-02-02T00:00:00",
                        "2012-02-09T00:00:00",
                        "2012-02-16T00:00:00",
                        "2012-02-23T00:00:00",
                        "2012-03-02T00:00:00",
                        "2012-03-09T00:00:00",
                        "2012-03-16T00:00:00",
                        "2012-03-23T00:00:00",
                        "2012-03-30T00:00:00",
                        "2012-04-06T00:00:00",
                        "2012-04-13T00:00:00"
                      ],
                      "y": [
                        65,
                        97,
                        8,
                        9,
                        10,
                        16,
                        19,
                        21,
                        22,
                        11,
                        7,
                        21,
                        24,
                        29,
                        31,
                        39,
                        48
                      ]
                    },
                    {
                      "hovertemplate": "%{x}: %{y} <br>Song: %{text}",
                      "mode": "lines+markers",
                      "name": "Turning Tables",
                      "text": [
                        "Turning Tables",
                        "Turning Tables",
                        "Turning Tables"
                      ],
                      "type": "scatter",
                      "x": [
                        "2011-05-05T00:00:00",
                        "2011-05-12T00:00:00",
                        "2011-05-26T00:00:00"
                      ],
                      "y": [
                        63,
                        85,
                        96
                      ]
                    },
                    {
                      "hovertemplate": "%{x}: %{y} <br>Song: %{text}",
                      "mode": "lines+markers",
                      "name": "Rumour Has It",
                      "text": [
                        "Rumour Has It",
                        "Rumour Has It",
                        "Rumour Has It",
                        "Rumour Has It",
                        "Rumour Has It",
                        "Rumour Has It",
                        "Rumour Has It",
                        "Rumour Has It",
                        "Rumour Has It",
                        "Rumour Has It",
                        "Rumour Has It",
                        "Rumour Has It",
                        "Rumour Has It"
                      ],
                      "type": "scatter",
                      "x": [
                        "2012-01-05T00:00:00",
                        "2012-01-12T00:00:00",
                        "2012-01-19T00:00:00",
                        "2012-03-02T00:00:00",
                        "2012-03-09T00:00:00",
                        "2012-03-16T00:00:00",
                        "2012-03-23T00:00:00",
                        "2012-03-30T00:00:00",
                        "2012-04-06T00:00:00",
                        "2012-04-13T00:00:00",
                        "2012-04-20T00:00:00",
                        "2012-04-27T00:00:00",
                        "2012-05-04T00:00:00"
                      ],
                      "y": [
                        78,
                        75,
                        95,
                        67,
                        51,
                        39,
                        57,
                        50,
                        44,
                        35,
                        23,
                        20,
                        16
                      ]
                    }
                  ]
                },
                {
                  "data": [
                    {
                      "hovertemplate": "%{x}: %{y} <br>Song: %{text}",
                      "mode": "lines+markers",
                      "name": "Rolling In The Deep",
                      "text": [
                        "Rolling In The Deep",
                        "Rolling In The Deep",
                        "Rolling In The Deep",
                        "Rolling In The Deep",
                        "Rolling In The Deep",
                        "Rolling In The Deep",
                        "Rolling In The Deep",
                        "Rolling In The Deep",
                        "Rolling In The Deep",
                        "Rolling In The Deep",
                        "Rolling In The Deep",
                        "Rolling In The Deep",
                        "Rolling In The Deep",
                        "Rolling In The Deep",
                        "Rolling In The Deep",
                        "Rolling In The Deep",
                        "Rolling In The Deep",
                        "Rolling In The Deep",
                        "Rolling In The Deep",
                        "Rolling In The Deep",
                        "Rolling In The Deep",
                        "Rolling In The Deep",
                        "Rolling In The Deep",
                        "Rolling In The Deep",
                        "Rolling In The Deep",
                        "Rolling In The Deep",
                        "Rolling In The Deep",
                        "Rolling In The Deep",
                        "Rolling In The Deep",
                        "Rolling In The Deep",
                        "Rolling In The Deep",
                        "Rolling In The Deep",
                        "Rolling In The Deep",
                        "Rolling In The Deep",
                        "Rolling In The Deep",
                        "Rolling In The Deep",
                        "Rolling In The Deep",
                        "Rolling In The Deep",
                        "Rolling In The Deep",
                        "Rolling In The Deep",
                        "Rolling In The Deep",
                        "Rolling In The Deep"
                      ],
                      "type": "scatter",
                      "x": [
                        "2011-01-27T00:00:00",
                        "2011-02-03T00:00:00",
                        "2011-02-10T00:00:00",
                        "2011-02-17T00:00:00",
                        "2011-02-24T00:00:00",
                        "2011-03-03T00:00:00",
                        "2011-03-10T00:00:00",
                        "2011-03-17T00:00:00",
                        "2011-03-24T00:00:00",
                        "2011-03-31T00:00:00",
                        "2011-04-07T00:00:00",
                        "2011-04-14T00:00:00",
                        "2011-04-21T00:00:00",
                        "2011-04-28T00:00:00",
                        "2011-05-05T00:00:00",
                        "2011-05-12T00:00:00",
                        "2011-05-19T00:00:00",
                        "2011-05-26T00:00:00",
                        "2011-06-02T00:00:00",
                        "2011-06-09T00:00:00",
                        "2011-06-16T00:00:00",
                        "2011-06-23T00:00:00",
                        "2011-06-30T00:00:00",
                        "2011-07-07T00:00:00",
                        "2011-07-14T00:00:00",
                        "2011-07-21T00:00:00",
                        "2011-07-28T00:00:00",
                        "2012-01-05T00:00:00",
                        "2012-01-12T00:00:00",
                        "2012-01-19T00:00:00",
                        "2012-01-26T00:00:00",
                        "2012-02-02T00:00:00",
                        "2012-02-09T00:00:00",
                        "2012-02-16T00:00:00",
                        "2012-02-23T00:00:00",
                        "2012-03-02T00:00:00",
                        "2012-03-09T00:00:00",
                        "2012-03-16T00:00:00",
                        "2012-03-23T00:00:00",
                        "2012-03-30T00:00:00",
                        "2012-04-06T00:00:00",
                        "2012-04-13T00:00:00"
                      ],
                      "y": [
                        97,
                        84,
                        69,
                        64,
                        41,
                        26,
                        13,
                        18,
                        25,
                        26,
                        17,
                        10,
                        10,
                        6,
                        2,
                        2,
                        1,
                        1,
                        1,
                        1,
                        1,
                        1,
                        1,
                        2,
                        3,
                        3,
                        4,
                        35,
                        30,
                        36,
                        40,
                        41,
                        43,
                        44,
                        17,
                        5,
                        23,
                        32,
                        30,
                        33,
                        43,
                        49
                      ]
                    },
                    {
                      "hovertemplate": "%{x}: %{y} <br>Song: %{text}",
                      "mode": "lines+markers",
                      "name": "Set Fire To The Rain",
                      "text": [
                        "Set Fire To The Rain",
                        "Set Fire To The Rain",
                        "Set Fire To The Rain",
                        "Set Fire To The Rain",
                        "Set Fire To The Rain",
                        "Set Fire To The Rain",
                        "Set Fire To The Rain",
                        "Set Fire To The Rain",
                        "Set Fire To The Rain",
                        "Set Fire To The Rain",
                        "Set Fire To The Rain",
                        "Set Fire To The Rain",
                        "Set Fire To The Rain",
                        "Set Fire To The Rain",
                        "Set Fire To The Rain",
                        "Set Fire To The Rain",
                        "Set Fire To The Rain",
                        "Set Fire To The Rain",
                        "Set Fire To The Rain",
                        "Set Fire To The Rain"
                      ],
                      "type": "scatter",
                      "x": [
                        "2011-03-10T00:00:00",
                        "2012-01-05T00:00:00",
                        "2012-01-12T00:00:00",
                        "2012-01-19T00:00:00",
                        "2012-01-26T00:00:00",
                        "2012-02-02T00:00:00",
                        "2012-02-09T00:00:00",
                        "2012-02-16T00:00:00",
                        "2012-02-23T00:00:00",
                        "2012-03-02T00:00:00",
                        "2012-03-09T00:00:00",
                        "2012-03-16T00:00:00",
                        "2012-03-23T00:00:00",
                        "2012-03-30T00:00:00",
                        "2012-04-06T00:00:00",
                        "2012-04-13T00:00:00",
                        "2012-04-20T00:00:00",
                        "2012-04-27T00:00:00",
                        "2012-05-04T00:00:00",
                        "2012-05-11T00:00:00"
                      ],
                      "y": [
                        88,
                        7,
                        8,
                        4,
                        2,
                        1,
                        1,
                        2,
                        2,
                        2,
                        2,
                        3,
                        3,
                        4,
                        6,
                        12,
                        15,
                        17,
                        18,
                        22
                      ]
                    },
                    {
                      "hovertemplate": "%{x}: %{y} <br>Song: %{text}",
                      "mode": "lines+markers",
                      "name": "Someone Like You",
                      "text": [
                        "Someone Like You",
                        "Someone Like You",
                        "Someone Like You",
                        "Someone Like You",
                        "Someone Like You",
                        "Someone Like You",
                        "Someone Like You",
                        "Someone Like You",
                        "Someone Like You",
                        "Someone Like You",
                        "Someone Like You",
                        "Someone Like You",
                        "Someone Like You",
                        "Someone Like You",
                        "Someone Like You",
                        "Someone Like You",
                        "Someone Like You"
                      ],
                      "type": "scatter",
                      "x": [
                        "2011-03-10T00:00:00",
                        "2011-07-28T00:00:00",
                        "2012-01-05T00:00:00",
                        "2012-01-12T00:00:00",
                        "2012-01-19T00:00:00",
                        "2012-01-26T00:00:00",
                        "2012-02-02T00:00:00",
                        "2012-02-09T00:00:00",
                        "2012-02-16T00:00:00",
                        "2012-02-23T00:00:00",
                        "2012-03-02T00:00:00",
                        "2012-03-09T00:00:00",
                        "2012-03-16T00:00:00",
                        "2012-03-23T00:00:00",
                        "2012-03-30T00:00:00",
                        "2012-04-06T00:00:00",
                        "2012-04-13T00:00:00"
                      ],
                      "y": [
                        65,
                        97,
                        8,
                        9,
                        10,
                        16,
                        19,
                        21,
                        22,
                        11,
                        7,
                        21,
                        24,
                        29,
                        31,
                        39,
                        48
                      ]
                    },
                    {
                      "hovertemplate": "%{x}: %{y} <br>Song: %{text}",
                      "mode": "lines+markers",
                      "name": "Turning Tables",
                      "text": [
                        "Turning Tables",
                        "Turning Tables",
                        "Turning Tables"
                      ],
                      "type": "scatter",
                      "x": [
                        "2011-05-05T00:00:00",
                        "2011-05-12T00:00:00",
                        "2011-05-26T00:00:00"
                      ],
                      "y": [
                        63,
                        85,
                        96
                      ]
                    },
                    {
                      "hovertemplate": "%{x}: %{y} <br>Song: %{text}",
                      "mode": "lines+markers",
                      "name": "Rumour Has It",
                      "text": [
                        "Rumour Has It",
                        "Rumour Has It",
                        "Rumour Has It",
                        "Rumour Has It",
                        "Rumour Has It",
                        "Rumour Has It",
                        "Rumour Has It",
                        "Rumour Has It",
                        "Rumour Has It",
                        "Rumour Has It",
                        "Rumour Has It",
                        "Rumour Has It",
                        "Rumour Has It",
                        "Rumour Has It"
                      ],
                      "type": "scatter",
                      "x": [
                        "2012-01-05T00:00:00",
                        "2012-01-12T00:00:00",
                        "2012-01-19T00:00:00",
                        "2012-03-02T00:00:00",
                        "2012-03-09T00:00:00",
                        "2012-03-16T00:00:00",
                        "2012-03-23T00:00:00",
                        "2012-03-30T00:00:00",
                        "2012-04-06T00:00:00",
                        "2012-04-13T00:00:00",
                        "2012-04-20T00:00:00",
                        "2012-04-27T00:00:00",
                        "2012-05-04T00:00:00",
                        "2012-05-11T00:00:00"
                      ],
                      "y": [
                        78,
                        75,
                        95,
                        67,
                        51,
                        39,
                        57,
                        50,
                        44,
                        35,
                        23,
                        20,
                        16,
                        16
                      ]
                    }
                  ]
                },
                {
                  "data": [
                    {
                      "hovertemplate": "%{x}: %{y} <br>Song: %{text}",
                      "mode": "lines+markers",
                      "name": "Rolling In The Deep",
                      "text": [
                        "Rolling In The Deep",
                        "Rolling In The Deep",
                        "Rolling In The Deep",
                        "Rolling In The Deep",
                        "Rolling In The Deep",
                        "Rolling In The Deep",
                        "Rolling In The Deep",
                        "Rolling In The Deep",
                        "Rolling In The Deep",
                        "Rolling In The Deep",
                        "Rolling In The Deep",
                        "Rolling In The Deep",
                        "Rolling In The Deep",
                        "Rolling In The Deep",
                        "Rolling In The Deep",
                        "Rolling In The Deep",
                        "Rolling In The Deep",
                        "Rolling In The Deep",
                        "Rolling In The Deep",
                        "Rolling In The Deep",
                        "Rolling In The Deep",
                        "Rolling In The Deep",
                        "Rolling In The Deep",
                        "Rolling In The Deep",
                        "Rolling In The Deep",
                        "Rolling In The Deep",
                        "Rolling In The Deep",
                        "Rolling In The Deep",
                        "Rolling In The Deep",
                        "Rolling In The Deep",
                        "Rolling In The Deep",
                        "Rolling In The Deep",
                        "Rolling In The Deep",
                        "Rolling In The Deep",
                        "Rolling In The Deep",
                        "Rolling In The Deep",
                        "Rolling In The Deep",
                        "Rolling In The Deep",
                        "Rolling In The Deep",
                        "Rolling In The Deep",
                        "Rolling In The Deep",
                        "Rolling In The Deep"
                      ],
                      "type": "scatter",
                      "x": [
                        "2011-01-27T00:00:00",
                        "2011-02-03T00:00:00",
                        "2011-02-10T00:00:00",
                        "2011-02-17T00:00:00",
                        "2011-02-24T00:00:00",
                        "2011-03-03T00:00:00",
                        "2011-03-10T00:00:00",
                        "2011-03-17T00:00:00",
                        "2011-03-24T00:00:00",
                        "2011-03-31T00:00:00",
                        "2011-04-07T00:00:00",
                        "2011-04-14T00:00:00",
                        "2011-04-21T00:00:00",
                        "2011-04-28T00:00:00",
                        "2011-05-05T00:00:00",
                        "2011-05-12T00:00:00",
                        "2011-05-19T00:00:00",
                        "2011-05-26T00:00:00",
                        "2011-06-02T00:00:00",
                        "2011-06-09T00:00:00",
                        "2011-06-16T00:00:00",
                        "2011-06-23T00:00:00",
                        "2011-06-30T00:00:00",
                        "2011-07-07T00:00:00",
                        "2011-07-14T00:00:00",
                        "2011-07-21T00:00:00",
                        "2011-07-28T00:00:00",
                        "2012-01-05T00:00:00",
                        "2012-01-12T00:00:00",
                        "2012-01-19T00:00:00",
                        "2012-01-26T00:00:00",
                        "2012-02-02T00:00:00",
                        "2012-02-09T00:00:00",
                        "2012-02-16T00:00:00",
                        "2012-02-23T00:00:00",
                        "2012-03-02T00:00:00",
                        "2012-03-09T00:00:00",
                        "2012-03-16T00:00:00",
                        "2012-03-23T00:00:00",
                        "2012-03-30T00:00:00",
                        "2012-04-06T00:00:00",
                        "2012-04-13T00:00:00"
                      ],
                      "y": [
                        97,
                        84,
                        69,
                        64,
                        41,
                        26,
                        13,
                        18,
                        25,
                        26,
                        17,
                        10,
                        10,
                        6,
                        2,
                        2,
                        1,
                        1,
                        1,
                        1,
                        1,
                        1,
                        1,
                        2,
                        3,
                        3,
                        4,
                        35,
                        30,
                        36,
                        40,
                        41,
                        43,
                        44,
                        17,
                        5,
                        23,
                        32,
                        30,
                        33,
                        43,
                        49
                      ]
                    },
                    {
                      "hovertemplate": "%{x}: %{y} <br>Song: %{text}",
                      "mode": "lines+markers",
                      "name": "Set Fire To The Rain",
                      "text": [
                        "Set Fire To The Rain",
                        "Set Fire To The Rain",
                        "Set Fire To The Rain",
                        "Set Fire To The Rain",
                        "Set Fire To The Rain",
                        "Set Fire To The Rain",
                        "Set Fire To The Rain",
                        "Set Fire To The Rain",
                        "Set Fire To The Rain",
                        "Set Fire To The Rain",
                        "Set Fire To The Rain",
                        "Set Fire To The Rain",
                        "Set Fire To The Rain",
                        "Set Fire To The Rain",
                        "Set Fire To The Rain",
                        "Set Fire To The Rain",
                        "Set Fire To The Rain",
                        "Set Fire To The Rain",
                        "Set Fire To The Rain",
                        "Set Fire To The Rain",
                        "Set Fire To The Rain"
                      ],
                      "type": "scatter",
                      "x": [
                        "2011-03-10T00:00:00",
                        "2012-01-05T00:00:00",
                        "2012-01-12T00:00:00",
                        "2012-01-19T00:00:00",
                        "2012-01-26T00:00:00",
                        "2012-02-02T00:00:00",
                        "2012-02-09T00:00:00",
                        "2012-02-16T00:00:00",
                        "2012-02-23T00:00:00",
                        "2012-03-02T00:00:00",
                        "2012-03-09T00:00:00",
                        "2012-03-16T00:00:00",
                        "2012-03-23T00:00:00",
                        "2012-03-30T00:00:00",
                        "2012-04-06T00:00:00",
                        "2012-04-13T00:00:00",
                        "2012-04-20T00:00:00",
                        "2012-04-27T00:00:00",
                        "2012-05-04T00:00:00",
                        "2012-05-11T00:00:00",
                        "2012-05-18T00:00:00"
                      ],
                      "y": [
                        88,
                        7,
                        8,
                        4,
                        2,
                        1,
                        1,
                        2,
                        2,
                        2,
                        2,
                        3,
                        3,
                        4,
                        6,
                        12,
                        15,
                        17,
                        18,
                        22,
                        21
                      ]
                    },
                    {
                      "hovertemplate": "%{x}: %{y} <br>Song: %{text}",
                      "mode": "lines+markers",
                      "name": "Someone Like You",
                      "text": [
                        "Someone Like You",
                        "Someone Like You",
                        "Someone Like You",
                        "Someone Like You",
                        "Someone Like You",
                        "Someone Like You",
                        "Someone Like You",
                        "Someone Like You",
                        "Someone Like You",
                        "Someone Like You",
                        "Someone Like You",
                        "Someone Like You",
                        "Someone Like You",
                        "Someone Like You",
                        "Someone Like You",
                        "Someone Like You",
                        "Someone Like You"
                      ],
                      "type": "scatter",
                      "x": [
                        "2011-03-10T00:00:00",
                        "2011-07-28T00:00:00",
                        "2012-01-05T00:00:00",
                        "2012-01-12T00:00:00",
                        "2012-01-19T00:00:00",
                        "2012-01-26T00:00:00",
                        "2012-02-02T00:00:00",
                        "2012-02-09T00:00:00",
                        "2012-02-16T00:00:00",
                        "2012-02-23T00:00:00",
                        "2012-03-02T00:00:00",
                        "2012-03-09T00:00:00",
                        "2012-03-16T00:00:00",
                        "2012-03-23T00:00:00",
                        "2012-03-30T00:00:00",
                        "2012-04-06T00:00:00",
                        "2012-04-13T00:00:00"
                      ],
                      "y": [
                        65,
                        97,
                        8,
                        9,
                        10,
                        16,
                        19,
                        21,
                        22,
                        11,
                        7,
                        21,
                        24,
                        29,
                        31,
                        39,
                        48
                      ]
                    },
                    {
                      "hovertemplate": "%{x}: %{y} <br>Song: %{text}",
                      "mode": "lines+markers",
                      "name": "Turning Tables",
                      "text": [
                        "Turning Tables",
                        "Turning Tables",
                        "Turning Tables"
                      ],
                      "type": "scatter",
                      "x": [
                        "2011-05-05T00:00:00",
                        "2011-05-12T00:00:00",
                        "2011-05-26T00:00:00"
                      ],
                      "y": [
                        63,
                        85,
                        96
                      ]
                    },
                    {
                      "hovertemplate": "%{x}: %{y} <br>Song: %{text}",
                      "mode": "lines+markers",
                      "name": "Rumour Has It",
                      "text": [
                        "Rumour Has It",
                        "Rumour Has It",
                        "Rumour Has It",
                        "Rumour Has It",
                        "Rumour Has It",
                        "Rumour Has It",
                        "Rumour Has It",
                        "Rumour Has It",
                        "Rumour Has It",
                        "Rumour Has It",
                        "Rumour Has It",
                        "Rumour Has It",
                        "Rumour Has It",
                        "Rumour Has It",
                        "Rumour Has It"
                      ],
                      "type": "scatter",
                      "x": [
                        "2012-01-05T00:00:00",
                        "2012-01-12T00:00:00",
                        "2012-01-19T00:00:00",
                        "2012-03-02T00:00:00",
                        "2012-03-09T00:00:00",
                        "2012-03-16T00:00:00",
                        "2012-03-23T00:00:00",
                        "2012-03-30T00:00:00",
                        "2012-04-06T00:00:00",
                        "2012-04-13T00:00:00",
                        "2012-04-20T00:00:00",
                        "2012-04-27T00:00:00",
                        "2012-05-04T00:00:00",
                        "2012-05-11T00:00:00",
                        "2012-05-18T00:00:00"
                      ],
                      "y": [
                        78,
                        75,
                        95,
                        67,
                        51,
                        39,
                        57,
                        50,
                        44,
                        35,
                        23,
                        20,
                        16,
                        16,
                        16
                      ]
                    }
                  ]
                },
                {
                  "data": [
                    {
                      "hovertemplate": "%{x}: %{y} <br>Song: %{text}",
                      "mode": "lines+markers",
                      "name": "Rolling In The Deep",
                      "text": [
                        "Rolling In The Deep",
                        "Rolling In The Deep",
                        "Rolling In The Deep",
                        "Rolling In The Deep",
                        "Rolling In The Deep",
                        "Rolling In The Deep",
                        "Rolling In The Deep",
                        "Rolling In The Deep",
                        "Rolling In The Deep",
                        "Rolling In The Deep",
                        "Rolling In The Deep",
                        "Rolling In The Deep",
                        "Rolling In The Deep",
                        "Rolling In The Deep",
                        "Rolling In The Deep",
                        "Rolling In The Deep",
                        "Rolling In The Deep",
                        "Rolling In The Deep",
                        "Rolling In The Deep",
                        "Rolling In The Deep",
                        "Rolling In The Deep",
                        "Rolling In The Deep",
                        "Rolling In The Deep",
                        "Rolling In The Deep",
                        "Rolling In The Deep",
                        "Rolling In The Deep",
                        "Rolling In The Deep",
                        "Rolling In The Deep",
                        "Rolling In The Deep",
                        "Rolling In The Deep",
                        "Rolling In The Deep",
                        "Rolling In The Deep",
                        "Rolling In The Deep",
                        "Rolling In The Deep",
                        "Rolling In The Deep",
                        "Rolling In The Deep",
                        "Rolling In The Deep",
                        "Rolling In The Deep",
                        "Rolling In The Deep",
                        "Rolling In The Deep",
                        "Rolling In The Deep",
                        "Rolling In The Deep"
                      ],
                      "type": "scatter",
                      "x": [
                        "2011-01-27T00:00:00",
                        "2011-02-03T00:00:00",
                        "2011-02-10T00:00:00",
                        "2011-02-17T00:00:00",
                        "2011-02-24T00:00:00",
                        "2011-03-03T00:00:00",
                        "2011-03-10T00:00:00",
                        "2011-03-17T00:00:00",
                        "2011-03-24T00:00:00",
                        "2011-03-31T00:00:00",
                        "2011-04-07T00:00:00",
                        "2011-04-14T00:00:00",
                        "2011-04-21T00:00:00",
                        "2011-04-28T00:00:00",
                        "2011-05-05T00:00:00",
                        "2011-05-12T00:00:00",
                        "2011-05-19T00:00:00",
                        "2011-05-26T00:00:00",
                        "2011-06-02T00:00:00",
                        "2011-06-09T00:00:00",
                        "2011-06-16T00:00:00",
                        "2011-06-23T00:00:00",
                        "2011-06-30T00:00:00",
                        "2011-07-07T00:00:00",
                        "2011-07-14T00:00:00",
                        "2011-07-21T00:00:00",
                        "2011-07-28T00:00:00",
                        "2012-01-05T00:00:00",
                        "2012-01-12T00:00:00",
                        "2012-01-19T00:00:00",
                        "2012-01-26T00:00:00",
                        "2012-02-02T00:00:00",
                        "2012-02-09T00:00:00",
                        "2012-02-16T00:00:00",
                        "2012-02-23T00:00:00",
                        "2012-03-02T00:00:00",
                        "2012-03-09T00:00:00",
                        "2012-03-16T00:00:00",
                        "2012-03-23T00:00:00",
                        "2012-03-30T00:00:00",
                        "2012-04-06T00:00:00",
                        "2012-04-13T00:00:00"
                      ],
                      "y": [
                        97,
                        84,
                        69,
                        64,
                        41,
                        26,
                        13,
                        18,
                        25,
                        26,
                        17,
                        10,
                        10,
                        6,
                        2,
                        2,
                        1,
                        1,
                        1,
                        1,
                        1,
                        1,
                        1,
                        2,
                        3,
                        3,
                        4,
                        35,
                        30,
                        36,
                        40,
                        41,
                        43,
                        44,
                        17,
                        5,
                        23,
                        32,
                        30,
                        33,
                        43,
                        49
                      ]
                    },
                    {
                      "hovertemplate": "%{x}: %{y} <br>Song: %{text}",
                      "mode": "lines+markers",
                      "name": "Set Fire To The Rain",
                      "text": [
                        "Set Fire To The Rain",
                        "Set Fire To The Rain",
                        "Set Fire To The Rain",
                        "Set Fire To The Rain",
                        "Set Fire To The Rain",
                        "Set Fire To The Rain",
                        "Set Fire To The Rain",
                        "Set Fire To The Rain",
                        "Set Fire To The Rain",
                        "Set Fire To The Rain",
                        "Set Fire To The Rain",
                        "Set Fire To The Rain",
                        "Set Fire To The Rain",
                        "Set Fire To The Rain",
                        "Set Fire To The Rain",
                        "Set Fire To The Rain",
                        "Set Fire To The Rain",
                        "Set Fire To The Rain",
                        "Set Fire To The Rain",
                        "Set Fire To The Rain",
                        "Set Fire To The Rain",
                        "Set Fire To The Rain"
                      ],
                      "type": "scatter",
                      "x": [
                        "2011-03-10T00:00:00",
                        "2012-01-05T00:00:00",
                        "2012-01-12T00:00:00",
                        "2012-01-19T00:00:00",
                        "2012-01-26T00:00:00",
                        "2012-02-02T00:00:00",
                        "2012-02-09T00:00:00",
                        "2012-02-16T00:00:00",
                        "2012-02-23T00:00:00",
                        "2012-03-02T00:00:00",
                        "2012-03-09T00:00:00",
                        "2012-03-16T00:00:00",
                        "2012-03-23T00:00:00",
                        "2012-03-30T00:00:00",
                        "2012-04-06T00:00:00",
                        "2012-04-13T00:00:00",
                        "2012-04-20T00:00:00",
                        "2012-04-27T00:00:00",
                        "2012-05-04T00:00:00",
                        "2012-05-11T00:00:00",
                        "2012-05-18T00:00:00",
                        "2012-05-25T00:00:00"
                      ],
                      "y": [
                        88,
                        7,
                        8,
                        4,
                        2,
                        1,
                        1,
                        2,
                        2,
                        2,
                        2,
                        3,
                        3,
                        4,
                        6,
                        12,
                        15,
                        17,
                        18,
                        22,
                        21,
                        29
                      ]
                    },
                    {
                      "hovertemplate": "%{x}: %{y} <br>Song: %{text}",
                      "mode": "lines+markers",
                      "name": "Someone Like You",
                      "text": [
                        "Someone Like You",
                        "Someone Like You",
                        "Someone Like You",
                        "Someone Like You",
                        "Someone Like You",
                        "Someone Like You",
                        "Someone Like You",
                        "Someone Like You",
                        "Someone Like You",
                        "Someone Like You",
                        "Someone Like You",
                        "Someone Like You",
                        "Someone Like You",
                        "Someone Like You",
                        "Someone Like You",
                        "Someone Like You",
                        "Someone Like You"
                      ],
                      "type": "scatter",
                      "x": [
                        "2011-03-10T00:00:00",
                        "2011-07-28T00:00:00",
                        "2012-01-05T00:00:00",
                        "2012-01-12T00:00:00",
                        "2012-01-19T00:00:00",
                        "2012-01-26T00:00:00",
                        "2012-02-02T00:00:00",
                        "2012-02-09T00:00:00",
                        "2012-02-16T00:00:00",
                        "2012-02-23T00:00:00",
                        "2012-03-02T00:00:00",
                        "2012-03-09T00:00:00",
                        "2012-03-16T00:00:00",
                        "2012-03-23T00:00:00",
                        "2012-03-30T00:00:00",
                        "2012-04-06T00:00:00",
                        "2012-04-13T00:00:00"
                      ],
                      "y": [
                        65,
                        97,
                        8,
                        9,
                        10,
                        16,
                        19,
                        21,
                        22,
                        11,
                        7,
                        21,
                        24,
                        29,
                        31,
                        39,
                        48
                      ]
                    },
                    {
                      "hovertemplate": "%{x}: %{y} <br>Song: %{text}",
                      "mode": "lines+markers",
                      "name": "Turning Tables",
                      "text": [
                        "Turning Tables",
                        "Turning Tables",
                        "Turning Tables"
                      ],
                      "type": "scatter",
                      "x": [
                        "2011-05-05T00:00:00",
                        "2011-05-12T00:00:00",
                        "2011-05-26T00:00:00"
                      ],
                      "y": [
                        63,
                        85,
                        96
                      ]
                    },
                    {
                      "hovertemplate": "%{x}: %{y} <br>Song: %{text}",
                      "mode": "lines+markers",
                      "name": "Rumour Has It",
                      "text": [
                        "Rumour Has It",
                        "Rumour Has It",
                        "Rumour Has It",
                        "Rumour Has It",
                        "Rumour Has It",
                        "Rumour Has It",
                        "Rumour Has It",
                        "Rumour Has It",
                        "Rumour Has It",
                        "Rumour Has It",
                        "Rumour Has It",
                        "Rumour Has It",
                        "Rumour Has It",
                        "Rumour Has It",
                        "Rumour Has It",
                        "Rumour Has It"
                      ],
                      "type": "scatter",
                      "x": [
                        "2012-01-05T00:00:00",
                        "2012-01-12T00:00:00",
                        "2012-01-19T00:00:00",
                        "2012-03-02T00:00:00",
                        "2012-03-09T00:00:00",
                        "2012-03-16T00:00:00",
                        "2012-03-23T00:00:00",
                        "2012-03-30T00:00:00",
                        "2012-04-06T00:00:00",
                        "2012-04-13T00:00:00",
                        "2012-04-20T00:00:00",
                        "2012-04-27T00:00:00",
                        "2012-05-04T00:00:00",
                        "2012-05-11T00:00:00",
                        "2012-05-18T00:00:00",
                        "2012-05-25T00:00:00"
                      ],
                      "y": [
                        78,
                        75,
                        95,
                        67,
                        51,
                        39,
                        57,
                        50,
                        44,
                        35,
                        23,
                        20,
                        16,
                        16,
                        16,
                        16
                      ]
                    }
                  ]
                },
                {
                  "data": [
                    {
                      "hovertemplate": "%{x}: %{y} <br>Song: %{text}",
                      "mode": "lines+markers",
                      "name": "Rolling In The Deep",
                      "text": [
                        "Rolling In The Deep",
                        "Rolling In The Deep",
                        "Rolling In The Deep",
                        "Rolling In The Deep",
                        "Rolling In The Deep",
                        "Rolling In The Deep",
                        "Rolling In The Deep",
                        "Rolling In The Deep",
                        "Rolling In The Deep",
                        "Rolling In The Deep",
                        "Rolling In The Deep",
                        "Rolling In The Deep",
                        "Rolling In The Deep",
                        "Rolling In The Deep",
                        "Rolling In The Deep",
                        "Rolling In The Deep",
                        "Rolling In The Deep",
                        "Rolling In The Deep",
                        "Rolling In The Deep",
                        "Rolling In The Deep",
                        "Rolling In The Deep",
                        "Rolling In The Deep",
                        "Rolling In The Deep",
                        "Rolling In The Deep",
                        "Rolling In The Deep",
                        "Rolling In The Deep",
                        "Rolling In The Deep",
                        "Rolling In The Deep",
                        "Rolling In The Deep",
                        "Rolling In The Deep",
                        "Rolling In The Deep",
                        "Rolling In The Deep",
                        "Rolling In The Deep",
                        "Rolling In The Deep",
                        "Rolling In The Deep",
                        "Rolling In The Deep",
                        "Rolling In The Deep",
                        "Rolling In The Deep",
                        "Rolling In The Deep",
                        "Rolling In The Deep",
                        "Rolling In The Deep",
                        "Rolling In The Deep"
                      ],
                      "type": "scatter",
                      "x": [
                        "2011-01-27T00:00:00",
                        "2011-02-03T00:00:00",
                        "2011-02-10T00:00:00",
                        "2011-02-17T00:00:00",
                        "2011-02-24T00:00:00",
                        "2011-03-03T00:00:00",
                        "2011-03-10T00:00:00",
                        "2011-03-17T00:00:00",
                        "2011-03-24T00:00:00",
                        "2011-03-31T00:00:00",
                        "2011-04-07T00:00:00",
                        "2011-04-14T00:00:00",
                        "2011-04-21T00:00:00",
                        "2011-04-28T00:00:00",
                        "2011-05-05T00:00:00",
                        "2011-05-12T00:00:00",
                        "2011-05-19T00:00:00",
                        "2011-05-26T00:00:00",
                        "2011-06-02T00:00:00",
                        "2011-06-09T00:00:00",
                        "2011-06-16T00:00:00",
                        "2011-06-23T00:00:00",
                        "2011-06-30T00:00:00",
                        "2011-07-07T00:00:00",
                        "2011-07-14T00:00:00",
                        "2011-07-21T00:00:00",
                        "2011-07-28T00:00:00",
                        "2012-01-05T00:00:00",
                        "2012-01-12T00:00:00",
                        "2012-01-19T00:00:00",
                        "2012-01-26T00:00:00",
                        "2012-02-02T00:00:00",
                        "2012-02-09T00:00:00",
                        "2012-02-16T00:00:00",
                        "2012-02-23T00:00:00",
                        "2012-03-02T00:00:00",
                        "2012-03-09T00:00:00",
                        "2012-03-16T00:00:00",
                        "2012-03-23T00:00:00",
                        "2012-03-30T00:00:00",
                        "2012-04-06T00:00:00",
                        "2012-04-13T00:00:00"
                      ],
                      "y": [
                        97,
                        84,
                        69,
                        64,
                        41,
                        26,
                        13,
                        18,
                        25,
                        26,
                        17,
                        10,
                        10,
                        6,
                        2,
                        2,
                        1,
                        1,
                        1,
                        1,
                        1,
                        1,
                        1,
                        2,
                        3,
                        3,
                        4,
                        35,
                        30,
                        36,
                        40,
                        41,
                        43,
                        44,
                        17,
                        5,
                        23,
                        32,
                        30,
                        33,
                        43,
                        49
                      ]
                    },
                    {
                      "hovertemplate": "%{x}: %{y} <br>Song: %{text}",
                      "mode": "lines+markers",
                      "name": "Set Fire To The Rain",
                      "text": [
                        "Set Fire To The Rain",
                        "Set Fire To The Rain",
                        "Set Fire To The Rain",
                        "Set Fire To The Rain",
                        "Set Fire To The Rain",
                        "Set Fire To The Rain",
                        "Set Fire To The Rain",
                        "Set Fire To The Rain",
                        "Set Fire To The Rain",
                        "Set Fire To The Rain",
                        "Set Fire To The Rain",
                        "Set Fire To The Rain",
                        "Set Fire To The Rain",
                        "Set Fire To The Rain",
                        "Set Fire To The Rain",
                        "Set Fire To The Rain",
                        "Set Fire To The Rain",
                        "Set Fire To The Rain",
                        "Set Fire To The Rain",
                        "Set Fire To The Rain",
                        "Set Fire To The Rain",
                        "Set Fire To The Rain",
                        "Set Fire To The Rain"
                      ],
                      "type": "scatter",
                      "x": [
                        "2011-03-10T00:00:00",
                        "2012-01-05T00:00:00",
                        "2012-01-12T00:00:00",
                        "2012-01-19T00:00:00",
                        "2012-01-26T00:00:00",
                        "2012-02-02T00:00:00",
                        "2012-02-09T00:00:00",
                        "2012-02-16T00:00:00",
                        "2012-02-23T00:00:00",
                        "2012-03-02T00:00:00",
                        "2012-03-09T00:00:00",
                        "2012-03-16T00:00:00",
                        "2012-03-23T00:00:00",
                        "2012-03-30T00:00:00",
                        "2012-04-06T00:00:00",
                        "2012-04-13T00:00:00",
                        "2012-04-20T00:00:00",
                        "2012-04-27T00:00:00",
                        "2012-05-04T00:00:00",
                        "2012-05-11T00:00:00",
                        "2012-05-18T00:00:00",
                        "2012-05-25T00:00:00",
                        "2012-06-01T00:00:00"
                      ],
                      "y": [
                        88,
                        7,
                        8,
                        4,
                        2,
                        1,
                        1,
                        2,
                        2,
                        2,
                        2,
                        3,
                        3,
                        4,
                        6,
                        12,
                        15,
                        17,
                        18,
                        22,
                        21,
                        29,
                        35
                      ]
                    },
                    {
                      "hovertemplate": "%{x}: %{y} <br>Song: %{text}",
                      "mode": "lines+markers",
                      "name": "Someone Like You",
                      "text": [
                        "Someone Like You",
                        "Someone Like You",
                        "Someone Like You",
                        "Someone Like You",
                        "Someone Like You",
                        "Someone Like You",
                        "Someone Like You",
                        "Someone Like You",
                        "Someone Like You",
                        "Someone Like You",
                        "Someone Like You",
                        "Someone Like You",
                        "Someone Like You",
                        "Someone Like You",
                        "Someone Like You",
                        "Someone Like You",
                        "Someone Like You"
                      ],
                      "type": "scatter",
                      "x": [
                        "2011-03-10T00:00:00",
                        "2011-07-28T00:00:00",
                        "2012-01-05T00:00:00",
                        "2012-01-12T00:00:00",
                        "2012-01-19T00:00:00",
                        "2012-01-26T00:00:00",
                        "2012-02-02T00:00:00",
                        "2012-02-09T00:00:00",
                        "2012-02-16T00:00:00",
                        "2012-02-23T00:00:00",
                        "2012-03-02T00:00:00",
                        "2012-03-09T00:00:00",
                        "2012-03-16T00:00:00",
                        "2012-03-23T00:00:00",
                        "2012-03-30T00:00:00",
                        "2012-04-06T00:00:00",
                        "2012-04-13T00:00:00"
                      ],
                      "y": [
                        65,
                        97,
                        8,
                        9,
                        10,
                        16,
                        19,
                        21,
                        22,
                        11,
                        7,
                        21,
                        24,
                        29,
                        31,
                        39,
                        48
                      ]
                    },
                    {
                      "hovertemplate": "%{x}: %{y} <br>Song: %{text}",
                      "mode": "lines+markers",
                      "name": "Turning Tables",
                      "text": [
                        "Turning Tables",
                        "Turning Tables",
                        "Turning Tables"
                      ],
                      "type": "scatter",
                      "x": [
                        "2011-05-05T00:00:00",
                        "2011-05-12T00:00:00",
                        "2011-05-26T00:00:00"
                      ],
                      "y": [
                        63,
                        85,
                        96
                      ]
                    },
                    {
                      "hovertemplate": "%{x}: %{y} <br>Song: %{text}",
                      "mode": "lines+markers",
                      "name": "Rumour Has It",
                      "text": [
                        "Rumour Has It",
                        "Rumour Has It",
                        "Rumour Has It",
                        "Rumour Has It",
                        "Rumour Has It",
                        "Rumour Has It",
                        "Rumour Has It",
                        "Rumour Has It",
                        "Rumour Has It",
                        "Rumour Has It",
                        "Rumour Has It",
                        "Rumour Has It",
                        "Rumour Has It",
                        "Rumour Has It",
                        "Rumour Has It",
                        "Rumour Has It",
                        "Rumour Has It"
                      ],
                      "type": "scatter",
                      "x": [
                        "2012-01-05T00:00:00",
                        "2012-01-12T00:00:00",
                        "2012-01-19T00:00:00",
                        "2012-03-02T00:00:00",
                        "2012-03-09T00:00:00",
                        "2012-03-16T00:00:00",
                        "2012-03-23T00:00:00",
                        "2012-03-30T00:00:00",
                        "2012-04-06T00:00:00",
                        "2012-04-13T00:00:00",
                        "2012-04-20T00:00:00",
                        "2012-04-27T00:00:00",
                        "2012-05-04T00:00:00",
                        "2012-05-11T00:00:00",
                        "2012-05-18T00:00:00",
                        "2012-05-25T00:00:00",
                        "2012-06-01T00:00:00"
                      ],
                      "y": [
                        78,
                        75,
                        95,
                        67,
                        51,
                        39,
                        57,
                        50,
                        44,
                        35,
                        23,
                        20,
                        16,
                        16,
                        16,
                        16,
                        21
                      ]
                    }
                  ]
                },
                {
                  "data": [
                    {
                      "hovertemplate": "%{x}: %{y} <br>Song: %{text}",
                      "mode": "lines+markers",
                      "name": "Rolling In The Deep",
                      "text": [
                        "Rolling In The Deep",
                        "Rolling In The Deep",
                        "Rolling In The Deep",
                        "Rolling In The Deep",
                        "Rolling In The Deep",
                        "Rolling In The Deep",
                        "Rolling In The Deep",
                        "Rolling In The Deep",
                        "Rolling In The Deep",
                        "Rolling In The Deep",
                        "Rolling In The Deep",
                        "Rolling In The Deep",
                        "Rolling In The Deep",
                        "Rolling In The Deep",
                        "Rolling In The Deep",
                        "Rolling In The Deep",
                        "Rolling In The Deep",
                        "Rolling In The Deep",
                        "Rolling In The Deep",
                        "Rolling In The Deep",
                        "Rolling In The Deep",
                        "Rolling In The Deep",
                        "Rolling In The Deep",
                        "Rolling In The Deep",
                        "Rolling In The Deep",
                        "Rolling In The Deep",
                        "Rolling In The Deep",
                        "Rolling In The Deep",
                        "Rolling In The Deep",
                        "Rolling In The Deep",
                        "Rolling In The Deep",
                        "Rolling In The Deep",
                        "Rolling In The Deep",
                        "Rolling In The Deep",
                        "Rolling In The Deep",
                        "Rolling In The Deep",
                        "Rolling In The Deep",
                        "Rolling In The Deep",
                        "Rolling In The Deep",
                        "Rolling In The Deep",
                        "Rolling In The Deep",
                        "Rolling In The Deep"
                      ],
                      "type": "scatter",
                      "x": [
                        "2011-01-27T00:00:00",
                        "2011-02-03T00:00:00",
                        "2011-02-10T00:00:00",
                        "2011-02-17T00:00:00",
                        "2011-02-24T00:00:00",
                        "2011-03-03T00:00:00",
                        "2011-03-10T00:00:00",
                        "2011-03-17T00:00:00",
                        "2011-03-24T00:00:00",
                        "2011-03-31T00:00:00",
                        "2011-04-07T00:00:00",
                        "2011-04-14T00:00:00",
                        "2011-04-21T00:00:00",
                        "2011-04-28T00:00:00",
                        "2011-05-05T00:00:00",
                        "2011-05-12T00:00:00",
                        "2011-05-19T00:00:00",
                        "2011-05-26T00:00:00",
                        "2011-06-02T00:00:00",
                        "2011-06-09T00:00:00",
                        "2011-06-16T00:00:00",
                        "2011-06-23T00:00:00",
                        "2011-06-30T00:00:00",
                        "2011-07-07T00:00:00",
                        "2011-07-14T00:00:00",
                        "2011-07-21T00:00:00",
                        "2011-07-28T00:00:00",
                        "2012-01-05T00:00:00",
                        "2012-01-12T00:00:00",
                        "2012-01-19T00:00:00",
                        "2012-01-26T00:00:00",
                        "2012-02-02T00:00:00",
                        "2012-02-09T00:00:00",
                        "2012-02-16T00:00:00",
                        "2012-02-23T00:00:00",
                        "2012-03-02T00:00:00",
                        "2012-03-09T00:00:00",
                        "2012-03-16T00:00:00",
                        "2012-03-23T00:00:00",
                        "2012-03-30T00:00:00",
                        "2012-04-06T00:00:00",
                        "2012-04-13T00:00:00"
                      ],
                      "y": [
                        97,
                        84,
                        69,
                        64,
                        41,
                        26,
                        13,
                        18,
                        25,
                        26,
                        17,
                        10,
                        10,
                        6,
                        2,
                        2,
                        1,
                        1,
                        1,
                        1,
                        1,
                        1,
                        1,
                        2,
                        3,
                        3,
                        4,
                        35,
                        30,
                        36,
                        40,
                        41,
                        43,
                        44,
                        17,
                        5,
                        23,
                        32,
                        30,
                        33,
                        43,
                        49
                      ]
                    },
                    {
                      "hovertemplate": "%{x}: %{y} <br>Song: %{text}",
                      "mode": "lines+markers",
                      "name": "Set Fire To The Rain",
                      "text": [
                        "Set Fire To The Rain",
                        "Set Fire To The Rain",
                        "Set Fire To The Rain",
                        "Set Fire To The Rain",
                        "Set Fire To The Rain",
                        "Set Fire To The Rain",
                        "Set Fire To The Rain",
                        "Set Fire To The Rain",
                        "Set Fire To The Rain",
                        "Set Fire To The Rain",
                        "Set Fire To The Rain",
                        "Set Fire To The Rain",
                        "Set Fire To The Rain",
                        "Set Fire To The Rain",
                        "Set Fire To The Rain",
                        "Set Fire To The Rain",
                        "Set Fire To The Rain",
                        "Set Fire To The Rain",
                        "Set Fire To The Rain",
                        "Set Fire To The Rain",
                        "Set Fire To The Rain",
                        "Set Fire To The Rain",
                        "Set Fire To The Rain",
                        "Set Fire To The Rain"
                      ],
                      "type": "scatter",
                      "x": [
                        "2011-03-10T00:00:00",
                        "2012-01-05T00:00:00",
                        "2012-01-12T00:00:00",
                        "2012-01-19T00:00:00",
                        "2012-01-26T00:00:00",
                        "2012-02-02T00:00:00",
                        "2012-02-09T00:00:00",
                        "2012-02-16T00:00:00",
                        "2012-02-23T00:00:00",
                        "2012-03-02T00:00:00",
                        "2012-03-09T00:00:00",
                        "2012-03-16T00:00:00",
                        "2012-03-23T00:00:00",
                        "2012-03-30T00:00:00",
                        "2012-04-06T00:00:00",
                        "2012-04-13T00:00:00",
                        "2012-04-20T00:00:00",
                        "2012-04-27T00:00:00",
                        "2012-05-04T00:00:00",
                        "2012-05-11T00:00:00",
                        "2012-05-18T00:00:00",
                        "2012-05-25T00:00:00",
                        "2012-06-01T00:00:00",
                        "2012-06-08T00:00:00"
                      ],
                      "y": [
                        88,
                        7,
                        8,
                        4,
                        2,
                        1,
                        1,
                        2,
                        2,
                        2,
                        2,
                        3,
                        3,
                        4,
                        6,
                        12,
                        15,
                        17,
                        18,
                        22,
                        21,
                        29,
                        35,
                        38
                      ]
                    },
                    {
                      "hovertemplate": "%{x}: %{y} <br>Song: %{text}",
                      "mode": "lines+markers",
                      "name": "Someone Like You",
                      "text": [
                        "Someone Like You",
                        "Someone Like You",
                        "Someone Like You",
                        "Someone Like You",
                        "Someone Like You",
                        "Someone Like You",
                        "Someone Like You",
                        "Someone Like You",
                        "Someone Like You",
                        "Someone Like You",
                        "Someone Like You",
                        "Someone Like You",
                        "Someone Like You",
                        "Someone Like You",
                        "Someone Like You",
                        "Someone Like You",
                        "Someone Like You"
                      ],
                      "type": "scatter",
                      "x": [
                        "2011-03-10T00:00:00",
                        "2011-07-28T00:00:00",
                        "2012-01-05T00:00:00",
                        "2012-01-12T00:00:00",
                        "2012-01-19T00:00:00",
                        "2012-01-26T00:00:00",
                        "2012-02-02T00:00:00",
                        "2012-02-09T00:00:00",
                        "2012-02-16T00:00:00",
                        "2012-02-23T00:00:00",
                        "2012-03-02T00:00:00",
                        "2012-03-09T00:00:00",
                        "2012-03-16T00:00:00",
                        "2012-03-23T00:00:00",
                        "2012-03-30T00:00:00",
                        "2012-04-06T00:00:00",
                        "2012-04-13T00:00:00"
                      ],
                      "y": [
                        65,
                        97,
                        8,
                        9,
                        10,
                        16,
                        19,
                        21,
                        22,
                        11,
                        7,
                        21,
                        24,
                        29,
                        31,
                        39,
                        48
                      ]
                    },
                    {
                      "hovertemplate": "%{x}: %{y} <br>Song: %{text}",
                      "mode": "lines+markers",
                      "name": "Turning Tables",
                      "text": [
                        "Turning Tables",
                        "Turning Tables",
                        "Turning Tables"
                      ],
                      "type": "scatter",
                      "x": [
                        "2011-05-05T00:00:00",
                        "2011-05-12T00:00:00",
                        "2011-05-26T00:00:00"
                      ],
                      "y": [
                        63,
                        85,
                        96
                      ]
                    },
                    {
                      "hovertemplate": "%{x}: %{y} <br>Song: %{text}",
                      "mode": "lines+markers",
                      "name": "Rumour Has It",
                      "text": [
                        "Rumour Has It",
                        "Rumour Has It",
                        "Rumour Has It",
                        "Rumour Has It",
                        "Rumour Has It",
                        "Rumour Has It",
                        "Rumour Has It",
                        "Rumour Has It",
                        "Rumour Has It",
                        "Rumour Has It",
                        "Rumour Has It",
                        "Rumour Has It",
                        "Rumour Has It",
                        "Rumour Has It",
                        "Rumour Has It",
                        "Rumour Has It",
                        "Rumour Has It",
                        "Rumour Has It"
                      ],
                      "type": "scatter",
                      "x": [
                        "2012-01-05T00:00:00",
                        "2012-01-12T00:00:00",
                        "2012-01-19T00:00:00",
                        "2012-03-02T00:00:00",
                        "2012-03-09T00:00:00",
                        "2012-03-16T00:00:00",
                        "2012-03-23T00:00:00",
                        "2012-03-30T00:00:00",
                        "2012-04-06T00:00:00",
                        "2012-04-13T00:00:00",
                        "2012-04-20T00:00:00",
                        "2012-04-27T00:00:00",
                        "2012-05-04T00:00:00",
                        "2012-05-11T00:00:00",
                        "2012-05-18T00:00:00",
                        "2012-05-25T00:00:00",
                        "2012-06-01T00:00:00",
                        "2012-06-08T00:00:00"
                      ],
                      "y": [
                        78,
                        75,
                        95,
                        67,
                        51,
                        39,
                        57,
                        50,
                        44,
                        35,
                        23,
                        20,
                        16,
                        16,
                        16,
                        16,
                        21,
                        26
                      ]
                    }
                  ]
                },
                {
                  "data": [
                    {
                      "hovertemplate": "%{x}: %{y} <br>Song: %{text}",
                      "mode": "lines+markers",
                      "name": "Rolling In The Deep",
                      "text": [
                        "Rolling In The Deep",
                        "Rolling In The Deep",
                        "Rolling In The Deep",
                        "Rolling In The Deep",
                        "Rolling In The Deep",
                        "Rolling In The Deep",
                        "Rolling In The Deep",
                        "Rolling In The Deep",
                        "Rolling In The Deep",
                        "Rolling In The Deep",
                        "Rolling In The Deep",
                        "Rolling In The Deep",
                        "Rolling In The Deep",
                        "Rolling In The Deep",
                        "Rolling In The Deep",
                        "Rolling In The Deep",
                        "Rolling In The Deep",
                        "Rolling In The Deep",
                        "Rolling In The Deep",
                        "Rolling In The Deep",
                        "Rolling In The Deep",
                        "Rolling In The Deep",
                        "Rolling In The Deep",
                        "Rolling In The Deep",
                        "Rolling In The Deep",
                        "Rolling In The Deep",
                        "Rolling In The Deep",
                        "Rolling In The Deep",
                        "Rolling In The Deep",
                        "Rolling In The Deep",
                        "Rolling In The Deep",
                        "Rolling In The Deep",
                        "Rolling In The Deep",
                        "Rolling In The Deep",
                        "Rolling In The Deep",
                        "Rolling In The Deep",
                        "Rolling In The Deep",
                        "Rolling In The Deep",
                        "Rolling In The Deep",
                        "Rolling In The Deep",
                        "Rolling In The Deep",
                        "Rolling In The Deep"
                      ],
                      "type": "scatter",
                      "x": [
                        "2011-01-27T00:00:00",
                        "2011-02-03T00:00:00",
                        "2011-02-10T00:00:00",
                        "2011-02-17T00:00:00",
                        "2011-02-24T00:00:00",
                        "2011-03-03T00:00:00",
                        "2011-03-10T00:00:00",
                        "2011-03-17T00:00:00",
                        "2011-03-24T00:00:00",
                        "2011-03-31T00:00:00",
                        "2011-04-07T00:00:00",
                        "2011-04-14T00:00:00",
                        "2011-04-21T00:00:00",
                        "2011-04-28T00:00:00",
                        "2011-05-05T00:00:00",
                        "2011-05-12T00:00:00",
                        "2011-05-19T00:00:00",
                        "2011-05-26T00:00:00",
                        "2011-06-02T00:00:00",
                        "2011-06-09T00:00:00",
                        "2011-06-16T00:00:00",
                        "2011-06-23T00:00:00",
                        "2011-06-30T00:00:00",
                        "2011-07-07T00:00:00",
                        "2011-07-14T00:00:00",
                        "2011-07-21T00:00:00",
                        "2011-07-28T00:00:00",
                        "2012-01-05T00:00:00",
                        "2012-01-12T00:00:00",
                        "2012-01-19T00:00:00",
                        "2012-01-26T00:00:00",
                        "2012-02-02T00:00:00",
                        "2012-02-09T00:00:00",
                        "2012-02-16T00:00:00",
                        "2012-02-23T00:00:00",
                        "2012-03-02T00:00:00",
                        "2012-03-09T00:00:00",
                        "2012-03-16T00:00:00",
                        "2012-03-23T00:00:00",
                        "2012-03-30T00:00:00",
                        "2012-04-06T00:00:00",
                        "2012-04-13T00:00:00"
                      ],
                      "y": [
                        97,
                        84,
                        69,
                        64,
                        41,
                        26,
                        13,
                        18,
                        25,
                        26,
                        17,
                        10,
                        10,
                        6,
                        2,
                        2,
                        1,
                        1,
                        1,
                        1,
                        1,
                        1,
                        1,
                        2,
                        3,
                        3,
                        4,
                        35,
                        30,
                        36,
                        40,
                        41,
                        43,
                        44,
                        17,
                        5,
                        23,
                        32,
                        30,
                        33,
                        43,
                        49
                      ]
                    },
                    {
                      "hovertemplate": "%{x}: %{y} <br>Song: %{text}",
                      "mode": "lines+markers",
                      "name": "Set Fire To The Rain",
                      "text": [
                        "Set Fire To The Rain",
                        "Set Fire To The Rain",
                        "Set Fire To The Rain",
                        "Set Fire To The Rain",
                        "Set Fire To The Rain",
                        "Set Fire To The Rain",
                        "Set Fire To The Rain",
                        "Set Fire To The Rain",
                        "Set Fire To The Rain",
                        "Set Fire To The Rain",
                        "Set Fire To The Rain",
                        "Set Fire To The Rain",
                        "Set Fire To The Rain",
                        "Set Fire To The Rain",
                        "Set Fire To The Rain",
                        "Set Fire To The Rain",
                        "Set Fire To The Rain",
                        "Set Fire To The Rain",
                        "Set Fire To The Rain",
                        "Set Fire To The Rain",
                        "Set Fire To The Rain",
                        "Set Fire To The Rain",
                        "Set Fire To The Rain",
                        "Set Fire To The Rain",
                        "Set Fire To The Rain"
                      ],
                      "type": "scatter",
                      "x": [
                        "2011-03-10T00:00:00",
                        "2012-01-05T00:00:00",
                        "2012-01-12T00:00:00",
                        "2012-01-19T00:00:00",
                        "2012-01-26T00:00:00",
                        "2012-02-02T00:00:00",
                        "2012-02-09T00:00:00",
                        "2012-02-16T00:00:00",
                        "2012-02-23T00:00:00",
                        "2012-03-02T00:00:00",
                        "2012-03-09T00:00:00",
                        "2012-03-16T00:00:00",
                        "2012-03-23T00:00:00",
                        "2012-03-30T00:00:00",
                        "2012-04-06T00:00:00",
                        "2012-04-13T00:00:00",
                        "2012-04-20T00:00:00",
                        "2012-04-27T00:00:00",
                        "2012-05-04T00:00:00",
                        "2012-05-11T00:00:00",
                        "2012-05-18T00:00:00",
                        "2012-05-25T00:00:00",
                        "2012-06-01T00:00:00",
                        "2012-06-08T00:00:00",
                        "2012-06-15T00:00:00"
                      ],
                      "y": [
                        88,
                        7,
                        8,
                        4,
                        2,
                        1,
                        1,
                        2,
                        2,
                        2,
                        2,
                        3,
                        3,
                        4,
                        6,
                        12,
                        15,
                        17,
                        18,
                        22,
                        21,
                        29,
                        35,
                        38,
                        35
                      ]
                    },
                    {
                      "hovertemplate": "%{x}: %{y} <br>Song: %{text}",
                      "mode": "lines+markers",
                      "name": "Someone Like You",
                      "text": [
                        "Someone Like You",
                        "Someone Like You",
                        "Someone Like You",
                        "Someone Like You",
                        "Someone Like You",
                        "Someone Like You",
                        "Someone Like You",
                        "Someone Like You",
                        "Someone Like You",
                        "Someone Like You",
                        "Someone Like You",
                        "Someone Like You",
                        "Someone Like You",
                        "Someone Like You",
                        "Someone Like You",
                        "Someone Like You",
                        "Someone Like You"
                      ],
                      "type": "scatter",
                      "x": [
                        "2011-03-10T00:00:00",
                        "2011-07-28T00:00:00",
                        "2012-01-05T00:00:00",
                        "2012-01-12T00:00:00",
                        "2012-01-19T00:00:00",
                        "2012-01-26T00:00:00",
                        "2012-02-02T00:00:00",
                        "2012-02-09T00:00:00",
                        "2012-02-16T00:00:00",
                        "2012-02-23T00:00:00",
                        "2012-03-02T00:00:00",
                        "2012-03-09T00:00:00",
                        "2012-03-16T00:00:00",
                        "2012-03-23T00:00:00",
                        "2012-03-30T00:00:00",
                        "2012-04-06T00:00:00",
                        "2012-04-13T00:00:00"
                      ],
                      "y": [
                        65,
                        97,
                        8,
                        9,
                        10,
                        16,
                        19,
                        21,
                        22,
                        11,
                        7,
                        21,
                        24,
                        29,
                        31,
                        39,
                        48
                      ]
                    },
                    {
                      "hovertemplate": "%{x}: %{y} <br>Song: %{text}",
                      "mode": "lines+markers",
                      "name": "Turning Tables",
                      "text": [
                        "Turning Tables",
                        "Turning Tables",
                        "Turning Tables"
                      ],
                      "type": "scatter",
                      "x": [
                        "2011-05-05T00:00:00",
                        "2011-05-12T00:00:00",
                        "2011-05-26T00:00:00"
                      ],
                      "y": [
                        63,
                        85,
                        96
                      ]
                    },
                    {
                      "hovertemplate": "%{x}: %{y} <br>Song: %{text}",
                      "mode": "lines+markers",
                      "name": "Rumour Has It",
                      "text": [
                        "Rumour Has It",
                        "Rumour Has It",
                        "Rumour Has It",
                        "Rumour Has It",
                        "Rumour Has It",
                        "Rumour Has It",
                        "Rumour Has It",
                        "Rumour Has It",
                        "Rumour Has It",
                        "Rumour Has It",
                        "Rumour Has It",
                        "Rumour Has It",
                        "Rumour Has It",
                        "Rumour Has It",
                        "Rumour Has It",
                        "Rumour Has It",
                        "Rumour Has It",
                        "Rumour Has It",
                        "Rumour Has It"
                      ],
                      "type": "scatter",
                      "x": [
                        "2012-01-05T00:00:00",
                        "2012-01-12T00:00:00",
                        "2012-01-19T00:00:00",
                        "2012-03-02T00:00:00",
                        "2012-03-09T00:00:00",
                        "2012-03-16T00:00:00",
                        "2012-03-23T00:00:00",
                        "2012-03-30T00:00:00",
                        "2012-04-06T00:00:00",
                        "2012-04-13T00:00:00",
                        "2012-04-20T00:00:00",
                        "2012-04-27T00:00:00",
                        "2012-05-04T00:00:00",
                        "2012-05-11T00:00:00",
                        "2012-05-18T00:00:00",
                        "2012-05-25T00:00:00",
                        "2012-06-01T00:00:00",
                        "2012-06-08T00:00:00",
                        "2012-06-15T00:00:00"
                      ],
                      "y": [
                        78,
                        75,
                        95,
                        67,
                        51,
                        39,
                        57,
                        50,
                        44,
                        35,
                        23,
                        20,
                        16,
                        16,
                        16,
                        16,
                        21,
                        26,
                        30
                      ]
                    }
                  ]
                },
                {
                  "data": [
                    {
                      "hovertemplate": "%{x}: %{y} <br>Song: %{text}",
                      "mode": "lines+markers",
                      "name": "Rolling In The Deep",
                      "text": [
                        "Rolling In The Deep",
                        "Rolling In The Deep",
                        "Rolling In The Deep",
                        "Rolling In The Deep",
                        "Rolling In The Deep",
                        "Rolling In The Deep",
                        "Rolling In The Deep",
                        "Rolling In The Deep",
                        "Rolling In The Deep",
                        "Rolling In The Deep",
                        "Rolling In The Deep",
                        "Rolling In The Deep",
                        "Rolling In The Deep",
                        "Rolling In The Deep",
                        "Rolling In The Deep",
                        "Rolling In The Deep",
                        "Rolling In The Deep",
                        "Rolling In The Deep",
                        "Rolling In The Deep",
                        "Rolling In The Deep",
                        "Rolling In The Deep",
                        "Rolling In The Deep",
                        "Rolling In The Deep",
                        "Rolling In The Deep",
                        "Rolling In The Deep",
                        "Rolling In The Deep",
                        "Rolling In The Deep",
                        "Rolling In The Deep",
                        "Rolling In The Deep",
                        "Rolling In The Deep",
                        "Rolling In The Deep",
                        "Rolling In The Deep",
                        "Rolling In The Deep",
                        "Rolling In The Deep",
                        "Rolling In The Deep",
                        "Rolling In The Deep",
                        "Rolling In The Deep",
                        "Rolling In The Deep",
                        "Rolling In The Deep",
                        "Rolling In The Deep",
                        "Rolling In The Deep",
                        "Rolling In The Deep"
                      ],
                      "type": "scatter",
                      "x": [
                        "2011-01-27T00:00:00",
                        "2011-02-03T00:00:00",
                        "2011-02-10T00:00:00",
                        "2011-02-17T00:00:00",
                        "2011-02-24T00:00:00",
                        "2011-03-03T00:00:00",
                        "2011-03-10T00:00:00",
                        "2011-03-17T00:00:00",
                        "2011-03-24T00:00:00",
                        "2011-03-31T00:00:00",
                        "2011-04-07T00:00:00",
                        "2011-04-14T00:00:00",
                        "2011-04-21T00:00:00",
                        "2011-04-28T00:00:00",
                        "2011-05-05T00:00:00",
                        "2011-05-12T00:00:00",
                        "2011-05-19T00:00:00",
                        "2011-05-26T00:00:00",
                        "2011-06-02T00:00:00",
                        "2011-06-09T00:00:00",
                        "2011-06-16T00:00:00",
                        "2011-06-23T00:00:00",
                        "2011-06-30T00:00:00",
                        "2011-07-07T00:00:00",
                        "2011-07-14T00:00:00",
                        "2011-07-21T00:00:00",
                        "2011-07-28T00:00:00",
                        "2012-01-05T00:00:00",
                        "2012-01-12T00:00:00",
                        "2012-01-19T00:00:00",
                        "2012-01-26T00:00:00",
                        "2012-02-02T00:00:00",
                        "2012-02-09T00:00:00",
                        "2012-02-16T00:00:00",
                        "2012-02-23T00:00:00",
                        "2012-03-02T00:00:00",
                        "2012-03-09T00:00:00",
                        "2012-03-16T00:00:00",
                        "2012-03-23T00:00:00",
                        "2012-03-30T00:00:00",
                        "2012-04-06T00:00:00",
                        "2012-04-13T00:00:00"
                      ],
                      "y": [
                        97,
                        84,
                        69,
                        64,
                        41,
                        26,
                        13,
                        18,
                        25,
                        26,
                        17,
                        10,
                        10,
                        6,
                        2,
                        2,
                        1,
                        1,
                        1,
                        1,
                        1,
                        1,
                        1,
                        2,
                        3,
                        3,
                        4,
                        35,
                        30,
                        36,
                        40,
                        41,
                        43,
                        44,
                        17,
                        5,
                        23,
                        32,
                        30,
                        33,
                        43,
                        49
                      ]
                    },
                    {
                      "hovertemplate": "%{x}: %{y} <br>Song: %{text}",
                      "mode": "lines+markers",
                      "name": "Set Fire To The Rain",
                      "text": [
                        "Set Fire To The Rain",
                        "Set Fire To The Rain",
                        "Set Fire To The Rain",
                        "Set Fire To The Rain",
                        "Set Fire To The Rain",
                        "Set Fire To The Rain",
                        "Set Fire To The Rain",
                        "Set Fire To The Rain",
                        "Set Fire To The Rain",
                        "Set Fire To The Rain",
                        "Set Fire To The Rain",
                        "Set Fire To The Rain",
                        "Set Fire To The Rain",
                        "Set Fire To The Rain",
                        "Set Fire To The Rain",
                        "Set Fire To The Rain",
                        "Set Fire To The Rain",
                        "Set Fire To The Rain",
                        "Set Fire To The Rain",
                        "Set Fire To The Rain",
                        "Set Fire To The Rain",
                        "Set Fire To The Rain",
                        "Set Fire To The Rain",
                        "Set Fire To The Rain",
                        "Set Fire To The Rain",
                        "Set Fire To The Rain"
                      ],
                      "type": "scatter",
                      "x": [
                        "2011-03-10T00:00:00",
                        "2012-01-05T00:00:00",
                        "2012-01-12T00:00:00",
                        "2012-01-19T00:00:00",
                        "2012-01-26T00:00:00",
                        "2012-02-02T00:00:00",
                        "2012-02-09T00:00:00",
                        "2012-02-16T00:00:00",
                        "2012-02-23T00:00:00",
                        "2012-03-02T00:00:00",
                        "2012-03-09T00:00:00",
                        "2012-03-16T00:00:00",
                        "2012-03-23T00:00:00",
                        "2012-03-30T00:00:00",
                        "2012-04-06T00:00:00",
                        "2012-04-13T00:00:00",
                        "2012-04-20T00:00:00",
                        "2012-04-27T00:00:00",
                        "2012-05-04T00:00:00",
                        "2012-05-11T00:00:00",
                        "2012-05-18T00:00:00",
                        "2012-05-25T00:00:00",
                        "2012-06-01T00:00:00",
                        "2012-06-08T00:00:00",
                        "2012-06-15T00:00:00",
                        "2012-06-22T00:00:00"
                      ],
                      "y": [
                        88,
                        7,
                        8,
                        4,
                        2,
                        1,
                        1,
                        2,
                        2,
                        2,
                        2,
                        3,
                        3,
                        4,
                        6,
                        12,
                        15,
                        17,
                        18,
                        22,
                        21,
                        29,
                        35,
                        38,
                        35,
                        43
                      ]
                    },
                    {
                      "hovertemplate": "%{x}: %{y} <br>Song: %{text}",
                      "mode": "lines+markers",
                      "name": "Someone Like You",
                      "text": [
                        "Someone Like You",
                        "Someone Like You",
                        "Someone Like You",
                        "Someone Like You",
                        "Someone Like You",
                        "Someone Like You",
                        "Someone Like You",
                        "Someone Like You",
                        "Someone Like You",
                        "Someone Like You",
                        "Someone Like You",
                        "Someone Like You",
                        "Someone Like You",
                        "Someone Like You",
                        "Someone Like You",
                        "Someone Like You",
                        "Someone Like You"
                      ],
                      "type": "scatter",
                      "x": [
                        "2011-03-10T00:00:00",
                        "2011-07-28T00:00:00",
                        "2012-01-05T00:00:00",
                        "2012-01-12T00:00:00",
                        "2012-01-19T00:00:00",
                        "2012-01-26T00:00:00",
                        "2012-02-02T00:00:00",
                        "2012-02-09T00:00:00",
                        "2012-02-16T00:00:00",
                        "2012-02-23T00:00:00",
                        "2012-03-02T00:00:00",
                        "2012-03-09T00:00:00",
                        "2012-03-16T00:00:00",
                        "2012-03-23T00:00:00",
                        "2012-03-30T00:00:00",
                        "2012-04-06T00:00:00",
                        "2012-04-13T00:00:00"
                      ],
                      "y": [
                        65,
                        97,
                        8,
                        9,
                        10,
                        16,
                        19,
                        21,
                        22,
                        11,
                        7,
                        21,
                        24,
                        29,
                        31,
                        39,
                        48
                      ]
                    },
                    {
                      "hovertemplate": "%{x}: %{y} <br>Song: %{text}",
                      "mode": "lines+markers",
                      "name": "Turning Tables",
                      "text": [
                        "Turning Tables",
                        "Turning Tables",
                        "Turning Tables"
                      ],
                      "type": "scatter",
                      "x": [
                        "2011-05-05T00:00:00",
                        "2011-05-12T00:00:00",
                        "2011-05-26T00:00:00"
                      ],
                      "y": [
                        63,
                        85,
                        96
                      ]
                    },
                    {
                      "hovertemplate": "%{x}: %{y} <br>Song: %{text}",
                      "mode": "lines+markers",
                      "name": "Rumour Has It",
                      "text": [
                        "Rumour Has It",
                        "Rumour Has It",
                        "Rumour Has It",
                        "Rumour Has It",
                        "Rumour Has It",
                        "Rumour Has It",
                        "Rumour Has It",
                        "Rumour Has It",
                        "Rumour Has It",
                        "Rumour Has It",
                        "Rumour Has It",
                        "Rumour Has It",
                        "Rumour Has It",
                        "Rumour Has It",
                        "Rumour Has It",
                        "Rumour Has It",
                        "Rumour Has It",
                        "Rumour Has It",
                        "Rumour Has It",
                        "Rumour Has It"
                      ],
                      "type": "scatter",
                      "x": [
                        "2012-01-05T00:00:00",
                        "2012-01-12T00:00:00",
                        "2012-01-19T00:00:00",
                        "2012-03-02T00:00:00",
                        "2012-03-09T00:00:00",
                        "2012-03-16T00:00:00",
                        "2012-03-23T00:00:00",
                        "2012-03-30T00:00:00",
                        "2012-04-06T00:00:00",
                        "2012-04-13T00:00:00",
                        "2012-04-20T00:00:00",
                        "2012-04-27T00:00:00",
                        "2012-05-04T00:00:00",
                        "2012-05-11T00:00:00",
                        "2012-05-18T00:00:00",
                        "2012-05-25T00:00:00",
                        "2012-06-01T00:00:00",
                        "2012-06-08T00:00:00",
                        "2012-06-15T00:00:00",
                        "2012-06-22T00:00:00"
                      ],
                      "y": [
                        78,
                        75,
                        95,
                        67,
                        51,
                        39,
                        57,
                        50,
                        44,
                        35,
                        23,
                        20,
                        16,
                        16,
                        16,
                        16,
                        21,
                        26,
                        30,
                        33
                      ]
                    }
                  ]
                },
                {
                  "data": [
                    {
                      "hovertemplate": "%{x}: %{y} <br>Song: %{text}",
                      "mode": "lines+markers",
                      "name": "Rolling In The Deep",
                      "text": [
                        "Rolling In The Deep",
                        "Rolling In The Deep",
                        "Rolling In The Deep",
                        "Rolling In The Deep",
                        "Rolling In The Deep",
                        "Rolling In The Deep",
                        "Rolling In The Deep",
                        "Rolling In The Deep",
                        "Rolling In The Deep",
                        "Rolling In The Deep",
                        "Rolling In The Deep",
                        "Rolling In The Deep",
                        "Rolling In The Deep",
                        "Rolling In The Deep",
                        "Rolling In The Deep",
                        "Rolling In The Deep",
                        "Rolling In The Deep",
                        "Rolling In The Deep",
                        "Rolling In The Deep",
                        "Rolling In The Deep",
                        "Rolling In The Deep",
                        "Rolling In The Deep",
                        "Rolling In The Deep",
                        "Rolling In The Deep",
                        "Rolling In The Deep",
                        "Rolling In The Deep",
                        "Rolling In The Deep",
                        "Rolling In The Deep",
                        "Rolling In The Deep",
                        "Rolling In The Deep",
                        "Rolling In The Deep",
                        "Rolling In The Deep",
                        "Rolling In The Deep",
                        "Rolling In The Deep",
                        "Rolling In The Deep",
                        "Rolling In The Deep",
                        "Rolling In The Deep",
                        "Rolling In The Deep",
                        "Rolling In The Deep",
                        "Rolling In The Deep",
                        "Rolling In The Deep",
                        "Rolling In The Deep"
                      ],
                      "type": "scatter",
                      "x": [
                        "2011-01-27T00:00:00",
                        "2011-02-03T00:00:00",
                        "2011-02-10T00:00:00",
                        "2011-02-17T00:00:00",
                        "2011-02-24T00:00:00",
                        "2011-03-03T00:00:00",
                        "2011-03-10T00:00:00",
                        "2011-03-17T00:00:00",
                        "2011-03-24T00:00:00",
                        "2011-03-31T00:00:00",
                        "2011-04-07T00:00:00",
                        "2011-04-14T00:00:00",
                        "2011-04-21T00:00:00",
                        "2011-04-28T00:00:00",
                        "2011-05-05T00:00:00",
                        "2011-05-12T00:00:00",
                        "2011-05-19T00:00:00",
                        "2011-05-26T00:00:00",
                        "2011-06-02T00:00:00",
                        "2011-06-09T00:00:00",
                        "2011-06-16T00:00:00",
                        "2011-06-23T00:00:00",
                        "2011-06-30T00:00:00",
                        "2011-07-07T00:00:00",
                        "2011-07-14T00:00:00",
                        "2011-07-21T00:00:00",
                        "2011-07-28T00:00:00",
                        "2012-01-05T00:00:00",
                        "2012-01-12T00:00:00",
                        "2012-01-19T00:00:00",
                        "2012-01-26T00:00:00",
                        "2012-02-02T00:00:00",
                        "2012-02-09T00:00:00",
                        "2012-02-16T00:00:00",
                        "2012-02-23T00:00:00",
                        "2012-03-02T00:00:00",
                        "2012-03-09T00:00:00",
                        "2012-03-16T00:00:00",
                        "2012-03-23T00:00:00",
                        "2012-03-30T00:00:00",
                        "2012-04-06T00:00:00",
                        "2012-04-13T00:00:00"
                      ],
                      "y": [
                        97,
                        84,
                        69,
                        64,
                        41,
                        26,
                        13,
                        18,
                        25,
                        26,
                        17,
                        10,
                        10,
                        6,
                        2,
                        2,
                        1,
                        1,
                        1,
                        1,
                        1,
                        1,
                        1,
                        2,
                        3,
                        3,
                        4,
                        35,
                        30,
                        36,
                        40,
                        41,
                        43,
                        44,
                        17,
                        5,
                        23,
                        32,
                        30,
                        33,
                        43,
                        49
                      ]
                    },
                    {
                      "hovertemplate": "%{x}: %{y} <br>Song: %{text}",
                      "mode": "lines+markers",
                      "name": "Set Fire To The Rain",
                      "text": [
                        "Set Fire To The Rain",
                        "Set Fire To The Rain",
                        "Set Fire To The Rain",
                        "Set Fire To The Rain",
                        "Set Fire To The Rain",
                        "Set Fire To The Rain",
                        "Set Fire To The Rain",
                        "Set Fire To The Rain",
                        "Set Fire To The Rain",
                        "Set Fire To The Rain",
                        "Set Fire To The Rain",
                        "Set Fire To The Rain",
                        "Set Fire To The Rain",
                        "Set Fire To The Rain",
                        "Set Fire To The Rain",
                        "Set Fire To The Rain",
                        "Set Fire To The Rain",
                        "Set Fire To The Rain",
                        "Set Fire To The Rain",
                        "Set Fire To The Rain",
                        "Set Fire To The Rain",
                        "Set Fire To The Rain",
                        "Set Fire To The Rain",
                        "Set Fire To The Rain",
                        "Set Fire To The Rain",
                        "Set Fire To The Rain",
                        "Set Fire To The Rain"
                      ],
                      "type": "scatter",
                      "x": [
                        "2011-03-10T00:00:00",
                        "2012-01-05T00:00:00",
                        "2012-01-12T00:00:00",
                        "2012-01-19T00:00:00",
                        "2012-01-26T00:00:00",
                        "2012-02-02T00:00:00",
                        "2012-02-09T00:00:00",
                        "2012-02-16T00:00:00",
                        "2012-02-23T00:00:00",
                        "2012-03-02T00:00:00",
                        "2012-03-09T00:00:00",
                        "2012-03-16T00:00:00",
                        "2012-03-23T00:00:00",
                        "2012-03-30T00:00:00",
                        "2012-04-06T00:00:00",
                        "2012-04-13T00:00:00",
                        "2012-04-20T00:00:00",
                        "2012-04-27T00:00:00",
                        "2012-05-04T00:00:00",
                        "2012-05-11T00:00:00",
                        "2012-05-18T00:00:00",
                        "2012-05-25T00:00:00",
                        "2012-06-01T00:00:00",
                        "2012-06-08T00:00:00",
                        "2012-06-15T00:00:00",
                        "2012-06-22T00:00:00",
                        "2012-06-29T00:00:00"
                      ],
                      "y": [
                        88,
                        7,
                        8,
                        4,
                        2,
                        1,
                        1,
                        2,
                        2,
                        2,
                        2,
                        3,
                        3,
                        4,
                        6,
                        12,
                        15,
                        17,
                        18,
                        22,
                        21,
                        29,
                        35,
                        38,
                        35,
                        43,
                        43
                      ]
                    },
                    {
                      "hovertemplate": "%{x}: %{y} <br>Song: %{text}",
                      "mode": "lines+markers",
                      "name": "Someone Like You",
                      "text": [
                        "Someone Like You",
                        "Someone Like You",
                        "Someone Like You",
                        "Someone Like You",
                        "Someone Like You",
                        "Someone Like You",
                        "Someone Like You",
                        "Someone Like You",
                        "Someone Like You",
                        "Someone Like You",
                        "Someone Like You",
                        "Someone Like You",
                        "Someone Like You",
                        "Someone Like You",
                        "Someone Like You",
                        "Someone Like You",
                        "Someone Like You"
                      ],
                      "type": "scatter",
                      "x": [
                        "2011-03-10T00:00:00",
                        "2011-07-28T00:00:00",
                        "2012-01-05T00:00:00",
                        "2012-01-12T00:00:00",
                        "2012-01-19T00:00:00",
                        "2012-01-26T00:00:00",
                        "2012-02-02T00:00:00",
                        "2012-02-09T00:00:00",
                        "2012-02-16T00:00:00",
                        "2012-02-23T00:00:00",
                        "2012-03-02T00:00:00",
                        "2012-03-09T00:00:00",
                        "2012-03-16T00:00:00",
                        "2012-03-23T00:00:00",
                        "2012-03-30T00:00:00",
                        "2012-04-06T00:00:00",
                        "2012-04-13T00:00:00"
                      ],
                      "y": [
                        65,
                        97,
                        8,
                        9,
                        10,
                        16,
                        19,
                        21,
                        22,
                        11,
                        7,
                        21,
                        24,
                        29,
                        31,
                        39,
                        48
                      ]
                    },
                    {
                      "hovertemplate": "%{x}: %{y} <br>Song: %{text}",
                      "mode": "lines+markers",
                      "name": "Turning Tables",
                      "text": [
                        "Turning Tables",
                        "Turning Tables",
                        "Turning Tables"
                      ],
                      "type": "scatter",
                      "x": [
                        "2011-05-05T00:00:00",
                        "2011-05-12T00:00:00",
                        "2011-05-26T00:00:00"
                      ],
                      "y": [
                        63,
                        85,
                        96
                      ]
                    },
                    {
                      "hovertemplate": "%{x}: %{y} <br>Song: %{text}",
                      "mode": "lines+markers",
                      "name": "Rumour Has It",
                      "text": [
                        "Rumour Has It",
                        "Rumour Has It",
                        "Rumour Has It",
                        "Rumour Has It",
                        "Rumour Has It",
                        "Rumour Has It",
                        "Rumour Has It",
                        "Rumour Has It",
                        "Rumour Has It",
                        "Rumour Has It",
                        "Rumour Has It",
                        "Rumour Has It",
                        "Rumour Has It",
                        "Rumour Has It",
                        "Rumour Has It",
                        "Rumour Has It",
                        "Rumour Has It",
                        "Rumour Has It",
                        "Rumour Has It",
                        "Rumour Has It",
                        "Rumour Has It"
                      ],
                      "type": "scatter",
                      "x": [
                        "2012-01-05T00:00:00",
                        "2012-01-12T00:00:00",
                        "2012-01-19T00:00:00",
                        "2012-03-02T00:00:00",
                        "2012-03-09T00:00:00",
                        "2012-03-16T00:00:00",
                        "2012-03-23T00:00:00",
                        "2012-03-30T00:00:00",
                        "2012-04-06T00:00:00",
                        "2012-04-13T00:00:00",
                        "2012-04-20T00:00:00",
                        "2012-04-27T00:00:00",
                        "2012-05-04T00:00:00",
                        "2012-05-11T00:00:00",
                        "2012-05-18T00:00:00",
                        "2012-05-25T00:00:00",
                        "2012-06-01T00:00:00",
                        "2012-06-08T00:00:00",
                        "2012-06-15T00:00:00",
                        "2012-06-22T00:00:00",
                        "2012-06-29T00:00:00"
                      ],
                      "y": [
                        78,
                        75,
                        95,
                        67,
                        51,
                        39,
                        57,
                        50,
                        44,
                        35,
                        23,
                        20,
                        16,
                        16,
                        16,
                        16,
                        21,
                        26,
                        30,
                        33,
                        38
                      ]
                    }
                  ]
                },
                {
                  "data": [
                    {
                      "hovertemplate": "%{x}: %{y} <br>Song: %{text}",
                      "mode": "lines+markers",
                      "name": "Rolling In The Deep",
                      "text": [
                        "Rolling In The Deep",
                        "Rolling In The Deep",
                        "Rolling In The Deep",
                        "Rolling In The Deep",
                        "Rolling In The Deep",
                        "Rolling In The Deep",
                        "Rolling In The Deep",
                        "Rolling In The Deep",
                        "Rolling In The Deep",
                        "Rolling In The Deep",
                        "Rolling In The Deep",
                        "Rolling In The Deep",
                        "Rolling In The Deep",
                        "Rolling In The Deep",
                        "Rolling In The Deep",
                        "Rolling In The Deep",
                        "Rolling In The Deep",
                        "Rolling In The Deep",
                        "Rolling In The Deep",
                        "Rolling In The Deep",
                        "Rolling In The Deep",
                        "Rolling In The Deep",
                        "Rolling In The Deep",
                        "Rolling In The Deep",
                        "Rolling In The Deep",
                        "Rolling In The Deep",
                        "Rolling In The Deep",
                        "Rolling In The Deep",
                        "Rolling In The Deep",
                        "Rolling In The Deep",
                        "Rolling In The Deep",
                        "Rolling In The Deep",
                        "Rolling In The Deep",
                        "Rolling In The Deep",
                        "Rolling In The Deep",
                        "Rolling In The Deep",
                        "Rolling In The Deep",
                        "Rolling In The Deep",
                        "Rolling In The Deep",
                        "Rolling In The Deep",
                        "Rolling In The Deep",
                        "Rolling In The Deep"
                      ],
                      "type": "scatter",
                      "x": [
                        "2011-01-27T00:00:00",
                        "2011-02-03T00:00:00",
                        "2011-02-10T00:00:00",
                        "2011-02-17T00:00:00",
                        "2011-02-24T00:00:00",
                        "2011-03-03T00:00:00",
                        "2011-03-10T00:00:00",
                        "2011-03-17T00:00:00",
                        "2011-03-24T00:00:00",
                        "2011-03-31T00:00:00",
                        "2011-04-07T00:00:00",
                        "2011-04-14T00:00:00",
                        "2011-04-21T00:00:00",
                        "2011-04-28T00:00:00",
                        "2011-05-05T00:00:00",
                        "2011-05-12T00:00:00",
                        "2011-05-19T00:00:00",
                        "2011-05-26T00:00:00",
                        "2011-06-02T00:00:00",
                        "2011-06-09T00:00:00",
                        "2011-06-16T00:00:00",
                        "2011-06-23T00:00:00",
                        "2011-06-30T00:00:00",
                        "2011-07-07T00:00:00",
                        "2011-07-14T00:00:00",
                        "2011-07-21T00:00:00",
                        "2011-07-28T00:00:00",
                        "2012-01-05T00:00:00",
                        "2012-01-12T00:00:00",
                        "2012-01-19T00:00:00",
                        "2012-01-26T00:00:00",
                        "2012-02-02T00:00:00",
                        "2012-02-09T00:00:00",
                        "2012-02-16T00:00:00",
                        "2012-02-23T00:00:00",
                        "2012-03-02T00:00:00",
                        "2012-03-09T00:00:00",
                        "2012-03-16T00:00:00",
                        "2012-03-23T00:00:00",
                        "2012-03-30T00:00:00",
                        "2012-04-06T00:00:00",
                        "2012-04-13T00:00:00"
                      ],
                      "y": [
                        97,
                        84,
                        69,
                        64,
                        41,
                        26,
                        13,
                        18,
                        25,
                        26,
                        17,
                        10,
                        10,
                        6,
                        2,
                        2,
                        1,
                        1,
                        1,
                        1,
                        1,
                        1,
                        1,
                        2,
                        3,
                        3,
                        4,
                        35,
                        30,
                        36,
                        40,
                        41,
                        43,
                        44,
                        17,
                        5,
                        23,
                        32,
                        30,
                        33,
                        43,
                        49
                      ]
                    },
                    {
                      "hovertemplate": "%{x}: %{y} <br>Song: %{text}",
                      "mode": "lines+markers",
                      "name": "Set Fire To The Rain",
                      "text": [
                        "Set Fire To The Rain",
                        "Set Fire To The Rain",
                        "Set Fire To The Rain",
                        "Set Fire To The Rain",
                        "Set Fire To The Rain",
                        "Set Fire To The Rain",
                        "Set Fire To The Rain",
                        "Set Fire To The Rain",
                        "Set Fire To The Rain",
                        "Set Fire To The Rain",
                        "Set Fire To The Rain",
                        "Set Fire To The Rain",
                        "Set Fire To The Rain",
                        "Set Fire To The Rain",
                        "Set Fire To The Rain",
                        "Set Fire To The Rain",
                        "Set Fire To The Rain",
                        "Set Fire To The Rain",
                        "Set Fire To The Rain",
                        "Set Fire To The Rain",
                        "Set Fire To The Rain",
                        "Set Fire To The Rain",
                        "Set Fire To The Rain",
                        "Set Fire To The Rain",
                        "Set Fire To The Rain",
                        "Set Fire To The Rain",
                        "Set Fire To The Rain",
                        "Set Fire To The Rain"
                      ],
                      "type": "scatter",
                      "x": [
                        "2011-03-10T00:00:00",
                        "2012-01-05T00:00:00",
                        "2012-01-12T00:00:00",
                        "2012-01-19T00:00:00",
                        "2012-01-26T00:00:00",
                        "2012-02-02T00:00:00",
                        "2012-02-09T00:00:00",
                        "2012-02-16T00:00:00",
                        "2012-02-23T00:00:00",
                        "2012-03-02T00:00:00",
                        "2012-03-09T00:00:00",
                        "2012-03-16T00:00:00",
                        "2012-03-23T00:00:00",
                        "2012-03-30T00:00:00",
                        "2012-04-06T00:00:00",
                        "2012-04-13T00:00:00",
                        "2012-04-20T00:00:00",
                        "2012-04-27T00:00:00",
                        "2012-05-04T00:00:00",
                        "2012-05-11T00:00:00",
                        "2012-05-18T00:00:00",
                        "2012-05-25T00:00:00",
                        "2012-06-01T00:00:00",
                        "2012-06-08T00:00:00",
                        "2012-06-15T00:00:00",
                        "2012-06-22T00:00:00",
                        "2012-06-29T00:00:00",
                        "2012-07-06T00:00:00"
                      ],
                      "y": [
                        88,
                        7,
                        8,
                        4,
                        2,
                        1,
                        1,
                        2,
                        2,
                        2,
                        2,
                        3,
                        3,
                        4,
                        6,
                        12,
                        15,
                        17,
                        18,
                        22,
                        21,
                        29,
                        35,
                        38,
                        35,
                        43,
                        43,
                        49
                      ]
                    },
                    {
                      "hovertemplate": "%{x}: %{y} <br>Song: %{text}",
                      "mode": "lines+markers",
                      "name": "Someone Like You",
                      "text": [
                        "Someone Like You",
                        "Someone Like You",
                        "Someone Like You",
                        "Someone Like You",
                        "Someone Like You",
                        "Someone Like You",
                        "Someone Like You",
                        "Someone Like You",
                        "Someone Like You",
                        "Someone Like You",
                        "Someone Like You",
                        "Someone Like You",
                        "Someone Like You",
                        "Someone Like You",
                        "Someone Like You",
                        "Someone Like You",
                        "Someone Like You"
                      ],
                      "type": "scatter",
                      "x": [
                        "2011-03-10T00:00:00",
                        "2011-07-28T00:00:00",
                        "2012-01-05T00:00:00",
                        "2012-01-12T00:00:00",
                        "2012-01-19T00:00:00",
                        "2012-01-26T00:00:00",
                        "2012-02-02T00:00:00",
                        "2012-02-09T00:00:00",
                        "2012-02-16T00:00:00",
                        "2012-02-23T00:00:00",
                        "2012-03-02T00:00:00",
                        "2012-03-09T00:00:00",
                        "2012-03-16T00:00:00",
                        "2012-03-23T00:00:00",
                        "2012-03-30T00:00:00",
                        "2012-04-06T00:00:00",
                        "2012-04-13T00:00:00"
                      ],
                      "y": [
                        65,
                        97,
                        8,
                        9,
                        10,
                        16,
                        19,
                        21,
                        22,
                        11,
                        7,
                        21,
                        24,
                        29,
                        31,
                        39,
                        48
                      ]
                    },
                    {
                      "hovertemplate": "%{x}: %{y} <br>Song: %{text}",
                      "mode": "lines+markers",
                      "name": "Turning Tables",
                      "text": [
                        "Turning Tables",
                        "Turning Tables",
                        "Turning Tables"
                      ],
                      "type": "scatter",
                      "x": [
                        "2011-05-05T00:00:00",
                        "2011-05-12T00:00:00",
                        "2011-05-26T00:00:00"
                      ],
                      "y": [
                        63,
                        85,
                        96
                      ]
                    },
                    {
                      "hovertemplate": "%{x}: %{y} <br>Song: %{text}",
                      "mode": "lines+markers",
                      "name": "Rumour Has It",
                      "text": [
                        "Rumour Has It",
                        "Rumour Has It",
                        "Rumour Has It",
                        "Rumour Has It",
                        "Rumour Has It",
                        "Rumour Has It",
                        "Rumour Has It",
                        "Rumour Has It",
                        "Rumour Has It",
                        "Rumour Has It",
                        "Rumour Has It",
                        "Rumour Has It",
                        "Rumour Has It",
                        "Rumour Has It",
                        "Rumour Has It",
                        "Rumour Has It",
                        "Rumour Has It",
                        "Rumour Has It",
                        "Rumour Has It",
                        "Rumour Has It",
                        "Rumour Has It"
                      ],
                      "type": "scatter",
                      "x": [
                        "2012-01-05T00:00:00",
                        "2012-01-12T00:00:00",
                        "2012-01-19T00:00:00",
                        "2012-03-02T00:00:00",
                        "2012-03-09T00:00:00",
                        "2012-03-16T00:00:00",
                        "2012-03-23T00:00:00",
                        "2012-03-30T00:00:00",
                        "2012-04-06T00:00:00",
                        "2012-04-13T00:00:00",
                        "2012-04-20T00:00:00",
                        "2012-04-27T00:00:00",
                        "2012-05-04T00:00:00",
                        "2012-05-11T00:00:00",
                        "2012-05-18T00:00:00",
                        "2012-05-25T00:00:00",
                        "2012-06-01T00:00:00",
                        "2012-06-08T00:00:00",
                        "2012-06-15T00:00:00",
                        "2012-06-22T00:00:00",
                        "2012-06-29T00:00:00"
                      ],
                      "y": [
                        78,
                        75,
                        95,
                        67,
                        51,
                        39,
                        57,
                        50,
                        44,
                        35,
                        23,
                        20,
                        16,
                        16,
                        16,
                        16,
                        21,
                        26,
                        30,
                        33,
                        38
                      ]
                    }
                  ]
                }
              ],
              "layout": {
                "showlegend": true,
                "template": {
                  "data": {
                    "bar": [
                      {
                        "error_x": {
                          "color": "#2a3f5f"
                        },
                        "error_y": {
                          "color": "#2a3f5f"
                        },
                        "marker": {
                          "line": {
                            "color": "#E5ECF6",
                            "width": 0.5
                          },
                          "pattern": {
                            "fillmode": "overlay",
                            "size": 10,
                            "solidity": 0.2
                          }
                        },
                        "type": "bar"
                      }
                    ],
                    "barpolar": [
                      {
                        "marker": {
                          "line": {
                            "color": "#E5ECF6",
                            "width": 0.5
                          },
                          "pattern": {
                            "fillmode": "overlay",
                            "size": 10,
                            "solidity": 0.2
                          }
                        },
                        "type": "barpolar"
                      }
                    ],
                    "carpet": [
                      {
                        "aaxis": {
                          "endlinecolor": "#2a3f5f",
                          "gridcolor": "white",
                          "linecolor": "white",
                          "minorgridcolor": "white",
                          "startlinecolor": "#2a3f5f"
                        },
                        "baxis": {
                          "endlinecolor": "#2a3f5f",
                          "gridcolor": "white",
                          "linecolor": "white",
                          "minorgridcolor": "white",
                          "startlinecolor": "#2a3f5f"
                        },
                        "type": "carpet"
                      }
                    ],
                    "choropleth": [
                      {
                        "colorbar": {
                          "outlinewidth": 0,
                          "ticks": ""
                        },
                        "type": "choropleth"
                      }
                    ],
                    "contour": [
                      {
                        "colorbar": {
                          "outlinewidth": 0,
                          "ticks": ""
                        },
                        "colorscale": [
                          [
                            0,
                            "#0d0887"
                          ],
                          [
                            0.1111111111111111,
                            "#46039f"
                          ],
                          [
                            0.2222222222222222,
                            "#7201a8"
                          ],
                          [
                            0.3333333333333333,
                            "#9c179e"
                          ],
                          [
                            0.4444444444444444,
                            "#bd3786"
                          ],
                          [
                            0.5555555555555556,
                            "#d8576b"
                          ],
                          [
                            0.6666666666666666,
                            "#ed7953"
                          ],
                          [
                            0.7777777777777778,
                            "#fb9f3a"
                          ],
                          [
                            0.8888888888888888,
                            "#fdca26"
                          ],
                          [
                            1,
                            "#f0f921"
                          ]
                        ],
                        "type": "contour"
                      }
                    ],
                    "contourcarpet": [
                      {
                        "colorbar": {
                          "outlinewidth": 0,
                          "ticks": ""
                        },
                        "type": "contourcarpet"
                      }
                    ],
                    "heatmap": [
                      {
                        "colorbar": {
                          "outlinewidth": 0,
                          "ticks": ""
                        },
                        "colorscale": [
                          [
                            0,
                            "#0d0887"
                          ],
                          [
                            0.1111111111111111,
                            "#46039f"
                          ],
                          [
                            0.2222222222222222,
                            "#7201a8"
                          ],
                          [
                            0.3333333333333333,
                            "#9c179e"
                          ],
                          [
                            0.4444444444444444,
                            "#bd3786"
                          ],
                          [
                            0.5555555555555556,
                            "#d8576b"
                          ],
                          [
                            0.6666666666666666,
                            "#ed7953"
                          ],
                          [
                            0.7777777777777778,
                            "#fb9f3a"
                          ],
                          [
                            0.8888888888888888,
                            "#fdca26"
                          ],
                          [
                            1,
                            "#f0f921"
                          ]
                        ],
                        "type": "heatmap"
                      }
                    ],
                    "heatmapgl": [
                      {
                        "colorbar": {
                          "outlinewidth": 0,
                          "ticks": ""
                        },
                        "colorscale": [
                          [
                            0,
                            "#0d0887"
                          ],
                          [
                            0.1111111111111111,
                            "#46039f"
                          ],
                          [
                            0.2222222222222222,
                            "#7201a8"
                          ],
                          [
                            0.3333333333333333,
                            "#9c179e"
                          ],
                          [
                            0.4444444444444444,
                            "#bd3786"
                          ],
                          [
                            0.5555555555555556,
                            "#d8576b"
                          ],
                          [
                            0.6666666666666666,
                            "#ed7953"
                          ],
                          [
                            0.7777777777777778,
                            "#fb9f3a"
                          ],
                          [
                            0.8888888888888888,
                            "#fdca26"
                          ],
                          [
                            1,
                            "#f0f921"
                          ]
                        ],
                        "type": "heatmapgl"
                      }
                    ],
                    "histogram": [
                      {
                        "marker": {
                          "pattern": {
                            "fillmode": "overlay",
                            "size": 10,
                            "solidity": 0.2
                          }
                        },
                        "type": "histogram"
                      }
                    ],
                    "histogram2d": [
                      {
                        "colorbar": {
                          "outlinewidth": 0,
                          "ticks": ""
                        },
                        "colorscale": [
                          [
                            0,
                            "#0d0887"
                          ],
                          [
                            0.1111111111111111,
                            "#46039f"
                          ],
                          [
                            0.2222222222222222,
                            "#7201a8"
                          ],
                          [
                            0.3333333333333333,
                            "#9c179e"
                          ],
                          [
                            0.4444444444444444,
                            "#bd3786"
                          ],
                          [
                            0.5555555555555556,
                            "#d8576b"
                          ],
                          [
                            0.6666666666666666,
                            "#ed7953"
                          ],
                          [
                            0.7777777777777778,
                            "#fb9f3a"
                          ],
                          [
                            0.8888888888888888,
                            "#fdca26"
                          ],
                          [
                            1,
                            "#f0f921"
                          ]
                        ],
                        "type": "histogram2d"
                      }
                    ],
                    "histogram2dcontour": [
                      {
                        "colorbar": {
                          "outlinewidth": 0,
                          "ticks": ""
                        },
                        "colorscale": [
                          [
                            0,
                            "#0d0887"
                          ],
                          [
                            0.1111111111111111,
                            "#46039f"
                          ],
                          [
                            0.2222222222222222,
                            "#7201a8"
                          ],
                          [
                            0.3333333333333333,
                            "#9c179e"
                          ],
                          [
                            0.4444444444444444,
                            "#bd3786"
                          ],
                          [
                            0.5555555555555556,
                            "#d8576b"
                          ],
                          [
                            0.6666666666666666,
                            "#ed7953"
                          ],
                          [
                            0.7777777777777778,
                            "#fb9f3a"
                          ],
                          [
                            0.8888888888888888,
                            "#fdca26"
                          ],
                          [
                            1,
                            "#f0f921"
                          ]
                        ],
                        "type": "histogram2dcontour"
                      }
                    ],
                    "mesh3d": [
                      {
                        "colorbar": {
                          "outlinewidth": 0,
                          "ticks": ""
                        },
                        "type": "mesh3d"
                      }
                    ],
                    "parcoords": [
                      {
                        "line": {
                          "colorbar": {
                            "outlinewidth": 0,
                            "ticks": ""
                          }
                        },
                        "type": "parcoords"
                      }
                    ],
                    "pie": [
                      {
                        "automargin": true,
                        "type": "pie"
                      }
                    ],
                    "scatter": [
                      {
                        "fillpattern": {
                          "fillmode": "overlay",
                          "size": 10,
                          "solidity": 0.2
                        },
                        "type": "scatter"
                      }
                    ],
                    "scatter3d": [
                      {
                        "line": {
                          "colorbar": {
                            "outlinewidth": 0,
                            "ticks": ""
                          }
                        },
                        "marker": {
                          "colorbar": {
                            "outlinewidth": 0,
                            "ticks": ""
                          }
                        },
                        "type": "scatter3d"
                      }
                    ],
                    "scattercarpet": [
                      {
                        "marker": {
                          "colorbar": {
                            "outlinewidth": 0,
                            "ticks": ""
                          }
                        },
                        "type": "scattercarpet"
                      }
                    ],
                    "scattergeo": [
                      {
                        "marker": {
                          "colorbar": {
                            "outlinewidth": 0,
                            "ticks": ""
                          }
                        },
                        "type": "scattergeo"
                      }
                    ],
                    "scattergl": [
                      {
                        "marker": {
                          "colorbar": {
                            "outlinewidth": 0,
                            "ticks": ""
                          }
                        },
                        "type": "scattergl"
                      }
                    ],
                    "scattermapbox": [
                      {
                        "marker": {
                          "colorbar": {
                            "outlinewidth": 0,
                            "ticks": ""
                          }
                        },
                        "type": "scattermapbox"
                      }
                    ],
                    "scatterpolar": [
                      {
                        "marker": {
                          "colorbar": {
                            "outlinewidth": 0,
                            "ticks": ""
                          }
                        },
                        "type": "scatterpolar"
                      }
                    ],
                    "scatterpolargl": [
                      {
                        "marker": {
                          "colorbar": {
                            "outlinewidth": 0,
                            "ticks": ""
                          }
                        },
                        "type": "scatterpolargl"
                      }
                    ],
                    "scatterternary": [
                      {
                        "marker": {
                          "colorbar": {
                            "outlinewidth": 0,
                            "ticks": ""
                          }
                        },
                        "type": "scatterternary"
                      }
                    ],
                    "surface": [
                      {
                        "colorbar": {
                          "outlinewidth": 0,
                          "ticks": ""
                        },
                        "colorscale": [
                          [
                            0,
                            "#0d0887"
                          ],
                          [
                            0.1111111111111111,
                            "#46039f"
                          ],
                          [
                            0.2222222222222222,
                            "#7201a8"
                          ],
                          [
                            0.3333333333333333,
                            "#9c179e"
                          ],
                          [
                            0.4444444444444444,
                            "#bd3786"
                          ],
                          [
                            0.5555555555555556,
                            "#d8576b"
                          ],
                          [
                            0.6666666666666666,
                            "#ed7953"
                          ],
                          [
                            0.7777777777777778,
                            "#fb9f3a"
                          ],
                          [
                            0.8888888888888888,
                            "#fdca26"
                          ],
                          [
                            1,
                            "#f0f921"
                          ]
                        ],
                        "type": "surface"
                      }
                    ],
                    "table": [
                      {
                        "cells": {
                          "fill": {
                            "color": "#EBF0F8"
                          },
                          "line": {
                            "color": "white"
                          }
                        },
                        "header": {
                          "fill": {
                            "color": "#C8D4E3"
                          },
                          "line": {
                            "color": "white"
                          }
                        },
                        "type": "table"
                      }
                    ]
                  },
                  "layout": {
                    "annotationdefaults": {
                      "arrowcolor": "#2a3f5f",
                      "arrowhead": 0,
                      "arrowwidth": 1
                    },
                    "autotypenumbers": "strict",
                    "coloraxis": {
                      "colorbar": {
                        "outlinewidth": 0,
                        "ticks": ""
                      }
                    },
                    "colorscale": {
                      "diverging": [
                        [
                          0,
                          "#8e0152"
                        ],
                        [
                          0.1,
                          "#c51b7d"
                        ],
                        [
                          0.2,
                          "#de77ae"
                        ],
                        [
                          0.3,
                          "#f1b6da"
                        ],
                        [
                          0.4,
                          "#fde0ef"
                        ],
                        [
                          0.5,
                          "#f7f7f7"
                        ],
                        [
                          0.6,
                          "#e6f5d0"
                        ],
                        [
                          0.7,
                          "#b8e186"
                        ],
                        [
                          0.8,
                          "#7fbc41"
                        ],
                        [
                          0.9,
                          "#4d9221"
                        ],
                        [
                          1,
                          "#276419"
                        ]
                      ],
                      "sequential": [
                        [
                          0,
                          "#0d0887"
                        ],
                        [
                          0.1111111111111111,
                          "#46039f"
                        ],
                        [
                          0.2222222222222222,
                          "#7201a8"
                        ],
                        [
                          0.3333333333333333,
                          "#9c179e"
                        ],
                        [
                          0.4444444444444444,
                          "#bd3786"
                        ],
                        [
                          0.5555555555555556,
                          "#d8576b"
                        ],
                        [
                          0.6666666666666666,
                          "#ed7953"
                        ],
                        [
                          0.7777777777777778,
                          "#fb9f3a"
                        ],
                        [
                          0.8888888888888888,
                          "#fdca26"
                        ],
                        [
                          1,
                          "#f0f921"
                        ]
                      ],
                      "sequentialminus": [
                        [
                          0,
                          "#0d0887"
                        ],
                        [
                          0.1111111111111111,
                          "#46039f"
                        ],
                        [
                          0.2222222222222222,
                          "#7201a8"
                        ],
                        [
                          0.3333333333333333,
                          "#9c179e"
                        ],
                        [
                          0.4444444444444444,
                          "#bd3786"
                        ],
                        [
                          0.5555555555555556,
                          "#d8576b"
                        ],
                        [
                          0.6666666666666666,
                          "#ed7953"
                        ],
                        [
                          0.7777777777777778,
                          "#fb9f3a"
                        ],
                        [
                          0.8888888888888888,
                          "#fdca26"
                        ],
                        [
                          1,
                          "#f0f921"
                        ]
                      ]
                    },
                    "colorway": [
                      "#636efa",
                      "#EF553B",
                      "#00cc96",
                      "#ab63fa",
                      "#FFA15A",
                      "#19d3f3",
                      "#FF6692",
                      "#B6E880",
                      "#FF97FF",
                      "#FECB52"
                    ],
                    "font": {
                      "color": "#2a3f5f"
                    },
                    "geo": {
                      "bgcolor": "white",
                      "lakecolor": "white",
                      "landcolor": "#E5ECF6",
                      "showlakes": true,
                      "showland": true,
                      "subunitcolor": "white"
                    },
                    "hoverlabel": {
                      "align": "left"
                    },
                    "hovermode": "closest",
                    "mapbox": {
                      "style": "light"
                    },
                    "paper_bgcolor": "white",
                    "plot_bgcolor": "#E5ECF6",
                    "polar": {
                      "angularaxis": {
                        "gridcolor": "white",
                        "linecolor": "white",
                        "ticks": ""
                      },
                      "bgcolor": "#E5ECF6",
                      "radialaxis": {
                        "gridcolor": "white",
                        "linecolor": "white",
                        "ticks": ""
                      }
                    },
                    "scene": {
                      "xaxis": {
                        "backgroundcolor": "#E5ECF6",
                        "gridcolor": "white",
                        "gridwidth": 2,
                        "linecolor": "white",
                        "showbackground": true,
                        "ticks": "",
                        "zerolinecolor": "white"
                      },
                      "yaxis": {
                        "backgroundcolor": "#E5ECF6",
                        "gridcolor": "white",
                        "gridwidth": 2,
                        "linecolor": "white",
                        "showbackground": true,
                        "ticks": "",
                        "zerolinecolor": "white"
                      },
                      "zaxis": {
                        "backgroundcolor": "#E5ECF6",
                        "gridcolor": "white",
                        "gridwidth": 2,
                        "linecolor": "white",
                        "showbackground": true,
                        "ticks": "",
                        "zerolinecolor": "white"
                      }
                    },
                    "shapedefaults": {
                      "line": {
                        "color": "#2a3f5f"
                      }
                    },
                    "ternary": {
                      "aaxis": {
                        "gridcolor": "white",
                        "linecolor": "white",
                        "ticks": ""
                      },
                      "baxis": {
                        "gridcolor": "white",
                        "linecolor": "white",
                        "ticks": ""
                      },
                      "bgcolor": "#E5ECF6",
                      "caxis": {
                        "gridcolor": "white",
                        "linecolor": "white",
                        "ticks": ""
                      }
                    },
                    "title": {
                      "x": 0.05
                    },
                    "xaxis": {
                      "automargin": true,
                      "gridcolor": "white",
                      "linecolor": "white",
                      "ticks": "",
                      "title": {
                        "standoff": 15
                      },
                      "zerolinecolor": "white",
                      "zerolinewidth": 2
                    },
                    "yaxis": {
                      "automargin": true,
                      "gridcolor": "white",
                      "linecolor": "white",
                      "ticks": "",
                      "title": {
                        "standoff": 15
                      },
                      "zerolinecolor": "white",
                      "zerolinewidth": 2
                    }
                  }
                },
                "title": {
                  "font": {
                    "size": 20
                  },
                  "text": "Billboard Chart Performance of Adele Over Time",
                  "x": 0.5
                },
                "updatemenus": [
                  {
                    "buttons": [
                      {
                        "args": [
                          null,
                          {
                            "frame": {
                              "duration": 100,
                              "redraw": true
                            },
                            "fromcurrent": true
                          }
                        ],
                        "label": "Play",
                        "method": "animate"
                      },
                      {
                        "args": [
                          [
                            null
                          ],
                          {
                            "frame": {
                              "duration": 0,
                              "redraw": false
                            },
                            "mode": "immediate"
                          }
                        ],
                        "label": "Pause",
                        "method": "animate"
                      }
                    ],
                    "direction": "left",
                    "pad": {
                      "r": 10,
                      "t": 87
                    },
                    "showactive": true,
                    "type": "buttons",
                    "x": 0.1,
                    "xanchor": "right",
                    "y": 0,
                    "yanchor": "top"
                  }
                ],
                "xaxis": {
                  "tickfont": {
                    "size": 14
                  },
                  "title": {
                    "font": {
                      "size": 16
                    },
                    "text": "Date"
                  },
                  "type": "date"
                },
                "yaxis": {
                  "autorange": "reversed",
                  "tickfont": {
                    "size": 14
                  },
                  "title": {
                    "font": {
                      "size": 16
                    },
                    "text": "Weekly Chart Rank"
                  }
                }
              }
            }
          },
          "metadata": {},
          "output_type": "display_data"
        }
      ],
      "source": [
        "import plotly.graph_objects as go\n",
        "import pandas as pd\n",
        "\n",
        "\n",
        "# Filter data for Taylor Swift\n",
        "artist_data = billboard[billboard['Artist'].str.contains('adele', case=False, na=False)]\n",
        "artist_data['Week'] = pd.to_datetime(artist_data['Week'])\n",
        "artist_data = artist_data[(artist_data['Week'].dt.year >= 2010) & ((artist_data['Week'].dt.year <= 2012) & (artist_data['Week'].dt.month <= 7))]\n",
        "\n",
        "\n",
        "# Sort data\n",
        "artist_data.sort_values(by='Week', inplace=True)\n",
        "\n",
        "# Unique weeks and songs\n",
        "unique_weeks = artist_data['Week'].unique()\n",
        "unique_songs = artist_data['Name'].unique()\n",
        "\n",
        "\n",
        "# Initialize the figure and frames list\n",
        "fig_adele = go.Figure()\n",
        "frames = []\n",
        "frame_data = []\n",
        "\n",
        "# Create a frame for each week\n",
        "for week in unique_weeks:\n",
        "    week_data = artist_data[artist_data['Week'] <= week]\n",
        "    frame_data = []\n",
        "    for song in unique_songs:\n",
        "        song_week_data = week_data[week_data['Name'] == song]\n",
        "        frame_data.append(go.Scatter(\n",
        "            x=song_week_data['Week'],\n",
        "            y=song_week_data['Weekly.rank'],\n",
        "            mode='lines+markers',\n",
        "            name=song,\n",
        "            hovertemplate='%{x}: %{y} <br>Song: %{text}',\n",
        "            text=song_week_data['Name']\n",
        "\n",
        "        ))\n",
        "\n",
        "    frames.append(go.Frame(data=frame_data))\n",
        "\n",
        "# Define play and pause buttons for animation\n",
        "play_button = {\n",
        "    \"type\": \"buttons\",\n",
        "    \"buttons\": [\n",
        "        {\n",
        "            \"label\": \"Play\",\n",
        "            \"method\": \"animate\",\n",
        "            \"args\": [None, {\"frame\": {\"duration\": 100, \"redraw\": True},\"fromcurrent\": True}],\n",
        "        },\n",
        "        {\n",
        "            \"label\": \"Pause\",\n",
        "            \"method\": \"animate\",\n",
        "            \"args\": [[None], {\"frame\": {\"duration\": 0, \"redraw\": False},\"mode\": \"immediate\"}],\n",
        "        },\n",
        "    ],\n",
        "    \"direction\": \"left\",\n",
        "    \"pad\": {\"r\": 10, \"t\": 87},\n",
        "    \"showactive\": True,\n",
        "    \"x\": 0.1,\n",
        "    \"xanchor\": \"right\",\n",
        "    \"y\": 0,\n",
        "    \"yanchor\": \"top\"\n",
        "}\n",
        "\n",
        "# Set the initial layout of the figure\n",
        "fig_adele.update_layout(\n",
        "    xaxis=dict(title='Date', type='date',tickfont=dict(size=14),\n",
        "            title_font=dict(size=16)),\n",
        "    yaxis=dict(title='Weekly Chart Rank', autorange='reversed',tickfont=dict(size=14),\n",
        "            title_font=dict(size=16)),\n",
        "    title='Billboard Chart Performance of Adele Over Time',\n",
        "    title_x=0.5,\n",
        "    title_font=dict(size=20),\n",
        "    updatemenus=[play_button],\n",
        "    showlegend=True\n",
        ")\n",
        "\n",
        "# Add the initial data (first frame) to the figure\n",
        "fig_adele.add_traces(frames[0].data)\n",
        "\n",
        "# Add all the frames to the figure\n",
        "fig_adele.frames = frames\n",
        "\n",
        "# Show the figure\n",
        "fig_adele.show()"
      ]
    },
    {
      "cell_type": "markdown",
      "metadata": {
        "id": "TiTSR9djU7Tj"
      },
      "source": [
        "##For peak positions less than 40"
      ]
    },
    {
      "cell_type": "code",
      "execution_count": 30,
      "metadata": {
        "colab": {
          "base_uri": "https://localhost:8080/"
        },
        "id": "ZMA8zrsWrAUG",
        "outputId": "d25c68a4-4614-4010-c487-e49b2d9b91b6"
      },
      "outputs": [
        {
          "ename": "TypeError",
          "evalue": "datetime64 type does not support sum operations",
          "output_type": "error",
          "traceback": [
            "\u001b[0;31m---------------------------------------------------------------------------\u001b[0m",
            "\u001b[0;31mTypeError\u001b[0m                                 Traceback (most recent call last)",
            "Cell \u001b[0;32mIn[30], line 17\u001b[0m\n\u001b[1;32m     15\u001b[0m genre_week_2[\u001b[39m'\u001b[39m\u001b[39mWeek\u001b[39m\u001b[39m'\u001b[39m] \u001b[39m=\u001b[39m pd\u001b[39m.\u001b[39mto_datetime(genre_week_2[\u001b[39m'\u001b[39m\u001b[39mWeek\u001b[39m\u001b[39m'\u001b[39m])\n\u001b[1;32m     16\u001b[0m genre_week_pivot_2[\u001b[39m'\u001b[39m\u001b[39mYear\u001b[39m\u001b[39m'\u001b[39m] \u001b[39m=\u001b[39m genre_week_pivot_2[\u001b[39m'\u001b[39m\u001b[39mWeek\u001b[39m\u001b[39m'\u001b[39m]\u001b[39m.\u001b[39mdt\u001b[39m.\u001b[39myear\n\u001b[0;32m---> 17\u001b[0m yearly_counts_2 \u001b[39m=\u001b[39m genre_week_pivot_2\u001b[39m.\u001b[39;49mgroupby(\u001b[39m'\u001b[39;49m\u001b[39mYear\u001b[39;49m\u001b[39m'\u001b[39;49m)\u001b[39m.\u001b[39;49msum()\u001b[39m.\u001b[39mreset_index()\n",
            "File \u001b[0;32m/opt/homebrew/lib/python3.11/site-packages/pandas/core/groupby/groupby.py:3053\u001b[0m, in \u001b[0;36mGroupBy.sum\u001b[0;34m(self, numeric_only, min_count, engine, engine_kwargs)\u001b[0m\n\u001b[1;32m   3048\u001b[0m \u001b[39melse\u001b[39;00m:\n\u001b[1;32m   3049\u001b[0m     \u001b[39m# If we are grouping on categoricals we want unobserved categories to\u001b[39;00m\n\u001b[1;32m   3050\u001b[0m     \u001b[39m# return zero, rather than the default of NaN which the reindexing in\u001b[39;00m\n\u001b[1;32m   3051\u001b[0m     \u001b[39m# _agg_general() returns. GH #31422\u001b[39;00m\n\u001b[1;32m   3052\u001b[0m     \u001b[39mwith\u001b[39;00m com\u001b[39m.\u001b[39mtemp_setattr(\u001b[39mself\u001b[39m, \u001b[39m\"\u001b[39m\u001b[39mobserved\u001b[39m\u001b[39m\"\u001b[39m, \u001b[39mTrue\u001b[39;00m):\n\u001b[0;32m-> 3053\u001b[0m         result \u001b[39m=\u001b[39m \u001b[39mself\u001b[39;49m\u001b[39m.\u001b[39;49m_agg_general(\n\u001b[1;32m   3054\u001b[0m             numeric_only\u001b[39m=\u001b[39;49mnumeric_only,\n\u001b[1;32m   3055\u001b[0m             min_count\u001b[39m=\u001b[39;49mmin_count,\n\u001b[1;32m   3056\u001b[0m             alias\u001b[39m=\u001b[39;49m\u001b[39m\"\u001b[39;49m\u001b[39msum\u001b[39;49m\u001b[39m\"\u001b[39;49m,\n\u001b[1;32m   3057\u001b[0m             npfunc\u001b[39m=\u001b[39;49mnp\u001b[39m.\u001b[39;49msum,\n\u001b[1;32m   3058\u001b[0m         )\n\u001b[1;32m   3060\u001b[0m     \u001b[39mreturn\u001b[39;00m \u001b[39mself\u001b[39m\u001b[39m.\u001b[39m_reindex_output(result, fill_value\u001b[39m=\u001b[39m\u001b[39m0\u001b[39m)\n",
            "File \u001b[0;32m/opt/homebrew/lib/python3.11/site-packages/pandas/core/groupby/groupby.py:1835\u001b[0m, in \u001b[0;36mGroupBy._agg_general\u001b[0;34m(self, numeric_only, min_count, alias, npfunc)\u001b[0m\n\u001b[1;32m   1826\u001b[0m \u001b[39m@final\u001b[39m\n\u001b[1;32m   1827\u001b[0m \u001b[39mdef\u001b[39;00m \u001b[39m_agg_general\u001b[39m(\n\u001b[1;32m   1828\u001b[0m     \u001b[39mself\u001b[39m,\n\u001b[0;32m   (...)\u001b[0m\n\u001b[1;32m   1833\u001b[0m     npfunc: Callable,\n\u001b[1;32m   1834\u001b[0m ):\n\u001b[0;32m-> 1835\u001b[0m     result \u001b[39m=\u001b[39m \u001b[39mself\u001b[39;49m\u001b[39m.\u001b[39;49m_cython_agg_general(\n\u001b[1;32m   1836\u001b[0m         how\u001b[39m=\u001b[39;49malias,\n\u001b[1;32m   1837\u001b[0m         alt\u001b[39m=\u001b[39;49mnpfunc,\n\u001b[1;32m   1838\u001b[0m         numeric_only\u001b[39m=\u001b[39;49mnumeric_only,\n\u001b[1;32m   1839\u001b[0m         min_count\u001b[39m=\u001b[39;49mmin_count,\n\u001b[1;32m   1840\u001b[0m     )\n\u001b[1;32m   1841\u001b[0m     \u001b[39mreturn\u001b[39;00m result\u001b[39m.\u001b[39m__finalize__(\u001b[39mself\u001b[39m\u001b[39m.\u001b[39mobj, method\u001b[39m=\u001b[39m\u001b[39m\"\u001b[39m\u001b[39mgroupby\u001b[39m\u001b[39m\"\u001b[39m)\n",
            "File \u001b[0;32m/opt/homebrew/lib/python3.11/site-packages/pandas/core/groupby/groupby.py:1926\u001b[0m, in \u001b[0;36mGroupBy._cython_agg_general\u001b[0;34m(self, how, alt, numeric_only, min_count, **kwargs)\u001b[0m\n\u001b[1;32m   1923\u001b[0m     result \u001b[39m=\u001b[39m \u001b[39mself\u001b[39m\u001b[39m.\u001b[39m_agg_py_fallback(how, values, ndim\u001b[39m=\u001b[39mdata\u001b[39m.\u001b[39mndim, alt\u001b[39m=\u001b[39malt)\n\u001b[1;32m   1924\u001b[0m     \u001b[39mreturn\u001b[39;00m result\n\u001b[0;32m-> 1926\u001b[0m new_mgr \u001b[39m=\u001b[39m data\u001b[39m.\u001b[39;49mgrouped_reduce(array_func)\n\u001b[1;32m   1927\u001b[0m res \u001b[39m=\u001b[39m \u001b[39mself\u001b[39m\u001b[39m.\u001b[39m_wrap_agged_manager(new_mgr)\n\u001b[1;32m   1928\u001b[0m out \u001b[39m=\u001b[39m \u001b[39mself\u001b[39m\u001b[39m.\u001b[39m_wrap_aggregated_output(res)\n",
            "File \u001b[0;32m/opt/homebrew/lib/python3.11/site-packages/pandas/core/internals/managers.py:1431\u001b[0m, in \u001b[0;36mBlockManager.grouped_reduce\u001b[0;34m(self, func)\u001b[0m\n\u001b[1;32m   1429\u001b[0m             result_blocks \u001b[39m=\u001b[39m extend_blocks(applied, result_blocks)\n\u001b[1;32m   1430\u001b[0m     \u001b[39melse\u001b[39;00m:\n\u001b[0;32m-> 1431\u001b[0m         applied \u001b[39m=\u001b[39m blk\u001b[39m.\u001b[39;49mapply(func)\n\u001b[1;32m   1432\u001b[0m         result_blocks \u001b[39m=\u001b[39m extend_blocks(applied, result_blocks)\n\u001b[1;32m   1434\u001b[0m \u001b[39mif\u001b[39;00m \u001b[39mlen\u001b[39m(result_blocks) \u001b[39m==\u001b[39m \u001b[39m0\u001b[39m:\n",
            "File \u001b[0;32m/opt/homebrew/lib/python3.11/site-packages/pandas/core/internals/blocks.py:366\u001b[0m, in \u001b[0;36mBlock.apply\u001b[0;34m(self, func, **kwargs)\u001b[0m\n\u001b[1;32m    360\u001b[0m \u001b[39m@final\u001b[39m\n\u001b[1;32m    361\u001b[0m \u001b[39mdef\u001b[39;00m \u001b[39mapply\u001b[39m(\u001b[39mself\u001b[39m, func, \u001b[39m*\u001b[39m\u001b[39m*\u001b[39mkwargs) \u001b[39m-\u001b[39m\u001b[39m>\u001b[39m \u001b[39mlist\u001b[39m[Block]:\n\u001b[1;32m    362\u001b[0m \u001b[39m    \u001b[39m\u001b[39m\"\"\"\u001b[39;00m\n\u001b[1;32m    363\u001b[0m \u001b[39m    apply the function to my values; return a block if we are not\u001b[39;00m\n\u001b[1;32m    364\u001b[0m \u001b[39m    one\u001b[39;00m\n\u001b[1;32m    365\u001b[0m \u001b[39m    \"\"\"\u001b[39;00m\n\u001b[0;32m--> 366\u001b[0m     result \u001b[39m=\u001b[39m func(\u001b[39mself\u001b[39;49m\u001b[39m.\u001b[39;49mvalues, \u001b[39m*\u001b[39;49m\u001b[39m*\u001b[39;49mkwargs)\n\u001b[1;32m    368\u001b[0m     result \u001b[39m=\u001b[39m maybe_coerce_values(result)\n\u001b[1;32m    369\u001b[0m     \u001b[39mreturn\u001b[39;00m \u001b[39mself\u001b[39m\u001b[39m.\u001b[39m_split_op_result(result)\n",
            "File \u001b[0;32m/opt/homebrew/lib/python3.11/site-packages/pandas/core/groupby/groupby.py:1902\u001b[0m, in \u001b[0;36mGroupBy._cython_agg_general.<locals>.array_func\u001b[0;34m(values)\u001b[0m\n\u001b[1;32m   1900\u001b[0m \u001b[39mdef\u001b[39;00m \u001b[39marray_func\u001b[39m(values: ArrayLike) \u001b[39m-\u001b[39m\u001b[39m>\u001b[39m ArrayLike:\n\u001b[1;32m   1901\u001b[0m     \u001b[39mtry\u001b[39;00m:\n\u001b[0;32m-> 1902\u001b[0m         result \u001b[39m=\u001b[39m \u001b[39mself\u001b[39;49m\u001b[39m.\u001b[39;49mgrouper\u001b[39m.\u001b[39;49m_cython_operation(\n\u001b[1;32m   1903\u001b[0m             \u001b[39m\"\u001b[39;49m\u001b[39maggregate\u001b[39;49m\u001b[39m\"\u001b[39;49m,\n\u001b[1;32m   1904\u001b[0m             values,\n\u001b[1;32m   1905\u001b[0m             how,\n\u001b[1;32m   1906\u001b[0m             axis\u001b[39m=\u001b[39;49mdata\u001b[39m.\u001b[39;49mndim \u001b[39m-\u001b[39;49m \u001b[39m1\u001b[39;49m,\n\u001b[1;32m   1907\u001b[0m             min_count\u001b[39m=\u001b[39;49mmin_count,\n\u001b[1;32m   1908\u001b[0m             \u001b[39m*\u001b[39;49m\u001b[39m*\u001b[39;49mkwargs,\n\u001b[1;32m   1909\u001b[0m         )\n\u001b[1;32m   1910\u001b[0m     \u001b[39mexcept\u001b[39;00m \u001b[39mNotImplementedError\u001b[39;00m:\n\u001b[1;32m   1911\u001b[0m         \u001b[39m# generally if we have numeric_only=False\u001b[39;00m\n\u001b[1;32m   1912\u001b[0m         \u001b[39m# and non-applicable functions\u001b[39;00m\n\u001b[1;32m   1913\u001b[0m         \u001b[39m# try to python agg\u001b[39;00m\n\u001b[1;32m   1914\u001b[0m         \u001b[39m# TODO: shouldn't min_count matter?\u001b[39;00m\n\u001b[1;32m   1915\u001b[0m         \u001b[39m# TODO: avoid special casing SparseArray here\u001b[39;00m\n\u001b[1;32m   1916\u001b[0m         \u001b[39mif\u001b[39;00m how \u001b[39min\u001b[39;00m [\u001b[39m\"\u001b[39m\u001b[39many\u001b[39m\u001b[39m\"\u001b[39m, \u001b[39m\"\u001b[39m\u001b[39mall\u001b[39m\u001b[39m\"\u001b[39m] \u001b[39mand\u001b[39;00m \u001b[39misinstance\u001b[39m(values, SparseArray):\n",
            "File \u001b[0;32m/opt/homebrew/lib/python3.11/site-packages/pandas/core/groupby/ops.py:815\u001b[0m, in \u001b[0;36mBaseGrouper._cython_operation\u001b[0;34m(self, kind, values, how, axis, min_count, **kwargs)\u001b[0m\n\u001b[1;32m    813\u001b[0m ids, _, _ \u001b[39m=\u001b[39m \u001b[39mself\u001b[39m\u001b[39m.\u001b[39mgroup_info\n\u001b[1;32m    814\u001b[0m ngroups \u001b[39m=\u001b[39m \u001b[39mself\u001b[39m\u001b[39m.\u001b[39mngroups\n\u001b[0;32m--> 815\u001b[0m \u001b[39mreturn\u001b[39;00m cy_op\u001b[39m.\u001b[39;49mcython_operation(\n\u001b[1;32m    816\u001b[0m     values\u001b[39m=\u001b[39;49mvalues,\n\u001b[1;32m    817\u001b[0m     axis\u001b[39m=\u001b[39;49maxis,\n\u001b[1;32m    818\u001b[0m     min_count\u001b[39m=\u001b[39;49mmin_count,\n\u001b[1;32m    819\u001b[0m     comp_ids\u001b[39m=\u001b[39;49mids,\n\u001b[1;32m    820\u001b[0m     ngroups\u001b[39m=\u001b[39;49mngroups,\n\u001b[1;32m    821\u001b[0m     \u001b[39m*\u001b[39;49m\u001b[39m*\u001b[39;49mkwargs,\n\u001b[1;32m    822\u001b[0m )\n",
            "File \u001b[0;32m/opt/homebrew/lib/python3.11/site-packages/pandas/core/groupby/ops.py:525\u001b[0m, in \u001b[0;36mWrappedCythonOp.cython_operation\u001b[0;34m(self, values, axis, min_count, comp_ids, ngroups, **kwargs)\u001b[0m\n\u001b[1;32m    521\u001b[0m \u001b[39mself\u001b[39m\u001b[39m.\u001b[39m_validate_axis(axis, values)\n\u001b[1;32m    523\u001b[0m \u001b[39mif\u001b[39;00m \u001b[39mnot\u001b[39;00m \u001b[39misinstance\u001b[39m(values, np\u001b[39m.\u001b[39mndarray):\n\u001b[1;32m    524\u001b[0m     \u001b[39m# i.e. ExtensionArray\u001b[39;00m\n\u001b[0;32m--> 525\u001b[0m     \u001b[39mreturn\u001b[39;00m values\u001b[39m.\u001b[39;49m_groupby_op(\n\u001b[1;32m    526\u001b[0m         how\u001b[39m=\u001b[39;49m\u001b[39mself\u001b[39;49m\u001b[39m.\u001b[39;49mhow,\n\u001b[1;32m    527\u001b[0m         has_dropped_na\u001b[39m=\u001b[39;49m\u001b[39mself\u001b[39;49m\u001b[39m.\u001b[39;49mhas_dropped_na,\n\u001b[1;32m    528\u001b[0m         min_count\u001b[39m=\u001b[39;49mmin_count,\n\u001b[1;32m    529\u001b[0m         ngroups\u001b[39m=\u001b[39;49mngroups,\n\u001b[1;32m    530\u001b[0m         ids\u001b[39m=\u001b[39;49mcomp_ids,\n\u001b[1;32m    531\u001b[0m         \u001b[39m*\u001b[39;49m\u001b[39m*\u001b[39;49mkwargs,\n\u001b[1;32m    532\u001b[0m     )\n\u001b[1;32m    534\u001b[0m \u001b[39mreturn\u001b[39;00m \u001b[39mself\u001b[39m\u001b[39m.\u001b[39m_cython_op_ndim_compat(\n\u001b[1;32m    535\u001b[0m     values,\n\u001b[1;32m    536\u001b[0m     min_count\u001b[39m=\u001b[39mmin_count,\n\u001b[0;32m   (...)\u001b[0m\n\u001b[1;32m    540\u001b[0m     \u001b[39m*\u001b[39m\u001b[39m*\u001b[39mkwargs,\n\u001b[1;32m    541\u001b[0m )\n",
            "File \u001b[0;32m/opt/homebrew/lib/python3.11/site-packages/pandas/core/arrays/datetimelike.py:1637\u001b[0m, in \u001b[0;36mDatetimeLikeArrayMixin._groupby_op\u001b[0;34m(self, how, has_dropped_na, min_count, ngroups, ids, **kwargs)\u001b[0m\n\u001b[1;32m   1634\u001b[0m \u001b[39mif\u001b[39;00m dtype\u001b[39m.\u001b[39mkind \u001b[39m==\u001b[39m \u001b[39m\"\u001b[39m\u001b[39mM\u001b[39m\u001b[39m\"\u001b[39m:\n\u001b[1;32m   1635\u001b[0m     \u001b[39m# Adding/multiplying datetimes is not valid\u001b[39;00m\n\u001b[1;32m   1636\u001b[0m     \u001b[39mif\u001b[39;00m how \u001b[39min\u001b[39;00m [\u001b[39m\"\u001b[39m\u001b[39msum\u001b[39m\u001b[39m\"\u001b[39m, \u001b[39m\"\u001b[39m\u001b[39mprod\u001b[39m\u001b[39m\"\u001b[39m, \u001b[39m\"\u001b[39m\u001b[39mcumsum\u001b[39m\u001b[39m\"\u001b[39m, \u001b[39m\"\u001b[39m\u001b[39mcumprod\u001b[39m\u001b[39m\"\u001b[39m, \u001b[39m\"\u001b[39m\u001b[39mvar\u001b[39m\u001b[39m\"\u001b[39m, \u001b[39m\"\u001b[39m\u001b[39mskew\u001b[39m\u001b[39m\"\u001b[39m]:\n\u001b[0;32m-> 1637\u001b[0m         \u001b[39mraise\u001b[39;00m \u001b[39mTypeError\u001b[39;00m(\u001b[39mf\u001b[39m\u001b[39m\"\u001b[39m\u001b[39mdatetime64 type does not support \u001b[39m\u001b[39m{\u001b[39;00mhow\u001b[39m}\u001b[39;00m\u001b[39m operations\u001b[39m\u001b[39m\"\u001b[39m)\n\u001b[1;32m   1638\u001b[0m     \u001b[39mif\u001b[39;00m how \u001b[39min\u001b[39;00m [\u001b[39m\"\u001b[39m\u001b[39many\u001b[39m\u001b[39m\"\u001b[39m, \u001b[39m\"\u001b[39m\u001b[39mall\u001b[39m\u001b[39m\"\u001b[39m]:\n\u001b[1;32m   1639\u001b[0m         \u001b[39m# GH#34479\u001b[39;00m\n\u001b[1;32m   1640\u001b[0m         warnings\u001b[39m.\u001b[39mwarn(\n\u001b[1;32m   1641\u001b[0m             \u001b[39mf\u001b[39m\u001b[39m\"\u001b[39m\u001b[39m'\u001b[39m\u001b[39m{\u001b[39;00mhow\u001b[39m}\u001b[39;00m\u001b[39m'\u001b[39m\u001b[39m with datetime64 dtypes is deprecated and will raise in a \u001b[39m\u001b[39m\"\u001b[39m\n\u001b[1;32m   1642\u001b[0m             \u001b[39mf\u001b[39m\u001b[39m\"\u001b[39m\u001b[39mfuture version. Use (obj != pd.Timestamp(0)).\u001b[39m\u001b[39m{\u001b[39;00mhow\u001b[39m}\u001b[39;00m\u001b[39m() instead.\u001b[39m\u001b[39m\"\u001b[39m,\n\u001b[1;32m   1643\u001b[0m             \u001b[39mFutureWarning\u001b[39;00m,\n\u001b[1;32m   1644\u001b[0m             stacklevel\u001b[39m=\u001b[39mfind_stack_level(),\n\u001b[1;32m   1645\u001b[0m         )\n",
            "\u001b[0;31mTypeError\u001b[0m: datetime64 type does not support sum operations"
          ]
        }
      ],
      "source": [
        "peak_positions = bb1[bb1['Weekly.rank'] == bb1['Peak.position']]\n",
        "pk = peak_positions[peak_positions['Peak.position'] < 40]\n",
        "pk['Genre'].value_counts()\n",
        "pk['Genre']=pk['Genre'].str.split(',')\n",
        "genres_exploded_2=pk.explode('Genre')\n",
        "genres_exploded_2['Genre']=genres_exploded_2['Genre'].str.strip()\n",
        "genre_counts_2 = genres_exploded_2['Genre'].value_counts()\n",
        "top_10_genres_2 = genre_counts_2.head(10)\n",
        "top_genres_counts_2 = genres_exploded_2['Genre'].value_counts().head(5)\n",
        "filtered_genres_2=genres_exploded_2[genres_exploded_2['Genre'].isin(top_genres_counts_2.index)]\n",
        "filtered_genres_2['Week'] = pd.to_datetime(filtered_genres_2['Week'])\n",
        "genre_week_2= filtered_genres_2.groupby(['Week', 'Genre']).size().reset_index(name='Count')\n",
        "genre_week_pivot_2 = genre_week_2.pivot(index='Week', columns='Genre', values='Count').fillna(0)\n",
        "genre_week_pivot_2=genre_week_pivot_2.reset_index()\n",
        "genre_week_2['Week'] = pd.to_datetime(genre_week_2['Week'])\n",
        "genre_week_pivot_2['Year'] = genre_week_pivot_2['Week'].dt.year\n",
        "yearly_counts_2 = genre_week_pivot_2.groupby('Year').sum().reset_index()\n",
        "\n"
      ]
    },
    {
      "cell_type": "code",
      "execution_count": 31,
      "metadata": {
        "id": "DQwqMXh0aDj5"
      },
      "outputs": [],
      "source": [
        "pk=filtered_genres_2.groupby(['Artist', 'Genre'])['Week'].agg(['min', 'max'])\n",
        "pk['min'] = pd.to_datetime(pk['min'])\n",
        "pk['max'] = pd.to_datetime(pk['max'])\n",
        "pk['Duration'] = pk['max'] - pk['min']\n",
        "pk_sorted = pk.sort_values(by='Duration', ascending=False)\n",
        "top = pk_sorted.head(20)"
      ]
    },
    {
      "cell_type": "code",
      "execution_count": 32,
      "metadata": {
        "id": "N0kyxCMHbTXX"
      },
      "outputs": [],
      "source": [
        "end_2008 = pd.Timestamp('2008-12-31')\n",
        "start_2009 = pd.Timestamp('2009-01-01')\n",
        "art1 = pk[pk['max'] <= end_2008]\n",
        "art2 = pk[pk['min'] >= start_2009]\n",
        "art1_sorted=art1.sort_values(by='Duration', ascending=False)\n",
        "art2_sorted=art2.sort_values(by='Duration', ascending=False)\n",
        "top_art1=art1_sorted.head(20)#top artists for decade1\n",
        "top_art2=art2_sorted.head(20)#top artists for decade 2"
      ]
    },
    {
      "cell_type": "code",
      "execution_count": 33,
      "metadata": {
        "colab": {
          "base_uri": "https://localhost:8080/",
          "height": 542
        },
        "id": "s74Y7NeUV96V",
        "outputId": "df6356f8-025c-41eb-fb98-ad3703c5f709"
      },
      "outputs": [
        {
          "data": {
            "application/vnd.plotly.v1+json": {
              "config": {
                "plotlyServerURL": "https://plot.ly"
              },
              "data": [
                {
                  "hoverinfo": "text",
                  "hovertext": "Kenny Chesney<br>Start: 1999-08-23<br>End: 2018-08-11<br>Duration: 6928 days<br>Genre:Country",
                  "line": {
                    "color": "blue",
                    "width": 2
                  },
                  "marker": {
                    "color": "blue",
                    "size": 10
                  },
                  "mode": "lines+markers",
                  "name": "Kenny Chesney",
                  "textposition": "bottom center",
                  "type": "scatter",
                  "x": [
                    1999,
                    2018
                  ],
                  "y": [
                    "Kenny Chesney",
                    "Kenny Chesney"
                  ]
                },
                {
                  "hoverinfo": "text",
                  "hovertext": "Tim Mcgraw<br>Start: 1999-09-13<br>End: 2016-04-23<br>Duration: 6067 days<br>Genre:Country",
                  "line": {
                    "color": "blue",
                    "width": 2
                  },
                  "marker": {
                    "color": "blue",
                    "size": 10
                  },
                  "mode": "lines+markers",
                  "name": "Tim Mcgraw",
                  "textposition": "bottom center",
                  "type": "scatter",
                  "x": [
                    1999,
                    2016
                  ],
                  "y": [
                    "Tim Mcgraw",
                    "Tim Mcgraw"
                  ]
                },
                {
                  "hoverinfo": "text",
                  "hovertext": "Keith Urban<br>Start: 2001-02-20<br>End: 2017-04-22<br>Duration: 5905 days<br>Genre:Country",
                  "line": {
                    "color": "blue",
                    "width": 2
                  },
                  "marker": {
                    "color": "blue",
                    "size": 10
                  },
                  "mode": "lines+markers",
                  "name": "Keith Urban",
                  "textposition": "bottom center",
                  "type": "scatter",
                  "x": [
                    2001,
                    2017
                  ],
                  "y": [
                    "Keith Urban",
                    "Keith Urban"
                  ]
                },
                {
                  "hoverinfo": "text",
                  "hovertext": "P!Nk<br>Start: 2001-11-06<br>End: 2017-11-04<br>Duration: 5842 days<br>Genre:Pop",
                  "line": {
                    "color": "blue",
                    "width": 2
                  },
                  "marker": {
                    "color": "blue",
                    "size": 10
                  },
                  "mode": "lines+markers",
                  "name": "P!Nk",
                  "textposition": "bottom center",
                  "type": "scatter",
                  "x": [
                    2001,
                    2017
                  ],
                  "y": [
                    "P!Nk",
                    "P!Nk"
                  ]
                },
                {
                  "hoverinfo": "text",
                  "hovertext": "Tim Mcgraw<br>Start: 1999-09-13<br>End: 2015-01-02<br>Duration: 5590 days<br>Genre:Rock",
                  "line": {
                    "color": "blue",
                    "width": 2
                  },
                  "marker": {
                    "color": "blue",
                    "size": 10
                  },
                  "mode": "lines+markers",
                  "name": "Tim Mcgraw",
                  "textposition": "bottom center",
                  "type": "scatter",
                  "x": [
                    1999,
                    2015
                  ],
                  "y": [
                    "Tim Mcgraw",
                    "Tim Mcgraw"
                  ]
                },
                {
                  "hoverinfo": "text",
                  "hovertext": "Maroon 5<br>Start: 2003-09-30<br>End: 2018-11-10<br>Duration: 5520 days<br>Genre:Pop",
                  "line": {
                    "color": "blue",
                    "width": 2
                  },
                  "marker": {
                    "color": "blue",
                    "size": 10
                  },
                  "mode": "lines+markers",
                  "name": "Maroon 5",
                  "textposition": "bottom center",
                  "type": "scatter",
                  "x": [
                    2003,
                    2018
                  ],
                  "y": [
                    "Maroon 5",
                    "Maroon 5"
                  ]
                },
                {
                  "hoverinfo": "text",
                  "hovertext": "Kenny Chesney<br>Start: 1999-08-23<br>End: 2014-08-01<br>Duration: 5457 days<br>Genre:Rock",
                  "line": {
                    "color": "blue",
                    "width": 2
                  },
                  "marker": {
                    "color": "blue",
                    "size": 10
                  },
                  "mode": "lines+markers",
                  "name": "Kenny Chesney",
                  "textposition": "bottom center",
                  "type": "scatter",
                  "x": [
                    1999,
                    2014
                  ],
                  "y": [
                    "Kenny Chesney",
                    "Kenny Chesney"
                  ]
                },
                {
                  "hoverinfo": "text",
                  "hovertext": "Blake Shelton<br>Start: 2001-07-24<br>End: 2016-06-11<br>Duration: 5436 days<br>Genre:Country",
                  "line": {
                    "color": "blue",
                    "width": 2
                  },
                  "marker": {
                    "color": "blue",
                    "size": 10
                  },
                  "mode": "lines+markers",
                  "name": "Blake Shelton",
                  "textposition": "bottom center",
                  "type": "scatter",
                  "x": [
                    2001,
                    2016
                  ],
                  "y": [
                    "Blake Shelton",
                    "Blake Shelton"
                  ]
                },
                {
                  "hoverinfo": "text",
                  "hovertext": "Mariah Carey<br>Start: 2005-02-02<br>End: 2019-01-05<br>Duration: 5085 days<br>Genre:R&;B",
                  "line": {
                    "color": "blue",
                    "width": 2
                  },
                  "marker": {
                    "color": "blue",
                    "size": 10
                  },
                  "mode": "lines+markers",
                  "name": "Mariah Carey",
                  "textposition": "bottom center",
                  "type": "scatter",
                  "x": [
                    2005,
                    2019
                  ],
                  "y": [
                    "Mariah Carey",
                    "Mariah Carey"
                  ]
                },
                {
                  "hoverinfo": "text",
                  "hovertext": "Mariah Carey<br>Start: 2005-02-02<br>End: 2019-01-05<br>Duration: 5085 days<br>Genre:Pop",
                  "line": {
                    "color": "blue",
                    "width": 2
                  },
                  "marker": {
                    "color": "blue",
                    "size": 10
                  },
                  "mode": "lines+markers",
                  "name": "Mariah Carey",
                  "textposition": "bottom center",
                  "type": "scatter",
                  "x": [
                    2005,
                    2019
                  ],
                  "y": [
                    "Mariah Carey",
                    "Mariah Carey"
                  ]
                },
                {
                  "hoverinfo": "text",
                  "hovertext": "Eminem<br>Start: 2000-05-09<br>End: 2014-01-10<br>Duration: 4994 days<br>Genre:Rap",
                  "line": {
                    "color": "blue",
                    "width": 2
                  },
                  "marker": {
                    "color": "blue",
                    "size": 10
                  },
                  "mode": "lines+markers",
                  "name": "Eminem",
                  "textposition": "bottom center",
                  "type": "scatter",
                  "x": [
                    2000,
                    2014
                  ],
                  "y": [
                    "Eminem",
                    "Eminem"
                  ]
                },
                {
                  "hoverinfo": "text",
                  "hovertext": "Enrique Iglesias<br>Start: 1999-07-19<br>End: 2012-10-12<br>Duration: 4834 days<br>Genre:Pop",
                  "line": {
                    "color": "blue",
                    "width": 2
                  },
                  "marker": {
                    "color": "blue",
                    "size": 10
                  },
                  "mode": "lines+markers",
                  "name": "Enrique Iglesias",
                  "textposition": "bottom center",
                  "type": "scatter",
                  "x": [
                    1999,
                    2012
                  ],
                  "y": [
                    "Enrique Iglesias",
                    "Enrique Iglesias"
                  ]
                },
                {
                  "hoverinfo": "text",
                  "hovertext": "Train<br>Start: 1999-11-22<br>End: 2012-11-02<br>Duration: 4729 days<br>Genre:Rock",
                  "line": {
                    "color": "blue",
                    "width": 2
                  },
                  "marker": {
                    "color": "blue",
                    "size": 10
                  },
                  "mode": "lines+markers",
                  "name": "Train",
                  "textposition": "bottom center",
                  "type": "scatter",
                  "x": [
                    1999,
                    2012
                  ],
                  "y": [
                    "Train",
                    "Train"
                  ]
                },
                {
                  "hoverinfo": "text",
                  "hovertext": "Dierks Bentley<br>Start: 2003-08-12<br>End: 2016-04-30<br>Duration: 4645 days<br>Genre:Country",
                  "line": {
                    "color": "blue",
                    "width": 2
                  },
                  "marker": {
                    "color": "blue",
                    "size": 10
                  },
                  "mode": "lines+markers",
                  "name": "Dierks Bentley",
                  "textposition": "bottom center",
                  "type": "scatter",
                  "x": [
                    2003,
                    2016
                  ],
                  "y": [
                    "Dierks Bentley",
                    "Dierks Bentley"
                  ]
                },
                {
                  "hoverinfo": "text",
                  "hovertext": "Panic! At The Disco<br>Start: 2006-05-24<br>End: 2019-01-26<br>Duration: 4630 days<br>Genre:Rock",
                  "line": {
                    "color": "blue",
                    "width": 2
                  },
                  "marker": {
                    "color": "blue",
                    "size": 10
                  },
                  "mode": "lines+markers",
                  "name": "Panic! At The Disco",
                  "textposition": "bottom center",
                  "type": "scatter",
                  "x": [
                    2006,
                    2019
                  ],
                  "y": [
                    "Panic! At The Disco",
                    "Panic! At The Disco"
                  ]
                },
                {
                  "hoverinfo": "text",
                  "hovertext": "Beyonce<br>Start: 2003-12-02<br>End: 2016-05-21<br>Duration: 4554 days<br>Genre:R&;B",
                  "line": {
                    "color": "blue",
                    "width": 2
                  },
                  "marker": {
                    "color": "blue",
                    "size": 10
                  },
                  "mode": "lines+markers",
                  "name": "Beyonce",
                  "textposition": "bottom center",
                  "type": "scatter",
                  "x": [
                    2003,
                    2016
                  ],
                  "y": [
                    "Beyonce",
                    "Beyonce"
                  ]
                },
                {
                  "hoverinfo": "text",
                  "hovertext": "Beyonce<br>Start: 2003-12-02<br>End: 2016-05-21<br>Duration: 4554 days<br>Genre:Pop",
                  "line": {
                    "color": "blue",
                    "width": 2
                  },
                  "marker": {
                    "color": "blue",
                    "size": 10
                  },
                  "mode": "lines+markers",
                  "name": "Beyonce",
                  "textposition": "bottom center",
                  "type": "scatter",
                  "x": [
                    2003,
                    2016
                  ],
                  "y": [
                    "Beyonce",
                    "Beyonce"
                  ]
                },
                {
                  "hoverinfo": "text",
                  "hovertext": "Kelly Clarkson<br>Start: 2002-10-01<br>End: 2015-03-20<br>Duration: 4553 days<br>Genre:Pop",
                  "line": {
                    "color": "blue",
                    "width": 2
                  },
                  "marker": {
                    "color": "blue",
                    "size": 10
                  },
                  "mode": "lines+markers",
                  "name": "Kelly Clarkson",
                  "textposition": "bottom center",
                  "type": "scatter",
                  "x": [
                    2002,
                    2015
                  ],
                  "y": [
                    "Kelly Clarkson",
                    "Kelly Clarkson"
                  ]
                },
                {
                  "hoverinfo": "text",
                  "hovertext": "Blake Shelton<br>Start: 2001-07-24<br>End: 2013-11-22<br>Duration: 4504 days<br>Genre:Rock",
                  "line": {
                    "color": "blue",
                    "width": 2
                  },
                  "marker": {
                    "color": "blue",
                    "size": 10
                  },
                  "mode": "lines+markers",
                  "name": "Blake Shelton",
                  "textposition": "bottom center",
                  "type": "scatter",
                  "x": [
                    2001,
                    2013
                  ],
                  "y": [
                    "Blake Shelton",
                    "Blake Shelton"
                  ]
                },
                {
                  "hoverinfo": "text",
                  "hovertext": "Britney Spears<br>Start: 1999-07-12<br>End: 2011-08-18<br>Duration: 4420 days<br>Genre:Pop",
                  "line": {
                    "color": "blue",
                    "width": 2
                  },
                  "marker": {
                    "color": "blue",
                    "size": 10
                  },
                  "mode": "lines+markers",
                  "name": "Britney Spears",
                  "textposition": "bottom center",
                  "type": "scatter",
                  "x": [
                    1999,
                    2011
                  ],
                  "y": [
                    "Britney Spears",
                    "Britney Spears"
                  ]
                }
              ],
              "layout": {
                "hovermode": "closest",
                "showlegend": false,
                "template": {
                  "data": {
                    "bar": [
                      {
                        "error_x": {
                          "color": "#2a3f5f"
                        },
                        "error_y": {
                          "color": "#2a3f5f"
                        },
                        "marker": {
                          "line": {
                            "color": "#E5ECF6",
                            "width": 0.5
                          },
                          "pattern": {
                            "fillmode": "overlay",
                            "size": 10,
                            "solidity": 0.2
                          }
                        },
                        "type": "bar"
                      }
                    ],
                    "barpolar": [
                      {
                        "marker": {
                          "line": {
                            "color": "#E5ECF6",
                            "width": 0.5
                          },
                          "pattern": {
                            "fillmode": "overlay",
                            "size": 10,
                            "solidity": 0.2
                          }
                        },
                        "type": "barpolar"
                      }
                    ],
                    "carpet": [
                      {
                        "aaxis": {
                          "endlinecolor": "#2a3f5f",
                          "gridcolor": "white",
                          "linecolor": "white",
                          "minorgridcolor": "white",
                          "startlinecolor": "#2a3f5f"
                        },
                        "baxis": {
                          "endlinecolor": "#2a3f5f",
                          "gridcolor": "white",
                          "linecolor": "white",
                          "minorgridcolor": "white",
                          "startlinecolor": "#2a3f5f"
                        },
                        "type": "carpet"
                      }
                    ],
                    "choropleth": [
                      {
                        "colorbar": {
                          "outlinewidth": 0,
                          "ticks": ""
                        },
                        "type": "choropleth"
                      }
                    ],
                    "contour": [
                      {
                        "colorbar": {
                          "outlinewidth": 0,
                          "ticks": ""
                        },
                        "colorscale": [
                          [
                            0,
                            "#0d0887"
                          ],
                          [
                            0.1111111111111111,
                            "#46039f"
                          ],
                          [
                            0.2222222222222222,
                            "#7201a8"
                          ],
                          [
                            0.3333333333333333,
                            "#9c179e"
                          ],
                          [
                            0.4444444444444444,
                            "#bd3786"
                          ],
                          [
                            0.5555555555555556,
                            "#d8576b"
                          ],
                          [
                            0.6666666666666666,
                            "#ed7953"
                          ],
                          [
                            0.7777777777777778,
                            "#fb9f3a"
                          ],
                          [
                            0.8888888888888888,
                            "#fdca26"
                          ],
                          [
                            1,
                            "#f0f921"
                          ]
                        ],
                        "type": "contour"
                      }
                    ],
                    "contourcarpet": [
                      {
                        "colorbar": {
                          "outlinewidth": 0,
                          "ticks": ""
                        },
                        "type": "contourcarpet"
                      }
                    ],
                    "heatmap": [
                      {
                        "colorbar": {
                          "outlinewidth": 0,
                          "ticks": ""
                        },
                        "colorscale": [
                          [
                            0,
                            "#0d0887"
                          ],
                          [
                            0.1111111111111111,
                            "#46039f"
                          ],
                          [
                            0.2222222222222222,
                            "#7201a8"
                          ],
                          [
                            0.3333333333333333,
                            "#9c179e"
                          ],
                          [
                            0.4444444444444444,
                            "#bd3786"
                          ],
                          [
                            0.5555555555555556,
                            "#d8576b"
                          ],
                          [
                            0.6666666666666666,
                            "#ed7953"
                          ],
                          [
                            0.7777777777777778,
                            "#fb9f3a"
                          ],
                          [
                            0.8888888888888888,
                            "#fdca26"
                          ],
                          [
                            1,
                            "#f0f921"
                          ]
                        ],
                        "type": "heatmap"
                      }
                    ],
                    "heatmapgl": [
                      {
                        "colorbar": {
                          "outlinewidth": 0,
                          "ticks": ""
                        },
                        "colorscale": [
                          [
                            0,
                            "#0d0887"
                          ],
                          [
                            0.1111111111111111,
                            "#46039f"
                          ],
                          [
                            0.2222222222222222,
                            "#7201a8"
                          ],
                          [
                            0.3333333333333333,
                            "#9c179e"
                          ],
                          [
                            0.4444444444444444,
                            "#bd3786"
                          ],
                          [
                            0.5555555555555556,
                            "#d8576b"
                          ],
                          [
                            0.6666666666666666,
                            "#ed7953"
                          ],
                          [
                            0.7777777777777778,
                            "#fb9f3a"
                          ],
                          [
                            0.8888888888888888,
                            "#fdca26"
                          ],
                          [
                            1,
                            "#f0f921"
                          ]
                        ],
                        "type": "heatmapgl"
                      }
                    ],
                    "histogram": [
                      {
                        "marker": {
                          "pattern": {
                            "fillmode": "overlay",
                            "size": 10,
                            "solidity": 0.2
                          }
                        },
                        "type": "histogram"
                      }
                    ],
                    "histogram2d": [
                      {
                        "colorbar": {
                          "outlinewidth": 0,
                          "ticks": ""
                        },
                        "colorscale": [
                          [
                            0,
                            "#0d0887"
                          ],
                          [
                            0.1111111111111111,
                            "#46039f"
                          ],
                          [
                            0.2222222222222222,
                            "#7201a8"
                          ],
                          [
                            0.3333333333333333,
                            "#9c179e"
                          ],
                          [
                            0.4444444444444444,
                            "#bd3786"
                          ],
                          [
                            0.5555555555555556,
                            "#d8576b"
                          ],
                          [
                            0.6666666666666666,
                            "#ed7953"
                          ],
                          [
                            0.7777777777777778,
                            "#fb9f3a"
                          ],
                          [
                            0.8888888888888888,
                            "#fdca26"
                          ],
                          [
                            1,
                            "#f0f921"
                          ]
                        ],
                        "type": "histogram2d"
                      }
                    ],
                    "histogram2dcontour": [
                      {
                        "colorbar": {
                          "outlinewidth": 0,
                          "ticks": ""
                        },
                        "colorscale": [
                          [
                            0,
                            "#0d0887"
                          ],
                          [
                            0.1111111111111111,
                            "#46039f"
                          ],
                          [
                            0.2222222222222222,
                            "#7201a8"
                          ],
                          [
                            0.3333333333333333,
                            "#9c179e"
                          ],
                          [
                            0.4444444444444444,
                            "#bd3786"
                          ],
                          [
                            0.5555555555555556,
                            "#d8576b"
                          ],
                          [
                            0.6666666666666666,
                            "#ed7953"
                          ],
                          [
                            0.7777777777777778,
                            "#fb9f3a"
                          ],
                          [
                            0.8888888888888888,
                            "#fdca26"
                          ],
                          [
                            1,
                            "#f0f921"
                          ]
                        ],
                        "type": "histogram2dcontour"
                      }
                    ],
                    "mesh3d": [
                      {
                        "colorbar": {
                          "outlinewidth": 0,
                          "ticks": ""
                        },
                        "type": "mesh3d"
                      }
                    ],
                    "parcoords": [
                      {
                        "line": {
                          "colorbar": {
                            "outlinewidth": 0,
                            "ticks": ""
                          }
                        },
                        "type": "parcoords"
                      }
                    ],
                    "pie": [
                      {
                        "automargin": true,
                        "type": "pie"
                      }
                    ],
                    "scatter": [
                      {
                        "fillpattern": {
                          "fillmode": "overlay",
                          "size": 10,
                          "solidity": 0.2
                        },
                        "type": "scatter"
                      }
                    ],
                    "scatter3d": [
                      {
                        "line": {
                          "colorbar": {
                            "outlinewidth": 0,
                            "ticks": ""
                          }
                        },
                        "marker": {
                          "colorbar": {
                            "outlinewidth": 0,
                            "ticks": ""
                          }
                        },
                        "type": "scatter3d"
                      }
                    ],
                    "scattercarpet": [
                      {
                        "marker": {
                          "colorbar": {
                            "outlinewidth": 0,
                            "ticks": ""
                          }
                        },
                        "type": "scattercarpet"
                      }
                    ],
                    "scattergeo": [
                      {
                        "marker": {
                          "colorbar": {
                            "outlinewidth": 0,
                            "ticks": ""
                          }
                        },
                        "type": "scattergeo"
                      }
                    ],
                    "scattergl": [
                      {
                        "marker": {
                          "colorbar": {
                            "outlinewidth": 0,
                            "ticks": ""
                          }
                        },
                        "type": "scattergl"
                      }
                    ],
                    "scattermapbox": [
                      {
                        "marker": {
                          "colorbar": {
                            "outlinewidth": 0,
                            "ticks": ""
                          }
                        },
                        "type": "scattermapbox"
                      }
                    ],
                    "scatterpolar": [
                      {
                        "marker": {
                          "colorbar": {
                            "outlinewidth": 0,
                            "ticks": ""
                          }
                        },
                        "type": "scatterpolar"
                      }
                    ],
                    "scatterpolargl": [
                      {
                        "marker": {
                          "colorbar": {
                            "outlinewidth": 0,
                            "ticks": ""
                          }
                        },
                        "type": "scatterpolargl"
                      }
                    ],
                    "scatterternary": [
                      {
                        "marker": {
                          "colorbar": {
                            "outlinewidth": 0,
                            "ticks": ""
                          }
                        },
                        "type": "scatterternary"
                      }
                    ],
                    "surface": [
                      {
                        "colorbar": {
                          "outlinewidth": 0,
                          "ticks": ""
                        },
                        "colorscale": [
                          [
                            0,
                            "#0d0887"
                          ],
                          [
                            0.1111111111111111,
                            "#46039f"
                          ],
                          [
                            0.2222222222222222,
                            "#7201a8"
                          ],
                          [
                            0.3333333333333333,
                            "#9c179e"
                          ],
                          [
                            0.4444444444444444,
                            "#bd3786"
                          ],
                          [
                            0.5555555555555556,
                            "#d8576b"
                          ],
                          [
                            0.6666666666666666,
                            "#ed7953"
                          ],
                          [
                            0.7777777777777778,
                            "#fb9f3a"
                          ],
                          [
                            0.8888888888888888,
                            "#fdca26"
                          ],
                          [
                            1,
                            "#f0f921"
                          ]
                        ],
                        "type": "surface"
                      }
                    ],
                    "table": [
                      {
                        "cells": {
                          "fill": {
                            "color": "#EBF0F8"
                          },
                          "line": {
                            "color": "white"
                          }
                        },
                        "header": {
                          "fill": {
                            "color": "#C8D4E3"
                          },
                          "line": {
                            "color": "white"
                          }
                        },
                        "type": "table"
                      }
                    ]
                  },
                  "layout": {
                    "annotationdefaults": {
                      "arrowcolor": "#2a3f5f",
                      "arrowhead": 0,
                      "arrowwidth": 1
                    },
                    "autotypenumbers": "strict",
                    "coloraxis": {
                      "colorbar": {
                        "outlinewidth": 0,
                        "ticks": ""
                      }
                    },
                    "colorscale": {
                      "diverging": [
                        [
                          0,
                          "#8e0152"
                        ],
                        [
                          0.1,
                          "#c51b7d"
                        ],
                        [
                          0.2,
                          "#de77ae"
                        ],
                        [
                          0.3,
                          "#f1b6da"
                        ],
                        [
                          0.4,
                          "#fde0ef"
                        ],
                        [
                          0.5,
                          "#f7f7f7"
                        ],
                        [
                          0.6,
                          "#e6f5d0"
                        ],
                        [
                          0.7,
                          "#b8e186"
                        ],
                        [
                          0.8,
                          "#7fbc41"
                        ],
                        [
                          0.9,
                          "#4d9221"
                        ],
                        [
                          1,
                          "#276419"
                        ]
                      ],
                      "sequential": [
                        [
                          0,
                          "#0d0887"
                        ],
                        [
                          0.1111111111111111,
                          "#46039f"
                        ],
                        [
                          0.2222222222222222,
                          "#7201a8"
                        ],
                        [
                          0.3333333333333333,
                          "#9c179e"
                        ],
                        [
                          0.4444444444444444,
                          "#bd3786"
                        ],
                        [
                          0.5555555555555556,
                          "#d8576b"
                        ],
                        [
                          0.6666666666666666,
                          "#ed7953"
                        ],
                        [
                          0.7777777777777778,
                          "#fb9f3a"
                        ],
                        [
                          0.8888888888888888,
                          "#fdca26"
                        ],
                        [
                          1,
                          "#f0f921"
                        ]
                      ],
                      "sequentialminus": [
                        [
                          0,
                          "#0d0887"
                        ],
                        [
                          0.1111111111111111,
                          "#46039f"
                        ],
                        [
                          0.2222222222222222,
                          "#7201a8"
                        ],
                        [
                          0.3333333333333333,
                          "#9c179e"
                        ],
                        [
                          0.4444444444444444,
                          "#bd3786"
                        ],
                        [
                          0.5555555555555556,
                          "#d8576b"
                        ],
                        [
                          0.6666666666666666,
                          "#ed7953"
                        ],
                        [
                          0.7777777777777778,
                          "#fb9f3a"
                        ],
                        [
                          0.8888888888888888,
                          "#fdca26"
                        ],
                        [
                          1,
                          "#f0f921"
                        ]
                      ]
                    },
                    "colorway": [
                      "#636efa",
                      "#EF553B",
                      "#00cc96",
                      "#ab63fa",
                      "#FFA15A",
                      "#19d3f3",
                      "#FF6692",
                      "#B6E880",
                      "#FF97FF",
                      "#FECB52"
                    ],
                    "font": {
                      "color": "#2a3f5f"
                    },
                    "geo": {
                      "bgcolor": "white",
                      "lakecolor": "white",
                      "landcolor": "#E5ECF6",
                      "showlakes": true,
                      "showland": true,
                      "subunitcolor": "white"
                    },
                    "hoverlabel": {
                      "align": "left"
                    },
                    "hovermode": "closest",
                    "mapbox": {
                      "style": "light"
                    },
                    "paper_bgcolor": "white",
                    "plot_bgcolor": "#E5ECF6",
                    "polar": {
                      "angularaxis": {
                        "gridcolor": "white",
                        "linecolor": "white",
                        "ticks": ""
                      },
                      "bgcolor": "#E5ECF6",
                      "radialaxis": {
                        "gridcolor": "white",
                        "linecolor": "white",
                        "ticks": ""
                      }
                    },
                    "scene": {
                      "xaxis": {
                        "backgroundcolor": "#E5ECF6",
                        "gridcolor": "white",
                        "gridwidth": 2,
                        "linecolor": "white",
                        "showbackground": true,
                        "ticks": "",
                        "zerolinecolor": "white"
                      },
                      "yaxis": {
                        "backgroundcolor": "#E5ECF6",
                        "gridcolor": "white",
                        "gridwidth": 2,
                        "linecolor": "white",
                        "showbackground": true,
                        "ticks": "",
                        "zerolinecolor": "white"
                      },
                      "zaxis": {
                        "backgroundcolor": "#E5ECF6",
                        "gridcolor": "white",
                        "gridwidth": 2,
                        "linecolor": "white",
                        "showbackground": true,
                        "ticks": "",
                        "zerolinecolor": "white"
                      }
                    },
                    "shapedefaults": {
                      "line": {
                        "color": "#2a3f5f"
                      }
                    },
                    "ternary": {
                      "aaxis": {
                        "gridcolor": "white",
                        "linecolor": "white",
                        "ticks": ""
                      },
                      "baxis": {
                        "gridcolor": "white",
                        "linecolor": "white",
                        "ticks": ""
                      },
                      "bgcolor": "#E5ECF6",
                      "caxis": {
                        "gridcolor": "white",
                        "linecolor": "white",
                        "ticks": ""
                      }
                    },
                    "title": {
                      "x": 0.05
                    },
                    "xaxis": {
                      "automargin": true,
                      "gridcolor": "white",
                      "linecolor": "white",
                      "ticks": "",
                      "title": {
                        "standoff": 15
                      },
                      "zerolinecolor": "white",
                      "zerolinewidth": 2
                    },
                    "yaxis": {
                      "automargin": true,
                      "gridcolor": "white",
                      "linecolor": "white",
                      "ticks": "",
                      "title": {
                        "standoff": 15
                      },
                      "zerolinecolor": "white",
                      "zerolinewidth": 2
                    }
                  }
                },
                "title": {
                  "font": {
                    "size": 20
                  },
                  "text": "Top 20 Artists' Golden Era (1999-2019) with genres",
                  "x": 0.5
                },
                "xaxis": {
                  "range": [
                    1998,
                    2020
                  ],
                  "showgrid": true,
                  "showline": true,
                  "tickmode": "linear",
                  "title": {
                    "font": {
                      "size": 16
                    },
                    "text": "Year"
                  }
                },
                "yaxis": {
                  "automargin": true,
                  "autorange": "reversed",
                  "gridcolor": "white",
                  "showgrid": false,
                  "tickfont": {
                    "size": 14
                  },
                  "title": {
                    "font": {
                      "size": 16
                    },
                    "text": "Artist"
                  }
                }
              }
            }
          },
          "metadata": {},
          "output_type": "display_data"
        }
      ],
      "source": [
        "# Assuming top_durations is the DataFrame with the data provided above\n",
        "# First, convert the 'min' and 'max' columns to datetime, if not already done\n",
        "top['min'] = pd.to_datetime(top['min'])\n",
        "top['max'] = pd.to_datetime(top['max'])\n",
        "\n",
        "# Since top_durations is already your DataFrame, let's reset the index to use 'Artist' as a column\n",
        "top_reset = top.reset_index()\n",
        "\n",
        "# Now let's create the plotly figure\n",
        "import plotly.graph_objects as go\n",
        "\n",
        "# Create figure\n",
        "fig_full = go.Figure()\n",
        "\n",
        "# Add a line for each artist\n",
        "for i, row in top_reset.iterrows():\n",
        "    fig_full.add_trace(go.Scatter(\n",
        "        x=[row['min'].year, row['max'].year],\n",
        "        y=[row['Artist'], row['Artist']],\n",
        "        mode='lines+markers',\n",
        "        name=row['Artist'],\n",
        "        #text=f\"{row['Artist']}<br>{row['Duration'].days} days\",\n",
        "        hovertext=f\"{row['Artist']}<br>Start: {row['min'].date()}<br>End: {row['max'].date()}<br>Duration: {row['Duration'].days} days<br>Genre:{row['Genre']}\",\n",
        "        textposition=\"bottom center\",\n",
        "        line=dict(width=2, color='blue'),\n",
        "\n",
        "        marker=dict(size=10, color='blue'),\n",
        "        hoverinfo='text'\n",
        "\n",
        "    ))\n",
        "\n",
        "# Update layout to adjust the look and feel of the plot\n",
        "fig_full.update_layout(\n",
        "    title='Top 20 Artists\\' Golden Era (1999-2019) with genres',\n",
        "    title_x=0.5,\n",
        "    title_font=dict(size=20),\n",
        "    xaxis=dict(\n",
        "        title='Year',\n",
        "        showgrid=True,  # Hide the x-axis grid lines\n",
        "        showline=True,\n",
        "        tickmode='linear',\n",
        "        title_font=dict(size=16),\n",
        "        #tickfont=dict(size=14),\n",
        "        range=[1998, 2020]  # Set the range for x-axis to cover the years of interest\n",
        "    ),\n",
        "    yaxis=dict(\n",
        "        title='Artist',\n",
        "        showgrid=False,  # Only show the grid lines for the y-axis\n",
        "        gridcolor='white',\n",
        "        autorange='reversed',\n",
        "        title_font=dict(size=16),\n",
        "        tickfont=dict(size=14),\n",
        "        automargin=True  # Automatically adjust the margin to fit the artist names\n",
        "    ),\n",
        "    hovermode='closest',  # Show hover for the closest point\n",
        "    showlegend=False,\n",
        "    #height=800,\n",
        "    #width=1500\n",
        "    #plot_bgcolor='black',  # Set the background color to black for contrast\n",
        "    #font=dict(color='white'),  # Set the font color to white for better readability\n",
        "    #paper_bgcolor='black',  # Set the paper background color to black as well\n",
        "    #legend=dict(orientation=\"h\", yanchor=\"bottom\", y=1.02, xanchor=\"right\", x=1),\n",
        "    #margin=dict(l=0, r=0, t=30, b=0)  # Adjust margins to fit the layout\n",
        ")\n",
        "\n",
        "# Show figure\n",
        "fig_full.show()\n"
      ]
    },
    {
      "cell_type": "code",
      "execution_count": 34,
      "metadata": {
        "colab": {
          "base_uri": "https://localhost:8080/",
          "height": 542
        },
        "id": "qWmvBXGVbLlW",
        "outputId": "96d8bb2c-456d-4b39-b289-7bb2a44c6c42"
      },
      "outputs": [
        {
          "data": {
            "application/vnd.plotly.v1+json": {
              "config": {
                "plotlyServerURL": "https://plot.ly"
              },
              "data": [
                {
                  "hoverinfo": "text",
                  "hovertext": "Kid Rock<br>Start: 2000-03-07<br>End: 2008-09-11<br>Duration: 3110 days<br>Genre:Rock",
                  "line": {
                    "color": "blue",
                    "width": 2
                  },
                  "marker": {
                    "color": "blue",
                    "size": 10
                  },
                  "mode": "lines+markers",
                  "name": "Kid Rock",
                  "textposition": "bottom center",
                  "type": "scatter",
                  "x": [
                    2000,
                    2008
                  ],
                  "y": [
                    "Kid Rock",
                    "Kid Rock"
                  ]
                },
                {
                  "hoverinfo": "text",
                  "hovertext": "Kid Rock<br>Start: 2000-03-07<br>End: 2008-09-11<br>Duration: 3110 days<br>Genre:Country",
                  "line": {
                    "color": "blue",
                    "width": 2
                  },
                  "marker": {
                    "color": "blue",
                    "size": 10
                  },
                  "mode": "lines+markers",
                  "name": "Kid Rock",
                  "textposition": "bottom center",
                  "type": "scatter",
                  "x": [
                    2000,
                    2008
                  ],
                  "y": [
                    "Kid Rock",
                    "Kid Rock"
                  ]
                },
                {
                  "hoverinfo": "text",
                  "hovertext": "Brad Paisley<br>Start: 1999-12-06<br>End: 2008-05-29<br>Duration: 3097 days<br>Genre:Rock",
                  "line": {
                    "color": "blue",
                    "width": 2
                  },
                  "marker": {
                    "color": "blue",
                    "size": 10
                  },
                  "mode": "lines+markers",
                  "name": "Brad Paisley",
                  "textposition": "bottom center",
                  "type": "scatter",
                  "x": [
                    1999,
                    2008
                  ],
                  "y": [
                    "Brad Paisley",
                    "Brad Paisley"
                  ]
                },
                {
                  "hoverinfo": "text",
                  "hovertext": "3 Doors Down<br>Start: 2000-07-11<br>End: 2008-06-26<br>Duration: 2907 days<br>Genre:Rock",
                  "line": {
                    "color": "blue",
                    "width": 2
                  },
                  "marker": {
                    "color": "blue",
                    "size": 10
                  },
                  "mode": "lines+markers",
                  "name": "3 Doors Down",
                  "textposition": "bottom center",
                  "type": "scatter",
                  "x": [
                    2000,
                    2008
                  ],
                  "y": [
                    "3 Doors Down",
                    "3 Doors Down"
                  ]
                },
                {
                  "hoverinfo": "text",
                  "hovertext": "Foo Fighters<br>Start: 1999-11-29<br>End: 2007-10-10<br>Duration: 2872 days<br>Genre:Rock",
                  "line": {
                    "color": "blue",
                    "width": 2
                  },
                  "marker": {
                    "color": "blue",
                    "size": 10
                  },
                  "mode": "lines+markers",
                  "name": "Foo Fighters",
                  "textposition": "bottom center",
                  "type": "scatter",
                  "x": [
                    1999,
                    2007
                  ],
                  "y": [
                    "Foo Fighters",
                    "Foo Fighters"
                  ]
                },
                {
                  "hoverinfo": "text",
                  "hovertext": "Christina Aguilera<br>Start: 1999-07-12<br>End: 2007-03-28<br>Duration: 2816 days<br>Genre:Pop",
                  "line": {
                    "color": "blue",
                    "width": 2
                  },
                  "marker": {
                    "color": "blue",
                    "size": 10
                  },
                  "mode": "lines+markers",
                  "name": "Christina Aguilera",
                  "textposition": "bottom center",
                  "type": "scatter",
                  "x": [
                    1999,
                    2007
                  ],
                  "y": [
                    "Christina Aguilera",
                    "Christina Aguilera"
                  ]
                },
                {
                  "hoverinfo": "text",
                  "hovertext": "Janet<br>Start: 2000-07-04<br>End: 2008-03-13<br>Duration: 2809 days<br>Genre:Pop",
                  "line": {
                    "color": "blue",
                    "width": 2
                  },
                  "marker": {
                    "color": "blue",
                    "size": 10
                  },
                  "mode": "lines+markers",
                  "name": "Janet",
                  "textposition": "bottom center",
                  "type": "scatter",
                  "x": [
                    2000,
                    2008
                  ],
                  "y": [
                    "Janet",
                    "Janet"
                  ]
                },
                {
                  "hoverinfo": "text",
                  "hovertext": "Janet<br>Start: 2000-07-04<br>End: 2008-03-13<br>Duration: 2809 days<br>Genre:R&;B",
                  "line": {
                    "color": "blue",
                    "width": 2
                  },
                  "marker": {
                    "color": "blue",
                    "size": 10
                  },
                  "mode": "lines+markers",
                  "name": "Janet",
                  "textposition": "bottom center",
                  "type": "scatter",
                  "x": [
                    2000,
                    2008
                  ],
                  "y": [
                    "Janet",
                    "Janet"
                  ]
                },
                {
                  "hoverinfo": "text",
                  "hovertext": "Martina Mcbride<br>Start: 1999-09-27<br>End: 2007-05-02<br>Duration: 2774 days<br>Genre:Country",
                  "line": {
                    "color": "blue",
                    "width": 2
                  },
                  "marker": {
                    "color": "blue",
                    "size": 10
                  },
                  "mode": "lines+markers",
                  "name": "Martina Mcbride",
                  "textposition": "bottom center",
                  "type": "scatter",
                  "x": [
                    1999,
                    2007
                  ],
                  "y": [
                    "Martina Mcbride",
                    "Martina Mcbride"
                  ]
                },
                {
                  "hoverinfo": "text",
                  "hovertext": "Montgomery Gentry<br>Start: 2001-06-26<br>End: 2008-12-25<br>Duration: 2739 days<br>Genre:Country",
                  "line": {
                    "color": "blue",
                    "width": 2
                  },
                  "marker": {
                    "color": "blue",
                    "size": 10
                  },
                  "mode": "lines+markers",
                  "name": "Montgomery Gentry",
                  "textposition": "bottom center",
                  "type": "scatter",
                  "x": [
                    2001,
                    2008
                  ],
                  "y": [
                    "Montgomery Gentry",
                    "Montgomery Gentry"
                  ]
                },
                {
                  "hoverinfo": "text",
                  "hovertext": "Dixie Chicks<br>Start: 1999-09-27<br>End: 2007-02-28<br>Duration: 2711 days<br>Genre:Country",
                  "line": {
                    "color": "blue",
                    "width": 2
                  },
                  "marker": {
                    "color": "blue",
                    "size": 10
                  },
                  "mode": "lines+markers",
                  "name": "Dixie Chicks",
                  "textposition": "bottom center",
                  "type": "scatter",
                  "x": [
                    1999,
                    2007
                  ],
                  "y": [
                    "Dixie Chicks",
                    "Dixie Chicks"
                  ]
                },
                {
                  "hoverinfo": "text",
                  "hovertext": "Lifehouse<br>Start: 2001-03-13<br>End: 2008-05-15<br>Duration: 2620 days<br>Genre:Rock",
                  "line": {
                    "color": "blue",
                    "width": 2
                  },
                  "marker": {
                    "color": "blue",
                    "size": 10
                  },
                  "mode": "lines+markers",
                  "name": "Lifehouse",
                  "textposition": "bottom center",
                  "type": "scatter",
                  "x": [
                    2001,
                    2008
                  ],
                  "y": [
                    "Lifehouse",
                    "Lifehouse"
                  ]
                },
                {
                  "hoverinfo": "text",
                  "hovertext": "Red Hot Chili Peppers<br>Start: 1999-07-26<br>End: 2006-05-31<br>Duration: 2501 days<br>Genre:Rock",
                  "line": {
                    "color": "blue",
                    "width": 2
                  },
                  "marker": {
                    "color": "blue",
                    "size": 10
                  },
                  "mode": "lines+markers",
                  "name": "Red Hot Chili Peppers",
                  "textposition": "bottom center",
                  "type": "scatter",
                  "x": [
                    1999,
                    2006
                  ],
                  "y": [
                    "Red Hot Chili Peppers",
                    "Red Hot Chili Peppers"
                  ]
                },
                {
                  "hoverinfo": "text",
                  "hovertext": "Jessica Simpson<br>Start: 1999-10-25<br>End: 2006-08-09<br>Duration: 2480 days<br>Genre:Pop",
                  "line": {
                    "color": "blue",
                    "width": 2
                  },
                  "marker": {
                    "color": "blue",
                    "size": 10
                  },
                  "mode": "lines+markers",
                  "name": "Jessica Simpson",
                  "textposition": "bottom center",
                  "type": "scatter",
                  "x": [
                    1999,
                    2006
                  ],
                  "y": [
                    "Jessica Simpson",
                    "Jessica Simpson"
                  ]
                },
                {
                  "hoverinfo": "text",
                  "hovertext": "Christina Aguilera<br>Start: 1999-12-06<br>End: 2006-07-12<br>Duration: 2410 days<br>Genre:R&;B",
                  "line": {
                    "color": "blue",
                    "width": 2
                  },
                  "marker": {
                    "color": "blue",
                    "size": 10
                  },
                  "mode": "lines+markers",
                  "name": "Christina Aguilera",
                  "textposition": "bottom center",
                  "type": "scatter",
                  "x": [
                    1999,
                    2006
                  ],
                  "y": [
                    "Christina Aguilera",
                    "Christina Aguilera"
                  ]
                },
                {
                  "hoverinfo": "text",
                  "hovertext": "George Strait<br>Start: 2001-12-11<br>End: 2008-05-01<br>Duration: 2333 days<br>Genre:Country",
                  "line": {
                    "color": "blue",
                    "width": 2
                  },
                  "marker": {
                    "color": "blue",
                    "size": 10
                  },
                  "mode": "lines+markers",
                  "name": "George Strait",
                  "textposition": "bottom center",
                  "type": "scatter",
                  "x": [
                    2001,
                    2008
                  ],
                  "y": [
                    "George Strait",
                    "George Strait"
                  ]
                },
                {
                  "hoverinfo": "text",
                  "hovertext": "George Strait<br>Start: 2001-12-11<br>End: 2008-05-01<br>Duration: 2333 days<br>Genre:Rock",
                  "line": {
                    "color": "blue",
                    "width": 2
                  },
                  "marker": {
                    "color": "blue",
                    "size": 10
                  },
                  "mode": "lines+markers",
                  "name": "George Strait",
                  "textposition": "bottom center",
                  "type": "scatter",
                  "x": [
                    2001,
                    2008
                  ],
                  "y": [
                    "George Strait",
                    "George Strait"
                  ]
                },
                {
                  "hoverinfo": "text",
                  "hovertext": "Mary J. Blige<br>Start: 2001-08-14<br>End: 2008-01-02<br>Duration: 2332 days<br>Genre:R&;B",
                  "line": {
                    "color": "blue",
                    "width": 2
                  },
                  "marker": {
                    "color": "blue",
                    "size": 10
                  },
                  "mode": "lines+markers",
                  "name": "Mary J. Blige",
                  "textposition": "bottom center",
                  "type": "scatter",
                  "x": [
                    2001,
                    2008
                  ],
                  "y": [
                    "Mary J. Blige",
                    "Mary J. Blige"
                  ]
                },
                {
                  "hoverinfo": "text",
                  "hovertext": "Mary J. Blige<br>Start: 2001-08-14<br>End: 2008-01-02<br>Duration: 2332 days<br>Genre:Pop",
                  "line": {
                    "color": "blue",
                    "width": 2
                  },
                  "marker": {
                    "color": "blue",
                    "size": 10
                  },
                  "mode": "lines+markers",
                  "name": "Mary J. Blige",
                  "textposition": "bottom center",
                  "type": "scatter",
                  "x": [
                    2001,
                    2008
                  ],
                  "y": [
                    "Mary J. Blige",
                    "Mary J. Blige"
                  ]
                },
                {
                  "hoverinfo": "text",
                  "hovertext": "Ashanti<br>Start: 2002-03-05<br>End: 2008-05-15<br>Duration: 2263 days<br>Genre:R&;B",
                  "line": {
                    "color": "blue",
                    "width": 2
                  },
                  "marker": {
                    "color": "blue",
                    "size": 10
                  },
                  "mode": "lines+markers",
                  "name": "Ashanti",
                  "textposition": "bottom center",
                  "type": "scatter",
                  "x": [
                    2002,
                    2008
                  ],
                  "y": [
                    "Ashanti",
                    "Ashanti"
                  ]
                }
              ],
              "layout": {
                "hovermode": "closest",
                "showlegend": false,
                "template": {
                  "data": {
                    "bar": [
                      {
                        "error_x": {
                          "color": "#2a3f5f"
                        },
                        "error_y": {
                          "color": "#2a3f5f"
                        },
                        "marker": {
                          "line": {
                            "color": "#E5ECF6",
                            "width": 0.5
                          },
                          "pattern": {
                            "fillmode": "overlay",
                            "size": 10,
                            "solidity": 0.2
                          }
                        },
                        "type": "bar"
                      }
                    ],
                    "barpolar": [
                      {
                        "marker": {
                          "line": {
                            "color": "#E5ECF6",
                            "width": 0.5
                          },
                          "pattern": {
                            "fillmode": "overlay",
                            "size": 10,
                            "solidity": 0.2
                          }
                        },
                        "type": "barpolar"
                      }
                    ],
                    "carpet": [
                      {
                        "aaxis": {
                          "endlinecolor": "#2a3f5f",
                          "gridcolor": "white",
                          "linecolor": "white",
                          "minorgridcolor": "white",
                          "startlinecolor": "#2a3f5f"
                        },
                        "baxis": {
                          "endlinecolor": "#2a3f5f",
                          "gridcolor": "white",
                          "linecolor": "white",
                          "minorgridcolor": "white",
                          "startlinecolor": "#2a3f5f"
                        },
                        "type": "carpet"
                      }
                    ],
                    "choropleth": [
                      {
                        "colorbar": {
                          "outlinewidth": 0,
                          "ticks": ""
                        },
                        "type": "choropleth"
                      }
                    ],
                    "contour": [
                      {
                        "colorbar": {
                          "outlinewidth": 0,
                          "ticks": ""
                        },
                        "colorscale": [
                          [
                            0,
                            "#0d0887"
                          ],
                          [
                            0.1111111111111111,
                            "#46039f"
                          ],
                          [
                            0.2222222222222222,
                            "#7201a8"
                          ],
                          [
                            0.3333333333333333,
                            "#9c179e"
                          ],
                          [
                            0.4444444444444444,
                            "#bd3786"
                          ],
                          [
                            0.5555555555555556,
                            "#d8576b"
                          ],
                          [
                            0.6666666666666666,
                            "#ed7953"
                          ],
                          [
                            0.7777777777777778,
                            "#fb9f3a"
                          ],
                          [
                            0.8888888888888888,
                            "#fdca26"
                          ],
                          [
                            1,
                            "#f0f921"
                          ]
                        ],
                        "type": "contour"
                      }
                    ],
                    "contourcarpet": [
                      {
                        "colorbar": {
                          "outlinewidth": 0,
                          "ticks": ""
                        },
                        "type": "contourcarpet"
                      }
                    ],
                    "heatmap": [
                      {
                        "colorbar": {
                          "outlinewidth": 0,
                          "ticks": ""
                        },
                        "colorscale": [
                          [
                            0,
                            "#0d0887"
                          ],
                          [
                            0.1111111111111111,
                            "#46039f"
                          ],
                          [
                            0.2222222222222222,
                            "#7201a8"
                          ],
                          [
                            0.3333333333333333,
                            "#9c179e"
                          ],
                          [
                            0.4444444444444444,
                            "#bd3786"
                          ],
                          [
                            0.5555555555555556,
                            "#d8576b"
                          ],
                          [
                            0.6666666666666666,
                            "#ed7953"
                          ],
                          [
                            0.7777777777777778,
                            "#fb9f3a"
                          ],
                          [
                            0.8888888888888888,
                            "#fdca26"
                          ],
                          [
                            1,
                            "#f0f921"
                          ]
                        ],
                        "type": "heatmap"
                      }
                    ],
                    "heatmapgl": [
                      {
                        "colorbar": {
                          "outlinewidth": 0,
                          "ticks": ""
                        },
                        "colorscale": [
                          [
                            0,
                            "#0d0887"
                          ],
                          [
                            0.1111111111111111,
                            "#46039f"
                          ],
                          [
                            0.2222222222222222,
                            "#7201a8"
                          ],
                          [
                            0.3333333333333333,
                            "#9c179e"
                          ],
                          [
                            0.4444444444444444,
                            "#bd3786"
                          ],
                          [
                            0.5555555555555556,
                            "#d8576b"
                          ],
                          [
                            0.6666666666666666,
                            "#ed7953"
                          ],
                          [
                            0.7777777777777778,
                            "#fb9f3a"
                          ],
                          [
                            0.8888888888888888,
                            "#fdca26"
                          ],
                          [
                            1,
                            "#f0f921"
                          ]
                        ],
                        "type": "heatmapgl"
                      }
                    ],
                    "histogram": [
                      {
                        "marker": {
                          "pattern": {
                            "fillmode": "overlay",
                            "size": 10,
                            "solidity": 0.2
                          }
                        },
                        "type": "histogram"
                      }
                    ],
                    "histogram2d": [
                      {
                        "colorbar": {
                          "outlinewidth": 0,
                          "ticks": ""
                        },
                        "colorscale": [
                          [
                            0,
                            "#0d0887"
                          ],
                          [
                            0.1111111111111111,
                            "#46039f"
                          ],
                          [
                            0.2222222222222222,
                            "#7201a8"
                          ],
                          [
                            0.3333333333333333,
                            "#9c179e"
                          ],
                          [
                            0.4444444444444444,
                            "#bd3786"
                          ],
                          [
                            0.5555555555555556,
                            "#d8576b"
                          ],
                          [
                            0.6666666666666666,
                            "#ed7953"
                          ],
                          [
                            0.7777777777777778,
                            "#fb9f3a"
                          ],
                          [
                            0.8888888888888888,
                            "#fdca26"
                          ],
                          [
                            1,
                            "#f0f921"
                          ]
                        ],
                        "type": "histogram2d"
                      }
                    ],
                    "histogram2dcontour": [
                      {
                        "colorbar": {
                          "outlinewidth": 0,
                          "ticks": ""
                        },
                        "colorscale": [
                          [
                            0,
                            "#0d0887"
                          ],
                          [
                            0.1111111111111111,
                            "#46039f"
                          ],
                          [
                            0.2222222222222222,
                            "#7201a8"
                          ],
                          [
                            0.3333333333333333,
                            "#9c179e"
                          ],
                          [
                            0.4444444444444444,
                            "#bd3786"
                          ],
                          [
                            0.5555555555555556,
                            "#d8576b"
                          ],
                          [
                            0.6666666666666666,
                            "#ed7953"
                          ],
                          [
                            0.7777777777777778,
                            "#fb9f3a"
                          ],
                          [
                            0.8888888888888888,
                            "#fdca26"
                          ],
                          [
                            1,
                            "#f0f921"
                          ]
                        ],
                        "type": "histogram2dcontour"
                      }
                    ],
                    "mesh3d": [
                      {
                        "colorbar": {
                          "outlinewidth": 0,
                          "ticks": ""
                        },
                        "type": "mesh3d"
                      }
                    ],
                    "parcoords": [
                      {
                        "line": {
                          "colorbar": {
                            "outlinewidth": 0,
                            "ticks": ""
                          }
                        },
                        "type": "parcoords"
                      }
                    ],
                    "pie": [
                      {
                        "automargin": true,
                        "type": "pie"
                      }
                    ],
                    "scatter": [
                      {
                        "fillpattern": {
                          "fillmode": "overlay",
                          "size": 10,
                          "solidity": 0.2
                        },
                        "type": "scatter"
                      }
                    ],
                    "scatter3d": [
                      {
                        "line": {
                          "colorbar": {
                            "outlinewidth": 0,
                            "ticks": ""
                          }
                        },
                        "marker": {
                          "colorbar": {
                            "outlinewidth": 0,
                            "ticks": ""
                          }
                        },
                        "type": "scatter3d"
                      }
                    ],
                    "scattercarpet": [
                      {
                        "marker": {
                          "colorbar": {
                            "outlinewidth": 0,
                            "ticks": ""
                          }
                        },
                        "type": "scattercarpet"
                      }
                    ],
                    "scattergeo": [
                      {
                        "marker": {
                          "colorbar": {
                            "outlinewidth": 0,
                            "ticks": ""
                          }
                        },
                        "type": "scattergeo"
                      }
                    ],
                    "scattergl": [
                      {
                        "marker": {
                          "colorbar": {
                            "outlinewidth": 0,
                            "ticks": ""
                          }
                        },
                        "type": "scattergl"
                      }
                    ],
                    "scattermapbox": [
                      {
                        "marker": {
                          "colorbar": {
                            "outlinewidth": 0,
                            "ticks": ""
                          }
                        },
                        "type": "scattermapbox"
                      }
                    ],
                    "scatterpolar": [
                      {
                        "marker": {
                          "colorbar": {
                            "outlinewidth": 0,
                            "ticks": ""
                          }
                        },
                        "type": "scatterpolar"
                      }
                    ],
                    "scatterpolargl": [
                      {
                        "marker": {
                          "colorbar": {
                            "outlinewidth": 0,
                            "ticks": ""
                          }
                        },
                        "type": "scatterpolargl"
                      }
                    ],
                    "scatterternary": [
                      {
                        "marker": {
                          "colorbar": {
                            "outlinewidth": 0,
                            "ticks": ""
                          }
                        },
                        "type": "scatterternary"
                      }
                    ],
                    "surface": [
                      {
                        "colorbar": {
                          "outlinewidth": 0,
                          "ticks": ""
                        },
                        "colorscale": [
                          [
                            0,
                            "#0d0887"
                          ],
                          [
                            0.1111111111111111,
                            "#46039f"
                          ],
                          [
                            0.2222222222222222,
                            "#7201a8"
                          ],
                          [
                            0.3333333333333333,
                            "#9c179e"
                          ],
                          [
                            0.4444444444444444,
                            "#bd3786"
                          ],
                          [
                            0.5555555555555556,
                            "#d8576b"
                          ],
                          [
                            0.6666666666666666,
                            "#ed7953"
                          ],
                          [
                            0.7777777777777778,
                            "#fb9f3a"
                          ],
                          [
                            0.8888888888888888,
                            "#fdca26"
                          ],
                          [
                            1,
                            "#f0f921"
                          ]
                        ],
                        "type": "surface"
                      }
                    ],
                    "table": [
                      {
                        "cells": {
                          "fill": {
                            "color": "#EBF0F8"
                          },
                          "line": {
                            "color": "white"
                          }
                        },
                        "header": {
                          "fill": {
                            "color": "#C8D4E3"
                          },
                          "line": {
                            "color": "white"
                          }
                        },
                        "type": "table"
                      }
                    ]
                  },
                  "layout": {
                    "annotationdefaults": {
                      "arrowcolor": "#2a3f5f",
                      "arrowhead": 0,
                      "arrowwidth": 1
                    },
                    "autotypenumbers": "strict",
                    "coloraxis": {
                      "colorbar": {
                        "outlinewidth": 0,
                        "ticks": ""
                      }
                    },
                    "colorscale": {
                      "diverging": [
                        [
                          0,
                          "#8e0152"
                        ],
                        [
                          0.1,
                          "#c51b7d"
                        ],
                        [
                          0.2,
                          "#de77ae"
                        ],
                        [
                          0.3,
                          "#f1b6da"
                        ],
                        [
                          0.4,
                          "#fde0ef"
                        ],
                        [
                          0.5,
                          "#f7f7f7"
                        ],
                        [
                          0.6,
                          "#e6f5d0"
                        ],
                        [
                          0.7,
                          "#b8e186"
                        ],
                        [
                          0.8,
                          "#7fbc41"
                        ],
                        [
                          0.9,
                          "#4d9221"
                        ],
                        [
                          1,
                          "#276419"
                        ]
                      ],
                      "sequential": [
                        [
                          0,
                          "#0d0887"
                        ],
                        [
                          0.1111111111111111,
                          "#46039f"
                        ],
                        [
                          0.2222222222222222,
                          "#7201a8"
                        ],
                        [
                          0.3333333333333333,
                          "#9c179e"
                        ],
                        [
                          0.4444444444444444,
                          "#bd3786"
                        ],
                        [
                          0.5555555555555556,
                          "#d8576b"
                        ],
                        [
                          0.6666666666666666,
                          "#ed7953"
                        ],
                        [
                          0.7777777777777778,
                          "#fb9f3a"
                        ],
                        [
                          0.8888888888888888,
                          "#fdca26"
                        ],
                        [
                          1,
                          "#f0f921"
                        ]
                      ],
                      "sequentialminus": [
                        [
                          0,
                          "#0d0887"
                        ],
                        [
                          0.1111111111111111,
                          "#46039f"
                        ],
                        [
                          0.2222222222222222,
                          "#7201a8"
                        ],
                        [
                          0.3333333333333333,
                          "#9c179e"
                        ],
                        [
                          0.4444444444444444,
                          "#bd3786"
                        ],
                        [
                          0.5555555555555556,
                          "#d8576b"
                        ],
                        [
                          0.6666666666666666,
                          "#ed7953"
                        ],
                        [
                          0.7777777777777778,
                          "#fb9f3a"
                        ],
                        [
                          0.8888888888888888,
                          "#fdca26"
                        ],
                        [
                          1,
                          "#f0f921"
                        ]
                      ]
                    },
                    "colorway": [
                      "#636efa",
                      "#EF553B",
                      "#00cc96",
                      "#ab63fa",
                      "#FFA15A",
                      "#19d3f3",
                      "#FF6692",
                      "#B6E880",
                      "#FF97FF",
                      "#FECB52"
                    ],
                    "font": {
                      "color": "#2a3f5f"
                    },
                    "geo": {
                      "bgcolor": "white",
                      "lakecolor": "white",
                      "landcolor": "#E5ECF6",
                      "showlakes": true,
                      "showland": true,
                      "subunitcolor": "white"
                    },
                    "hoverlabel": {
                      "align": "left"
                    },
                    "hovermode": "closest",
                    "mapbox": {
                      "style": "light"
                    },
                    "paper_bgcolor": "white",
                    "plot_bgcolor": "#E5ECF6",
                    "polar": {
                      "angularaxis": {
                        "gridcolor": "white",
                        "linecolor": "white",
                        "ticks": ""
                      },
                      "bgcolor": "#E5ECF6",
                      "radialaxis": {
                        "gridcolor": "white",
                        "linecolor": "white",
                        "ticks": ""
                      }
                    },
                    "scene": {
                      "xaxis": {
                        "backgroundcolor": "#E5ECF6",
                        "gridcolor": "white",
                        "gridwidth": 2,
                        "linecolor": "white",
                        "showbackground": true,
                        "ticks": "",
                        "zerolinecolor": "white"
                      },
                      "yaxis": {
                        "backgroundcolor": "#E5ECF6",
                        "gridcolor": "white",
                        "gridwidth": 2,
                        "linecolor": "white",
                        "showbackground": true,
                        "ticks": "",
                        "zerolinecolor": "white"
                      },
                      "zaxis": {
                        "backgroundcolor": "#E5ECF6",
                        "gridcolor": "white",
                        "gridwidth": 2,
                        "linecolor": "white",
                        "showbackground": true,
                        "ticks": "",
                        "zerolinecolor": "white"
                      }
                    },
                    "shapedefaults": {
                      "line": {
                        "color": "#2a3f5f"
                      }
                    },
                    "ternary": {
                      "aaxis": {
                        "gridcolor": "white",
                        "linecolor": "white",
                        "ticks": ""
                      },
                      "baxis": {
                        "gridcolor": "white",
                        "linecolor": "white",
                        "ticks": ""
                      },
                      "bgcolor": "#E5ECF6",
                      "caxis": {
                        "gridcolor": "white",
                        "linecolor": "white",
                        "ticks": ""
                      }
                    },
                    "title": {
                      "x": 0.05
                    },
                    "xaxis": {
                      "automargin": true,
                      "gridcolor": "white",
                      "linecolor": "white",
                      "ticks": "",
                      "title": {
                        "standoff": 15
                      },
                      "zerolinecolor": "white",
                      "zerolinewidth": 2
                    },
                    "yaxis": {
                      "automargin": true,
                      "gridcolor": "white",
                      "linecolor": "white",
                      "ticks": "",
                      "title": {
                        "standoff": 15
                      },
                      "zerolinecolor": "white",
                      "zerolinewidth": 2
                    }
                  }
                },
                "title": {
                  "font": {
                    "size": 20
                  },
                  "text": "Top 20 Artists' Golden Era (1999-2009) with genres",
                  "x": 0.5
                },
                "xaxis": {
                  "range": [
                    1998,
                    2009
                  ],
                  "showgrid": true,
                  "showline": true,
                  "tickmode": "linear",
                  "title": {
                    "font": {
                      "size": 16
                    },
                    "text": "Year"
                  }
                },
                "yaxis": {
                  "automargin": true,
                  "autorange": "reversed",
                  "gridcolor": "white",
                  "showgrid": false,
                  "tickfont": {
                    "size": 14
                  },
                  "title": {
                    "font": {
                      "size": 16
                    },
                    "text": "Artist"
                  }
                }
              }
            }
          },
          "metadata": {},
          "output_type": "display_data"
        }
      ],
      "source": [
        "# Assuming top_durations is the DataFrame with the data provided above\n",
        "# First, convert the 'min' and 'max' columns to datetime, if not already done\n",
        "top_art1['min'] = pd.to_datetime(top_art1['min'])\n",
        "top_art1['max'] = pd.to_datetime(top_art1['max'])\n",
        "\n",
        "# Since top_durations is already your DataFrame, let's reset the index to use 'Artist' as a column\n",
        "top_reset_1 = top_art1.reset_index()\n",
        "\n",
        "# Now let's create the plotly figure\n",
        "import plotly.graph_objects as go\n",
        "\n",
        "# Create figure\n",
        "fig_one= go.Figure()\n",
        "\n",
        "# Add a line for each artist\n",
        "for i, row in top_reset_1.iterrows():\n",
        "    fig_one.add_trace(go.Scatter(\n",
        "        x=[row['min'].year, row['max'].year],\n",
        "        y=[row['Artist'], row['Artist']],\n",
        "        mode='lines+markers',\n",
        "        name=row['Artist'],\n",
        "        #text=f\"{row['Artist']}<br>{row['Duration'].days} days\",\n",
        "        hovertext=f\"{row['Artist']}<br>Start: {row['min'].date()}<br>End: {row['max'].date()}<br>Duration: {row['Duration'].days} days<br>Genre:{row['Genre']}\",\n",
        "        textposition=\"bottom center\",\n",
        "        line=dict(width=2, color='blue'),\n",
        "\n",
        "        marker=dict(size=10, color='blue'),\n",
        "        hoverinfo='text'\n",
        "\n",
        "    ))\n",
        "\n",
        "# Update layout to adjust the look and feel of the plot\n",
        "fig_one.update_layout(\n",
        "    title='Top 20 Artists\\' Golden Era (1999-2009) with genres',\n",
        "    title_x=0.5,\n",
        "    title_font=dict(size=20),\n",
        "    xaxis=dict(\n",
        "        title='Year',\n",
        "        showgrid=True,  # Hide the x-axis grid lines\n",
        "        showline=True,\n",
        "        tickmode='linear',\n",
        "        title_font=dict(size=16),\n",
        "        #tickfont=dict(size=14),\n",
        "        range=[1998, 2009]  # Set the range for x-axis to cover the years of interest\n",
        "    ),\n",
        "    yaxis=dict(\n",
        "        title='Artist',\n",
        "        showgrid=False,  # Only show the grid lines for the y-axis\n",
        "        gridcolor='white',\n",
        "        autorange='reversed',\n",
        "        title_font=dict(size=16),\n",
        "        tickfont=dict(size=14),\n",
        "        automargin=True  # Automatically adjust the margin to fit the artist names\n",
        "    ),\n",
        "    hovermode='closest',  # Show hover for the closest point\n",
        "    showlegend=False,\n",
        "    #height=800,\n",
        "    #width=1500\n",
        "    #plot_bgcolor='black',  # Set the background color to black for contrast\n",
        "    #font=dict(color='white'),  # Set the font color to white for better readability\n",
        "    #paper_bgcolor='black',  # Set the paper background color to black as well\n",
        "    #legend=dict(orientation=\"h\", yanchor=\"bottom\", y=1.02, xanchor=\"right\", x=1),\n",
        "    #margin=dict(l=0, r=0, t=30, b=0)  # Adjust margins to fit the layout\n",
        ")\n",
        "\n",
        "# Show figure\n",
        "fig_one.show()\n"
      ]
    },
    {
      "cell_type": "code",
      "execution_count": 70,
      "metadata": {
        "colab": {
          "base_uri": "https://localhost:8080/",
          "height": 542
        },
        "id": "5tmPlrzSfUG_",
        "outputId": "7c42dac0-af35-44f0-9c09-4761f7cdf283"
      },
      "outputs": [
        {
          "data": {
            "text/html": [
              "<html>\n",
              "<head><meta charset=\"utf-8\" /></head>\n",
              "<body>\n",
              "    <div>            <script src=\"https://cdnjs.cloudflare.com/ajax/libs/mathjax/2.7.5/MathJax.js?config=TeX-AMS-MML_SVG\"></script><script type=\"text/javascript\">if (window.MathJax && window.MathJax.Hub && window.MathJax.Hub.Config) {window.MathJax.Hub.Config({SVG: {font: \"STIX-Web\"}});}</script>                <script type=\"text/javascript\">window.PlotlyConfig = {MathJaxConfig: 'local'};</script>\n",
              "        <script charset=\"utf-8\" src=\"https://cdn.plot.ly/plotly-2.24.1.min.js\"></script>                <div id=\"ce698bd6-20e6-4827-9424-b199027bc48d\" class=\"plotly-graph-div\" style=\"height:525px; width:100%;\"></div>            <script type=\"text/javascript\">                                    window.PLOTLYENV=window.PLOTLYENV || {};                                    if (document.getElementById(\"ce698bd6-20e6-4827-9424-b199027bc48d\")) {                    Plotly.newPlot(                        \"ce698bd6-20e6-4827-9424-b199027bc48d\",                        [{\"hoverinfo\":\"text\",\"hovertext\":\"Drake\\u003cbr\\u003eStart: 2009-06-11\\u003cbr\\u003eEnd: 2018-09-22\\u003cbr\\u003eDuration: 3390 days\\u003cbr\\u003eGenre:Rap\",\"line\":{\"color\":\"blue\",\"width\":2},\"marker\":{\"color\":\"blue\",\"size\":10},\"mode\":\"lines+markers\",\"name\":\"Drake\",\"textposition\":\"bottom center\",\"x\":[2009,2018],\"y\":[\"Drake\",\"Drake\"],\"type\":\"scatter\"},{\"hoverinfo\":\"text\",\"hovertext\":\"Drake\\u003cbr\\u003eStart: 2009-06-11\\u003cbr\\u003eEnd: 2018-09-22\\u003cbr\\u003eDuration: 3390 days\\u003cbr\\u003eGenre:R&;B\",\"line\":{\"color\":\"blue\",\"width\":2},\"marker\":{\"color\":\"blue\",\"size\":10},\"mode\":\"lines+markers\",\"name\":\"Drake\",\"textposition\":\"bottom center\",\"x\":[2009,2018],\"y\":[\"Drake\",\"Drake\"],\"type\":\"scatter\"},{\"hoverinfo\":\"text\",\"hovertext\":\"Drake\\u003cbr\\u003eStart: 2009-06-11\\u003cbr\\u003eEnd: 2018-09-22\\u003cbr\\u003eDuration: 3390 days\\u003cbr\\u003eGenre:Pop\",\"line\":{\"color\":\"blue\",\"width\":2},\"marker\":{\"color\":\"blue\",\"size\":10},\"mode\":\"lines+markers\",\"name\":\"Drake\",\"textposition\":\"bottom center\",\"x\":[2009,2018],\"y\":[\"Drake\",\"Drake\"],\"type\":\"scatter\"},{\"hoverinfo\":\"text\",\"hovertext\":\"Luke Bryan\\u003cbr\\u003eStart: 2009-11-19\\u003cbr\\u003eEnd: 2018-09-08\\u003cbr\\u003eDuration: 3215 days\\u003cbr\\u003eGenre:Country\",\"line\":{\"color\":\"blue\",\"width\":2},\"marker\":{\"color\":\"blue\",\"size\":10},\"mode\":\"lines+markers\",\"name\":\"Luke Bryan\",\"textposition\":\"bottom center\",\"x\":[2009,2018],\"y\":[\"Luke Bryan\",\"Luke Bryan\"],\"type\":\"scatter\"},{\"hoverinfo\":\"text\",\"hovertext\":\"Demi Lovato\\u003cbr\\u003eStart: 2009-07-30\\u003cbr\\u003eEnd: 2017-11-11\\u003cbr\\u003eDuration: 3026 days\\u003cbr\\u003eGenre:Pop\",\"line\":{\"color\":\"blue\",\"width\":2},\"marker\":{\"color\":\"blue\",\"size\":10},\"mode\":\"lines+markers\",\"name\":\"Demi Lovato\",\"textposition\":\"bottom center\",\"x\":[2009,2017],\"y\":[\"Demi Lovato\",\"Demi Lovato\"],\"type\":\"scatter\"},{\"hoverinfo\":\"text\",\"hovertext\":\"Adele\\u003cbr\\u003eStart: 2009-02-26\\u003cbr\\u003eEnd: 2017-02-11\\u003cbr\\u003eDuration: 2907 days\\u003cbr\\u003eGenre:Pop\",\"line\":{\"color\":\"blue\",\"width\":2},\"marker\":{\"color\":\"blue\",\"size\":10},\"mode\":\"lines+markers\",\"name\":\"Adele\",\"textposition\":\"bottom center\",\"x\":[2009,2017],\"y\":[\"Adele\",\"Adele\"],\"type\":\"scatter\"},{\"hoverinfo\":\"text\",\"hovertext\":\"J. Cole\\u003cbr\\u003eStart: 2011-11-10\\u003cbr\\u003eEnd: 2019-02-09\\u003cbr\\u003eDuration: 2648 days\\u003cbr\\u003eGenre:Rap\",\"line\":{\"color\":\"blue\",\"width\":2},\"marker\":{\"color\":\"blue\",\"size\":10},\"mode\":\"lines+markers\",\"name\":\"J. Cole\",\"textposition\":\"bottom center\",\"x\":[2011,2019],\"y\":[\"J. Cole\",\"J. Cole\"],\"type\":\"scatter\"},{\"hoverinfo\":\"text\",\"hovertext\":\"Lee Brice\\u003cbr\\u003eStart: 2012-03-30\\u003cbr\\u003eEnd: 2019-06-29\\u003cbr\\u003eDuration: 2647 days\\u003cbr\\u003eGenre:Country\",\"line\":{\"color\":\"blue\",\"width\":2},\"marker\":{\"color\":\"blue\",\"size\":10},\"mode\":\"lines+markers\",\"name\":\"Lee Brice\",\"textposition\":\"bottom center\",\"x\":[2012,2019],\"y\":[\"Lee Brice\",\"Lee Brice\"],\"type\":\"scatter\"},{\"hoverinfo\":\"text\",\"hovertext\":\"Bruno Mars\\u003cbr\\u003eStart: 2010-08-12\\u003cbr\\u003eEnd: 2017-09-02\\u003cbr\\u003eDuration: 2578 days\\u003cbr\\u003eGenre:Pop\",\"line\":{\"color\":\"blue\",\"width\":2},\"marker\":{\"color\":\"blue\",\"size\":10},\"mode\":\"lines+markers\",\"name\":\"Bruno Mars\",\"textposition\":\"bottom center\",\"x\":[2010,2017],\"y\":[\"Bruno Mars\",\"Bruno Mars\"],\"type\":\"scatter\"},{\"hoverinfo\":\"text\",\"hovertext\":\"Bruno Mars\\u003cbr\\u003eStart: 2010-08-12\\u003cbr\\u003eEnd: 2017-09-02\\u003cbr\\u003eDuration: 2578 days\\u003cbr\\u003eGenre:R&;B\",\"line\":{\"color\":\"blue\",\"width\":2},\"marker\":{\"color\":\"blue\",\"size\":10},\"mode\":\"lines+markers\",\"name\":\"Bruno Mars\",\"textposition\":\"bottom center\",\"x\":[2010,2017],\"y\":[\"Bruno Mars\",\"Bruno Mars\"],\"type\":\"scatter\"},{\"hoverinfo\":\"text\",\"hovertext\":\"Jeremih\\u003cbr\\u003eStart: 2009-05-14\\u003cbr\\u003eEnd: 2016-04-23\\u003cbr\\u003eDuration: 2536 days\\u003cbr\\u003eGenre:R&;B\",\"line\":{\"color\":\"blue\",\"width\":2},\"marker\":{\"color\":\"blue\",\"size\":10},\"mode\":\"lines+markers\",\"name\":\"Jeremih\",\"textposition\":\"bottom center\",\"x\":[2009,2016],\"y\":[\"Jeremih\",\"Jeremih\"],\"type\":\"scatter\"},{\"hoverinfo\":\"text\",\"hovertext\":\"Justin Bieber\\u003cbr\\u003eStart: 2009-09-10\\u003cbr\\u003eEnd: 2016-02-26\\u003cbr\\u003eDuration: 2360 days\\u003cbr\\u003eGenre:Pop\",\"line\":{\"color\":\"blue\",\"width\":2},\"marker\":{\"color\":\"blue\",\"size\":10},\"mode\":\"lines+markers\",\"name\":\"Justin Bieber\",\"textposition\":\"bottom center\",\"x\":[2009,2016],\"y\":[\"Justin Bieber\",\"Justin Bieber\"],\"type\":\"scatter\"},{\"hoverinfo\":\"text\",\"hovertext\":\"Chris Young\\u003cbr\\u003eStart: 2009-10-15\\u003cbr\\u003eEnd: 2015-12-04\\u003cbr\\u003eDuration: 2241 days\\u003cbr\\u003eGenre:Country\",\"line\":{\"color\":\"blue\",\"width\":2},\"marker\":{\"color\":\"blue\",\"size\":10},\"mode\":\"lines+markers\",\"name\":\"Chris Young\",\"textposition\":\"bottom center\",\"x\":[2009,2015],\"y\":[\"Chris Young\",\"Chris Young\"],\"type\":\"scatter\"},{\"hoverinfo\":\"text\",\"hovertext\":\"Mike Posner\\u003cbr\\u003eStart: 2010-06-10\\u003cbr\\u003eEnd: 2016-05-21\\u003cbr\\u003eDuration: 2172 days\\u003cbr\\u003eGenre:Pop\",\"line\":{\"color\":\"blue\",\"width\":2},\"marker\":{\"color\":\"blue\",\"size\":10},\"mode\":\"lines+markers\",\"name\":\"Mike Posner\",\"textposition\":\"bottom center\",\"x\":[2010,2016],\"y\":[\"Mike Posner\",\"Mike Posner\"],\"type\":\"scatter\"},{\"hoverinfo\":\"text\",\"hovertext\":\"Jason Derulo\\u003cbr\\u003eStart: 2009-09-03\\u003cbr\\u003eEnd: 2015-06-26\\u003cbr\\u003eDuration: 2122 days\\u003cbr\\u003eGenre:R&;B\",\"line\":{\"color\":\"blue\",\"width\":2},\"marker\":{\"color\":\"blue\",\"size\":10},\"mode\":\"lines+markers\",\"name\":\"Jason Derulo\",\"textposition\":\"bottom center\",\"x\":[2009,2015],\"y\":[\"Jason Derulo\",\"Jason Derulo\"],\"type\":\"scatter\"},{\"hoverinfo\":\"text\",\"hovertext\":\"Jason Derulo\\u003cbr\\u003eStart: 2009-09-03\\u003cbr\\u003eEnd: 2015-06-26\\u003cbr\\u003eDuration: 2122 days\\u003cbr\\u003eGenre:Pop\",\"line\":{\"color\":\"blue\",\"width\":2},\"marker\":{\"color\":\"blue\",\"size\":10},\"mode\":\"lines+markers\",\"name\":\"Jason Derulo\",\"textposition\":\"bottom center\",\"x\":[2009,2015],\"y\":[\"Jason Derulo\",\"Jason Derulo\"],\"type\":\"scatter\"},{\"hoverinfo\":\"text\",\"hovertext\":\"Big Sean\\u003cbr\\u003eStart: 2011-06-30\\u003cbr\\u003eEnd: 2017-02-25\\u003cbr\\u003eDuration: 2067 days\\u003cbr\\u003eGenre:Rap\",\"line\":{\"color\":\"blue\",\"width\":2},\"marker\":{\"color\":\"blue\",\"size\":10},\"mode\":\"lines+markers\",\"name\":\"Big Sean\",\"textposition\":\"bottom center\",\"x\":[2011,2017],\"y\":[\"Big Sean\",\"Big Sean\"],\"type\":\"scatter\"},{\"hoverinfo\":\"text\",\"hovertext\":\"Demi Lovato\\u003cbr\\u003eStart: 2012-06-15\\u003cbr\\u003eEnd: 2017-11-11\\u003cbr\\u003eDuration: 1975 days\\u003cbr\\u003eGenre:R&;B\",\"line\":{\"color\":\"blue\",\"width\":2},\"marker\":{\"color\":\"blue\",\"size\":10},\"mode\":\"lines+markers\",\"name\":\"Demi Lovato\",\"textposition\":\"bottom center\",\"x\":[2012,2017],\"y\":[\"Demi Lovato\",\"Demi Lovato\"],\"type\":\"scatter\"},{\"hoverinfo\":\"text\",\"hovertext\":\"Ed Sheeran\\u003cbr\\u003eStart: 2012-11-09\\u003cbr\\u003eEnd: 2018-01-20\\u003cbr\\u003eDuration: 1898 days\\u003cbr\\u003eGenre:Pop\",\"line\":{\"color\":\"blue\",\"width\":2},\"marker\":{\"color\":\"blue\",\"size\":10},\"mode\":\"lines+markers\",\"name\":\"Ed Sheeran\",\"textposition\":\"bottom center\",\"x\":[2012,2018],\"y\":[\"Ed Sheeran\",\"Ed Sheeran\"],\"type\":\"scatter\"},{\"hoverinfo\":\"text\",\"hovertext\":\"Lady Antebellum\\u003cbr\\u003eStart: 2009-06-18\\u003cbr\\u003eEnd: 2014-08-22\\u003cbr\\u003eDuration: 1891 days\\u003cbr\\u003eGenre:Country\",\"line\":{\"color\":\"blue\",\"width\":2},\"marker\":{\"color\":\"blue\",\"size\":10},\"mode\":\"lines+markers\",\"name\":\"Lady Antebellum\",\"textposition\":\"bottom center\",\"x\":[2009,2014],\"y\":[\"Lady Antebellum\",\"Lady Antebellum\"],\"type\":\"scatter\"}],                        {\"template\":{\"data\":{\"histogram2dcontour\":[{\"type\":\"histogram2dcontour\",\"colorbar\":{\"outlinewidth\":0,\"ticks\":\"\"},\"colorscale\":[[0.0,\"#0d0887\"],[0.1111111111111111,\"#46039f\"],[0.2222222222222222,\"#7201a8\"],[0.3333333333333333,\"#9c179e\"],[0.4444444444444444,\"#bd3786\"],[0.5555555555555556,\"#d8576b\"],[0.6666666666666666,\"#ed7953\"],[0.7777777777777778,\"#fb9f3a\"],[0.8888888888888888,\"#fdca26\"],[1.0,\"#f0f921\"]]}],\"choropleth\":[{\"type\":\"choropleth\",\"colorbar\":{\"outlinewidth\":0,\"ticks\":\"\"}}],\"histogram2d\":[{\"type\":\"histogram2d\",\"colorbar\":{\"outlinewidth\":0,\"ticks\":\"\"},\"colorscale\":[[0.0,\"#0d0887\"],[0.1111111111111111,\"#46039f\"],[0.2222222222222222,\"#7201a8\"],[0.3333333333333333,\"#9c179e\"],[0.4444444444444444,\"#bd3786\"],[0.5555555555555556,\"#d8576b\"],[0.6666666666666666,\"#ed7953\"],[0.7777777777777778,\"#fb9f3a\"],[0.8888888888888888,\"#fdca26\"],[1.0,\"#f0f921\"]]}],\"heatmap\":[{\"type\":\"heatmap\",\"colorbar\":{\"outlinewidth\":0,\"ticks\":\"\"},\"colorscale\":[[0.0,\"#0d0887\"],[0.1111111111111111,\"#46039f\"],[0.2222222222222222,\"#7201a8\"],[0.3333333333333333,\"#9c179e\"],[0.4444444444444444,\"#bd3786\"],[0.5555555555555556,\"#d8576b\"],[0.6666666666666666,\"#ed7953\"],[0.7777777777777778,\"#fb9f3a\"],[0.8888888888888888,\"#fdca26\"],[1.0,\"#f0f921\"]]}],\"heatmapgl\":[{\"type\":\"heatmapgl\",\"colorbar\":{\"outlinewidth\":0,\"ticks\":\"\"},\"colorscale\":[[0.0,\"#0d0887\"],[0.1111111111111111,\"#46039f\"],[0.2222222222222222,\"#7201a8\"],[0.3333333333333333,\"#9c179e\"],[0.4444444444444444,\"#bd3786\"],[0.5555555555555556,\"#d8576b\"],[0.6666666666666666,\"#ed7953\"],[0.7777777777777778,\"#fb9f3a\"],[0.8888888888888888,\"#fdca26\"],[1.0,\"#f0f921\"]]}],\"contourcarpet\":[{\"type\":\"contourcarpet\",\"colorbar\":{\"outlinewidth\":0,\"ticks\":\"\"}}],\"contour\":[{\"type\":\"contour\",\"colorbar\":{\"outlinewidth\":0,\"ticks\":\"\"},\"colorscale\":[[0.0,\"#0d0887\"],[0.1111111111111111,\"#46039f\"],[0.2222222222222222,\"#7201a8\"],[0.3333333333333333,\"#9c179e\"],[0.4444444444444444,\"#bd3786\"],[0.5555555555555556,\"#d8576b\"],[0.6666666666666666,\"#ed7953\"],[0.7777777777777778,\"#fb9f3a\"],[0.8888888888888888,\"#fdca26\"],[1.0,\"#f0f921\"]]}],\"surface\":[{\"type\":\"surface\",\"colorbar\":{\"outlinewidth\":0,\"ticks\":\"\"},\"colorscale\":[[0.0,\"#0d0887\"],[0.1111111111111111,\"#46039f\"],[0.2222222222222222,\"#7201a8\"],[0.3333333333333333,\"#9c179e\"],[0.4444444444444444,\"#bd3786\"],[0.5555555555555556,\"#d8576b\"],[0.6666666666666666,\"#ed7953\"],[0.7777777777777778,\"#fb9f3a\"],[0.8888888888888888,\"#fdca26\"],[1.0,\"#f0f921\"]]}],\"mesh3d\":[{\"type\":\"mesh3d\",\"colorbar\":{\"outlinewidth\":0,\"ticks\":\"\"}}],\"scatter\":[{\"fillpattern\":{\"fillmode\":\"overlay\",\"size\":10,\"solidity\":0.2},\"type\":\"scatter\"}],\"parcoords\":[{\"type\":\"parcoords\",\"line\":{\"colorbar\":{\"outlinewidth\":0,\"ticks\":\"\"}}}],\"scatterpolargl\":[{\"type\":\"scatterpolargl\",\"marker\":{\"colorbar\":{\"outlinewidth\":0,\"ticks\":\"\"}}}],\"bar\":[{\"error_x\":{\"color\":\"#2a3f5f\"},\"error_y\":{\"color\":\"#2a3f5f\"},\"marker\":{\"line\":{\"color\":\"#E5ECF6\",\"width\":0.5},\"pattern\":{\"fillmode\":\"overlay\",\"size\":10,\"solidity\":0.2}},\"type\":\"bar\"}],\"scattergeo\":[{\"type\":\"scattergeo\",\"marker\":{\"colorbar\":{\"outlinewidth\":0,\"ticks\":\"\"}}}],\"scatterpolar\":[{\"type\":\"scatterpolar\",\"marker\":{\"colorbar\":{\"outlinewidth\":0,\"ticks\":\"\"}}}],\"histogram\":[{\"marker\":{\"pattern\":{\"fillmode\":\"overlay\",\"size\":10,\"solidity\":0.2}},\"type\":\"histogram\"}],\"scattergl\":[{\"type\":\"scattergl\",\"marker\":{\"colorbar\":{\"outlinewidth\":0,\"ticks\":\"\"}}}],\"scatter3d\":[{\"type\":\"scatter3d\",\"line\":{\"colorbar\":{\"outlinewidth\":0,\"ticks\":\"\"}},\"marker\":{\"colorbar\":{\"outlinewidth\":0,\"ticks\":\"\"}}}],\"scattermapbox\":[{\"type\":\"scattermapbox\",\"marker\":{\"colorbar\":{\"outlinewidth\":0,\"ticks\":\"\"}}}],\"scatterternary\":[{\"type\":\"scatterternary\",\"marker\":{\"colorbar\":{\"outlinewidth\":0,\"ticks\":\"\"}}}],\"scattercarpet\":[{\"type\":\"scattercarpet\",\"marker\":{\"colorbar\":{\"outlinewidth\":0,\"ticks\":\"\"}}}],\"carpet\":[{\"aaxis\":{\"endlinecolor\":\"#2a3f5f\",\"gridcolor\":\"white\",\"linecolor\":\"white\",\"minorgridcolor\":\"white\",\"startlinecolor\":\"#2a3f5f\"},\"baxis\":{\"endlinecolor\":\"#2a3f5f\",\"gridcolor\":\"white\",\"linecolor\":\"white\",\"minorgridcolor\":\"white\",\"startlinecolor\":\"#2a3f5f\"},\"type\":\"carpet\"}],\"table\":[{\"cells\":{\"fill\":{\"color\":\"#EBF0F8\"},\"line\":{\"color\":\"white\"}},\"header\":{\"fill\":{\"color\":\"#C8D4E3\"},\"line\":{\"color\":\"white\"}},\"type\":\"table\"}],\"barpolar\":[{\"marker\":{\"line\":{\"color\":\"#E5ECF6\",\"width\":0.5},\"pattern\":{\"fillmode\":\"overlay\",\"size\":10,\"solidity\":0.2}},\"type\":\"barpolar\"}],\"pie\":[{\"automargin\":true,\"type\":\"pie\"}]},\"layout\":{\"autotypenumbers\":\"strict\",\"colorway\":[\"#636efa\",\"#EF553B\",\"#00cc96\",\"#ab63fa\",\"#FFA15A\",\"#19d3f3\",\"#FF6692\",\"#B6E880\",\"#FF97FF\",\"#FECB52\"],\"font\":{\"color\":\"#2a3f5f\"},\"hovermode\":\"closest\",\"hoverlabel\":{\"align\":\"left\"},\"paper_bgcolor\":\"white\",\"plot_bgcolor\":\"#E5ECF6\",\"polar\":{\"bgcolor\":\"#E5ECF6\",\"angularaxis\":{\"gridcolor\":\"white\",\"linecolor\":\"white\",\"ticks\":\"\"},\"radialaxis\":{\"gridcolor\":\"white\",\"linecolor\":\"white\",\"ticks\":\"\"}},\"ternary\":{\"bgcolor\":\"#E5ECF6\",\"aaxis\":{\"gridcolor\":\"white\",\"linecolor\":\"white\",\"ticks\":\"\"},\"baxis\":{\"gridcolor\":\"white\",\"linecolor\":\"white\",\"ticks\":\"\"},\"caxis\":{\"gridcolor\":\"white\",\"linecolor\":\"white\",\"ticks\":\"\"}},\"coloraxis\":{\"colorbar\":{\"outlinewidth\":0,\"ticks\":\"\"}},\"colorscale\":{\"sequential\":[[0.0,\"#0d0887\"],[0.1111111111111111,\"#46039f\"],[0.2222222222222222,\"#7201a8\"],[0.3333333333333333,\"#9c179e\"],[0.4444444444444444,\"#bd3786\"],[0.5555555555555556,\"#d8576b\"],[0.6666666666666666,\"#ed7953\"],[0.7777777777777778,\"#fb9f3a\"],[0.8888888888888888,\"#fdca26\"],[1.0,\"#f0f921\"]],\"sequentialminus\":[[0.0,\"#0d0887\"],[0.1111111111111111,\"#46039f\"],[0.2222222222222222,\"#7201a8\"],[0.3333333333333333,\"#9c179e\"],[0.4444444444444444,\"#bd3786\"],[0.5555555555555556,\"#d8576b\"],[0.6666666666666666,\"#ed7953\"],[0.7777777777777778,\"#fb9f3a\"],[0.8888888888888888,\"#fdca26\"],[1.0,\"#f0f921\"]],\"diverging\":[[0,\"#8e0152\"],[0.1,\"#c51b7d\"],[0.2,\"#de77ae\"],[0.3,\"#f1b6da\"],[0.4,\"#fde0ef\"],[0.5,\"#f7f7f7\"],[0.6,\"#e6f5d0\"],[0.7,\"#b8e186\"],[0.8,\"#7fbc41\"],[0.9,\"#4d9221\"],[1,\"#276419\"]]},\"xaxis\":{\"gridcolor\":\"white\",\"linecolor\":\"white\",\"ticks\":\"\",\"title\":{\"standoff\":15},\"zerolinecolor\":\"white\",\"automargin\":true,\"zerolinewidth\":2},\"yaxis\":{\"gridcolor\":\"white\",\"linecolor\":\"white\",\"ticks\":\"\",\"title\":{\"standoff\":15},\"zerolinecolor\":\"white\",\"automargin\":true,\"zerolinewidth\":2},\"scene\":{\"xaxis\":{\"backgroundcolor\":\"#E5ECF6\",\"gridcolor\":\"white\",\"linecolor\":\"white\",\"showbackground\":true,\"ticks\":\"\",\"zerolinecolor\":\"white\",\"gridwidth\":2},\"yaxis\":{\"backgroundcolor\":\"#E5ECF6\",\"gridcolor\":\"white\",\"linecolor\":\"white\",\"showbackground\":true,\"ticks\":\"\",\"zerolinecolor\":\"white\",\"gridwidth\":2},\"zaxis\":{\"backgroundcolor\":\"#E5ECF6\",\"gridcolor\":\"white\",\"linecolor\":\"white\",\"showbackground\":true,\"ticks\":\"\",\"zerolinecolor\":\"white\",\"gridwidth\":2}},\"shapedefaults\":{\"line\":{\"color\":\"#2a3f5f\"}},\"annotationdefaults\":{\"arrowcolor\":\"#2a3f5f\",\"arrowhead\":0,\"arrowwidth\":1},\"geo\":{\"bgcolor\":\"white\",\"landcolor\":\"#E5ECF6\",\"subunitcolor\":\"white\",\"showland\":true,\"showlakes\":true,\"lakecolor\":\"white\"},\"title\":{\"x\":0.05},\"mapbox\":{\"style\":\"light\"}}},\"title\":{\"text\":\"Top 20 Artists' Golden Era (2009-2019) with genres\",\"x\":0.5,\"font\":{\"size\":20}},\"xaxis\":{\"title\":{\"text\":\"Year\",\"font\":{\"size\":16}},\"showgrid\":true,\"showline\":true,\"tickmode\":\"linear\",\"range\":[2008,2020]},\"yaxis\":{\"title\":{\"text\":\"Artist\",\"font\":{\"size\":16}},\"tickfont\":{\"size\":14},\"showgrid\":false,\"gridcolor\":\"white\",\"autorange\":\"reversed\",\"automargin\":true},\"hovermode\":\"closest\",\"showlegend\":false},                        {\"responsive\": true}                    ).then(function(){\n",
              "                            \n",
              "var gd = document.getElementById('ce698bd6-20e6-4827-9424-b199027bc48d');\n",
              "var x = new MutationObserver(function (mutations, observer) {{\n",
              "        var display = window.getComputedStyle(gd).display;\n",
              "        if (!display || display === 'none') {{\n",
              "            console.log([gd, 'removed!']);\n",
              "            Plotly.purge(gd);\n",
              "            observer.disconnect();\n",
              "        }}\n",
              "}});\n",
              "\n",
              "// Listen for the removal of the full notebook cells\n",
              "var notebookContainer = gd.closest('#notebook-container');\n",
              "if (notebookContainer) {{\n",
              "    x.observe(notebookContainer, {childList: true});\n",
              "}}\n",
              "\n",
              "// Listen for the clearing of the current output cell\n",
              "var outputEl = gd.closest('.output');\n",
              "if (outputEl) {{\n",
              "    x.observe(outputEl, {childList: true});\n",
              "}}\n",
              "\n",
              "                        })                };                            </script>        </div>\n",
              "</body>\n",
              "</html>"
            ]
          },
          "metadata": {},
          "output_type": "display_data"
        }
      ],
      "source": [
        "# Assuming top_durations is the DataFrame with the data provided above\n",
        "# First, convert the 'min' and 'max' columns to datetime, if not already done\n",
        "top_art2['min'] = pd.to_datetime(top_art2['min'])\n",
        "top_art2['max'] = pd.to_datetime(top_art2['max'])\n",
        "\n",
        "# Since top_durations is already your DataFrame, let's reset the index to use 'Artist' as a column\n",
        "top_reset_2 = top_art2.reset_index()\n",
        "\n",
        "# Now let's create the plotly figure\n",
        "import plotly.graph_objects as go\n",
        "\n",
        "# Create figure\n",
        "fig_two = go.Figure()\n",
        "\n",
        "# Add a line for each artist\n",
        "for i, row in top_reset_2.iterrows():\n",
        "    fig_two.add_trace(go.Scatter(\n",
        "        x=[row['min'].year, row['max'].year],\n",
        "        y=[row['Artist'], row['Artist']],\n",
        "        mode='lines+markers',\n",
        "        name=row['Artist'],\n",
        "        #text=f\"{row['Artist']}<br>{row['Duration'].days} days\",\n",
        "        hovertext=f\"{row['Artist']}<br>Start: {row['min'].date()}<br>End: {row['max'].date()}<br>Duration: {row['Duration'].days} days<br>Genre:{row['Genre']}\",\n",
        "        textposition=\"bottom center\",\n",
        "        line=dict(width=2, color='blue'),\n",
        "\n",
        "        marker=dict(size=10, color='blue'),\n",
        "        hoverinfo='text'\n",
        "\n",
        "    ))\n",
        "\n",
        "# Update layout to adjust the look and feel of the plot\n",
        "fig_two.update_layout(\n",
        "    title='Top 20 Artists\\' Golden Era (2009-2019) with genres',\n",
        "    title_x=0.5,\n",
        "    title_font=dict(size=20),\n",
        "    xaxis=dict(\n",
        "        title='Year',\n",
        "        showgrid=True,  # Hide the x-axis grid lines\n",
        "        showline=True,\n",
        "        tickmode='linear',\n",
        "        title_font=dict(size=16),\n",
        "        #tickfont=dict(size=14),\n",
        "        range=[2008, 2020]  # Set the range for x-axis to cover the years of interest\n",
        "    ),\n",
        "    yaxis=dict(\n",
        "        title='Artist',\n",
        "        showgrid=False,  # Only show the grid lines for the y-axis\n",
        "        gridcolor='white',\n",
        "        autorange='reversed',\n",
        "        title_font=dict(size=16),\n",
        "        tickfont=dict(size=14),\n",
        "        automargin=True  # Automatically adjust the margin to fit the artist names\n",
        "    ),\n",
        "    hovermode='closest',  # Show hover for the closest point\n",
        "    showlegend=False,\n",
        "    #height=800,\n",
        "    #width=1500\n",
        "    #plot_bgcolor='black',  # Set the background color to black for contrast\n",
        "    #font=dict(color='white'),  # Set the font color to white for better readability\n",
        "    #paper_bgcolor='black',  # Set the paper background color to black as well\n",
        "    #legend=dict(orientation=\"h\", yanchor=\"bottom\", y=1.02, xanchor=\"right\", x=1),\n",
        "    #margin=dict(l=0, r=0, t=30, b=0)  # Adjust margins to fit the layout\n",
        ")\n",
        "\n",
        "# Show figure\n",
        "fig_two.show()\n"
      ]
    },
    {
      "cell_type": "markdown",
      "metadata": {
        "id": "v5CU8qiB2rIA"
      },
      "source": [
        "##Dash Code"
      ]
    },
    {
      "cell_type": "code",
      "execution_count": 72,
      "metadata": {
        "colab": {
          "base_uri": "https://localhost:8080/",
          "height": 671
        },
        "id": "EIn9PnSdt6q9",
        "outputId": "482ad5ee-608a-4d40-f80f-32a2cf6336e9"
      },
      "outputs": [
        {
          "data": {
            "application/javascript": "(async (port, path, width, height, cache, element) => {\n    if (!google.colab.kernel.accessAllowed && !cache) {\n      return;\n    }\n    element.appendChild(document.createTextNode(''));\n    const url = await google.colab.kernel.proxyPort(port, {cache});\n    const iframe = document.createElement('iframe');\n    iframe.src = new URL(path, url).toString();\n    iframe.height = height;\n    iframe.width = width;\n    iframe.style.border = 0;\n    iframe.allow = [\n        'accelerometer',\n        'autoplay',\n        'camera',\n        'clipboard-read',\n        'clipboard-write',\n        'gyroscope',\n        'magnetometer',\n        'microphone',\n        'serial',\n        'usb',\n        'xr-spatial-tracking',\n    ].join('; ');\n    element.appendChild(iframe);\n  })(8081, \"/\", \"100%\", 650, false, window.element)",
            "text/plain": [
              "<IPython.core.display.Javascript object>"
            ]
          },
          "metadata": {},
          "output_type": "display_data"
        }
      ],
      "source": [
        "app = dash.Dash(__name__)\n",
        "app.layout = html.Div(style={'text-align': 'center'}, children=[\n",
        "    html.H1(children='Music Trend Evolution Analysis'),\n",
        "    html.Div(className='row', children=[\n",
        "        html.H2(\"Adele's Billboard Chart Performance\"),\n",
        "        dcc.Graph(\n",
        "            id='adele-chart',\n",
        "            figure=fig_adele\n",
        "        ),\n",
        "    ]),\n",
        "    html.Div(className='row', children=[\n",
        "        html.H2(\"Top 20 Artists' Golden Era (1999-2019) with Genres\"),\n",
        "        dcc.Graph(\n",
        "            id='era-chart',\n",
        "            figure=fig_full,\n",
        "            style={'height': '90vh', 'width': '100%'}\n",
        "        ),\n",
        "    ]),\n",
        "    html.Div(className='row', children=[\n",
        "        html.H2(\"Top 20 Artists' Golden Era (1999-2009) with Genres\"),\n",
        "        dcc.Graph(\n",
        "            id='first-era-chart',\n",
        "            figure=fig_one,\n",
        "            style={'height': '90vh', 'width': '100%'}\n",
        "        ),\n",
        "    ]),\n",
        "    html.Div(className='row', style={'margin-bottom': '50px'}, children=[\n",
        "        html.H2(\"Top 20 Artists' Golden Era (2009-2019) with Genres\"),\n",
        "        dcc.Graph(\n",
        "            id='second-era-chart',\n",
        "            figure=fig_two,\n",
        "            style={'height': '90vh', 'width': '100%'}\n",
        "        ),\n",
        "    ]),\n",
        "])\n",
        "if __name__ == '__main__':\n",
        "    app.run_server(debug=True, port=8081)"
      ]
    },
    {
      "cell_type": "code",
      "execution_count": null,
      "metadata": {
        "id": "HKEMUIOJv3tl"
      },
      "outputs": [],
      "source": []
    }
  ],
  "metadata": {
    "colab": {
      "provenance": []
    },
    "kernelspec": {
      "display_name": "Python 3",
      "language": "python",
      "name": "python3"
    },
    "language_info": {
      "codemirror_mode": {
        "name": "ipython",
        "version": 3
      },
      "file_extension": ".py",
      "mimetype": "text/x-python",
      "name": "python",
      "nbconvert_exporter": "python",
      "pygments_lexer": "ipython3",
      "version": "3.11.5"
    },
    "vscode": {
      "interpreter": {
        "hash": "b0fa6594d8f4cbf19f97940f81e996739fb7646882a419484c72d19e05852a7e"
      }
    }
  },
  "nbformat": 4,
  "nbformat_minor": 0
}
